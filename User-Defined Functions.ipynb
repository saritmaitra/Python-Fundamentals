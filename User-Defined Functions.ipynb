{
 "cells": [
  {
   "cell_type": "markdown",
   "id": "2d39519c",
   "metadata": {},
   "source": [
    "## Python functions\n",
    "A function is a block of code that contains one or more Python statements and used for performing a specific task. What we can achieve in Python by using functions in our code?\n",
    "\n",
    "- Functions help break our program into smaller and modular chunks. \n",
    "- As our program grows larger and larger, functions make it more organized and manageable.\n",
    "- Furthermore, it avoids repetition and makes the code reusable."
   ]
  },
  {
   "cell_type": "code",
   "execution_count": 2,
   "id": "7efcf2b1",
   "metadata": {},
   "outputs": [
    {
     "name": "stdout",
     "output_type": "stream",
     "text": [
      "A beautiful day\n"
     ]
    }
   ],
   "source": [
    "def function(): # <def> marks the start of the function header.\n",
    "    # colon (:) to mark the end of the function header.\n",
    "    print(\"A beautiful day\")\n",
    "\n",
    "function()"
   ]
  },
  {
   "cell_type": "code",
   "execution_count": 4,
   "id": "a6033b68",
   "metadata": {},
   "outputs": [
    {
     "name": "stdout",
     "output_type": "stream",
     "text": [
      "Hello, Veronica. Good morning!\n"
     ]
    }
   ],
   "source": [
    "def greet(name):\n",
    "    \"\"\"\n",
    "    This function greets to\n",
    "    the person passed in as\n",
    "    a parameter\n",
    "    \"\"\"\n",
    "    print(\"Hello, \" + name + \". Good morning!\")\n",
    "    \n",
    "\n",
    "# to call a function type the function name with appropriate parameters.    \n",
    "greet('Veronica')"
   ]
  },
  {
   "cell_type": "markdown",
   "id": "afefe168",
   "metadata": {},
   "source": [
    "- The first string after the function header is called the docstring and is short for documentation string. \n",
    "- It is briefly used to explain what a function does.\n",
    "- Although optional, documentation is a good programming practice. \n",
    "\n",
    "In the above example, we have a docstring immediately below the function header. \n",
    "- We generally use triple quotes so that docstring can extend up to multiple lines. \n",
    "- This string is available to us as the <__doc__> attribute of the function."
   ]
  },
  {
   "cell_type": "code",
   "execution_count": 6,
   "id": "ea451788",
   "metadata": {},
   "outputs": [
    {
     "name": "stdout",
     "output_type": "stream",
     "text": [
      "\n",
      "    This function greets to\n",
      "    the person passed in as\n",
      "    a parameter\n",
      "    \n"
     ]
    }
   ],
   "source": [
    "print(greet.__doc__)"
   ]
  },
  {
   "cell_type": "code",
   "execution_count": 5,
   "id": "b5eafd31",
   "metadata": {},
   "outputs": [
    {
     "name": "stdout",
     "output_type": "stream",
     "text": [
      "300\n",
      "17\n"
     ]
    }
   ],
   "source": [
    "def add(num1, num2):\n",
    "    return num1 + num2\n",
    "\n",
    "\n",
    "sum1 = add(100, 200)\n",
    "sum2 = add(8, 9)\n",
    "print(sum1)\n",
    "print(sum2)"
   ]
  },
  {
   "cell_type": "markdown",
   "id": "f8e1ba0e",
   "metadata": {},
   "source": [
    "### Default arguments in Function\n",
    "- By using default arguments we can avoid the errors that may arise while calling a function without passing all the parameters. \n",
    "\n",
    "In this example we have provided the default argument for the second parameter, this default argument would be used when we do not provide the second parameter while calling this function."
   ]
  },
  {
   "cell_type": "code",
   "execution_count": 2,
   "id": "d6554cfc",
   "metadata": {},
   "outputs": [
    {
     "name": "stdout",
     "output_type": "stream",
     "text": [
      "300\n",
      "9\n",
      "101\n"
     ]
    }
   ],
   "source": [
    "# default argument for second parameter\n",
    "def add(num1, num2=1):\n",
    "    return num1 + num2\n",
    "\n",
    "\n",
    "sum1 = add(100, 200)\n",
    "sum2 = add(8)    # used default argument for second param\n",
    "sum3 = add(100)  # used default argument for second param\n",
    "print(sum1)\n",
    "print(sum2)\n",
    "print(sum3)"
   ]
  },
  {
   "cell_type": "markdown",
   "id": "15e8e06d",
   "metadata": {},
   "source": [
    "### Types of functions\n",
    "There are two types of functions in Python:\n",
    " 1. Built-in functions: \n",
    "   - These functions are predefined in Python and we need not to declare these functions before calling them. \n",
    "   - We can freely invoke them as and when needed.\n",
    " 2. User defined functions: \n",
    "   - The functions which we create in our code are user-defined functions. \n",
    "   - The add() function that we have created in above examples is a user-defined function.\n",
    "   \n",
    "#### Example of a user-defined function\n",
    "- This function can accept two arguments as we have defined this function with two parameters. \n",
    "- Inside the print() function we are calling the function sum and passing the numbers x & y as arguments.\n",
    "- In the sum() function we have a return statement that returns the sum of two parameters, that are passed to the function as arguments.\n",
    "\n",
    "We can see, we have used a print() function in the following example without even defining that function, this is because print() is a built-in function, which is already available to use and we can just call it."
   ]
  },
  {
   "cell_type": "code",
   "execution_count": 3,
   "id": "e170d575",
   "metadata": {},
   "outputs": [
    {
     "name": "stdout",
     "output_type": "stream",
     "text": [
      "The sum of 10 and 20 is: 30\n"
     ]
    }
   ],
   "source": [
    "def sum(a,b):\n",
    "    total = a + b\n",
    "    return total\n",
    "\n",
    "x = 10\n",
    "y = 20\n",
    "\n",
    "print(\"The sum of\",x,\"and\",y,\"is:\",sum(x, y))"
   ]
  },
  {
   "cell_type": "code",
   "execution_count": 7,
   "id": "c601c59d",
   "metadata": {},
   "outputs": [
    {
     "name": "stdout",
     "output_type": "stream",
     "text": [
      "2\n",
      "4\n"
     ]
    }
   ],
   "source": [
    "# Example of return\n",
    "\n",
    "def absolute_value(num):\n",
    "    \"\"\"This function returns the absolute\n",
    "    value of the entered number\"\"\"\n",
    "\n",
    "    if num >= 0:\n",
    "        return num\n",
    "    else:\n",
    "        return -num\n",
    "\n",
    "\n",
    "print(absolute_value(2))\n",
    "\n",
    "print(absolute_value(-4))"
   ]
  },
  {
   "cell_type": "markdown",
   "id": "4f3a910a",
   "metadata": {},
   "source": [
    "### Scope and Lifetime of variables\n",
    "- Scope of a variable is the portion of a program where the variable is recognized. \n",
    "- Parameters and variables defined inside a function are not visible from outside the function. Hence, they have a local scope.\n",
    "- The lifetime of a variable is the period throughout which the variable exists in the memory. \n",
    "- The lifetime of variables inside a function is as long as the function executes.\n",
    "- They are destroyed once we return from the function. \n",
    "- Hence, a function does not remember the value of a variable from its previous calls."
   ]
  },
  {
   "cell_type": "code",
   "execution_count": 8,
   "id": "663b17e2",
   "metadata": {},
   "outputs": [
    {
     "name": "stdout",
     "output_type": "stream",
     "text": [
      "Value inside function: 10\n",
      "Value outside function: 20\n"
     ]
    }
   ],
   "source": [
    "def func():\n",
    "    x = 10\n",
    "    print(\"Value inside function:\",x)\n",
    "\n",
    "x = 20\n",
    "func()\n",
    "print(\"Value outside function:\",x)"
   ]
  },
  {
   "cell_type": "markdown",
   "id": "45f13ad1",
   "metadata": {},
   "source": [
    "- Here, we can see that the value of x is 20 initially. \n",
    "- Even though the function <func()> changed the value of x to 10, it did not affect the value outside the function.\n",
    "- This is because the variable x inside the function is different (local to the function) from the one outside. \n",
    "- Although they have the same names, they are two different variables with different scopes.\n",
    "- On the other hand, variables outside of the function are visible from inside. They have a global scope.\n",
    "- We can read these values from inside the function but cannot change (write) them. \n",
    "- In order to modify the value of variables outside the function, they must be declared as global variables using the keyword global.\n",
    "\n",
    "#### Python example of Recursion\n",
    "- Here we are defining a user-defined function factorial(). \n",
    "- This function finds the factorial of a number by calling itself repeatedly until the base case is reached."
   ]
  },
  {
   "cell_type": "code",
   "execution_count": 4,
   "id": "7c26f5a9",
   "metadata": {},
   "outputs": [
    {
     "name": "stdout",
     "output_type": "stream",
     "text": [
      "Factorial of 5 is:  120\n"
     ]
    }
   ],
   "source": [
    "# Example of recursion in Python to find the factorial of a given number\n",
    "\n",
    "def factorial(num):\n",
    "    \"\"\"This function calls itself to find\n",
    "    the factorial of a number\"\"\"\n",
    "\n",
    "    if num == 1:\n",
    "        return 1\n",
    "    else:\n",
    "        return (num * factorial(num - 1))\n",
    "\n",
    "\n",
    "num = 5\n",
    "print(\"Factorial of\", num, \"is: \", factorial(num))"
   ]
  },
  {
   "cell_type": "raw",
   "id": "92f78159",
   "metadata": {},
   "source": [
    "factorial(5) returns 5 * factorial(5-1) \n",
    "    i.e. 5 * factorial(4)\n",
    "               |__5*4*factorial(3)\n",
    "                      |__5*4*3*factorial(2)\n",
    "                           |__5*4*3*2*factorial(1)\n",
    "                           \n",
    "Note: factorial(1) is a base case for which we already know the value of factorial. The base case is defined in the body of function with this code:\n",
    "\n",
    "if num == 1:\n",
    "    return 1"
   ]
  },
  {
   "cell_type": "markdown",
   "id": "9d381c6f",
   "metadata": {},
   "source": [
    "#### Advantages of recursion\n",
    "Recursion makes our program:\n",
    "- Easier to write.\n",
    "- Readable – Code is easier to read and understand.\n",
    "- Reduce the lines of code – It takes less lines of code to solve a problem using recursion.\n",
    "\n",
    "#### Disadvantages of recursion\n",
    "- Not all problems can be solved using recursion.\n",
    "- If you don’t define the base case then the code would run indefinitely.\n",
    "- Debugging is difficult in recursive functions as the function is calling itself in a loop and it is hard to understand which call is causing the issue.\n",
    "- Memory overhead – Call to the recursive function is not memory efficient.\n",
    "\n",
    "We use recursion to break a big problem in small problems and those small problems into further smaller problems and so on. At the end the solutions of all the smaller subproblems are collectively helps in finding the solution of the big main problem.\n",
    "\n",
    "## Python Numbers\n",
    "Python supports integers, floats and complex numbers.\n",
    "- integer is a number without decimal point for example 5, 6, 10 etc.\n",
    "- float is a number with decimal point for example 6.7, 6.0, 10.99 etc.\n",
    "- complex number has a real and imaginary part for example 7+8j, 8+11j etc."
   ]
  },
  {
   "cell_type": "code",
   "execution_count": 6,
   "id": "8374baa5",
   "metadata": {},
   "outputs": [
    {
     "name": "stdout",
     "output_type": "stream",
     "text": [
      "110\n",
      "1.5999999999999996\n",
      "(6+4j)\n"
     ]
    }
   ],
   "source": [
    "# int\n",
    "num1 = 10\n",
    "num2 = 100\n",
    "print(num1+num2)\n",
    "\n",
    "# float\n",
    "a = 10.5\n",
    "b = 8.9\n",
    "print(a-b)\n",
    "\n",
    "# complex numbers\n",
    "x = 3 + 4j\n",
    "y = 9 + 8j\n",
    "print(y-x)"
   ]
  },
  {
   "cell_type": "markdown",
   "id": "1d265ef2",
   "metadata": {},
   "source": [
    "## Python example to find the class(data type) of a number\n",
    "- We can use the type() function to find out the class of a number. \n",
    "- An integer number belongs to int class, a float number belongs to float class and a complex number belongs to complex class."
   ]
  },
  {
   "cell_type": "code",
   "execution_count": 7,
   "id": "5dca0051",
   "metadata": {},
   "outputs": [
    {
     "name": "stdout",
     "output_type": "stream",
     "text": [
      "type of num:  <class 'int'>\n",
      "type of num2:  <class 'float'>\n",
      "type of num3:  <class 'complex'>\n"
     ]
    }
   ],
   "source": [
    "# int\n",
    "num = 100\n",
    "print(\"type of num: \",type(num))\n",
    "\n",
    "# float\n",
    "num2 = 10.99\n",
    "print(\"type of num2: \",type(num2))\n",
    "\n",
    "# complex numbers\n",
    "num3 = 3 + 4j\n",
    "print(\"type of num3: \",type(num3))"
   ]
  },
  {
   "cell_type": "markdown",
   "id": "214fd511",
   "metadata": {},
   "source": [
    "## isinstance() function\n",
    "The isinstance() functions checks whether a number belongs to a particular class and returns true or false based on the result.\n",
    "- isinstance(num, int) will return true if the number num is an integer number.\n",
    "- isinstance(num, int) will return false if the number num is not an integer number."
   ]
  },
  {
   "cell_type": "code",
   "execution_count": 8,
   "id": "b3eee223",
   "metadata": {},
   "outputs": [
    {
     "name": "stdout",
     "output_type": "stream",
     "text": [
      "True\n",
      "False\n",
      "False\n"
     ]
    }
   ],
   "source": [
    "num = 100\n",
    "# true because num is an integer\n",
    "print(isinstance(num, int))\n",
    "\n",
    "# false because num is not a float\n",
    "print(isinstance(num, float))\n",
    "\n",
    "# false because num is not a complex number\n",
    "print(isinstance(num, complex))"
   ]
  },
  {
   "cell_type": "markdown",
   "id": "99ff98ad",
   "metadata": {},
   "source": [
    "## Python List "
   ]
  },
  {
   "cell_type": "code",
   "execution_count": 9,
   "id": "7aa65c6d",
   "metadata": {},
   "outputs": [],
   "source": [
    "# list of floats\n",
    "num_list = [11.22, 9.9, 78.34, 12.0]\n",
    "\n",
    "# list of int, float and strings\n",
    "mix_list = [1.13, 2, 5, \"fundamentals\", 100, \"hi\"]\n",
    "\n",
    "# an empty list\n",
    "nodata_list = []"
   ]
  },
  {
   "cell_type": "markdown",
   "id": "2d9e8f48",
   "metadata": {},
   "source": [
    "### Accessing the items of a list"
   ]
  },
  {
   "cell_type": "code",
   "execution_count": 11,
   "id": "c1b0a394",
   "metadata": {},
   "outputs": [
    {
     "name": "stdout",
     "output_type": "stream",
     "text": [
      "11\n",
      "300\n",
      "22\n"
     ]
    }
   ],
   "source": [
    "# a list of numbers\n",
    "numbers = [11, 22, 33, 100, 200, 300]\n",
    "\n",
    "# prints 11\n",
    "print(numbers[0])\n",
    "\n",
    "# prints 300\n",
    "print(numbers[5])\n",
    "\n",
    "# prints 22\n",
    "print(numbers[1])"
   ]
  },
  {
   "cell_type": "code",
   "execution_count": 12,
   "id": "3aa0a76b",
   "metadata": {},
   "outputs": [
    {
     "ename": "TypeError",
     "evalue": "list indices must be integers or slices, not float",
     "output_type": "error",
     "traceback": [
      "\u001b[1;31m---------------------------------------------------------------------------\u001b[0m",
      "\u001b[1;31mTypeError\u001b[0m                                 Traceback (most recent call last)",
      "Input \u001b[1;32mIn [12]\u001b[0m, in \u001b[0;36m<cell line: 7>\u001b[1;34m()\u001b[0m\n\u001b[0;32m      4\u001b[0m numbers \u001b[38;5;241m=\u001b[39m [\u001b[38;5;241m11\u001b[39m, \u001b[38;5;241m22\u001b[39m, \u001b[38;5;241m33\u001b[39m, \u001b[38;5;241m100\u001b[39m, \u001b[38;5;241m200\u001b[39m, \u001b[38;5;241m300\u001b[39m]\n\u001b[0;32m      6\u001b[0m \u001b[38;5;66;03m# error\u001b[39;00m\n\u001b[1;32m----> 7\u001b[0m \u001b[38;5;28mprint\u001b[39m(\u001b[43mnumbers\u001b[49m\u001b[43m[\u001b[49m\u001b[38;5;241;43m1.0\u001b[39;49m\u001b[43m]\u001b[49m)\n",
      "\u001b[1;31mTypeError\u001b[0m: list indices must be integers or slices, not float"
     ]
    }
   ],
   "source": [
    "# index cannot be a float number.\n",
    "\n",
    "# a list of numbers\n",
    "numbers = [11, 22, 33, 100, 200, 300]\n",
    "\n",
    "# error\n",
    "print(numbers[1.0])"
   ]
  },
  {
   "cell_type": "code",
   "execution_count": 13,
   "id": "5e7eb485",
   "metadata": {},
   "outputs": [
    {
     "ename": "IndexError",
     "evalue": "list index out of range",
     "output_type": "error",
     "traceback": [
      "\u001b[1;31m---------------------------------------------------------------------------\u001b[0m",
      "\u001b[1;31mIndexError\u001b[0m                                Traceback (most recent call last)",
      "Input \u001b[1;32mIn [13]\u001b[0m, in \u001b[0;36m<cell line: 9>\u001b[1;34m()\u001b[0m\n\u001b[0;32m      6\u001b[0m numbers \u001b[38;5;241m=\u001b[39m [\u001b[38;5;241m11\u001b[39m, \u001b[38;5;241m22\u001b[39m, \u001b[38;5;241m33\u001b[39m, \u001b[38;5;241m100\u001b[39m, \u001b[38;5;241m200\u001b[39m, \u001b[38;5;241m300\u001b[39m]\n\u001b[0;32m      8\u001b[0m \u001b[38;5;66;03m# error\u001b[39;00m\n\u001b[1;32m----> 9\u001b[0m \u001b[38;5;28mprint\u001b[39m(\u001b[43mnumbers\u001b[49m\u001b[43m[\u001b[49m\u001b[38;5;241;43m6\u001b[39;49m\u001b[43m]\u001b[49m)\n",
      "\u001b[1;31mIndexError\u001b[0m: list index out of range"
     ]
    }
   ],
   "source": [
    "'''The index must be in range to avoid IndexError. \n",
    "The range of the index of a list having 10 elements is 0 to 9, if we go beyond 9 then we will get IndexError. \n",
    "However if we go below 0 then it would not cause issue in certain cases'''\n",
    "\n",
    "# a list of numbers\n",
    "numbers = [11, 22, 33, 100, 200, 300]\n",
    "\n",
    "# error\n",
    "print(numbers[6])\n",
    "\n"
   ]
  },
  {
   "cell_type": "markdown",
   "id": "72428c52",
   "metadata": {},
   "source": [
    "### Negative Index to access the list items"
   ]
  },
  {
   "cell_type": "code",
   "execution_count": 14,
   "id": "75368d93",
   "metadata": {},
   "outputs": [
    {
     "name": "stdout",
     "output_type": "stream",
     "text": [
      "bye\n",
      "world\n",
      "hello\n"
     ]
    }
   ],
   "source": [
    "# a list of strings\n",
    "list = [\"hello\", \"world\", \"hi\", \"bye\"]\n",
    "\n",
    "# prints \"bye\"\n",
    "print(list[-1])\n",
    "\n",
    "# prints \"world\"\n",
    "print(list[-3])\n",
    "\n",
    "# prints \"hello\"\n",
    "print(list[-4])"
   ]
  },
  {
   "cell_type": "markdown",
   "id": "2b83f4f8",
   "metadata": {},
   "source": [
    "### Slicing"
   ]
  },
  {
   "cell_type": "code",
   "execution_count": 15,
   "id": "db0dacfc",
   "metadata": {},
   "outputs": [
    {
     "name": "stdout",
     "output_type": "stream",
     "text": [
      "[2, 3]\n",
      "[1, 2, 3]\n",
      "[4, 5, 6, 7]\n",
      "[1, 2, 3, 4, 5, 6, 7]\n"
     ]
    }
   ],
   "source": [
    "# list of numbers\n",
    "list = [1, 2, 3, 4, 5, 6, 7]\n",
    "\n",
    "# list items from 2nd to 3rd\n",
    "print(list[1:3])\n",
    "\n",
    "# list items from beginning to 3rd\n",
    "print(list[:3])\n",
    "\n",
    "# list items from 4th to end of list\n",
    "print(list[3:])\n",
    "\n",
    "# Whole list\n",
    "print(list[:])"
   ]
  },
  {
   "cell_type": "markdown",
   "id": "f451378f",
   "metadata": {},
   "source": [
    "## List Operations\n",
    "### Addition"
   ]
  },
  {
   "cell_type": "code",
   "execution_count": 16,
   "id": "5ef03182",
   "metadata": {},
   "outputs": [
    {
     "name": "stdout",
     "output_type": "stream",
     "text": [
      "[1, 2, 3, 100, 4]\n",
      "[1, 2, 3, 100, 4, 99]\n",
      "[1, 2, 3, 100, 4, 99, 11, 22]\n"
     ]
    }
   ],
   "source": [
    "# list of numbers\n",
    "list = [1, 2, 3, 4]\n",
    "\n",
    "# 1. adding item at the desired location\n",
    "# adding element 100 at the fourth location\n",
    "list.insert(3, 100)\n",
    "\n",
    "# list: [1, 2, 3, 100, 4]\n",
    "print(list)\n",
    "\n",
    "# 2. adding element at the end of the list\n",
    "list.append(99)\n",
    "\n",
    "# list: [1, 2, 3, 100, 4, 99]\n",
    "print(list)\n",
    "\n",
    "# 3. adding several elements at the end of list\n",
    "# the following statement can also be written like this:\n",
    "# n_list + [11, 22]\n",
    "list.extend([11, 22])\n",
    "\n",
    "# list: [1, 2, 3, 100, 4, 99, 11, 22]\n",
    "print(list)"
   ]
  },
  {
   "cell_type": "markdown",
   "id": "c7ea0900",
   "metadata": {},
   "source": [
    "### Update elements"
   ]
  },
  {
   "cell_type": "code",
   "execution_count": 17,
   "id": "2f428968",
   "metadata": {},
   "outputs": [
    {
     "name": "stdout",
     "output_type": "stream",
     "text": [
      "[1, 2, 100, 4]\n",
      "[1, 11, 22, 33]\n"
     ]
    }
   ],
   "source": [
    "# list of numbers\n",
    "list = [1, 2, 3, 4]\n",
    "\n",
    "# Changing the value of 3rd item\n",
    "list[2] = 100\n",
    "\n",
    "# list: [1, 2, 100, 4]\n",
    "print(list)\n",
    "\n",
    "# Changing the values of 2nd to fourth items\n",
    "list[1:4] = [11, 22, 33]\n",
    "\n",
    "# list: [1, 11, 22, 33]\n",
    "print(list)"
   ]
  },
  {
   "cell_type": "markdown",
   "id": "524601fe",
   "metadata": {},
   "source": [
    "### Delete elements"
   ]
  },
  {
   "cell_type": "code",
   "execution_count": 18,
   "id": "658e3a65",
   "metadata": {},
   "outputs": [
    {
     "name": "stdout",
     "output_type": "stream",
     "text": [
      "[1, 3, 4, 5, 6]\n",
      "[1, 3, 6]\n"
     ]
    }
   ],
   "source": [
    "# list of numbers\n",
    "list = [1, 2, 3, 4, 5, 6]\n",
    "\n",
    "# Deleting 2nd element\n",
    "del list[1]\n",
    "\n",
    "# list: [1, 3, 4, 5, 6]\n",
    "print(list)\n",
    "\n",
    "# Deleting elements from 3rd to 4th\n",
    "del list[2:4]\n",
    "\n",
    "# list: [1, 3, 6]\n",
    "print(list)\n",
    "\n",
    "# Deleting the whole list\n",
    "del list"
   ]
  },
  {
   "cell_type": "markdown",
   "id": "299684b1",
   "metadata": {},
   "source": [
    "#### Deleting elements using remove(), pop() and clear() methods\n",
    "- remove(item): Removes specified item from list.\n",
    "- pop(index): Removes the element from the given index.\n",
    "- pop(): Removes the last element.\n",
    "- clear(): Removes all the elements from the list."
   ]
  },
  {
   "cell_type": "code",
   "execution_count": 19,
   "id": "26f843ee",
   "metadata": {},
   "outputs": [
    {
     "name": "stdout",
     "output_type": "stream",
     "text": [
      "['A', 'F', 'Z', 'O', 'L']\n",
      "['A', 'Z', 'O', 'L']\n",
      "[]\n"
     ]
    }
   ],
   "source": [
    "# list of chars\n",
    "ch_list = ['A', 'F', 'B', 'Z', 'O', 'L']\n",
    "\n",
    "# Deleting the element with value 'B'\n",
    "ch_list.remove('B')\n",
    "\n",
    "# list: ['A', 'F', 'Z', 'O', 'L']\n",
    "print(ch_list)\n",
    "\n",
    "# Deleting 2nd element\n",
    "ch_list.pop(1)\n",
    "\n",
    "# list: ['A', 'Z', 'O', 'L']\n",
    "print(ch_list)\n",
    "\n",
    "# Deleting all the elements\n",
    "ch_list.clear()\n",
    "\n",
    "# list: []\n",
    "print(ch_list)"
   ]
  },
  {
   "cell_type": "code",
   "execution_count": null,
   "id": "3d38b00a",
   "metadata": {},
   "outputs": [],
   "source": []
  }
 ],
 "metadata": {
  "kernelspec": {
   "display_name": "Python 3 (ipykernel)",
   "language": "python",
   "name": "python3"
  },
  "language_info": {
   "codemirror_mode": {
    "name": "ipython",
    "version": 3
   },
   "file_extension": ".py",
   "mimetype": "text/x-python",
   "name": "python",
   "nbconvert_exporter": "python",
   "pygments_lexer": "ipython3",
   "version": "3.9.7"
  }
 },
 "nbformat": 4,
 "nbformat_minor": 5
}
