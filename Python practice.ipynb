{
 "cells": [
  {
   "cell_type": "code",
   "execution_count": 1,
   "id": "128afd80",
   "metadata": {},
   "outputs": [],
   "source": [
    "# print('*' * 60)"
   ]
  },
  {
   "cell_type": "code",
   "execution_count": 2,
   "id": "35b1365c",
   "metadata": {},
   "outputs": [],
   "source": [
    "# name = input(\"what is your name? \")\n",
    "# print('Hi ' + name)"
   ]
  },
  {
   "cell_type": "code",
   "execution_count": 3,
   "id": "7ee6dff9",
   "metadata": {},
   "outputs": [],
   "source": [
    "# name = input(\"what is your name? \")\n",
    "# favourite_colour = input('what is your favourite colour? ')\n",
    "# print(name + ' likes ' + favourite_colour)"
   ]
  },
  {
   "cell_type": "code",
   "execution_count": 4,
   "id": "fb56204e",
   "metadata": {},
   "outputs": [],
   "source": [
    "# from datetime import date\n",
    "\n",
    "# today = date.today()\n",
    "# print(\"Today's date:\", today)"
   ]
  },
  {
   "cell_type": "code",
   "execution_count": 24,
   "id": "5497bb45",
   "metadata": {},
   "outputs": [],
   "source": [
    "# from datetime import datetime\n",
    " \n",
    "# now = datetime.now()\n",
    "\n",
    "# current_time = now.strftime(\"%H:%M:%S\") # format the value using the strftime() method to fetch only the time information\n",
    "\n",
    "# print(\"Current Time is :\", current_time)"
   ]
  },
  {
   "cell_type": "code",
   "execution_count": 23,
   "id": "1b293251",
   "metadata": {},
   "outputs": [],
   "source": [
    "# time = now.strftime(\"%H:%M %p\") \n",
    "\n",
    "# print(\"Current Time is :\", time)"
   ]
  },
  {
   "cell_type": "code",
   "execution_count": 5,
   "id": "97746566",
   "metadata": {},
   "outputs": [],
   "source": [
    "# importing date class from datetime module\n",
    "# from datetime import date\n",
    "  \n",
    "# creating the date object of today's date\n",
    "# todays_date = date.today()\n",
    "  \n",
    "# printing todays date\n",
    "# print(\"Current date: \", todays_date)\n",
    "\n",
    "# fetching the current year, month and day of today\n",
    "# print(\"Current year:\", todays_date.year)\n",
    "# print(\"Current month:\", todays_date.month)\n",
    "# print(\"Current day:\", todays_date.day)"
   ]
  },
  {
   "cell_type": "code",
   "execution_count": 7,
   "id": "8a1773b4",
   "metadata": {},
   "outputs": [],
   "source": [
    "# birth_year = int(input('Birth year: '))\n",
    "# print(type(birth_year))\n",
    "# age = todays_date.year - birth_year\n",
    "# print(age)\n",
    "# print(type(age))"
   ]
  },
  {
   "cell_type": "code",
   "execution_count": null,
   "id": "1a86a11d",
   "metadata": {},
   "outputs": [],
   "source": [
    "# 1 Pound = 0.453592 Kilograms\n",
    "# or 1 lb = 0.453592 Kg\n",
    "\n",
    "# pounds = float(input(\"Enter weight in Pounds to comvert to kilograms: \"))\n",
    "# kgs = pounds * 0.453592\n",
    "\n",
    "# print(\"The weight in kgs is\", round(kgs,3))"
   ]
  },
  {
   "cell_type": "code",
   "execution_count": null,
   "id": "eabd1354",
   "metadata": {},
   "outputs": [],
   "source": [
    "# signle quote & double quote\n",
    "# name = 'my name is sarit' # signle quote\n",
    "# print(name)\n",
    "# print(name[0]) # index\n",
    "# print(name[-1])# negative index\n",
    "# print(name[0:4])\n",
    "# print(name[0:])\n",
    "# uni = \"Alliance university\" # double quote\n",
    "# print(uni)"
   ]
  },
  {
   "cell_type": "code",
   "execution_count": null,
   "id": "87f3961c",
   "metadata": {},
   "outputs": [],
   "source": [
    "# variable = \"Bidisha's favourite colour is pink\"\n",
    "# print(variable)"
   ]
  },
  {
   "cell_type": "code",
   "execution_count": null,
   "id": "9876fc6b",
   "metadata": {},
   "outputs": [],
   "source": [
    "# variable = 'Bidisha loves \"Ice-cream\"'\n",
    "# print(variable)"
   ]
  },
  {
   "cell_type": "code",
   "execution_count": null,
   "id": "cda51619",
   "metadata": {},
   "outputs": [],
   "source": [
    "# quote = '''I need to create a python function named poundsToMetric which converts weights given \n",
    "# in pounds to kilograms and grams.\n",
    "# for example rather than print out 2.2 kilograms the correct answer would be 2 kilograms and 200 grams'''\n",
    "# print(quote)"
   ]
  },
  {
   "cell_type": "code",
   "execution_count": 11,
   "id": "fc77af2e",
   "metadata": {},
   "outputs": [],
   "source": [
    "# formatted string\n",
    "# first_name = \"Rahul\"\n",
    "# last_name = \"Singh\"\n",
    "\n",
    "# my target is to write a code to print \"Rahul [Singh] is my friend\"\n",
    "\n",
    "# message = first_name + ' [' + last_name + '] is my friend'\n",
    "# print(message)\n",
    "\n",
    "# msg = f'{first_name} [{last_name}] is my friend'\n",
    "# print(msg)"
   ]
  },
  {
   "cell_type": "code",
   "execution_count": 14,
   "id": "f6c31b4c",
   "metadata": {},
   "outputs": [],
   "source": [
    "# section = \"fundamentals of python program\"\n",
    "# print(len(section))"
   ]
  },
  {
   "cell_type": "code",
   "execution_count": 15,
   "id": "495a7219",
   "metadata": {},
   "outputs": [
    {
     "name": "stdout",
     "output_type": "stream",
     "text": [
      "FUNDAMENTALS OF PYTHON PROGRAM\n",
      "fundamentals of python program\n"
     ]
    }
   ],
   "source": [
    "# print(section.upper()) # upper case method\n",
    "# print(section.lower())"
   ]
  },
  {
   "cell_type": "code",
   "execution_count": 18,
   "id": "8f41bb24",
   "metadata": {},
   "outputs": [
    {
     "name": "stdout",
     "output_type": "stream",
     "text": [
      "1\n"
     ]
    }
   ],
   "source": [
    "# print(section.find('u'))"
   ]
  },
  {
   "cell_type": "code",
   "execution_count": 19,
   "id": "bd62d1f8",
   "metadata": {},
   "outputs": [
    {
     "name": "stdout",
     "output_type": "stream",
     "text": [
      "fundamentals of python programming\n"
     ]
    }
   ],
   "source": [
    "# print(section.replace('program', 'programming'))"
   ]
  },
  {
   "cell_type": "code",
   "execution_count": null,
   "id": "2a5e81c1",
   "metadata": {},
   "outputs": [],
   "source": []
  }
 ],
 "metadata": {
  "kernelspec": {
   "display_name": "Python 3 (ipykernel)",
   "language": "python",
   "name": "python3"
  },
  "language_info": {
   "codemirror_mode": {
    "name": "ipython",
    "version": 3
   },
   "file_extension": ".py",
   "mimetype": "text/x-python",
   "name": "python",
   "nbconvert_exporter": "python",
   "pygments_lexer": "ipython3",
   "version": "3.9.7"
  }
 },
 "nbformat": 4,
 "nbformat_minor": 5
}
