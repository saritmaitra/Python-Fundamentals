{
 "cells": [
  {
   "cell_type": "code",
   "execution_count": 1,
   "id": "005faea1",
   "metadata": {},
   "outputs": [],
   "source": [
    "print('*' * 60)"
   ]
  },
  {
   "cell_type": "code",
   "execution_count": 27,
   "id": "d2b104ce",
   "metadata": {},
   "outputs": [
    {
     "name": "stdout",
     "output_type": "stream",
     "text": [
      " O____~\n",
      "  ||||\n"
     ]
    }
   ],
   "source": [
    "print(\" O____~\")\n",
    "print(\"  ||||\")"
   ]
  },
  {
   "cell_type": "code",
   "execution_count": 2,
   "id": "5a245d0e",
   "metadata": {},
   "outputs": [],
   "source": [
    "name = input(\"what is your name? \")\n",
    "print('Hi ' + name)"
   ]
  },
  {
   "cell_type": "code",
   "execution_count": 3,
   "id": "1a8b36d8",
   "metadata": {},
   "outputs": [],
   "source": [
    "name = input(\"what is your name? \")\n",
    "favourite_colour = input('what is your favourite colour? ')\n",
    "print(name + ' likes ' + favourite_colour)"
   ]
  },
  {
   "cell_type": "code",
   "execution_count": 4,
   "id": "7097b895",
   "metadata": {},
   "outputs": [],
   "source": [
    "from datetime import date\n",
    "\n",
    "today = date.today()\n",
    "print(\"Today's date:\", today)"
   ]
  },
  {
   "cell_type": "code",
   "execution_count": 5,
   "id": "49453b0d",
   "metadata": {},
   "outputs": [],
   "source": [
    "from datetime import datetime\n",
    " \n",
    "now = datetime.now()\n",
    "\n",
    "current_time = now.strftime(\"%H:%M:%S\") # format the value using the strftime() method to fetch only the time information\n",
    "\n",
    "print(\"Current Time is :\", current_time)"
   ]
  },
  {
   "cell_type": "code",
   "execution_count": 6,
   "id": "edb57a84",
   "metadata": {},
   "outputs": [],
   "source": [
    "time = now.strftime(\"%H:%M %p\") \n",
    "\n",
    "print(\"Current Time is :\", time)"
   ]
  },
  {
   "cell_type": "code",
   "execution_count": 7,
   "id": "e8d9c425",
   "metadata": {},
   "outputs": [],
   "source": [
    "# importing date class from datetime module\n",
    "from datetime import date\n",
    "  \n",
    "# creating the date object of today's date\n",
    "todays_date = date.today()\n",
    "  \n",
    "# printing todays date\n",
    "print(\"Current date: \", todays_date)\n",
    "\n",
    "# fetching the current year, month and day of today\n",
    "print(\"Current year:\", todays_date.year)\n",
    "print(\"Current month:\", todays_date.month)\n",
    "print(\"Current day:\", todays_date.day)"
   ]
  },
  {
   "cell_type": "code",
   "execution_count": 8,
   "id": "b3855087",
   "metadata": {},
   "outputs": [],
   "source": [
    "birth_year = int(input('Birth year: '))\n",
    "print(type(birth_year))\n",
    "age = todays_date.year - birth_year\n",
    "print(age)\n",
    "print(type(age))"
   ]
  },
  {
   "cell_type": "code",
   "execution_count": 9,
   "id": "60663e8e",
   "metadata": {},
   "outputs": [],
   "source": [
    "# 1 Pound = 0.453592 Kilograms\n",
    "# or 1 lb = 0.453592 Kg\n",
    "\n",
    "pounds = float(input(\"Enter weight in Pounds to comvert to kilograms: \"))\n",
    "kgs = pounds * 0.453592\n",
    "\n",
    "print(\"The weight in kgs is\", round(kgs,3))"
   ]
  },
  {
   "cell_type": "code",
   "execution_count": 10,
   "id": "6ac742fc",
   "metadata": {},
   "outputs": [],
   "source": [
    "# signle quote & double quote\n",
    "name = 'my name is sarit' # signle quote\n",
    "print(name)\n",
    "print(name[0]) # index\n",
    "print(name[-1])# negative index\n",
    "print(name[0:4])\n",
    "print(name[0:])\n",
    "uni = \"Alliance university\" # double quote\n",
    "print(uni)"
   ]
  },
  {
   "cell_type": "code",
   "execution_count": 11,
   "id": "dfcb78e9",
   "metadata": {},
   "outputs": [],
   "source": [
    "variable = \"Bidisha's favourite colour is pink\"\n",
    "print(variable)"
   ]
  },
  {
   "cell_type": "code",
   "execution_count": 12,
   "id": "620a85a9",
   "metadata": {},
   "outputs": [],
   "source": [
    "variable = 'Bidisha loves \"Ice-cream\"'\n",
    "print(variable)"
   ]
  },
  {
   "cell_type": "code",
   "execution_count": 13,
   "id": "b99e013e",
   "metadata": {},
   "outputs": [],
   "source": [
    "quote = '''I need to create a python function named poundsToMetric which converts weights given \n",
    "in pounds to kilograms and grams.\n",
    "for example rather than print out 2.2 kilograms the correct answer would be 2 kilograms and 200 grams'''\n",
    "print(quote)"
   ]
  },
  {
   "cell_type": "code",
   "execution_count": 14,
   "id": "04f347ec",
   "metadata": {},
   "outputs": [],
   "source": [
    "# formatted string\n",
    "first_name = \"Rahul\"\n",
    "last_name = \"Singh\"\n",
    "\n",
    "# our target is to write a code to print \"Rahul [Singh] is my friend\"\n",
    "\n",
    "message = first_name + ' [' + last_name + '] is my friend'\n",
    "print(message)\n",
    "\n",
    "msg = f'{first_name} [{last_name}] is my friend'\n",
    "print(msg)"
   ]
  },
  {
   "cell_type": "code",
   "execution_count": 15,
   "id": "c95efcf4",
   "metadata": {},
   "outputs": [],
   "source": [
    "section = \"fundamentals of python program\"\n",
    "print(len(section))"
   ]
  },
  {
   "cell_type": "code",
   "execution_count": 16,
   "id": "d20367b4",
   "metadata": {},
   "outputs": [],
   "source": [
    "print(section.upper()) # upper case method\n",
    "print(section.lower())"
   ]
  },
  {
   "cell_type": "code",
   "execution_count": 17,
   "id": "ba1dad7a",
   "metadata": {},
   "outputs": [],
   "source": [
    "print(section.find('u'))"
   ]
  },
  {
   "cell_type": "code",
   "execution_count": 18,
   "id": "26e050b3",
   "metadata": {},
   "outputs": [],
   "source": [
    "print(section.replace('program', 'programming'))"
   ]
  },
  {
   "cell_type": "code",
   "execution_count": 19,
   "id": "48737cca",
   "metadata": {},
   "outputs": [
    {
     "ename": "NameError",
     "evalue": "name 'section' is not defined",
     "output_type": "error",
     "traceback": [
      "\u001b[1;31m---------------------------------------------------------------------------\u001b[0m",
      "\u001b[1;31mNameError\u001b[0m                                 Traceback (most recent call last)",
      "Input \u001b[1;32mIn [19]\u001b[0m, in \u001b[0;36m<cell line: 1>\u001b[1;34m()\u001b[0m\n\u001b[1;32m----> 1\u001b[0m \u001b[38;5;124m'\u001b[39m\u001b[38;5;124mpython\u001b[39m\u001b[38;5;124m'\u001b[39m \u001b[38;5;129;01min\u001b[39;00m \u001b[43msection\u001b[49m\n",
      "\u001b[1;31mNameError\u001b[0m: name 'section' is not defined"
     ]
    }
   ],
   "source": [
    "'python' in section"
   ]
  },
  {
   "cell_type": "code",
   "execution_count": null,
   "id": "b891d758",
   "metadata": {},
   "outputs": [],
   "source": [
    "# round function\n",
    "x = 3.8\n",
    "print(round(x))"
   ]
  },
  {
   "cell_type": "code",
   "execution_count": null,
   "id": "7c8e107d",
   "metadata": {},
   "outputs": [],
   "source": [
    "# abs function returns always a positive value\n",
    "print(abs(-3.9))"
   ]
  },
  {
   "cell_type": "code",
   "execution_count": null,
   "id": "19a133f5",
   "metadata": {},
   "outputs": [],
   "source": [
    "import math # import math module\n",
    "print(math.ceil(4.7))"
   ]
  },
  {
   "cell_type": "code",
   "execution_count": null,
   "id": "a8417fbe",
   "metadata": {},
   "outputs": [],
   "source": [
    "print(math.floor(4.6))"
   ]
  },
  {
   "cell_type": "markdown",
   "id": "ed9514ff",
   "metadata": {},
   "source": [
    "https://docs.python.org/3/library/math.html"
   ]
  },
  {
   "cell_type": "code",
   "execution_count": null,
   "id": "e417c6c4",
   "metadata": {},
   "outputs": [],
   "source": [
    "is_hot = True\n",
    "\n",
    "if is_hot:\n",
    "    print(\"It's a hot humid day\")\n",
    "    print('Drink lemonade')\n",
    "    \n",
    "else:\n",
    "    print(\"It's cold winter\")\n",
    "    print(\"wear warm clothes\")\n",
    "print('Have a lovely day!')"
   ]
  },
  {
   "cell_type": "code",
   "execution_count": null,
   "id": "1deff136",
   "metadata": {},
   "outputs": [],
   "source": [
    "is_hot = False\n",
    "is_cold = True\n",
    "\n",
    "if is_hot:\n",
    "    print(\"It's a hot humid day\")\n",
    "    print('Drink lemonade')\n",
    "    \n",
    "elif is_cold:\n",
    "    print(\"It's cold winter\")\n",
    "    print(\"wear warm clothes\")\n",
    "else:\n",
    "    print(\"It's a lovely day!\")\n",
    "    \n",
    "print('Have a great day ahead!')"
   ]
  },
  {
   "cell_type": "markdown",
   "id": "662f3000",
   "metadata": {},
   "source": [
    "- Price of an apartment is 1000000.00. \n",
    "- If I have a good credit rating, I need to pay 10% downpayment, alternately 30% down payment.\n",
    "- we will write a program with this rule to display buyer with good credit."
   ]
  },
  {
   "cell_type": "code",
   "execution_count": null,
   "id": "97134aac",
   "metadata": {},
   "outputs": [],
   "source": [
    "apartment_price = 1000000\n",
    "has_good_credit = True\n",
    "\n",
    "if has_good_credit:\n",
    "    down_payment = apartment_price * 0.1\n",
    "\n",
    "else:\n",
    "    down_payment = apartment_price * 0.3\n",
    "    \n",
    "print(f\"Down Payment: Rs.{down_payment}\")"
   ]
  },
  {
   "cell_type": "markdown",
   "id": "ee15ef28",
   "metadata": {},
   "source": [
    "#### logical AND/OR/NOT operator\n",
    "- If someone has high income AND good credit rating, he/she is eligible for loan\n",
    "- If someone has high income OR good credit rating, he/she is eligible for loan\n",
    "- If someone has high income AND NOT criminal record, he/she is eligible for loan"
   ]
  },
  {
   "cell_type": "code",
   "execution_count": null,
   "id": "9f8fc3f0",
   "metadata": {},
   "outputs": [],
   "source": [
    "has_high_income = True\n",
    "has_good_credit = True\n",
    "\n",
    "if has_high_income and has_good_credit:\n",
    "    print('Eligible for loan')\n",
    "    "
   ]
  },
  {
   "cell_type": "code",
   "execution_count": null,
   "id": "7f5dad10",
   "metadata": {},
   "outputs": [],
   "source": [
    "has_high_income = True\n",
    "has_good_credit = True\n",
    "\n",
    "if has_high_income or has_good_credit:\n",
    "    print('Eligible for loan')\n",
    "    "
   ]
  },
  {
   "cell_type": "code",
   "execution_count": null,
   "id": "a849bf6a",
   "metadata": {},
   "outputs": [],
   "source": [
    "has_high_income = True\n",
    "has_criminal_record = False\n",
    "\n",
    "if has_high_income and not has_criminal_record:\n",
    "    print('Eligible for loan')\n",
    "    "
   ]
  },
  {
   "cell_type": "markdown",
   "id": "acbb5c7d",
   "metadata": {},
   "source": [
    "If day's temperature greater than 30 deg cel, it's a hot day, if less than 15 deg cel, it's a cold day, alternately it's neither cold nor hot."
   ]
  },
  {
   "cell_type": "code",
   "execution_count": null,
   "id": "cb3e6598",
   "metadata": {},
   "outputs": [],
   "source": [
    "temp = 30\n",
    "\n",
    "if temp > 30: # ==, !=, \n",
    "    print(\"It's a hot day\")\n",
    "else:\n",
    "    print(\"It's not a hot day\")"
   ]
  },
  {
   "cell_type": "markdown",
   "id": "51bc0d28",
   "metadata": {},
   "source": [
    "If name is less than 3 charecters long\n",
    "- validation error (name must be at-least 3 characters)\n",
    "\n",
    "otherwise  if it's more than 50 charecters long\n",
    "- validation error(name can be a maximum of 50 characters)\n",
    "\n",
    "otherwsie\n",
    "- name looks good!"
   ]
  },
  {
   "cell_type": "code",
   "execution_count": null,
   "id": "12e36fcc",
   "metadata": {},
   "outputs": [],
   "source": [
    "name = 'Vinay'\n",
    "\n",
    "if len(name) < 3:\n",
    "    print('name must be at-least 3 characters')\n",
    "elif len(name) > 50:\n",
    "    print('name must be a maximum of 50 characters')\n",
    "else:\n",
    "    print('name looks good!')\n",
    "    "
   ]
  },
  {
   "cell_type": "code",
   "execution_count": null,
   "id": "1cfc79a5",
   "metadata": {},
   "outputs": [],
   "source": [
    "weight = int(input(\"weight: \"))\n",
    "unit = input('(L)bs or (K)g: ')\n",
    "if unit.upper() == \"L\":\n",
    "    converted_weight = weight * 0.45\n",
    "    print(f\"you are {converted_weight} kilos\")\n",
    "else:\n",
    "    converted_weight = weight / 0.45\n",
    "    print(f\"you are {converted_weight} pounds\") \n",
    "    "
   ]
  },
  {
   "cell_type": "code",
   "execution_count": null,
   "id": "4f65a3d2",
   "metadata": {},
   "outputs": [],
   "source": [
    "# while loop\n",
    "index = 1\n",
    "while index <= 5:\n",
    "    print(index)\n",
    "    index = index + 1\n",
    "print(\"complete\")"
   ]
  },
  {
   "cell_type": "code",
   "execution_count": null,
   "id": "002953e8",
   "metadata": {},
   "outputs": [],
   "source": [
    "# while loop\n",
    "index = 1\n",
    "while index <= 5:\n",
    "    print(\"*\" * index)\n",
    "    index = index + 1\n",
    "print(\"complete\")"
   ]
  },
  {
   "cell_type": "markdown",
   "id": "94b42dc0",
   "metadata": {},
   "source": [
    "### Guess game:"
   ]
  },
  {
   "cell_type": "code",
   "execution_count": null,
   "id": "d73956e8",
   "metadata": {},
   "outputs": [],
   "source": [
    "secret_number = 9\n",
    "guess_count = 0\n",
    "guess_limit = 3\n",
    "\n",
    "while guess_count < guess_limit:\n",
    "    guess = int(input(\"Guess: \"))\n",
    "    guess_count += 1\n",
    "    if guess == secret_number:\n",
    "        print(\"You win!\")\n",
    "    "
   ]
  },
  {
   "cell_type": "code",
   "execution_count": null,
   "id": "ea127540",
   "metadata": {},
   "outputs": [],
   "source": [
    "secret_number = 9\n",
    "guess_count = 0\n",
    "guess_limit = 3\n",
    "\n",
    "while guess_count < guess_limit:\n",
    "    guess = int(input(\"Guess: \"))\n",
    "    guess_count += 1\n",
    "    if guess == secret_number:\n",
    "        print(\"You win!\")\n",
    "        break"
   ]
  },
  {
   "cell_type": "code",
   "execution_count": null,
   "id": "508c7be3",
   "metadata": {},
   "outputs": [],
   "source": [
    "secret_number = 9\n",
    "guess_count = 0\n",
    "guess_limit = 3\n",
    "\n",
    "while guess_count < guess_limit:\n",
    "    guess = int(input(\"Guess: \"))\n",
    "    guess_count += 1\n",
    "    if guess == secret_number:\n",
    "        print(\"You win!\")\n",
    "        break\n",
    "else:\n",
    "    print(\"Sorry, timeout\")"
   ]
  },
  {
   "cell_type": "code",
   "execution_count": null,
   "id": "e0156055",
   "metadata": {},
   "outputs": [],
   "source": [
    "command = \"\"\n",
    "\n",
    "while command.lower() != 'quit':\n",
    "    command = input(\"> \")\n",
    "    if command.lower() == 'start':\n",
    "        print('engine started...')\n",
    "    elif command.lower() == 'stop':\n",
    "        print('engine stopped....')\n",
    "    elif command.lower() == 'help':\n",
    "        print(\"\"\" \n",
    "        start - start the engine\n",
    "        stop - stop the engine\n",
    "        quit - quit the game\n",
    "        \"\"\")\n",
    "    else:\n",
    "        print(\"sorry, we don't understand that\")   \n",
    "    "
   ]
  },
  {
   "cell_type": "code",
   "execution_count": null,
   "id": "c5e454ca",
   "metadata": {},
   "outputs": [],
   "source": [
    "command = \"\"\n",
    "\n",
    "while command.lower() != 'quit':\n",
    "    command = input(\"> \")\n",
    "    if command.lower() == 'start':\n",
    "        print('engine started...')\n",
    "    elif command.lower() == 'stop':\n",
    "        print('engine stopped....')\n",
    "    elif command.lower() == 'help':\n",
    "        print(\"\"\" \n",
    "        start - start the engine\n",
    "        stop - stop the engine\n",
    "        quit - quit the game\n",
    "        \"\"\")\n",
    "    elif command == 'quit':\n",
    "        break\n",
    "    else:\n",
    "        print(\"sorry, we don't understand that\")"
   ]
  },
  {
   "cell_type": "code",
   "execution_count": null,
   "id": "569e4d38",
   "metadata": {},
   "outputs": [],
   "source": [
    "# simplified\n",
    "command = \"\"\n",
    "\n",
    "while True:\n",
    "    command = input(\"> \").lower()\n",
    "    if command == 'start':\n",
    "        print('engine started...')\n",
    "    elif command == 'stop':\n",
    "        print('engine stopped.')\n",
    "    elif command == 'help':\n",
    "        print(\"\"\" \n",
    "        start - start the engine\n",
    "        stop - stop the engine\n",
    "        quit - quit the game\n",
    "        \"\"\")\n",
    "    elif command == 'quit':\n",
    "        break\n",
    "    else:\n",
    "        print(\"sorry, we don't understand that\")"
   ]
  },
  {
   "cell_type": "code",
   "execution_count": 3,
   "id": "a93a0491",
   "metadata": {},
   "outputs": [
    {
     "name": "stdout",
     "output_type": "stream",
     "text": [
      "> stop\n",
      "engine already stopped\n",
      "> start\n",
      "engine started...\n",
      "> start\n",
      "Engine already started!\n",
      "> quit\n"
     ]
    }
   ],
   "source": [
    "# simplified\n",
    "command = \"\"\n",
    "started = False\n",
    "\n",
    "while True:\n",
    "    command = input(\"> \").lower()\n",
    "    if command == 'start':\n",
    "        if started:\n",
    "            print(\"Engine already started!\")\n",
    "        else:\n",
    "            started= True\n",
    "            print('engine started...')\n",
    "    elif command == 'stop':\n",
    "        if not started:\n",
    "            print(\"engine already stopped\")\n",
    "        else:\n",
    "            started = False\n",
    "            print('engine stopped.')\n",
    "    elif command == 'help':\n",
    "        print(\"\"\" \n",
    "start - start the engine\n",
    "stop - stop the engine\n",
    "quit - quit the game\n",
    "        \"\"\")\n",
    "    elif command == 'quit':\n",
    "        break\n",
    "    else:\n",
    "        print(\"sorry, we don't understand that\")"
   ]
  },
  {
   "cell_type": "code",
   "execution_count": null,
   "id": "0ec5a440",
   "metadata": {},
   "outputs": [],
   "source": []
  }
 ],
 "metadata": {
  "kernelspec": {
   "display_name": "Python 3 (ipykernel)",
   "language": "python",
   "name": "python3"
  },
  "language_info": {
   "codemirror_mode": {
    "name": "ipython",
    "version": 3
   },
   "file_extension": ".py",
   "mimetype": "text/x-python",
   "name": "python",
   "nbconvert_exporter": "python",
   "pygments_lexer": "ipython3",
   "version": "3.9.7"
  }
 },
 "nbformat": 4,
 "nbformat_minor": 5
}
