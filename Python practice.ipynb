{
 "cells": [
  {
   "cell_type": "code",
   "execution_count": 24,
   "id": "9e1174af",
   "metadata": {},
   "outputs": [
    {
     "name": "stdout",
     "output_type": "stream",
     "text": [
      "************************************************************\n"
     ]
    }
   ],
   "source": [
    "print('*' * 60)"
   ]
  },
  {
   "cell_type": "code",
   "execution_count": 25,
   "id": "44f170e2",
   "metadata": {},
   "outputs": [
    {
     "name": "stdout",
     "output_type": "stream",
     "text": [
      " O____~\n",
      "  ||||\n"
     ]
    }
   ],
   "source": [
    "print(\" O____~\")\n",
    "print(\"  ||||\")"
   ]
  },
  {
   "cell_type": "code",
   "execution_count": 26,
   "id": "0a44033c",
   "metadata": {},
   "outputs": [
    {
     "name": "stdout",
     "output_type": "stream",
     "text": [
      "My name is Zara and weight is 21 kg!\n"
     ]
    }
   ],
   "source": [
    "print(\"My name is %s and weight is %d kg!\" % ('Zara', 21))"
   ]
  },
  {
   "cell_type": "code",
   "execution_count": 27,
   "id": "5c908c7e",
   "metadata": {},
   "outputs": [
    {
     "name": "stdout",
     "output_type": "stream",
     "text": [
      "what is your name? sarit\n",
      "Hi sarit\n"
     ]
    }
   ],
   "source": [
    "name = input(\"what is your name? \")\n",
    "print('Hi ' + name)"
   ]
  },
  {
   "cell_type": "code",
   "execution_count": 28,
   "id": "7f01806f",
   "metadata": {},
   "outputs": [
    {
     "name": "stdout",
     "output_type": "stream",
     "text": [
      "what is your name? james\n",
      "what is your favourite colour? blue\n",
      "james likes blue\n"
     ]
    }
   ],
   "source": [
    "name = input(\"what is your name? \")\n",
    "favourite_colour = input('what is your favourite colour? ')\n",
    "print(name + ' likes ' + favourite_colour)"
   ]
  },
  {
   "cell_type": "code",
   "execution_count": 29,
   "id": "32177a30",
   "metadata": {},
   "outputs": [
    {
     "name": "stdout",
     "output_type": "stream",
     "text": [
      "Today's date: 2022-05-10\n"
     ]
    }
   ],
   "source": [
    "from datetime import date\n",
    "\n",
    "today = date.today()\n",
    "print(\"Today's date:\", today)"
   ]
  },
  {
   "cell_type": "code",
   "execution_count": 30,
   "id": "373714d7",
   "metadata": {},
   "outputs": [
    {
     "name": "stdout",
     "output_type": "stream",
     "text": [
      "Current Time is : 16:24:18\n"
     ]
    }
   ],
   "source": [
    "from datetime import datetime\n",
    " \n",
    "now = datetime.now()\n",
    "\n",
    "current_time = now.strftime(\"%H:%M:%S\") # format the value using the strftime() method to fetch only the time information\n",
    "\n",
    "print(\"Current Time is :\", current_time)"
   ]
  },
  {
   "cell_type": "code",
   "execution_count": 31,
   "id": "a941ee72",
   "metadata": {},
   "outputs": [
    {
     "name": "stdout",
     "output_type": "stream",
     "text": [
      "Current Time is : 16:24 PM\n"
     ]
    }
   ],
   "source": [
    "time = now.strftime(\"%H:%M %p\") \n",
    "\n",
    "print(\"Current Time is :\", time)"
   ]
  },
  {
   "cell_type": "code",
   "execution_count": 32,
   "id": "8b2d8d82",
   "metadata": {},
   "outputs": [
    {
     "name": "stdout",
     "output_type": "stream",
     "text": [
      "Current date:  2022-05-10\n",
      "Current year: 2022\n",
      "Current month: 5\n",
      "Current day: 10\n"
     ]
    }
   ],
   "source": [
    "# importing date class from datetime module\n",
    "from datetime import date\n",
    "  \n",
    "# creating the date object of today's date\n",
    "todays_date = date.today()\n",
    "  \n",
    "# printing todays date\n",
    "print(\"Current date: \", todays_date)\n",
    "\n",
    "# fetching the current year, month and day of today\n",
    "print(\"Current year:\", todays_date.year)\n",
    "print(\"Current month:\", todays_date.month)\n",
    "print(\"Current day:\", todays_date.day)"
   ]
  },
  {
   "cell_type": "code",
   "execution_count": 33,
   "id": "f9fe62c3",
   "metadata": {},
   "outputs": [
    {
     "name": "stdout",
     "output_type": "stream",
     "text": [
      "Birth year: 1970\n",
      "<class 'int'>\n",
      "52\n",
      "<class 'int'>\n"
     ]
    }
   ],
   "source": [
    "birth_year = int(input('Birth year: '))\n",
    "print(type(birth_year))\n",
    "age = todays_date.year - birth_year\n",
    "print(age)\n",
    "print(type(age))"
   ]
  },
  {
   "cell_type": "code",
   "execution_count": 34,
   "id": "299a9eb6",
   "metadata": {},
   "outputs": [
    {
     "name": "stdout",
     "output_type": "stream",
     "text": [
      "Enter weight in Pounds to comvert to kilograms: 75\n",
      "The weight in kgs is 34.019\n"
     ]
    }
   ],
   "source": [
    "# 1 Pound = 0.453592 Kilograms\n",
    "# or 1 lb = 0.453592 Kg\n",
    "\n",
    "pounds = float(input(\"Enter weight in Pounds to comvert to kilograms: \"))\n",
    "kgs = pounds * 0.453592\n",
    "\n",
    "print(\"The weight in kgs is\", round(kgs,3))"
   ]
  },
  {
   "cell_type": "code",
   "execution_count": 35,
   "id": "292342b9",
   "metadata": {},
   "outputs": [
    {
     "name": "stdout",
     "output_type": "stream",
     "text": [
      "my name is sarit\n",
      "m\n",
      "t\n",
      "my n\n",
      "my name is sarit\n",
      "Alliance university\n"
     ]
    }
   ],
   "source": [
    "# signle quote & double quote\n",
    "name = 'my name is sarit' # signle quote\n",
    "print(name)\n",
    "print(name[0]) # index\n",
    "print(name[-1])# negative index\n",
    "print(name[0:4])\n",
    "print(name[0:])\n",
    "uni = \"Alliance university\" # double quote\n",
    "print(uni)"
   ]
  },
  {
   "cell_type": "code",
   "execution_count": 36,
   "id": "473f3c2c",
   "metadata": {},
   "outputs": [
    {
     "name": "stdout",
     "output_type": "stream",
     "text": [
      "Bidisha's favourite colour is pink\n"
     ]
    }
   ],
   "source": [
    "variable = \"Bidisha's favourite colour is pink\"\n",
    "print(variable)"
   ]
  },
  {
   "cell_type": "code",
   "execution_count": 37,
   "id": "7b7ef640",
   "metadata": {},
   "outputs": [
    {
     "name": "stdout",
     "output_type": "stream",
     "text": [
      "Bidisha loves \"Ice-cream\"\n"
     ]
    }
   ],
   "source": [
    "variable = 'Bidisha loves \"Ice-cream\"'\n",
    "print(variable)"
   ]
  },
  {
   "cell_type": "code",
   "execution_count": 38,
   "id": "7f5523de",
   "metadata": {},
   "outputs": [
    {
     "name": "stdout",
     "output_type": "stream",
     "text": [
      "I need to create a python function named poundsToMetric which converts weights given \n",
      "in pounds to kilograms and grams.\n",
      "for example rather than print out 2.2 kilograms the correct answer would be 2 kilograms and 200 grams\n"
     ]
    }
   ],
   "source": [
    "quote = '''I need to create a python function named poundsToMetric which converts weights given \n",
    "in pounds to kilograms and grams.\n",
    "for example rather than print out 2.2 kilograms the correct answer would be 2 kilograms and 200 grams'''\n",
    "print(quote)"
   ]
  },
  {
   "cell_type": "code",
   "execution_count": 39,
   "id": "00b0c9cf",
   "metadata": {},
   "outputs": [
    {
     "name": "stdout",
     "output_type": "stream",
     "text": [
      "Rahul [Singh] is my friend\n",
      "Rahul [Singh] is my friend\n"
     ]
    }
   ],
   "source": [
    "# formatted string\n",
    "first_name = \"Rahul\"\n",
    "last_name = \"Singh\"\n",
    "\n",
    "# our target is to write a code to print \"Rahul [Singh] is my friend\"\n",
    "\n",
    "message = first_name + ' [' + last_name + '] is my friend'\n",
    "print(message)\n",
    "\n",
    "msg = f'{first_name} [{last_name}] is my friend'\n",
    "print(msg)"
   ]
  },
  {
   "cell_type": "code",
   "execution_count": 40,
   "id": "4b20defd",
   "metadata": {},
   "outputs": [
    {
     "name": "stdout",
     "output_type": "stream",
     "text": [
      "30\n"
     ]
    }
   ],
   "source": [
    "section = \"fundamentals of python program\"\n",
    "print(len(section))"
   ]
  },
  {
   "cell_type": "code",
   "execution_count": 41,
   "id": "53fe2d3f",
   "metadata": {},
   "outputs": [
    {
     "name": "stdout",
     "output_type": "stream",
     "text": [
      "FUNDAMENTALS OF PYTHON PROGRAM\n",
      "fundamentals of python program\n"
     ]
    }
   ],
   "source": [
    "print(section.upper()) # upper case method\n",
    "print(section.lower())"
   ]
  },
  {
   "cell_type": "code",
   "execution_count": 42,
   "id": "3bab498c",
   "metadata": {},
   "outputs": [
    {
     "name": "stdout",
     "output_type": "stream",
     "text": [
      "1\n"
     ]
    }
   ],
   "source": [
    "print(section.find('u'))"
   ]
  },
  {
   "cell_type": "code",
   "execution_count": 43,
   "id": "8870e3f8",
   "metadata": {},
   "outputs": [
    {
     "name": "stdout",
     "output_type": "stream",
     "text": [
      "fundamentals of python programming\n"
     ]
    }
   ],
   "source": [
    "print(section.replace('program', 'programming'))"
   ]
  },
  {
   "cell_type": "code",
   "execution_count": 44,
   "id": "b7b890f7",
   "metadata": {},
   "outputs": [
    {
     "data": {
      "text/plain": [
       "True"
      ]
     },
     "execution_count": 44,
     "metadata": {},
     "output_type": "execute_result"
    }
   ],
   "source": [
    "'python' in section"
   ]
  },
  {
   "cell_type": "code",
   "execution_count": 45,
   "id": "bb56352d",
   "metadata": {},
   "outputs": [
    {
     "name": "stdout",
     "output_type": "stream",
     "text": [
      "4\n"
     ]
    }
   ],
   "source": [
    "# round function\n",
    "x = 3.8\n",
    "print(round(x))"
   ]
  },
  {
   "cell_type": "code",
   "execution_count": 46,
   "id": "72408608",
   "metadata": {},
   "outputs": [
    {
     "name": "stdout",
     "output_type": "stream",
     "text": [
      "3.9\n"
     ]
    }
   ],
   "source": [
    "# abs function returns always a positive value\n",
    "print(abs(-3.9))"
   ]
  },
  {
   "cell_type": "markdown",
   "id": "1b724b24",
   "metadata": {},
   "source": [
    "##### Below code accepts a sequence of words as input and prints the words in a sequence after sorting them alphabetically. "
   ]
  },
  {
   "cell_type": "code",
   "execution_count": 47,
   "id": "729c2fb1",
   "metadata": {},
   "outputs": [
    {
     "name": "stdout",
     "output_type": "stream",
     "text": [
      "Enter your full name:\n",
      "James bond\n",
      "Your name arranged in alphabetical order is: ['James', 'bond']\n"
     ]
    }
   ],
   "source": [
    "print (\"Enter your full name:\")\n",
    "name = input()\n",
    "\n",
    "ord_name = name.split()\n",
    "ord_name.sort()\n",
    "\n",
    "print(\"Your name arranged in alphabetical order is:\", ord_name)"
   ]
  },
  {
   "cell_type": "markdown",
   "id": "2f93a54e",
   "metadata": {},
   "source": [
    "##### Below program accepts a sentence and calculate the number of letters and digits. \n",
    "###### If the entered string is: Bond007 Then the output will be: LETTERS: 4 DIGITS:3 "
   ]
  },
  {
   "cell_type": "code",
   "execution_count": 48,
   "id": "df52f48c",
   "metadata": {},
   "outputs": [
    {
     "name": "stdout",
     "output_type": "stream",
     "text": [
      "Enter a word with letters and numbers:\n",
      "james007\n",
      "\n",
      "The numbers in the sentence are:\n",
      "[0, 0, 7]\n",
      "\n",
      "DIGITS: 3\n",
      "\n",
      "The letters in the sentence are:\n",
      "['j', 'a', 'm', 'e', 's']\n",
      "\n",
      "LETTERS: 5\n"
     ]
    }
   ],
   "source": [
    "print(\"Enter a word with letters and numbers:\")\n",
    "word = input()\n",
    "\n",
    "num = 0\n",
    "char = 0\n",
    "\n",
    "print(\"\\nThe numbers in the sentence are:\")\n",
    "numbers = [int(i) for i in str(word) if i.isdigit()]\n",
    "print(numbers)\n",
    "for i in word:\n",
    "    if i.isdigit():\n",
    "        num += 1\n",
    "print(\"\\nDIGITS:\", num)\n",
    "    \n",
    "\n",
    "print(\"\\nThe letters in the sentence are:\")\n",
    "letters = [str(i) for i in str(word) if i.isalpha()]\n",
    "print(str(letters))\n",
    "for i in word:\n",
    "    if i.isalpha():\n",
    "        char += 1\n",
    "print(\"\\nLETTERS:\", char)"
   ]
  },
  {
   "cell_type": "code",
   "execution_count": 49,
   "id": "dfdb46bb",
   "metadata": {},
   "outputs": [
    {
     "name": "stdout",
     "output_type": "stream",
     "text": [
      "The sorted words are:\n",
      "drive\n",
      "ferrari\n",
      "hello,\n",
      "i\n",
      "love\n",
      "to\n"
     ]
    }
   ],
   "source": [
    "# Program to sort alphabetically the words form a string provided by the user\n",
    "\n",
    "string = \"Hello, I love to drive Ferrari\"\n",
    "\n",
    "# To take input from the user\n",
    "# string = input(\"Enter a string: \")\n",
    "\n",
    "# breakdown the string into a list of words\n",
    "words = [word.lower() for word in string.split()]\n",
    "\n",
    "# sort the list\n",
    "words.sort()\n",
    "\n",
    "# display the sorted words\n",
    "print(\"The sorted words are:\")\n",
    "for word in words:\n",
    "    print(word)"
   ]
  },
  {
   "cell_type": "code",
   "execution_count": 50,
   "id": "d36f27c2",
   "metadata": {},
   "outputs": [
    {
     "name": "stdout",
     "output_type": "stream",
     "text": [
      "red|white|blue|green\n",
      "blue|green|red|white\n"
     ]
    }
   ],
   "source": [
    "# pipe-separated sequence of words as input and prints the sorted words\n",
    "\n",
    "items = [n for n in input().split('|')]\n",
    "items.sort()\n",
    "print('|'.join(items))"
   ]
  },
  {
   "cell_type": "code",
   "execution_count": 51,
   "id": "cdf0655e",
   "metadata": {},
   "outputs": [
    {
     "name": "stdout",
     "output_type": "stream",
     "text": [
      "red, white, green, black\n",
      " black, green, white,red\n"
     ]
    }
   ],
   "source": [
    "# comma-separated sequence of words as input and print the sorted words\n",
    "items = [n for n in input().split(',')]\n",
    "items.sort()\n",
    "words = ','.join(items)\n",
    "print(words)"
   ]
  },
  {
   "cell_type": "code",
   "execution_count": 52,
   "id": "30183f02",
   "metadata": {},
   "outputs": [
    {
     "name": "stdout",
     "output_type": "stream",
     "text": [
      "['white', 'violet', 'red', 'black']\n"
     ]
    }
   ],
   "source": [
    "# sort() method with the reverse = True argument to sort the elements in the words list in the reverse alphabetical order\n",
    "words = ['red', 'white', 'black', 'violet']\n",
    "words.sort(reverse = True)\n",
    "print(words)"
   ]
  },
  {
   "cell_type": "markdown",
   "id": "107dc582",
   "metadata": {},
   "source": [
    "##### Function & Returns \n",
    "1.      abs(x)\n",
    "- The absolute value of x: the (positive) distance between x and zero.\n",
    "\n",
    "2.\t    ceil(x)\n",
    "- The ceiling of x: the smallest integer not less than x\n",
    "\n",
    "3.  \tcmp(x, y)\n",
    "- -1 if x < y, 0 if x == y, or 1 if x > y\n",
    "\n",
    "4.  \texp(x)\n",
    "- The exponential of x: ex\n",
    "\n",
    "5.  \tfabs(x)\n",
    "- The absolute value of x.\n",
    "\n",
    "6.  \tfloor(x)\n",
    "- The floor of x: the largest integer not greater than x\n",
    "\n",
    "7.  \tlog(x)\n",
    "- The natural logarithm of x, for x> 0\n",
    "\n",
    "8.  \tlog10(x)\n",
    "- The base-10 logarithm of x for x> 0.\n",
    "\n",
    "9.  \tmax(x1, x2,...)\n",
    "- The largest of its arguments: the value closest to positive infinity\n",
    "\n",
    "10. \tmin(x1, x2,...)\n",
    "- The smallest of its arguments: the value closest to negative infinity\n",
    "\n",
    "11. \tmodf(x)\n",
    "- The fractional and integer parts of x in a two-item tuple. Both parts have the same sign as x. The integer part is returned as a float.\n",
    "\n",
    "12. \tpow(x, y)\n",
    "- The value of x**y.\n",
    "\n",
    "13. \tround(x [,n])\n",
    "- x rounded to n digits from the decimal point. Python rounds away from zero as a tie-breaker: round(0.5) is 1.0 and round(-0.5) is -1.0.\n",
    "\n",
    "14. \tsqrt(x)\n",
    "- The square root of x for x > 0"
   ]
  },
  {
   "cell_type": "code",
   "execution_count": 53,
   "id": "6ffcf4e1",
   "metadata": {},
   "outputs": [
    {
     "name": "stdout",
     "output_type": "stream",
     "text": [
      "5\n"
     ]
    }
   ],
   "source": [
    "import math # import math module\n",
    "print(math.ceil(4.7))"
   ]
  },
  {
   "cell_type": "code",
   "execution_count": 54,
   "id": "99ae6b4d",
   "metadata": {},
   "outputs": [
    {
     "name": "stdout",
     "output_type": "stream",
     "text": [
      "4\n"
     ]
    }
   ],
   "source": [
    "print(math.floor(4.6))"
   ]
  },
  {
   "cell_type": "markdown",
   "id": "b8485ee0",
   "metadata": {},
   "source": [
    "https://docs.python.org/3/library/math.html"
   ]
  },
  {
   "cell_type": "markdown",
   "id": "eef60c8e",
   "metadata": {},
   "source": [
    "Python programming language provides following types of decision making statements.\n",
    "##### if statements\n",
    "- An if statement consists of a boolean expression followed by one or more statements.\n",
    "\n",
    "##### if...else statements\n",
    "- An if statement can be followed by an optional else statement, which executes when the boolean expression is FALSE.\n",
    "\n",
    "##### nested if statements\n",
    "- We can use one if or else if statement inside another if or else if statement(s)."
   ]
  },
  {
   "cell_type": "code",
   "execution_count": 55,
   "id": "5d4c05c8",
   "metadata": {},
   "outputs": [
    {
     "name": "stdout",
     "output_type": "stream",
     "text": [
      "It's a hot humid day\n",
      "Drink lemonade\n",
      "Have a lovely day!\n"
     ]
    }
   ],
   "source": [
    "is_hot = True\n",
    "\n",
    "if is_hot:\n",
    "    print(\"It's a hot humid day\")\n",
    "    print('Drink lemonade')\n",
    "    \n",
    "else:\n",
    "    print(\"It's cold\")\n",
    "    print(\"wear sweater & jackets\")\n",
    "print('Have a lovely day!')"
   ]
  },
  {
   "cell_type": "code",
   "execution_count": 56,
   "id": "e3e2b9d6",
   "metadata": {},
   "outputs": [
    {
     "name": "stdout",
     "output_type": "stream",
     "text": [
      "It's cold winter\n",
      "wear warm clothes\n",
      "Have a great day ahead!\n"
     ]
    }
   ],
   "source": [
    "is_hot = False\n",
    "is_cold = True\n",
    "\n",
    "if is_hot:\n",
    "    print(\"It's a hot humid day\")\n",
    "    print('Drink lemonade')\n",
    "    \n",
    "elif is_cold:\n",
    "    print(\"It's cold winter\")\n",
    "    print(\"wear warm clothes\")\n",
    "else:\n",
    "    print(\"It's a lovely day!\")\n",
    "    \n",
    "print('Have a great day ahead!')"
   ]
  },
  {
   "cell_type": "markdown",
   "id": "99995796",
   "metadata": {},
   "source": [
    "- Price of an apartment is 1000000.00. \n",
    "- If I have a good credit rating, I need to pay 10% downpayment, alternately 30% down payment.\n",
    "- we will write a program with this rule to display buyer with good credit."
   ]
  },
  {
   "cell_type": "code",
   "execution_count": 57,
   "id": "1ffc4bde",
   "metadata": {},
   "outputs": [
    {
     "name": "stdout",
     "output_type": "stream",
     "text": [
      "Down Payment: Rs.100000.0\n"
     ]
    }
   ],
   "source": [
    "apartment_price = 1000000\n",
    "has_good_credit = True\n",
    "\n",
    "if has_good_credit:\n",
    "    down_payment = apartment_price * 0.1\n",
    "\n",
    "else:\n",
    "    down_payment = apartment_price * 0.3\n",
    "    \n",
    "print(f\"Down Payment: Rs.{down_payment}\")"
   ]
  },
  {
   "cell_type": "markdown",
   "id": "170b0cb2",
   "metadata": {},
   "source": [
    "#### logical AND/OR/NOT operator\n",
    "- If someone has high income AND good credit rating, he/she is eligible for loan\n",
    "- If someone has high income OR good credit rating, he/she is eligible for loan\n",
    "- If someone has high income AND NOT criminal record, he/she is eligible for loan"
   ]
  },
  {
   "cell_type": "code",
   "execution_count": 58,
   "id": "fa957479",
   "metadata": {},
   "outputs": [
    {
     "name": "stdout",
     "output_type": "stream",
     "text": [
      "Eligible for loan\n"
     ]
    }
   ],
   "source": [
    "has_high_income = True\n",
    "has_good_credit = True\n",
    "\n",
    "if has_high_income and has_good_credit:\n",
    "    print('Eligible for loan')\n",
    "    "
   ]
  },
  {
   "cell_type": "code",
   "execution_count": 59,
   "id": "4c814de9",
   "metadata": {},
   "outputs": [
    {
     "name": "stdout",
     "output_type": "stream",
     "text": [
      "Eligible for loan\n"
     ]
    }
   ],
   "source": [
    "has_high_income = True\n",
    "has_good_credit = True\n",
    "\n",
    "if has_high_income or has_good_credit:\n",
    "    print('Eligible for loan')\n",
    "    "
   ]
  },
  {
   "cell_type": "code",
   "execution_count": 60,
   "id": "f8af9b9b",
   "metadata": {},
   "outputs": [
    {
     "name": "stdout",
     "output_type": "stream",
     "text": [
      "Eligible for loan\n"
     ]
    }
   ],
   "source": [
    "has_high_income = True\n",
    "has_criminal_record = False\n",
    "\n",
    "if has_high_income and not has_criminal_record:\n",
    "    print('Eligible for loan')\n",
    "    "
   ]
  },
  {
   "cell_type": "markdown",
   "id": "03172935",
   "metadata": {},
   "source": [
    "If day's temperature greater than 30 deg cel, it's a hot day, if less than 15 deg cel, it's a cold day, alternately it's neither cold nor hot."
   ]
  },
  {
   "cell_type": "code",
   "execution_count": 61,
   "id": "ebd78b3f",
   "metadata": {},
   "outputs": [
    {
     "name": "stdout",
     "output_type": "stream",
     "text": [
      "It's not a hot day\n"
     ]
    }
   ],
   "source": [
    "temp = 30\n",
    "\n",
    "if temp > 30: # ==, !=, \n",
    "    print(\"It's a hot day\")\n",
    "else:\n",
    "    print(\"It's not a hot day\")"
   ]
  },
  {
   "cell_type": "markdown",
   "id": "2b341ed8",
   "metadata": {},
   "source": [
    "If name is less than 3 charecters long\n",
    "- validation error (name must be at-least 3 characters)\n",
    "\n",
    "otherwise  if it's more than 50 charecters long\n",
    "- validation error(name can be a maximum of 50 characters)\n",
    "\n",
    "otherwsie\n",
    "- name looks good!"
   ]
  },
  {
   "cell_type": "code",
   "execution_count": 62,
   "id": "736d9af5",
   "metadata": {},
   "outputs": [
    {
     "name": "stdout",
     "output_type": "stream",
     "text": [
      "name looks good!\n"
     ]
    }
   ],
   "source": [
    "name = 'Vinay'\n",
    "\n",
    "if len(name) < 3:\n",
    "    print('name must be at-least 3 characters')\n",
    "elif len(name) > 50:\n",
    "    print('name must be a maximum of 50 characters')\n",
    "else:\n",
    "    print('name looks good!')\n",
    "    "
   ]
  },
  {
   "cell_type": "code",
   "execution_count": 63,
   "id": "94a9a7c5",
   "metadata": {},
   "outputs": [
    {
     "name": "stdout",
     "output_type": "stream",
     "text": [
      "weight: 72\n",
      "(L)bs or (K)g: lbs\n",
      "you are 160.0 pounds\n"
     ]
    }
   ],
   "source": [
    "weight = int(input(\"weight: \"))\n",
    "unit = input('(L)bs or (K)g: ')\n",
    "if unit.upper() == \"L\":\n",
    "    converted_weight = weight * 0.45\n",
    "    print(f\"you are {converted_weight} kilos\")\n",
    "else:\n",
    "    converted_weight = weight / 0.45\n",
    "    print(f\"you are {converted_weight} pounds\") \n",
    "    "
   ]
  },
  {
   "cell_type": "code",
   "execution_count": 64,
   "id": "41657008",
   "metadata": {},
   "outputs": [
    {
     "name": "stdout",
     "output_type": "stream",
     "text": [
      "Input the  temperature we like to convert? (e.g., 45F, 102C etc.) : 45F\n",
      "The temperature in Celsius is 7 degrees.\n"
     ]
    }
   ],
   "source": [
    "# celsius to farenhit conversion\n",
    "# C/5 = (F-32)/9\n",
    "\n",
    "temp = input(\"Input the  temperature we like to convert? (e.g., 45F, 102C etc.) : \")\n",
    "degree = int(temp[:-1])\n",
    "input_temp = temp[-1]\n",
    "\n",
    "if input_temp.upper() == \"C\":\n",
    "    result = int(round((9 * degree) / 5 + 32))\n",
    "    output_temp = \"Fahrenheit\"\n",
    "elif input_temp.upper() == \"F\":\n",
    "    result = int(round((degree - 32) * 5 / 9))\n",
    "    output_temp = \"Celsius\"\n",
    "else:\n",
    "    print(\"Input proper convention.\")\n",
    "    quit()\n",
    "print(\"The temperature in\", output_temp, \"is\", result, \"degrees.\")"
   ]
  },
  {
   "cell_type": "markdown",
   "id": "06372c98",
   "metadata": {},
   "source": [
    "### reverse word"
   ]
  },
  {
   "cell_type": "code",
   "execution_count": 65,
   "id": "649ca3a9",
   "metadata": {},
   "outputs": [
    {
     "name": "stdout",
     "output_type": "stream",
     "text": [
      "Input a word to reverse: jamesbond\n",
      "dnobsemaj\n",
      "\n"
     ]
    }
   ],
   "source": [
    "word = input(\"Input a word to reverse: \")\n",
    "\n",
    "for char in range(len(word) - 1, -1, -1):\n",
    "    print(word[char], end = \"\")\n",
    "\n",
    "print(\"\\n\")"
   ]
  },
  {
   "cell_type": "markdown",
   "id": "18778020",
   "metadata": {},
   "source": [
    "##### Python program to find the numbers which are divisible by 7 and multiple of 5, between 1500 and 2700 (both included)."
   ]
  },
  {
   "cell_type": "code",
   "execution_count": 66,
   "id": "8a6e1fa2",
   "metadata": {},
   "outputs": [
    {
     "name": "stdout",
     "output_type": "stream",
     "text": [
      "1505,1540,1575,1610,1645,1680,1715,1750,1785,1820,1855,1890,1925,1960,1995,2030,2065,2100,2135,2170,2205,2240,2275,2310,2345,2380,2415,2450,2485,2520,2555,2590,2625,2660,2695\n"
     ]
    }
   ],
   "source": [
    "num = []\n",
    "for n in range(1500, 2701):\n",
    "    if (n % 7 == 0) and (n % 5 == 0):\n",
    "        num.append(str(n))\n",
    "print (','.join(num))"
   ]
  },
  {
   "cell_type": "markdown",
   "id": "3fa13a01",
   "metadata": {},
   "source": [
    "In general, statements are executed sequentially: \n",
    "- The first statement in a function is executed first, \n",
    "- followed by the second, and so on. \n",
    "- There may be a situation when we need to execute a block of code several number of times.\n",
    "\n",
    "Programming languages provide various control structures that allow for more complicated execution paths.\n",
    "\n",
    "A loop statement allows us to execute a statement or group of statements multiple times. \n",
    "\n",
    "##### while loop\n",
    "- Repeats a statement or group of statements while a given condition is TRUE. \n",
    "- It tests the condition before executing the loop body.\n",
    "\n",
    "##### for loop\n",
    "- Executes a sequence of statements multiple times and abbreviates the code that manages the loop variable.\n",
    "\n",
    "##### nested loops\n",
    "- We can use one or more loop inside any another while, for or do..while loop."
   ]
  },
  {
   "cell_type": "code",
   "execution_count": 67,
   "id": "7abebd6f",
   "metadata": {},
   "outputs": [
    {
     "name": "stdout",
     "output_type": "stream",
     "text": [
      "1\n",
      "2\n",
      "3\n",
      "4\n",
      "5\n",
      "complete\n"
     ]
    }
   ],
   "source": [
    "# while loop\n",
    "index = 1\n",
    "while index <= 5:\n",
    "    print(index)\n",
    "    index = index + 1\n",
    "print(\"complete\")"
   ]
  },
  {
   "cell_type": "code",
   "execution_count": 68,
   "id": "c9377fd8",
   "metadata": {},
   "outputs": [
    {
     "name": "stdout",
     "output_type": "stream",
     "text": [
      "*\n",
      "**\n",
      "***\n",
      "****\n",
      "*****\n",
      "complete\n"
     ]
    }
   ],
   "source": [
    "# while loop\n",
    "index = 1\n",
    "while index <= 5:\n",
    "    print(\"*\" * index)\n",
    "    index = index + 1\n",
    "print(\"complete\")"
   ]
  },
  {
   "cell_type": "code",
   "execution_count": 69,
   "id": "1bd634a0",
   "metadata": {},
   "outputs": [
    {
     "name": "stdout",
     "output_type": "stream",
     "text": [
      "1\n",
      "2\n",
      "3\n",
      "4\n",
      "5\n"
     ]
    }
   ],
   "source": [
    "# Python program to print First 5 Natural numbers using while loop\n",
    "num = 1\n",
    "while(num <= 5):\n",
    "    print(num)\n",
    "    num = num + 1"
   ]
  },
  {
   "cell_type": "code",
   "execution_count": 70,
   "id": "36d8c320",
   "metadata": {},
   "outputs": [
    {
     "name": "stdout",
     "output_type": "stream",
     "text": [
      "1\n",
      "3\n",
      "5\n",
      "7\n",
      "9\n",
      "11\n",
      "13\n",
      "15\n",
      "17\n",
      "19\n"
     ]
    }
   ],
   "source": [
    "# Python program to print First 10 Odd numbers using while loop\n",
    "num = 1\n",
    "while(num <= 20):\n",
    "    print(num)\n",
    "    num = num + 2"
   ]
  },
  {
   "cell_type": "code",
   "execution_count": 71,
   "id": "beb66195",
   "metadata": {},
   "outputs": [
    {
     "name": "stdout",
     "output_type": "stream",
     "text": [
      "0\n",
      "1\n",
      "2\n",
      "3\n",
      "4\n"
     ]
    }
   ],
   "source": [
    "# Python program to print First 5 Whole numbers using while loop\n",
    "num = 0\n",
    "while(num < 5):\n",
    "    print(num)\n",
    "    num = num + 1"
   ]
  },
  {
   "cell_type": "code",
   "execution_count": 72,
   "id": "a32a064b",
   "metadata": {},
   "outputs": [
    {
     "name": "stdout",
     "output_type": "stream",
     "text": [
      "Numbers\t Cube\n",
      "1 \t 1\n",
      "2 \t 8\n",
      "3 \t 27\n",
      "4 \t 64\n",
      "5 \t 125\n"
     ]
    }
   ],
   "source": [
    "# Python program to print first 5 numbers and their cubes using while loop.\n",
    "num = 1\n",
    "print(\"Numbers\\t Cube\")\n",
    "while(num <= 5):\n",
    "    print(num,\"\\t\", num ** 3)\n",
    "    num = num + 1"
   ]
  },
  {
   "cell_type": "code",
   "execution_count": 73,
   "id": "89a6590c",
   "metadata": {},
   "outputs": [
    {
     "name": "stdout",
     "output_type": "stream",
     "text": [
      "55\n"
     ]
    }
   ],
   "source": [
    "# Python program to print sum of first 10 Natural numbers using while loop.\n",
    "num = 10\n",
    "sum = 0\n",
    "\n",
    "while num >= 1:\n",
    "    sum = sum + num\n",
    "    num= num - 1\n",
    "    \n",
    "print(sum)"
   ]
  },
  {
   "cell_type": "markdown",
   "id": "a962f70d",
   "metadata": {},
   "source": [
    "### Guess game:"
   ]
  },
  {
   "cell_type": "code",
   "execution_count": 74,
   "id": "4288e822",
   "metadata": {},
   "outputs": [
    {
     "name": "stdout",
     "output_type": "stream",
     "text": [
      "Guess: 4\n",
      "Guess: 4\n",
      "Guess: 1\n"
     ]
    }
   ],
   "source": [
    "secret_number = 9\n",
    "guess_count = 0\n",
    "guess_limit = 3\n",
    "\n",
    "while guess_count < guess_limit:\n",
    "    guess = int(input(\"Guess: \"))\n",
    "    guess_count += 1\n",
    "    if guess == secret_number:\n",
    "        print(\"You win!\")\n",
    "    "
   ]
  },
  {
   "cell_type": "markdown",
   "id": "403a539f",
   "metadata": {},
   "source": [
    "#### Loop Control Statements\n",
    "- Loop control statements change execution from its normal sequence. \n",
    "- When execution leaves a scope, all automatic objects that were created in that scope are destroyed.\n",
    "\n",
    "Python supports the following control statements. \n",
    "\n",
    "##### break statement\n",
    "- Terminates the loop statement and transfers execution to the statement immediately following the loop.\n",
    "\n",
    "##### continue statement\n",
    "- Causes the loop to skip the remainder of its body and immediately retest its condition prior to reiterating.\n",
    "\n",
    "##### pass statement\n",
    "- The pass statement in Python is used when a statement is required syntactically but we do not want any command or code to execute."
   ]
  },
  {
   "cell_type": "code",
   "execution_count": 75,
   "id": "d6a283dd",
   "metadata": {},
   "outputs": [
    {
     "name": "stdout",
     "output_type": "stream",
     "text": [
      "Guess: 2\n",
      "Guess: 3\n",
      "Guess: 4\n"
     ]
    }
   ],
   "source": [
    "secret_number = 9\n",
    "guess_count = 0\n",
    "guess_limit = 3\n",
    "\n",
    "while guess_count < guess_limit:\n",
    "    guess = int(input(\"Guess: \"))\n",
    "    guess_count += 1\n",
    "    if guess == secret_number:\n",
    "        print(\"You win!\")\n",
    "        break"
   ]
  },
  {
   "cell_type": "code",
   "execution_count": 76,
   "id": "d6aeb938",
   "metadata": {},
   "outputs": [
    {
     "name": "stdout",
     "output_type": "stream",
     "text": [
      "Guess: 1\n",
      "Guess: 2\n",
      "Guess: 3\n",
      "Sorry, you have exceeded your limit\n"
     ]
    }
   ],
   "source": [
    "secret_number = 9\n",
    "guess_count = 0\n",
    "guess_limit = 3\n",
    "\n",
    "while guess_count < guess_limit:\n",
    "    guess = int(input(\"Guess: \"))\n",
    "    guess_count += 1\n",
    "    if guess == secret_number:\n",
    "        print(\"Congratualtions, You won!\")\n",
    "        break\n",
    "else:\n",
    "    print(\"Sorry, you have exceeded your limit\")"
   ]
  },
  {
   "cell_type": "code",
   "execution_count": 77,
   "id": "baad8e2b",
   "metadata": {},
   "outputs": [
    {
     "name": "stdout",
     "output_type": "stream",
     "text": [
      "> 4\n",
      "sorry, we don't understand that\n",
      "> 3\n",
      "sorry, we don't understand that\n",
      "> 9\n",
      "sorry, we don't understand that\n",
      "> 3\n",
      "sorry, we don't understand that\n",
      "> help\n",
      " \n",
      "        start - start the engine\n",
      "        stop - stop the engine\n",
      "        quit - quit the game\n",
      "        \n",
      "> quit\n",
      "sorry, we don't understand that\n"
     ]
    }
   ],
   "source": [
    "command = \"\"\n",
    "\n",
    "while command.lower() != 'quit':\n",
    "    command = input(\"> \")\n",
    "    if command.lower() == 'start':\n",
    "        print('engine started...')\n",
    "    elif command.lower() == 'stop':\n",
    "        print('engine stopped....')\n",
    "    elif command.lower() == 'help':\n",
    "        print(\"\"\" \n",
    "        start - start the engine\n",
    "        stop - stop the engine\n",
    "        quit - quit the game\n",
    "        \"\"\")\n",
    "    else:\n",
    "        print(\"sorry, we don't understand that\")   \n",
    "    "
   ]
  },
  {
   "cell_type": "code",
   "execution_count": 78,
   "id": "ac9bb834",
   "metadata": {},
   "outputs": [
    {
     "name": "stdout",
     "output_type": "stream",
     "text": [
      "> quit\n"
     ]
    }
   ],
   "source": [
    "command = \"\"\n",
    "\n",
    "while command.lower() != 'quit':\n",
    "    command = input(\"> \")\n",
    "    if command.lower() == 'start':\n",
    "        print('engine started...')\n",
    "    elif command.lower() == 'stop':\n",
    "        print('engine stopped....')\n",
    "    elif command.lower() == 'help':\n",
    "        print(\"\"\" \n",
    "        start - start the engine\n",
    "        stop - stop the engine\n",
    "        quit - quit the game\n",
    "        \"\"\")\n",
    "    elif command == 'quit':\n",
    "        break\n",
    "    else:\n",
    "        print(\"sorry, we don't understand that\")"
   ]
  },
  {
   "cell_type": "code",
   "execution_count": 79,
   "id": "c1d90dd6",
   "metadata": {},
   "outputs": [
    {
     "name": "stdout",
     "output_type": "stream",
     "text": [
      "> 2\n",
      "sorry, we don't understand that\n",
      "> start\n",
      "engine started...\n",
      "> stop\n",
      "engine stopped.\n",
      "> quit\n"
     ]
    }
   ],
   "source": [
    "# simplified\n",
    "command = \"\"\n",
    "\n",
    "while True:\n",
    "    command = input(\"> \").lower()\n",
    "    if command == 'start':\n",
    "        print('engine started...')\n",
    "    elif command == 'stop':\n",
    "        print('engine stopped.')\n",
    "    elif command == 'help':\n",
    "        print(\"\"\" \n",
    "        start - start the engine\n",
    "        stop - stop the engine\n",
    "        quit - quit the game\n",
    "        \"\"\")\n",
    "    elif command == 'quit':\n",
    "        break\n",
    "    else:\n",
    "        print(\"sorry, we don't understand that\")"
   ]
  },
  {
   "cell_type": "code",
   "execution_count": 80,
   "id": "e821f1d2",
   "metadata": {},
   "outputs": [
    {
     "name": "stdout",
     "output_type": "stream",
     "text": [
      "> help\n",
      " \n",
      "start - start the engine\n",
      "stop - stop the engine\n",
      "quit - quit the game\n",
      "        \n",
      "> quit\n"
     ]
    }
   ],
   "source": [
    "# simplified\n",
    "command = \"\"\n",
    "started = False\n",
    "\n",
    "while True:\n",
    "    command = input(\"> \").lower()\n",
    "    if command == 'start':\n",
    "        if started:\n",
    "            print(\"Engine already started!\")\n",
    "        else:\n",
    "            started= True\n",
    "            print('engine started...')\n",
    "    elif command == 'stop':\n",
    "        if not started:\n",
    "            print(\"engine already stopped\")\n",
    "        else:\n",
    "            started = False\n",
    "            print('engine stopped.')\n",
    "    elif command == 'help':\n",
    "        print(\"\"\" \n",
    "start - start the engine\n",
    "stop - stop the engine\n",
    "quit - quit the game\n",
    "        \"\"\")\n",
    "    elif command == 'quit':\n",
    "        break\n",
    "    else:\n",
    "        print(\"sorry, we don't understand that\")"
   ]
  },
  {
   "cell_type": "code",
   "execution_count": 81,
   "id": "65a413c6",
   "metadata": {},
   "outputs": [
    {
     "name": "stdout",
     "output_type": "stream",
     "text": [
      "Given list: [10, 20, 30, 40, 10]\n",
      "result is True\n",
      "Given list: [75, 65, 35, 75, 30]\n",
      "result is False\n"
     ]
    }
   ],
   "source": [
    "# function to return True if the first and last number of a given list is same. \n",
    "# If numbers are different then return False\n",
    "\n",
    "def first_last_same(numberList):\n",
    "    print(\"Given list:\", numberList)\n",
    "    \n",
    "    first_num = numberList[0]\n",
    "    last_num = numberList[-1]\n",
    "    \n",
    "    if first_num == last_num:\n",
    "        return True\n",
    "    else:\n",
    "        return False\n",
    "\n",
    "x = [10, 20, 30, 40, 10]\n",
    "print(\"result is\", first_last_same(x))\n",
    "\n",
    "y = [75, 65, 35, 75, 30]\n",
    "print(\"result is\", first_last_same(y))"
   ]
  },
  {
   "cell_type": "code",
   "execution_count": 82,
   "id": "5d0ad706",
   "metadata": {},
   "outputs": [
    {
     "name": "stdout",
     "output_type": "stream",
     "text": [
      "P\n",
      "y\n",
      "t\n",
      "h\n",
      "o\n",
      "n\n"
     ]
    }
   ],
   "source": [
    "# for loop\n",
    "for letter in \"Python\":\n",
    "    print(letter)"
   ]
  },
  {
   "cell_type": "code",
   "execution_count": 83,
   "id": "2fa68c43",
   "metadata": {},
   "outputs": [
    {
     "name": "stdout",
     "output_type": "stream",
     "text": [
      "Vishal\n",
      "Renuka\n",
      "Mily\n"
     ]
    }
   ],
   "source": [
    "# for loop\n",
    "for name in ['Vishal', 'Renuka', 'Mily']: # list\n",
    "    print(name)"
   ]
  },
  {
   "cell_type": "code",
   "execution_count": 84,
   "id": "c1155b01",
   "metadata": {},
   "outputs": [
    {
     "name": "stdout",
     "output_type": "stream",
     "text": [
      "1\n",
      "2\n",
      "3\n",
      "4\n",
      "5\n"
     ]
    }
   ],
   "source": [
    "for number in [1,2,3,4,5]: # list\n",
    "    print(number)"
   ]
  },
  {
   "cell_type": "code",
   "execution_count": 85,
   "id": "e39bc9d7",
   "metadata": {},
   "outputs": [
    {
     "name": "stdout",
     "output_type": "stream",
     "text": [
      "0\n",
      "1\n",
      "2\n",
      "3\n",
      "4\n",
      "5\n",
      "6\n",
      "7\n",
      "8\n",
      "9\n"
     ]
    }
   ],
   "source": [
    "for number in range(10): # range function\n",
    "    print(number)"
   ]
  },
  {
   "cell_type": "code",
   "execution_count": 86,
   "id": "4ca69d5f",
   "metadata": {},
   "outputs": [
    {
     "name": "stdout",
     "output_type": "stream",
     "text": [
      "5\n",
      "6\n",
      "7\n",
      "8\n",
      "9\n"
     ]
    }
   ],
   "source": [
    "for number in range(5, 10): # range function\n",
    "    print(number)"
   ]
  },
  {
   "cell_type": "code",
   "execution_count": 87,
   "id": "2cd69377",
   "metadata": {},
   "outputs": [
    {
     "name": "stdout",
     "output_type": "stream",
     "text": [
      "5\n",
      "7\n",
      "9\n"
     ]
    }
   ],
   "source": [
    "for number in range(5, 10, 2): # range function with steps ( increment by 2 steps)\n",
    "    print(number)"
   ]
  },
  {
   "cell_type": "code",
   "execution_count": 88,
   "id": "90c40a76",
   "metadata": {},
   "outputs": [
    {
     "name": "stdout",
     "output_type": "stream",
     "text": [
      "Total: 75\n"
     ]
    }
   ],
   "source": [
    "prices = [15, 25, 35]\n",
    "total = 0\n",
    "\n",
    "for price in prices:\n",
    "    total += price # total = total + price\n",
    "    \n",
    "print(f\"Total: {total}\") # total cost of all items\n",
    "    "
   ]
  },
  {
   "cell_type": "code",
   "execution_count": 89,
   "id": "78f92b89",
   "metadata": {},
   "outputs": [
    {
     "name": "stdout",
     "output_type": "stream",
     "text": [
      "0 1 2 4 5 \n",
      "\n"
     ]
    }
   ],
   "source": [
    "# Print all the numbers from 0 to 6 except 3 and 6\n",
    "for x in range(6):\n",
    "    if (x == 3 or x == 6):\n",
    "        continue\n",
    "    print(x, end = ' ')\n",
    "\n",
    "print(\"\\n\")"
   ]
  },
  {
   "cell_type": "code",
   "execution_count": 90,
   "id": "b90349d5",
   "metadata": {},
   "outputs": [
    {
     "name": "stdout",
     "output_type": "stream",
     "text": [
      "Number of even numbers : 5\n",
      "Number of odd numbers : 5\n"
     ]
    }
   ],
   "source": [
    "numbers = (10, 11, 12, 13, 14, 15, 16, 17, 18, 19) # Declaring the tuple\n",
    "\n",
    "count_odd = 0\n",
    "count_even = 0\n",
    "\n",
    "for x in numbers:\n",
    "        if not x % 2:\n",
    "             count_even += 1\n",
    "        else:\n",
    "             count_odd += 1\n",
    "\n",
    "print(\"Number of even numbers :\", count_even)\n",
    "print(\"Number of odd numbers :\", count_odd)"
   ]
  },
  {
   "cell_type": "code",
   "execution_count": 91,
   "id": "cf066161",
   "metadata": {},
   "outputs": [
    {
     "name": "stdout",
     "output_type": "stream",
     "text": [
      "1 is an odd number\n",
      "3 is an odd number\n",
      "11 is an odd number\n",
      "33 is an odd number\n"
     ]
    }
   ],
   "source": [
    "# printing only the odd numbers\n",
    "\n",
    "number = 33\n",
    "for i in range(1, number + 1):\n",
    "    if number % i == 0:\n",
    "        if i % 2 == 0:\n",
    "            print(str(i), 'is an even number')\n",
    "        else:\n",
    "            print(str(i), 'is an odd number')\n",
    "    else:\n",
    "        continue"
   ]
  },
  {
   "cell_type": "code",
   "execution_count": 92,
   "id": "cdeea4e0",
   "metadata": {},
   "outputs": [
    {
     "name": "stdout",
     "output_type": "stream",
     "text": [
      "1 3 5 7 9 11 13 15 17 19 21 23 25 27 29 31 33 "
     ]
    }
   ],
   "source": [
    "# printing only the odd numbers\n",
    "\n",
    "start = int(1)\n",
    "end = int(33)\n",
    " \n",
    "# iterating each number in list\n",
    "for num in range(start, end + 1):\n",
    "     \n",
    "    # checking condition\n",
    "    if num % 2 != 0:\n",
    "        print(num, end = \" \")"
   ]
  },
  {
   "cell_type": "code",
   "execution_count": 93,
   "id": "a445bca3",
   "metadata": {},
   "outputs": [
    {
     "name": "stdout",
     "output_type": "stream",
     "text": [
      "2 4 6 8 10 12 14 16 18 20 22 24 26 28 30 32 "
     ]
    }
   ],
   "source": [
    "# printing only the even numbers\n",
    "\n",
    "start = int(1)\n",
    "end = int(33)\n",
    " \n",
    "# iterating each number in list\n",
    "for num in range(start, end + 1):\n",
    "     \n",
    "    # checking condition\n",
    "    if num % 2 == 0:\n",
    "        print(num, end = \" \")"
   ]
  },
  {
   "cell_type": "code",
   "execution_count": 94,
   "id": "1d31a1ba",
   "metadata": {},
   "outputs": [
    {
     "name": "stdout",
     "output_type": "stream",
     "text": [
      "Printing current and previous number and their sum in a range(10)\n",
      "Current Number 1 Previous Number  0  Sum:  1\n",
      "Current Number 2 Previous Number  1  Sum:  3\n",
      "Current Number 3 Previous Number  2  Sum:  5\n",
      "Current Number 4 Previous Number  3  Sum:  7\n",
      "Current Number 5 Previous Number  4  Sum:  9\n",
      "Current Number 6 Previous Number  5  Sum:  11\n",
      "Current Number 7 Previous Number  6  Sum:  13\n",
      "Current Number 8 Previous Number  7  Sum:  15\n",
      "Current Number 9 Previous Number  8  Sum:  17\n",
      "Current Number 10 Previous Number  9  Sum:  19\n"
     ]
    }
   ],
   "source": [
    "print(\"Printing current and previous number and their sum in a range(10)\")\n",
    "previous_num = 0\n",
    "\n",
    "# loop from 1 to 10\n",
    "for i in range(1, 11):\n",
    "    x_sum = previous_num + i\n",
    "    print(\"Current Number\", i, \"Previous Number \", previous_num, \" Sum: \", previous_num + i)\n",
    "    # modify previous number\n",
    "    # set it to the current number\n",
    "    previous_num = i"
   ]
  },
  {
   "cell_type": "markdown",
   "id": "c236f5ea",
   "metadata": {},
   "source": [
    "##### Nested loop"
   ]
  },
  {
   "cell_type": "code",
   "execution_count": 95,
   "id": "3ef6abdc",
   "metadata": {},
   "outputs": [
    {
     "name": "stdout",
     "output_type": "stream",
     "text": [
      "(0, 0)\n",
      "(0, 1)\n",
      "(0, 2)\n",
      "(1, 0)\n",
      "(1, 1)\n",
      "(1, 2)\n",
      "(2, 0)\n",
      "(2, 1)\n",
      "(2, 2)\n",
      "(3, 0)\n",
      "(3, 1)\n",
      "(3, 2)\n"
     ]
    }
   ],
   "source": [
    "for x in range(4):\n",
    "    for y in range(3):\n",
    "        print(f'({x}, {y})') # coordinates"
   ]
  },
  {
   "cell_type": "raw",
   "id": "802327eb",
   "metadata": {},
   "source": [
    "numbers = [5, 2, 5, 2, 2]\n",
    "\n",
    "XXXXX\n",
    "XX\n",
    "XXXXX\n",
    "XX\n",
    "XX"
   ]
  },
  {
   "cell_type": "code",
   "execution_count": 96,
   "id": "aec0e9b5",
   "metadata": {},
   "outputs": [
    {
     "name": "stdout",
     "output_type": "stream",
     "text": [
      "xxxxx\n",
      "xx\n",
      "xxxxx\n",
      "xx\n",
      "xx\n"
     ]
    }
   ],
   "source": [
    "# generate an inner loop to contan all x's as shown above\n",
    "numbers = [5, 2, 5, 2, 2]\n",
    "# for x_count in numbers:\n",
    "#     print('x' * x_count)\n",
    "\n",
    "for x_count in numbers:\n",
    "    output = \"\"\n",
    "    for count in range(x_count):\n",
    "        output += 'x'\n",
    "    print(output)\n",
    "        "
   ]
  },
  {
   "cell_type": "markdown",
   "id": "f267df6b",
   "metadata": {},
   "source": [
    "##### Python program to construct the following pattern, using a nested for loop.\n",
    "\n",
    "    o \n",
    "    o o \n",
    "    o o o \n",
    "    o o o o \n",
    "    o o o o o \n",
    "    o o o o \n",
    "    o o o \n",
    "    o o \n",
    "    o"
   ]
  },
  {
   "cell_type": "code",
   "execution_count": 97,
   "id": "801361e5",
   "metadata": {},
   "outputs": [
    {
     "name": "stdout",
     "output_type": "stream",
     "text": [
      "\n",
      "o \n",
      "o o \n",
      "o o o \n",
      "o o o o \n",
      "o o o o o \n",
      "o o o o \n",
      "o o o \n",
      "o o \n",
      "o \n"
     ]
    }
   ],
   "source": [
    "n = 5;\n",
    "for i in range(n):\n",
    "    for j in range(i):\n",
    "        print ('o ', end = \"\")\n",
    "    print('')\n",
    "\n",
    "for i in range(n, 0, -1):\n",
    "    for j in range(i):\n",
    "        print('o ', end = \"\")\n",
    "    print('')"
   ]
  },
  {
   "cell_type": "code",
   "execution_count": 98,
   "id": "96b6931d",
   "metadata": {},
   "outputs": [
    {
     "name": "stdout",
     "output_type": "stream",
     "text": [
      "Enter number 1\n",
      "\n",
      "\n",
      "Sum is:  1\n"
     ]
    }
   ],
   "source": [
    "# Calculate the sum of all numbers from 1 to a given number\n",
    "\n",
    "# s: store sum of all numbers\n",
    "store = 0\n",
    "num = int(input(\"Enter number \"))\n",
    "\n",
    "# run loop n times\n",
    "# stop: n+1 (because range never include stop number in result)\n",
    "\n",
    "for i in range(1, num + 1, 1):\n",
    "    \n",
    "    # add current number to sum variable\n",
    "    store += i\n",
    "\n",
    "print(\"\\n\")\n",
    "print(\"Sum is: \", store)"
   ]
  },
  {
   "cell_type": "code",
   "execution_count": 99,
   "id": "66a24834",
   "metadata": {},
   "outputs": [
    {
     "name": "stdout",
     "output_type": "stream",
     "text": [
      "Enter number 2\n"
     ]
    },
    {
     "ename": "TypeError",
     "evalue": "'int' object is not callable",
     "output_type": "error",
     "traceback": [
      "\u001b[1;31m---------------------------------------------------------------------------\u001b[0m",
      "\u001b[1;31mTypeError\u001b[0m                                 Traceback (most recent call last)",
      "Input \u001b[1;32mIn [99]\u001b[0m, in \u001b[0;36m<cell line: 3>\u001b[1;34m()\u001b[0m\n\u001b[0;32m      1\u001b[0m num \u001b[38;5;241m=\u001b[39m \u001b[38;5;28mint\u001b[39m(\u001b[38;5;28minput\u001b[39m(\u001b[38;5;124m\"\u001b[39m\u001b[38;5;124mEnter number \u001b[39m\u001b[38;5;124m\"\u001b[39m))\n\u001b[0;32m      2\u001b[0m \u001b[38;5;66;03m# pass range of numbers to sum() function\u001b[39;00m\n\u001b[1;32m----> 3\u001b[0m x \u001b[38;5;241m=\u001b[39m \u001b[38;5;28;43msum\u001b[39;49m\u001b[43m(\u001b[49m\u001b[38;5;28;43mrange\u001b[39;49m\u001b[43m(\u001b[49m\u001b[38;5;241;43m1\u001b[39;49m\u001b[43m,\u001b[49m\u001b[43m \u001b[49m\u001b[43mnum\u001b[49m\u001b[43m \u001b[49m\u001b[38;5;241;43m+\u001b[39;49m\u001b[43m \u001b[49m\u001b[38;5;241;43m1\u001b[39;49m\u001b[43m)\u001b[49m\u001b[43m)\u001b[49m\n\u001b[0;32m      4\u001b[0m \u001b[38;5;28mprint\u001b[39m(\u001b[38;5;124m'\u001b[39m\u001b[38;5;124mSum is:\u001b[39m\u001b[38;5;124m'\u001b[39m, x)\n",
      "\u001b[1;31mTypeError\u001b[0m: 'int' object is not callable"
     ]
    }
   ],
   "source": [
    "num = int(input(\"Enter number \"))\n",
    "# pass range of numbers to sum() function\n",
    "x = sum(range(1, num + 1))\n",
    "print('Sum is:', x)"
   ]
  },
  {
   "cell_type": "markdown",
   "id": "e742a6e1",
   "metadata": {},
   "source": [
    "#### Print the following pattern\n",
    "\n",
    "    5 4 3 2 1 \n",
    "    4 3 2 1 \n",
    "    3 2 1 \n",
    "    2 1 \n",
    "    1"
   ]
  },
  {
   "cell_type": "code",
   "execution_count": null,
   "id": "451b7db9",
   "metadata": {},
   "outputs": [],
   "source": [
    "n = 5\n",
    "k = 5\n",
    "for i in range(0, n+1):\n",
    "    for j in range(k-i, 0, -1):\n",
    "        print(j, end = ' ')\n",
    "    print()"
   ]
  },
  {
   "cell_type": "markdown",
   "id": "e4a2e7fc",
   "metadata": {},
   "source": [
    "##### Use else block to display a message \"Done\" after successful execution of for loop"
   ]
  },
  {
   "cell_type": "code",
   "execution_count": null,
   "id": "6eb4ed8e",
   "metadata": {},
   "outputs": [],
   "source": [
    "for i in range(5):\n",
    "    print(i)\n",
    "else:\n",
    "    print(\"Done!\")"
   ]
  },
  {
   "cell_type": "markdown",
   "id": "f2600b13",
   "metadata": {},
   "source": [
    "### Calculate income tax for the given income by adhering to the below rules\n",
    "    \n",
    "    Taxable Income\tRate (in %)\n",
    "    - First $ 10,000\t0\n",
    "   - Next  $ 10,000\t10\n",
    "    - The remaining\t20\n",
    "\n",
    "Expected Output:\n",
    "\n",
    "For example, suppose the taxable income is 50000 the income tax payable is\n",
    "\n",
    "10000 * 0% + 10000 * 10%  + 30000 * 20% = $ 7000."
   ]
  },
  {
   "cell_type": "code",
   "execution_count": null,
   "id": "d0322a07",
   "metadata": {},
   "outputs": [],
   "source": [
    "income = 50000\n",
    "tax_payable = 0\n",
    "print(\"Total income\", income)\n",
    "\n",
    "if income <= 10000:\n",
    "    tax_payable = 0\n",
    "elif income <= 20000:\n",
    "    # no tax on first 10,000\n",
    "    x = income - 10000\n",
    "    # 10% tax\n",
    "    tax_payable = x * 10 / 100\n",
    "else:\n",
    "    # first 10,000\n",
    "    tax_payable = 0\n",
    "\n",
    "    # next 10,000 10% tax\n",
    "    tax_payable = 10000 * 10 / 100\n",
    "\n",
    "    # remaining 20%tax\n",
    "    tax_payable += (income - 20000) * 20 / 100\n",
    "\n",
    "print(\"Total tax to pay is\", tax_payable)"
   ]
  },
  {
   "cell_type": "markdown",
   "id": "d67b67d6",
   "metadata": {},
   "source": [
    "##### Below program find factors of given number and find whether the factor is even or odd"
   ]
  },
  {
   "cell_type": "code",
   "execution_count": null,
   "id": "ffcbd9d6",
   "metadata": {},
   "outputs": [],
   "source": [
    "number = 2352\n",
    "\n",
    "for i in range(1, number):\n",
    "    if number % i == 0:\n",
    "        if i % 2 == 0:\n",
    "            print(\"The factor\", str(i), \"is even\")\n",
    "        else:\n",
    "            print(\"The factor\", str(i), \"is odd\")\n",
    "    else:\n",
    "        continue"
   ]
  },
  {
   "cell_type": "markdown",
   "id": "47155416",
   "metadata": {},
   "source": [
    "##### below program will find all the numbers between 500 and 2500 (both included) such that each digit of a number is an even number. The numbers obtained will be printed in a tab separated sequence on a single line. "
   ]
  },
  {
   "cell_type": "code",
   "execution_count": null,
   "id": "f59f638a",
   "metadata": {},
   "outputs": [],
   "source": [
    "for num in range(500, 2500):\n",
    "    if all (int(n) % 2 == 0 for n in str(num)):\n",
    "        print((num), \"/\", end=\" \")\n",
    "    else:\n",
    "        continue       "
   ]
  },
  {
   "cell_type": "code",
   "execution_count": null,
   "id": "11de3137",
   "metadata": {},
   "outputs": [],
   "source": [
    "# code to find the given number is Palindrome number or not\n",
    "number = input(\"Enter a number:\")\n",
    "\n",
    "newList = list(number)\n",
    "print(\"The original list is:\", newList)\n",
    "newList.reverse()\n",
    "print(\"The reversed list is:\", newList)\n",
    "\n",
    "if list(number) == newList:\n",
    "    print(\"The number is a Palindrome.\")\n",
    "else:\n",
    "    print(\"The number is not a Palindrome.\")"
   ]
  },
  {
   "cell_type": "code",
   "execution_count": 1,
   "id": "e943a8aa",
   "metadata": {},
   "outputs": [
    {
     "name": "stdout",
     "output_type": "stream",
     "text": [
      "The sorted words are:\n",
      "am\n",
      "hi,\n",
      "i\n",
      "oprah\n",
      "winfrey\n"
     ]
    }
   ],
   "source": [
    "# Program to sort alphabetically the words form a string \n",
    "\n",
    "string = \"Hi, I am Oprah Winfrey\"\n",
    "\n",
    "# To take input from the user\n",
    "# string = input(\"Enter a string: \")\n",
    "\n",
    "# breakdown the string into a list of words\n",
    "words = [word.lower() for word in string.split()]\n",
    "\n",
    "# sort the list\n",
    "words.sort()\n",
    "\n",
    "# display the sorted words\n",
    "\n",
    "print(\"The sorted words are:\")\n",
    "for word in words:\n",
    "    print(word)\n"
   ]
  },
  {
   "cell_type": "code",
   "execution_count": 2,
   "id": "710df9e2",
   "metadata": {},
   "outputs": [
    {
     "name": "stdout",
     "output_type": "stream",
     "text": [
      "first number of the range: 5\n",
      "second number of the range: 7\n",
      "[4, 5, 6, 7, 8, 9]\n"
     ]
    }
   ],
   "source": [
    "scores = [5, 7, 4, 6, 9, 8]\n",
    "print('first number of the range: 5')\n",
    "print('second number of the range: 7')\n",
    "scores.sort()\n",
    "\n",
    "print(scores)"
   ]
  },
  {
   "cell_type": "code",
   "execution_count": 4,
   "id": "bca39459",
   "metadata": {},
   "outputs": [
    {
     "name": "stdout",
     "output_type": "stream",
     "text": [
      "Enter a number: 5\n",
      "This is an odd number.\n"
     ]
    }
   ],
   "source": [
    "# Check even or odd number\n",
    "\n",
    "number = int(input(\"Enter a number: \"))\n",
    "module = number % 2\n",
    "if module > 0:\n",
    "    print(\"This is an odd number.\")\n",
    "else:\n",
    "    print(\"This is an even number.\")\n",
    "\t"
   ]
  },
  {
   "cell_type": "code",
   "execution_count": 5,
   "id": "74bfe49e",
   "metadata": {},
   "outputs": [
    {
     "name": "stdout",
     "output_type": "stream",
     "text": [
      "2000 | 2002 | 2004 | 2006 | 2008 | 2020 | 2022 | 2024 | 2026 | 2028 | 2040 | 2042 | 2044 | 2046 | 2048 | 2060 | 2062 | 2064 | 2066 | 2068 | 2080 | 2082 | 2084 | 2086 | 2088 | 2200 | 2202 | 2204 | 2206 | 2208 | 2220 | 2222 | 2224 | 2226 | 2228 | 2240 | 2242 | 2244 | 2246 | 2248 | 2260 | 2262 | 2264 | 2266 | 2268 | 2280 | 2282 | 2284 | 2286 | 2288 | 2400 | 2402 | 2404 | 2406 | 2408 | 2420 | 2422 | 2424 | 2426 | 2428 | 2440 | 2442 | 2444 | 2446 | 2448 | 2460 | 2462 | 2464 | 2466 | 2468 | 2480 | 2482 | 2484 | 2486 | 2488 | 2600 | 2602 | 2604 | 2606 | 2608 | 2620 | 2622 | 2624 | 2626 | 2628 | 2640 | 2642 | 2644 | 2646 | 2648 | 2660 | 2662 | 2664 | 2666 | 2668 | 2680 | 2682 | 2684 | 2686 | 2688 | 2800 | 2802 | 2804 | 2806 | 2808 | 2820 | 2822 | 2824 | 2826 | 2828 | 2840 | 2842 | 2844 | 2846 | 2848 | 2860 | 2862 | 2864 | 2866 | 2868 | 2880 | 2882 | 2884 | 2886 | 2888 | "
     ]
    }
   ],
   "source": [
    "# Numbers between two numbers where each digit of a number is an even number and printed with | separated\n",
    "for num in range(2000, 4000):\n",
    "    if all (int(n) % 2 == 0 for n in str(num)):\n",
    "        print((num), \"|\", end=\" \")\n",
    "    else:\n",
    "        continue   "
   ]
  },
  {
   "cell_type": "code",
   "execution_count": 6,
   "id": "c222d736",
   "metadata": {},
   "outputs": [
    {
     "name": "stdout",
     "output_type": "stream",
     "text": [
      "200,202,204,206,208,220,222,224,226,228,240,242,244,246,248,260,262,264,266,268,280,282,284,286,288,400\n"
     ]
    }
   ],
   "source": [
    "# comma separated\n",
    "items = []\n",
    "for i in range(100, 401):\n",
    "    s = str(i)\n",
    "    if (int(s[0]) % 2 == 0) and (int(s[1]) % 2 == 0) and (int(s[2]) % 2 == 0):\n",
    "        items.append(s)\n",
    "print( \",\".join(items))"
   ]
  },
  {
   "cell_type": "code",
   "execution_count": null,
   "id": "a331d331",
   "metadata": {},
   "outputs": [],
   "source": []
  }
 ],
 "metadata": {
  "kernelspec": {
   "display_name": "Python 3 (ipykernel)",
   "language": "python",
   "name": "python3"
  },
  "language_info": {
   "codemirror_mode": {
    "name": "ipython",
    "version": 3
   },
   "file_extension": ".py",
   "mimetype": "text/x-python",
   "name": "python",
   "nbconvert_exporter": "python",
   "pygments_lexer": "ipython3",
   "version": "3.9.7"
  }
 },
 "nbformat": 4,
 "nbformat_minor": 5
}
