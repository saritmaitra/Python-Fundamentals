{
 "cells": [
  {
   "cell_type": "code",
   "execution_count": 1,
   "id": "9e1174af",
   "metadata": {},
   "outputs": [],
   "source": [
    "print('*' * 60)"
   ]
  },
  {
   "cell_type": "code",
   "execution_count": 27,
   "id": "44f170e2",
   "metadata": {},
   "outputs": [
    {
     "name": "stdout",
     "output_type": "stream",
     "text": [
      " O____~\n",
      "  ||||\n"
     ]
    }
   ],
   "source": [
    "print(\" O____~\")\n",
    "print(\"  ||||\")"
   ]
  },
  {
   "cell_type": "code",
   "execution_count": 14,
   "id": "0a44033c",
   "metadata": {},
   "outputs": [
    {
     "name": "stdout",
     "output_type": "stream",
     "text": [
      "My name is Zara and weight is 21 kg!\n"
     ]
    }
   ],
   "source": [
    "print(\"My name is %s and weight is %d kg!\" % ('Zara', 21))"
   ]
  },
  {
   "cell_type": "code",
   "execution_count": 2,
   "id": "5c908c7e",
   "metadata": {},
   "outputs": [],
   "source": [
    "name = input(\"what is your name? \")\n",
    "print('Hi ' + name)"
   ]
  },
  {
   "cell_type": "code",
   "execution_count": 3,
   "id": "7f01806f",
   "metadata": {},
   "outputs": [],
   "source": [
    "name = input(\"what is your name? \")\n",
    "favourite_colour = input('what is your favourite colour? ')\n",
    "print(name + ' likes ' + favourite_colour)"
   ]
  },
  {
   "cell_type": "code",
   "execution_count": 4,
   "id": "32177a30",
   "metadata": {},
   "outputs": [],
   "source": [
    "from datetime import date\n",
    "\n",
    "today = date.today()\n",
    "print(\"Today's date:\", today)"
   ]
  },
  {
   "cell_type": "code",
   "execution_count": 5,
   "id": "373714d7",
   "metadata": {},
   "outputs": [],
   "source": [
    "from datetime import datetime\n",
    " \n",
    "now = datetime.now()\n",
    "\n",
    "current_time = now.strftime(\"%H:%M:%S\") # format the value using the strftime() method to fetch only the time information\n",
    "\n",
    "print(\"Current Time is :\", current_time)"
   ]
  },
  {
   "cell_type": "code",
   "execution_count": 6,
   "id": "a941ee72",
   "metadata": {},
   "outputs": [],
   "source": [
    "time = now.strftime(\"%H:%M %p\") \n",
    "\n",
    "print(\"Current Time is :\", time)"
   ]
  },
  {
   "cell_type": "code",
   "execution_count": 7,
   "id": "8b2d8d82",
   "metadata": {},
   "outputs": [],
   "source": [
    "# importing date class from datetime module\n",
    "from datetime import date\n",
    "  \n",
    "# creating the date object of today's date\n",
    "todays_date = date.today()\n",
    "  \n",
    "# printing todays date\n",
    "print(\"Current date: \", todays_date)\n",
    "\n",
    "# fetching the current year, month and day of today\n",
    "print(\"Current year:\", todays_date.year)\n",
    "print(\"Current month:\", todays_date.month)\n",
    "print(\"Current day:\", todays_date.day)"
   ]
  },
  {
   "cell_type": "code",
   "execution_count": 8,
   "id": "f9fe62c3",
   "metadata": {},
   "outputs": [],
   "source": [
    "birth_year = int(input('Birth year: '))\n",
    "print(type(birth_year))\n",
    "age = todays_date.year - birth_year\n",
    "print(age)\n",
    "print(type(age))"
   ]
  },
  {
   "cell_type": "code",
   "execution_count": 9,
   "id": "299a9eb6",
   "metadata": {},
   "outputs": [],
   "source": [
    "# 1 Pound = 0.453592 Kilograms\n",
    "# or 1 lb = 0.453592 Kg\n",
    "\n",
    "pounds = float(input(\"Enter weight in Pounds to comvert to kilograms: \"))\n",
    "kgs = pounds * 0.453592\n",
    "\n",
    "print(\"The weight in kgs is\", round(kgs,3))"
   ]
  },
  {
   "cell_type": "code",
   "execution_count": 10,
   "id": "292342b9",
   "metadata": {},
   "outputs": [],
   "source": [
    "# signle quote & double quote\n",
    "name = 'my name is sarit' # signle quote\n",
    "print(name)\n",
    "print(name[0]) # index\n",
    "print(name[-1])# negative index\n",
    "print(name[0:4])\n",
    "print(name[0:])\n",
    "uni = \"Alliance university\" # double quote\n",
    "print(uni)"
   ]
  },
  {
   "cell_type": "code",
   "execution_count": 11,
   "id": "473f3c2c",
   "metadata": {},
   "outputs": [],
   "source": [
    "variable = \"Bidisha's favourite colour is pink\"\n",
    "print(variable)"
   ]
  },
  {
   "cell_type": "code",
   "execution_count": 12,
   "id": "7b7ef640",
   "metadata": {},
   "outputs": [],
   "source": [
    "variable = 'Bidisha loves \"Ice-cream\"'\n",
    "print(variable)"
   ]
  },
  {
   "cell_type": "code",
   "execution_count": 13,
   "id": "7f5523de",
   "metadata": {},
   "outputs": [],
   "source": [
    "quote = '''I need to create a python function named poundsToMetric which converts weights given \n",
    "in pounds to kilograms and grams.\n",
    "for example rather than print out 2.2 kilograms the correct answer would be 2 kilograms and 200 grams'''\n",
    "print(quote)"
   ]
  },
  {
   "cell_type": "code",
   "execution_count": 14,
   "id": "00b0c9cf",
   "metadata": {},
   "outputs": [],
   "source": [
    "# formatted string\n",
    "first_name = \"Rahul\"\n",
    "last_name = \"Singh\"\n",
    "\n",
    "# our target is to write a code to print \"Rahul [Singh] is my friend\"\n",
    "\n",
    "message = first_name + ' [' + last_name + '] is my friend'\n",
    "print(message)\n",
    "\n",
    "msg = f'{first_name} [{last_name}] is my friend'\n",
    "print(msg)"
   ]
  },
  {
   "cell_type": "code",
   "execution_count": 15,
   "id": "4b20defd",
   "metadata": {},
   "outputs": [],
   "source": [
    "section = \"fundamentals of python program\"\n",
    "print(len(section))"
   ]
  },
  {
   "cell_type": "code",
   "execution_count": 16,
   "id": "53fe2d3f",
   "metadata": {},
   "outputs": [],
   "source": [
    "print(section.upper()) # upper case method\n",
    "print(section.lower())"
   ]
  },
  {
   "cell_type": "code",
   "execution_count": 17,
   "id": "3bab498c",
   "metadata": {},
   "outputs": [],
   "source": [
    "print(section.find('u'))"
   ]
  },
  {
   "cell_type": "code",
   "execution_count": 18,
   "id": "8870e3f8",
   "metadata": {},
   "outputs": [],
   "source": [
    "print(section.replace('program', 'programming'))"
   ]
  },
  {
   "cell_type": "code",
   "execution_count": 19,
   "id": "b7b890f7",
   "metadata": {},
   "outputs": [
    {
     "ename": "NameError",
     "evalue": "name 'section' is not defined",
     "output_type": "error",
     "traceback": [
      "\u001b[1;31m---------------------------------------------------------------------------\u001b[0m",
      "\u001b[1;31mNameError\u001b[0m                                 Traceback (most recent call last)",
      "Input \u001b[1;32mIn [19]\u001b[0m, in \u001b[0;36m<cell line: 1>\u001b[1;34m()\u001b[0m\n\u001b[1;32m----> 1\u001b[0m \u001b[38;5;124m'\u001b[39m\u001b[38;5;124mpython\u001b[39m\u001b[38;5;124m'\u001b[39m \u001b[38;5;129;01min\u001b[39;00m \u001b[43msection\u001b[49m\n",
      "\u001b[1;31mNameError\u001b[0m: name 'section' is not defined"
     ]
    }
   ],
   "source": [
    "'python' in section"
   ]
  },
  {
   "cell_type": "code",
   "execution_count": null,
   "id": "bb56352d",
   "metadata": {},
   "outputs": [],
   "source": [
    "# round function\n",
    "x = 3.8\n",
    "print(round(x))"
   ]
  },
  {
   "cell_type": "code",
   "execution_count": null,
   "id": "72408608",
   "metadata": {},
   "outputs": [],
   "source": [
    "# abs function returns always a positive value\n",
    "print(abs(-3.9))"
   ]
  },
  {
   "cell_type": "markdown",
   "id": "107dc582",
   "metadata": {},
   "source": [
    "##### Function & Returns \n",
    "1.      abs(x)\n",
    "- The absolute value of x: the (positive) distance between x and zero.\n",
    "\n",
    "2.\t    ceil(x)\n",
    "- The ceiling of x: the smallest integer not less than x\n",
    "\n",
    "3.  \tcmp(x, y)\n",
    "- -1 if x < y, 0 if x == y, or 1 if x > y\n",
    "\n",
    "4.  \texp(x)\n",
    "- The exponential of x: ex\n",
    "\n",
    "5.  \tfabs(x)\n",
    "- The absolute value of x.\n",
    "\n",
    "6.  \tfloor(x)\n",
    "- The floor of x: the largest integer not greater than x\n",
    "\n",
    "7.  \tlog(x)\n",
    "- The natural logarithm of x, for x> 0\n",
    "\n",
    "8.  \tlog10(x)\n",
    "- The base-10 logarithm of x for x> 0.\n",
    "\n",
    "9.  \tmax(x1, x2,...)\n",
    "- The largest of its arguments: the value closest to positive infinity\n",
    "\n",
    "10. \tmin(x1, x2,...)\n",
    "- The smallest of its arguments: the value closest to negative infinity\n",
    "\n",
    "11. \tmodf(x)\n",
    "- The fractional and integer parts of x in a two-item tuple. Both parts have the same sign as x. The integer part is returned as a float.\n",
    "\n",
    "12. \tpow(x, y)\n",
    "- The value of x**y.\n",
    "\n",
    "13. \tround(x [,n])\n",
    "- x rounded to n digits from the decimal point. Python rounds away from zero as a tie-breaker: round(0.5) is 1.0 and round(-0.5) is -1.0.\n",
    "\n",
    "14. \tsqrt(x)\n",
    "- The square root of x for x > 0"
   ]
  },
  {
   "cell_type": "code",
   "execution_count": null,
   "id": "6ffcf4e1",
   "metadata": {},
   "outputs": [],
   "source": [
    "import math # import math module\n",
    "print(math.ceil(4.7))"
   ]
  },
  {
   "cell_type": "code",
   "execution_count": null,
   "id": "99ae6b4d",
   "metadata": {},
   "outputs": [],
   "source": [
    "print(math.floor(4.6))"
   ]
  },
  {
   "cell_type": "markdown",
   "id": "b8485ee0",
   "metadata": {},
   "source": [
    "https://docs.python.org/3/library/math.html"
   ]
  },
  {
   "cell_type": "markdown",
   "id": "eef60c8e",
   "metadata": {},
   "source": [
    "Python programming language provides following types of decision making statements.\n",
    "##### if statements\n",
    "- An if statement consists of a boolean expression followed by one or more statements.\n",
    "\n",
    "##### if...else statements\n",
    "- An if statement can be followed by an optional else statement, which executes when the boolean expression is FALSE.\n",
    "\n",
    "##### nested if statements\n",
    "- We can use one if or else if statement inside another if or else if statement(s)."
   ]
  },
  {
   "cell_type": "code",
   "execution_count": null,
   "id": "5d4c05c8",
   "metadata": {},
   "outputs": [],
   "source": [
    "is_hot = True\n",
    "\n",
    "if is_hot:\n",
    "    print(\"It's a hot humid day\")\n",
    "    print('Drink lemonade')\n",
    "    \n",
    "else:\n",
    "    print(\"It's cold\")\n",
    "    print(\"wear sweater & jackets\")\n",
    "print('Have a lovely day!')"
   ]
  },
  {
   "cell_type": "code",
   "execution_count": null,
   "id": "e3e2b9d6",
   "metadata": {},
   "outputs": [],
   "source": [
    "is_hot = False\n",
    "is_cold = True\n",
    "\n",
    "if is_hot:\n",
    "    print(\"It's a hot humid day\")\n",
    "    print('Drink lemonade')\n",
    "    \n",
    "elif is_cold:\n",
    "    print(\"It's cold winter\")\n",
    "    print(\"wear warm clothes\")\n",
    "else:\n",
    "    print(\"It's a lovely day!\")\n",
    "    \n",
    "print('Have a great day ahead!')"
   ]
  },
  {
   "cell_type": "markdown",
   "id": "99995796",
   "metadata": {},
   "source": [
    "- Price of an apartment is 1000000.00. \n",
    "- If I have a good credit rating, I need to pay 10% downpayment, alternately 30% down payment.\n",
    "- we will write a program with this rule to display buyer with good credit."
   ]
  },
  {
   "cell_type": "code",
   "execution_count": null,
   "id": "1ffc4bde",
   "metadata": {},
   "outputs": [],
   "source": [
    "apartment_price = 1000000\n",
    "has_good_credit = True\n",
    "\n",
    "if has_good_credit:\n",
    "    down_payment = apartment_price * 0.1\n",
    "\n",
    "else:\n",
    "    down_payment = apartment_price * 0.3\n",
    "    \n",
    "print(f\"Down Payment: Rs.{down_payment}\")"
   ]
  },
  {
   "cell_type": "markdown",
   "id": "170b0cb2",
   "metadata": {},
   "source": [
    "#### logical AND/OR/NOT operator\n",
    "- If someone has high income AND good credit rating, he/she is eligible for loan\n",
    "- If someone has high income OR good credit rating, he/she is eligible for loan\n",
    "- If someone has high income AND NOT criminal record, he/she is eligible for loan"
   ]
  },
  {
   "cell_type": "code",
   "execution_count": null,
   "id": "fa957479",
   "metadata": {},
   "outputs": [],
   "source": [
    "has_high_income = True\n",
    "has_good_credit = True\n",
    "\n",
    "if has_high_income and has_good_credit:\n",
    "    print('Eligible for loan')\n",
    "    "
   ]
  },
  {
   "cell_type": "code",
   "execution_count": null,
   "id": "4c814de9",
   "metadata": {},
   "outputs": [],
   "source": [
    "has_high_income = True\n",
    "has_good_credit = True\n",
    "\n",
    "if has_high_income or has_good_credit:\n",
    "    print('Eligible for loan')\n",
    "    "
   ]
  },
  {
   "cell_type": "code",
   "execution_count": null,
   "id": "f8af9b9b",
   "metadata": {},
   "outputs": [],
   "source": [
    "has_high_income = True\n",
    "has_criminal_record = False\n",
    "\n",
    "if has_high_income and not has_criminal_record:\n",
    "    print('Eligible for loan')\n",
    "    "
   ]
  },
  {
   "cell_type": "markdown",
   "id": "03172935",
   "metadata": {},
   "source": [
    "If day's temperature greater than 30 deg cel, it's a hot day, if less than 15 deg cel, it's a cold day, alternately it's neither cold nor hot."
   ]
  },
  {
   "cell_type": "code",
   "execution_count": null,
   "id": "ebd78b3f",
   "metadata": {},
   "outputs": [],
   "source": [
    "temp = 30\n",
    "\n",
    "if temp > 30: # ==, !=, \n",
    "    print(\"It's a hot day\")\n",
    "else:\n",
    "    print(\"It's not a hot day\")"
   ]
  },
  {
   "cell_type": "markdown",
   "id": "2b341ed8",
   "metadata": {},
   "source": [
    "If name is less than 3 charecters long\n",
    "- validation error (name must be at-least 3 characters)\n",
    "\n",
    "otherwise  if it's more than 50 charecters long\n",
    "- validation error(name can be a maximum of 50 characters)\n",
    "\n",
    "otherwsie\n",
    "- name looks good!"
   ]
  },
  {
   "cell_type": "code",
   "execution_count": null,
   "id": "736d9af5",
   "metadata": {},
   "outputs": [],
   "source": [
    "name = 'Vinay'\n",
    "\n",
    "if len(name) < 3:\n",
    "    print('name must be at-least 3 characters')\n",
    "elif len(name) > 50:\n",
    "    print('name must be a maximum of 50 characters')\n",
    "else:\n",
    "    print('name looks good!')\n",
    "    "
   ]
  },
  {
   "cell_type": "code",
   "execution_count": null,
   "id": "94a9a7c5",
   "metadata": {},
   "outputs": [],
   "source": [
    "weight = int(input(\"weight: \"))\n",
    "unit = input('(L)bs or (K)g: ')\n",
    "if unit.upper() == \"L\":\n",
    "    converted_weight = weight * 0.45\n",
    "    print(f\"you are {converted_weight} kilos\")\n",
    "else:\n",
    "    converted_weight = weight / 0.45\n",
    "    print(f\"you are {converted_weight} pounds\") \n",
    "    "
   ]
  },
  {
   "cell_type": "markdown",
   "id": "3fa13a01",
   "metadata": {},
   "source": [
    "In general, statements are executed sequentially: \n",
    "- The first statement in a function is executed first, \n",
    "- followed by the second, and so on. \n",
    "- There may be a situation when we need to execute a block of code several number of times.\n",
    "\n",
    "Programming languages provide various control structures that allow for more complicated execution paths.\n",
    "\n",
    "A loop statement allows us to execute a statement or group of statements multiple times. \n",
    "\n",
    "##### while loop\n",
    "- Repeats a statement or group of statements while a given condition is TRUE. \n",
    "- It tests the condition before executing the loop body.\n",
    "\n",
    "##### for loop\n",
    "- Executes a sequence of statements multiple times and abbreviates the code that manages the loop variable.\n",
    "\n",
    "##### nested loops\n",
    "- We can use one or more loop inside any another while, for or do..while loop."
   ]
  },
  {
   "cell_type": "code",
   "execution_count": null,
   "id": "7abebd6f",
   "metadata": {},
   "outputs": [],
   "source": [
    "# while loop\n",
    "index = 1\n",
    "while index <= 5:\n",
    "    print(index)\n",
    "    index = index + 1\n",
    "print(\"complete\")"
   ]
  },
  {
   "cell_type": "code",
   "execution_count": null,
   "id": "c9377fd8",
   "metadata": {},
   "outputs": [],
   "source": [
    "# while loop\n",
    "index = 1\n",
    "while index <= 5:\n",
    "    print(\"*\" * index)\n",
    "    index = index + 1\n",
    "print(\"complete\")"
   ]
  },
  {
   "cell_type": "markdown",
   "id": "a962f70d",
   "metadata": {},
   "source": [
    "### Guess game:"
   ]
  },
  {
   "cell_type": "code",
   "execution_count": null,
   "id": "4288e822",
   "metadata": {},
   "outputs": [],
   "source": [
    "secret_number = 9\n",
    "guess_count = 0\n",
    "guess_limit = 3\n",
    "\n",
    "while guess_count < guess_limit:\n",
    "    guess = int(input(\"Guess: \"))\n",
    "    guess_count += 1\n",
    "    if guess == secret_number:\n",
    "        print(\"You win!\")\n",
    "    "
   ]
  },
  {
   "cell_type": "markdown",
   "id": "403a539f",
   "metadata": {},
   "source": [
    "#### Loop Control Statements\n",
    "- Loop control statements change execution from its normal sequence. \n",
    "- When execution leaves a scope, all automatic objects that were created in that scope are destroyed.\n",
    "\n",
    "Python supports the following control statements. \n",
    "\n",
    "##### break statement\n",
    "- Terminates the loop statement and transfers execution to the statement immediately following the loop.\n",
    "\n",
    "##### continue statement\n",
    "- Causes the loop to skip the remainder of its body and immediately retest its condition prior to reiterating.\n",
    "\n",
    "##### pass statement\n",
    "- The pass statement in Python is used when a statement is required syntactically but we do not want any command or code to execute."
   ]
  },
  {
   "cell_type": "code",
   "execution_count": null,
   "id": "d6a283dd",
   "metadata": {},
   "outputs": [],
   "source": [
    "secret_number = 9\n",
    "guess_count = 0\n",
    "guess_limit = 3\n",
    "\n",
    "while guess_count < guess_limit:\n",
    "    guess = int(input(\"Guess: \"))\n",
    "    guess_count += 1\n",
    "    if guess == secret_number:\n",
    "        print(\"You win!\")\n",
    "        break"
   ]
  },
  {
   "cell_type": "code",
   "execution_count": null,
   "id": "d6aeb938",
   "metadata": {},
   "outputs": [],
   "source": [
    "secret_number = 9\n",
    "guess_count = 0\n",
    "guess_limit = 3\n",
    "\n",
    "while guess_count < guess_limit:\n",
    "    guess = int(input(\"Guess: \"))\n",
    "    guess_count += 1\n",
    "    if guess == secret_number:\n",
    "        print(\"Congratualtions, You won!\")\n",
    "        break\n",
    "else:\n",
    "    print(\"Sorry, you have exceeded your limit\")"
   ]
  },
  {
   "cell_type": "code",
   "execution_count": null,
   "id": "baad8e2b",
   "metadata": {},
   "outputs": [],
   "source": [
    "command = \"\"\n",
    "\n",
    "while command.lower() != 'quit':\n",
    "    command = input(\"> \")\n",
    "    if command.lower() == 'start':\n",
    "        print('engine started...')\n",
    "    elif command.lower() == 'stop':\n",
    "        print('engine stopped....')\n",
    "    elif command.lower() == 'help':\n",
    "        print(\"\"\" \n",
    "        start - start the engine\n",
    "        stop - stop the engine\n",
    "        quit - quit the game\n",
    "        \"\"\")\n",
    "    else:\n",
    "        print(\"sorry, we don't understand that\")   \n",
    "    "
   ]
  },
  {
   "cell_type": "code",
   "execution_count": null,
   "id": "ac9bb834",
   "metadata": {},
   "outputs": [],
   "source": [
    "command = \"\"\n",
    "\n",
    "while command.lower() != 'quit':\n",
    "    command = input(\"> \")\n",
    "    if command.lower() == 'start':\n",
    "        print('engine started...')\n",
    "    elif command.lower() == 'stop':\n",
    "        print('engine stopped....')\n",
    "    elif command.lower() == 'help':\n",
    "        print(\"\"\" \n",
    "        start - start the engine\n",
    "        stop - stop the engine\n",
    "        quit - quit the game\n",
    "        \"\"\")\n",
    "    elif command == 'quit':\n",
    "        break\n",
    "    else:\n",
    "        print(\"sorry, we don't understand that\")"
   ]
  },
  {
   "cell_type": "code",
   "execution_count": null,
   "id": "c1d90dd6",
   "metadata": {},
   "outputs": [],
   "source": [
    "# simplified\n",
    "command = \"\"\n",
    "\n",
    "while True:\n",
    "    command = input(\"> \").lower()\n",
    "    if command == 'start':\n",
    "        print('engine started...')\n",
    "    elif command == 'stop':\n",
    "        print('engine stopped.')\n",
    "    elif command == 'help':\n",
    "        print(\"\"\" \n",
    "        start - start the engine\n",
    "        stop - stop the engine\n",
    "        quit - quit the game\n",
    "        \"\"\")\n",
    "    elif command == 'quit':\n",
    "        break\n",
    "    else:\n",
    "        print(\"sorry, we don't understand that\")"
   ]
  },
  {
   "cell_type": "code",
   "execution_count": 3,
   "id": "e821f1d2",
   "metadata": {},
   "outputs": [
    {
     "name": "stdout",
     "output_type": "stream",
     "text": [
      "> stop\n",
      "engine already stopped\n",
      "> start\n",
      "engine started...\n",
      "> start\n",
      "Engine already started!\n",
      "> quit\n"
     ]
    }
   ],
   "source": [
    "# simplified\n",
    "command = \"\"\n",
    "started = False\n",
    "\n",
    "while True:\n",
    "    command = input(\"> \").lower()\n",
    "    if command == 'start':\n",
    "        if started:\n",
    "            print(\"Engine already started!\")\n",
    "        else:\n",
    "            started= True\n",
    "            print('engine started...')\n",
    "    elif command == 'stop':\n",
    "        if not started:\n",
    "            print(\"engine already stopped\")\n",
    "        else:\n",
    "            started = False\n",
    "            print('engine stopped.')\n",
    "    elif command == 'help':\n",
    "        print(\"\"\" \n",
    "start - start the engine\n",
    "stop - stop the engine\n",
    "quit - quit the game\n",
    "        \"\"\")\n",
    "    elif command == 'quit':\n",
    "        break\n",
    "    else:\n",
    "        print(\"sorry, we don't understand that\")"
   ]
  },
  {
   "cell_type": "code",
   "execution_count": 4,
   "id": "5d0ad706",
   "metadata": {},
   "outputs": [
    {
     "name": "stdout",
     "output_type": "stream",
     "text": [
      "P\n",
      "y\n",
      "t\n",
      "h\n",
      "o\n",
      "n\n"
     ]
    }
   ],
   "source": [
    "# for loop\n",
    "for letter in \"Python\":\n",
    "    print(letter)"
   ]
  },
  {
   "cell_type": "code",
   "execution_count": 5,
   "id": "2fa68c43",
   "metadata": {},
   "outputs": [
    {
     "name": "stdout",
     "output_type": "stream",
     "text": [
      "Vishal\n",
      "Renuka\n",
      "Mily\n"
     ]
    }
   ],
   "source": [
    "# for loop\n",
    "for name in ['Vishal', 'Renuka', 'Mily']: # list\n",
    "    print(name)"
   ]
  },
  {
   "cell_type": "code",
   "execution_count": 6,
   "id": "c1155b01",
   "metadata": {},
   "outputs": [
    {
     "name": "stdout",
     "output_type": "stream",
     "text": [
      "1\n",
      "2\n",
      "3\n",
      "4\n",
      "5\n"
     ]
    }
   ],
   "source": [
    "for number in [1,2,3,4,5]: # list\n",
    "    print(number)"
   ]
  },
  {
   "cell_type": "code",
   "execution_count": 7,
   "id": "e39bc9d7",
   "metadata": {},
   "outputs": [
    {
     "name": "stdout",
     "output_type": "stream",
     "text": [
      "0\n",
      "1\n",
      "2\n",
      "3\n",
      "4\n",
      "5\n",
      "6\n",
      "7\n",
      "8\n",
      "9\n"
     ]
    }
   ],
   "source": [
    "for number in range(10): # range function\n",
    "    print(number)"
   ]
  },
  {
   "cell_type": "code",
   "execution_count": 8,
   "id": "4ca69d5f",
   "metadata": {},
   "outputs": [
    {
     "name": "stdout",
     "output_type": "stream",
     "text": [
      "5\n",
      "6\n",
      "7\n",
      "8\n",
      "9\n"
     ]
    }
   ],
   "source": [
    "for number in range(5, 10): # range function\n",
    "    print(number)"
   ]
  },
  {
   "cell_type": "code",
   "execution_count": 9,
   "id": "2cd69377",
   "metadata": {},
   "outputs": [
    {
     "name": "stdout",
     "output_type": "stream",
     "text": [
      "5\n",
      "7\n",
      "9\n"
     ]
    }
   ],
   "source": [
    "for number in range(5, 10, 2): # range function with steps ( increment by 2 steps)\n",
    "    print(number)"
   ]
  },
  {
   "cell_type": "code",
   "execution_count": 11,
   "id": "90c40a76",
   "metadata": {},
   "outputs": [
    {
     "name": "stdout",
     "output_type": "stream",
     "text": [
      "Total: 75\n"
     ]
    }
   ],
   "source": [
    "prices = [15, 25, 35]\n",
    "total = 0\n",
    "\n",
    "for price in prices:\n",
    "    total += price # total = total + price\n",
    "    \n",
    "print(f\"Total: {total}\") # total cost of all items\n",
    "    "
   ]
  },
  {
   "cell_type": "markdown",
   "id": "c236f5ea",
   "metadata": {},
   "source": [
    "##### Nested loop"
   ]
  },
  {
   "cell_type": "code",
   "execution_count": 17,
   "id": "3ef6abdc",
   "metadata": {},
   "outputs": [
    {
     "name": "stdout",
     "output_type": "stream",
     "text": [
      "(0, 0)\n",
      "(0, 1)\n",
      "(0, 2)\n",
      "(1, 0)\n",
      "(1, 1)\n",
      "(1, 2)\n",
      "(2, 0)\n",
      "(2, 1)\n",
      "(2, 2)\n",
      "(3, 0)\n",
      "(3, 1)\n",
      "(3, 2)\n"
     ]
    }
   ],
   "source": [
    "for x in range(4):\n",
    "    for y in range(3):\n",
    "        print(f'({x}, {y})') # coordinates"
   ]
  },
  {
   "cell_type": "raw",
   "id": "802327eb",
   "metadata": {},
   "source": [
    "numbers = [5, 2, 5, 2, 2]\n",
    "\n",
    "XXXXX\n",
    "XX\n",
    "XXXXX\n",
    "XX\n",
    "XX"
   ]
  },
  {
   "cell_type": "code",
   "execution_count": 20,
   "id": "aec0e9b5",
   "metadata": {},
   "outputs": [
    {
     "name": "stdout",
     "output_type": "stream",
     "text": [
      "xxxxx\n",
      "xx\n",
      "xxxxx\n",
      "xx\n",
      "xx\n"
     ]
    }
   ],
   "source": [
    "# generate an inner loop to contan all x's as shown above\n",
    "numbers = [5, 2, 5, 2, 2]\n",
    "# for x_count in numbers:\n",
    "#     print('x' * x_count)\n",
    "\n",
    "for x_count in numbers:\n",
    "    output = \"\"\n",
    "    for count in range(x_count):\n",
    "        output += 'x'\n",
    "    print(output)\n",
    "        "
   ]
  },
  {
   "cell_type": "code",
   "execution_count": null,
   "id": "801361e5",
   "metadata": {},
   "outputs": [],
   "source": []
  }
 ],
 "metadata": {
  "kernelspec": {
   "display_name": "Python 3 (ipykernel)",
   "language": "python",
   "name": "python3"
  },
  "language_info": {
   "codemirror_mode": {
    "name": "ipython",
    "version": 3
   },
   "file_extension": ".py",
   "mimetype": "text/x-python",
   "name": "python",
   "nbconvert_exporter": "python",
   "pygments_lexer": "ipython3",
   "version": "3.9.7"
  }
 },
 "nbformat": 4,
 "nbformat_minor": 5
}
