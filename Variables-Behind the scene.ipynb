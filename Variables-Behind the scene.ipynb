{
 "cells": [
  {
   "cell_type": "markdown",
   "id": "a462a50f",
   "metadata": {},
   "source": [
    "### Python variables - behind the scenes\n",
    "We will now examine how Python stores objects in memory, and the link between variables and memory location. You might be wondering why you need to worry about this, but it is actually essential to understand this in order to make best use of Python's capabilities and avoid mistakes/bugs.\n",
    "\n",
    "#### Assignment and modification\n",
    "Consider the following two examples. First:"
   ]
  },
  {
   "cell_type": "code",
   "execution_count": 1,
   "id": "eb9f85f2",
   "metadata": {},
   "outputs": [
    {
     "name": "stdout",
     "output_type": "stream",
     "text": [
      "2 2\n"
     ]
    }
   ],
   "source": [
    "a = 2\n",
    "b = a\n",
    "print(a, b)"
   ]
  },
  {
   "cell_type": "code",
   "execution_count": 2,
   "id": "315e555b",
   "metadata": {},
   "outputs": [
    {
     "name": "stdout",
     "output_type": "stream",
     "text": [
      "4 2\n"
     ]
    }
   ],
   "source": [
    "a = 4\n",
    "print(a, b)"
   ]
  },
  {
   "cell_type": "markdown",
   "id": "ffba8a8b",
   "metadata": {},
   "source": [
    "This should hopefully make sense so far.\n",
    "\n",
    "Now consider the following example:"
   ]
  },
  {
   "cell_type": "code",
   "execution_count": 3,
   "id": "658da26f",
   "metadata": {},
   "outputs": [
    {
     "name": "stdout",
     "output_type": "stream",
     "text": [
      "[2, 3, 4, 5] [2, 3, 4, 5]\n"
     ]
    }
   ],
   "source": [
    "a = [2, 3, 4]\n",
    "b = a\n",
    "a.append(5)\n",
    "print(a, b)"
   ]
  },
  {
   "cell_type": "markdown",
   "id": "38ed3980",
   "metadata": {},
   "source": [
    "In this case, modifying a modified b too! This is not as intutitive... But if we do:"
   ]
  },
  {
   "cell_type": "code",
   "execution_count": 4,
   "id": "c9363ec1",
   "metadata": {},
   "outputs": [
    {
     "name": "stdout",
     "output_type": "stream",
     "text": [
      "9 [2, 3, 4, 5]\n"
     ]
    }
   ],
   "source": [
    "a = 9\n",
    "print(a, b)"
   ]
  },
  {
   "cell_type": "markdown",
   "id": "d6c7df5e",
   "metadata": {},
   "source": [
    "This time, changing a did not change b - what is happening?\n",
    "\n",
    "The key is to understand that doing:\n",
    "\n",
    "variable = something\n",
    "\n",
    "will change which object variable is pointing to in memory (assignment). On the other hand, when calling a method with:\n",
    "\n",
    "variable.method()\n",
    "\n",
    "some (but not all) methods will modify the variable in-place (more information below).\n",
    "\n",
    "Let's go over the examples above but this time with a graphical representation, where the yellow circles show the variables, and the blue rectangles show the objects in memory. If we do"
   ]
  },
  {
   "cell_type": "code",
   "execution_count": 5,
   "id": "f0aadb85",
   "metadata": {},
   "outputs": [],
   "source": [
    "a = 2\n",
    "b = a\n",
    "a = 4"
   ]
  },
  {
   "cell_type": "markdown",
   "id": "864fb4fa",
   "metadata": {},
   "source": [
    "- First, when doing a = 2 we create space in memory for the value 2 and we assign that location in memory to the variable a:\n",
    "- By doing b = a, we are now assigning the variable b to point at the same object as a:\n",
    "- And finally by doing a = 4 we re-assign a to point at a different place in memory (containing 4) but b still points at the same object (2):\n",
    "\n",
    "Now if we follow the same logic for the second example:"
   ]
  },
  {
   "cell_type": "code",
   "execution_count": 6,
   "id": "36eeeef6",
   "metadata": {},
   "outputs": [],
   "source": [
    "a = [2, 3, 4]\n",
    "b = a\n",
    "a.append(5)"
   ]
  },
  {
   "cell_type": "markdown",
   "id": "8a06ab56",
   "metadata": {},
   "source": [
    "- we again start off by creating space in memory for the list [2, 3, 4], then we point the variable a to that location.\n",
    "- By doing b = a, we then point b to the same location as a, so the list exists only once in memory (this is very important):\n",
    "- We now modify, in-place, the object that a is pointing to with a.append(5) - the concept of modifying the object is very important - we are not creating a new list, it is still in the same place in memory, even if it has one extra element now:\n",
    "- This means that since b is pointing to the same place in memory, it will also see a list with (now) four elements!\n",
    "- Then, if one does a = 9, then one is not modifying the list, but instead assigning a to point to a region in memory with the value 9:\n",
    "\n",
    "\n",
    "In order to talk about this behavior, we use the terms copying and referencing. When we do:\n",
    "\n",
    "variable = something\n",
    "\n",
    "then the value is actually created when writing something. The assignment merely creates a pointer (“reference” is just a fancy name for that) from a name to that value, and you could have more such names pointing to the same something.\n",
    "\n",
    "Another important point is that what is on the right hand side will get evaluated first, and will (conceptually) result in the creation of a new object unless the something is a reference already (in which case variable and something will just refer to the same value. In the following cases, something is a “literal” (i.e., the representation of a value in the source code), and a new value will be created:"
   ]
  },
  {
   "cell_type": "code",
   "execution_count": 7,
   "id": "49072ee7",
   "metadata": {},
   "outputs": [
    {
     "name": "stdout",
     "output_type": "stream",
     "text": [
      "2 3 6\n"
     ]
    }
   ],
   "source": [
    "a = 2\n",
    "b = a + 1\n",
    "c = b * 2\n",
    "print(a, b, c)"
   ]
  },
  {
   "cell_type": "markdown",
   "id": "ddbf7302",
   "metadata": {},
   "source": [
    "In the second assignment in the following, something is a reference, and hence no new object is being created:"
   ]
  },
  {
   "cell_type": "code",
   "execution_count": 8,
   "id": "ce16ccc3",
   "metadata": {},
   "outputs": [],
   "source": [
    "a = [2,3,4]\n",
    "b = a  # b points to the same object than a"
   ]
  },
  {
   "cell_type": "markdown",
   "id": "65b805c5",
   "metadata": {},
   "source": [
    "In case you're uncertain at some point, there's python's built-in id function that tells you the identity of its argument:"
   ]
  },
  {
   "cell_type": "code",
   "execution_count": 9,
   "id": "bfa99fad",
   "metadata": {},
   "outputs": [
    {
     "data": {
      "text/plain": [
       "(1693216192704, 1693216192704, 1693138446800)"
      ]
     },
     "execution_count": 9,
     "metadata": {},
     "output_type": "execute_result"
    }
   ],
   "source": [
    "id(a), id(b), id(c)"
   ]
  },
  {
   "cell_type": "markdown",
   "id": "76257119",
   "metadata": {},
   "source": [
    "### Copying\n",
    "In some cases, the behavior described above is not desirable, and we want to make a true copy, not just a reference, because we want to change b without changing a:"
   ]
  },
  {
   "cell_type": "code",
   "execution_count": 10,
   "id": "1132f5d7",
   "metadata": {},
   "outputs": [
    {
     "name": "stdout",
     "output_type": "stream",
     "text": [
      "[2, 3, 4, 5] [2, 3, 4]\n"
     ]
    }
   ],
   "source": [
    "from copy import deepcopy\n",
    "a = [2,3,4]\n",
    "b = deepcopy(a)\n",
    "a.append(5)\n",
    "print(a, b)"
   ]
  },
  {
   "cell_type": "markdown",
   "id": "4b8b36ad",
   "metadata": {},
   "source": [
    "The copy module contains a function copy, too. If you want to really understand what's going on, it will probably help to create a nested list (as in [range(2), range(3)]), copy that and manipulate the inner lists.\n",
    "\n",
    "Note that slicing (usually) creates a copy, too (careful with numpy arrays, though), which is why in quite a bit of source code you see slices when a copy is desired:"
   ]
  },
  {
   "cell_type": "code",
   "execution_count": 11,
   "id": "db7aa7da",
   "metadata": {},
   "outputs": [
    {
     "data": {
      "text/plain": [
       "(1693216038080, 1693216038608)"
      ]
     },
     "execution_count": 11,
     "metadata": {},
     "output_type": "execute_result"
    }
   ],
   "source": [
    "a = range(4)\n",
    "b = a[:]\n",
    "id(a), id(b)"
   ]
  },
  {
   "cell_type": "markdown",
   "id": "940639c3",
   "metadata": {},
   "source": [
    "### Methods\n",
    "As mentioned above, some methods modify object in-place:"
   ]
  },
  {
   "cell_type": "code",
   "execution_count": 12,
   "id": "31a10a98",
   "metadata": {},
   "outputs": [],
   "source": [
    "a = [1,2,3]\n",
    "a.append(5)  # modifies ``a``"
   ]
  },
  {
   "cell_type": "markdown",
   "id": "f2f238d9",
   "metadata": {},
   "source": [
    "and some will return a copy rather than modifying the object."
   ]
  },
  {
   "cell_type": "code",
   "execution_count": 13,
   "id": "0f086525",
   "metadata": {},
   "outputs": [
    {
     "data": {
      "text/plain": [
       "'HELLO'"
      ]
     },
     "execution_count": 13,
     "metadata": {},
     "output_type": "execute_result"
    }
   ],
   "source": [
    "s = 'hello'\n",
    "s.upper()  # returns a copy of the string in uppercase without modifying s"
   ]
  },
  {
   "cell_type": "markdown",
   "id": "d0d1f09d",
   "metadata": {},
   "source": [
    "It should be clear from the documentation (e.g. s.upper?) how a particular method behaves.\n",
    "\n",
    "### Mutable vs immutable objects\n",
    "Some objects are immutable, which means that they cannot be modified - examples include float, int, str. For instance, when doing:"
   ]
  },
  {
   "cell_type": "code",
   "execution_count": 14,
   "id": "8ed16416",
   "metadata": {},
   "outputs": [],
   "source": [
    "a = 1.\n",
    "a = 2. "
   ]
  },
  {
   "cell_type": "markdown",
   "id": "b87faaf2",
   "metadata": {},
   "source": [
    "In the second line, a new location in memory is created for 2., and a points at that object, not at 1. (in other words, the float is not being changed, it is a that is pointing to a different object).\n",
    "\n",
    "On the other hand, list, dict, and Numpy arrays are mutable, which means the object can be modified:"
   ]
  },
  {
   "cell_type": "code",
   "execution_count": 15,
   "id": "48b2f2db",
   "metadata": {},
   "outputs": [],
   "source": [
    "a = [1,2,3]\n",
    "a.append(5)"
   ]
  },
  {
   "cell_type": "markdown",
   "id": "ca7e0ac2",
   "metadata": {},
   "source": [
    "After the second line, a still points at the same list, but the list has now been modified.\n",
    "\n",
    "### Functions\n",
    "A final but important point is that when passing variables to functions, variables are passed as references, so:"
   ]
  },
  {
   "cell_type": "code",
   "execution_count": 17,
   "id": "e033fbb3",
   "metadata": {},
   "outputs": [
    {
     "name": "stdout",
     "output_type": "stream",
     "text": [
      "[1, 2, 1]\n"
     ]
    }
   ],
   "source": [
    "def do(x):\n",
    "    x.append(1)\n",
    "    \n",
    "a = [1,2]\n",
    "do(a)\n",
    "print(a)"
   ]
  },
  {
   "cell_type": "markdown",
   "id": "56bcc2fb",
   "metadata": {},
   "source": [
    "The following, however, just changes the value x in do references and thus has no effect outside of do"
   ]
  },
  {
   "cell_type": "code",
   "execution_count": 18,
   "id": "479e3b3e",
   "metadata": {},
   "outputs": [
    {
     "name": "stdout",
     "output_type": "stream",
     "text": [
      "[1, 2]\n"
     ]
    }
   ],
   "source": [
    "def do(x):\n",
    "    x = 0  # re-assigns x to 0, but only in the function\n",
    "\n",
    "a = [1,2]\n",
    "do(a)\n",
    "print(a)"
   ]
  },
  {
   "cell_type": "markdown",
   "id": "7f10fbed",
   "metadata": {},
   "source": [
    "### Copying and Referencing Numpy arrays\n",
    "With Numpy arrays, one has to be particularly careful with the copying/referencing distinction. With a few exceptions (and superficially contrary to the behaviour of almost all other python objects), most slicing/masking operations in Numpy indicate references, not copies, to the data:"
   ]
  },
  {
   "cell_type": "code",
   "execution_count": 19,
   "id": "4fea7ac3",
   "metadata": {},
   "outputs": [],
   "source": [
    "import numpy as np"
   ]
  },
  {
   "cell_type": "code",
   "execution_count": 20,
   "id": "7688df7e",
   "metadata": {},
   "outputs": [],
   "source": [
    "x = np.arange(10)\n",
    "y = x\n",
    "y[3] = 1"
   ]
  },
  {
   "cell_type": "code",
   "execution_count": 23,
   "id": "8e031285",
   "metadata": {},
   "outputs": [
    {
     "data": {
      "text/plain": [
       "array([0, 1, 2, 3, 4, 5, 1, 7, 8, 9])"
      ]
     },
     "execution_count": 23,
     "metadata": {},
     "output_type": "execute_result"
    }
   ],
   "source": [
    "x"
   ]
  },
  {
   "cell_type": "markdown",
   "id": "65089201",
   "metadata": {},
   "source": [
    "This is similar to lists, but now consider the following:"
   ]
  },
  {
   "cell_type": "code",
   "execution_count": 22,
   "id": "ba5c57f8",
   "metadata": {},
   "outputs": [],
   "source": [
    "x = np.arange(10)\n",
    "y = x[::2]\n",
    "y[3] = 1"
   ]
  },
  {
   "cell_type": "code",
   "execution_count": 24,
   "id": "be9a1711",
   "metadata": {},
   "outputs": [
    {
     "data": {
      "text/plain": [
       "array([0, 1, 2, 3, 4, 5, 1, 7, 8, 9])"
      ]
     },
     "execution_count": 24,
     "metadata": {},
     "output_type": "execute_result"
    }
   ],
   "source": [
    "x"
   ]
  },
  {
   "cell_type": "markdown",
   "id": "3ee4ee99",
   "metadata": {},
   "source": [
    "Even though we took a slice with a given start, end, and slice, the resulting array was still just a reference, or view, of the array in the original array! (note that for lists, x[::2] returns a copy!). This can be very handy when combined with masking:"
   ]
  },
  {
   "cell_type": "code",
   "execution_count": 25,
   "id": "7986cf35",
   "metadata": {},
   "outputs": [
    {
     "data": {
      "text/plain": [
       "array([0, 0, 0, 0, 0, 5, 6, 7, 8, 9])"
      ]
     },
     "execution_count": 25,
     "metadata": {},
     "output_type": "execute_result"
    }
   ],
   "source": [
    "x = np.arange(10)\n",
    "x[x < 5] = 0.\n",
    "x"
   ]
  },
  {
   "cell_type": "markdown",
   "id": "c21a78d1",
   "metadata": {},
   "source": [
    "There is one exception to the referencing, which is:"
   ]
  },
  {
   "cell_type": "code",
   "execution_count": 26,
   "id": "529a6e71",
   "metadata": {},
   "outputs": [
    {
     "data": {
      "text/plain": [
       "array([0, 1, 2, 3, 4, 5, 6, 7, 8, 9])"
      ]
     },
     "execution_count": 26,
     "metadata": {},
     "output_type": "execute_result"
    }
   ],
   "source": [
    "x = np.arange(10)\n",
    "y = x[[1,3,2,2]]  # returns a new array, not a view\n",
    "y[0] = 9\n",
    "x"
   ]
  },
  {
   "cell_type": "markdown",
   "id": "bbded52d",
   "metadata": {},
   "source": [
    "As before, you can explore this further to understand in what cases references or copies are made. However, be aware that the id of a view will be different from the original array, even though the view is actually pointing to a subset of the original array.\n",
    "\n",
    "In the case of Numpy arrays, one can force a copy by doing:"
   ]
  },
  {
   "cell_type": "code",
   "execution_count": 27,
   "id": "5179ffba",
   "metadata": {},
   "outputs": [],
   "source": [
    "x = np.arange(10)\n",
    "y = x.copy()\n",
    "y[0] = -1"
   ]
  },
  {
   "cell_type": "code",
   "execution_count": 28,
   "id": "7307af52",
   "metadata": {},
   "outputs": [
    {
     "data": {
      "text/plain": [
       "array([0, 1, 2, 3, 4, 5, 6, 7, 8, 9])"
      ]
     },
     "execution_count": 28,
     "metadata": {},
     "output_type": "execute_result"
    }
   ],
   "source": [
    "x"
   ]
  },
  {
   "cell_type": "code",
   "execution_count": 29,
   "id": "5f1f4fcd",
   "metadata": {},
   "outputs": [
    {
     "data": {
      "text/plain": [
       "array([-1,  1,  2,  3,  4,  5,  6,  7,  8,  9])"
      ]
     },
     "execution_count": 29,
     "metadata": {},
     "output_type": "execute_result"
    }
   ],
   "source": [
    "y"
   ]
  },
  {
   "cell_type": "markdown",
   "id": "73d04822",
   "metadata": {},
   "source": [
    "Before you start cursing the numpy authors because it might seem they were out to confuse you: They did this because very common operations become very fast in this way, and in practice that's much less of a trap than you may suspect.\n",
    "\n",
    "### Exercise\n",
    "The following questions are just to test your understanding of the variable assignment - you don't need to write any code - just try and think of what the output will be, then you can try it out to check if you got it right:\n",
    "\n",
    "What will a be after the following?\n"
   ]
  },
  {
   "cell_type": "code",
   "execution_count": 30,
   "id": "cd33bc90",
   "metadata": {},
   "outputs": [],
   "source": [
    "a = [1, 3., [1, 2, 3], 'hello']\n",
    "b = a[0]\n",
    "b = 4."
   ]
  },
  {
   "cell_type": "code",
   "execution_count": 31,
   "id": "2cb8e66d",
   "metadata": {},
   "outputs": [],
   "source": [
    "## What will c be after the following?\n",
    "\n",
    "c = [1, 3., [1, 2, 3], 'hello']\n",
    "d = c[2]\n",
    "d.append(8)"
   ]
  },
  {
   "cell_type": "code",
   "execution_count": 32,
   "id": "9ef54711",
   "metadata": {},
   "outputs": [],
   "source": [
    "# What will e be after the following?\n",
    "\n",
    "e = [1, 3., [1, 2, 3], 'hello']\n",
    "f = e[2]\n",
    "f = [1, 2]"
   ]
  },
  {
   "cell_type": "code",
   "execution_count": 34,
   "id": "350c525b",
   "metadata": {},
   "outputs": [],
   "source": [
    "# What will g be after the following?\n",
    "\n",
    "g = [1, 2, 3, 4]\n",
    "h = g[::2]\n",
    "h[0] = 9"
   ]
  },
  {
   "cell_type": "code",
   "execution_count": 35,
   "id": "e9f40c68",
   "metadata": {},
   "outputs": [],
   "source": [
    "# What will i be after the following?\n",
    "\n",
    "import numpy as np\n",
    "i = np.array([1, 2, 3, 4])\n",
    "j = i[::2]\n",
    "j[0] = 9"
   ]
  },
  {
   "cell_type": "code",
   "execution_count": null,
   "id": "cf9b7c1c",
   "metadata": {},
   "outputs": [],
   "source": []
  }
 ],
 "metadata": {
  "kernelspec": {
   "display_name": "Python 3 (ipykernel)",
   "language": "python",
   "name": "python3"
  },
  "language_info": {
   "codemirror_mode": {
    "name": "ipython",
    "version": 3
   },
   "file_extension": ".py",
   "mimetype": "text/x-python",
   "name": "python",
   "nbconvert_exporter": "python",
   "pygments_lexer": "ipython3",
   "version": "3.9.7"
  }
 },
 "nbformat": 4,
 "nbformat_minor": 5
}
