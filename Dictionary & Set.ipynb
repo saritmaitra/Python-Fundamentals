{
 "cells": [
  {
   "cell_type": "markdown",
   "id": "71d845a5",
   "metadata": {},
   "source": [
    "## Dictionary\n",
    "- Dictionary is a mutable data type in Python. \n",
    "- A python dictionary is a collection of key and value pairs separated by a colon (:), enclosed in curly braces {}.\n",
    "- Keys must be unique in dictionary, duplicate values are allowed.\n",
    "- A dictionary is said to be empty if it has no key value pairs. \n",
    "- An empty dictionary is denoted like this: {}.\n",
    "- The keys of dictionary must be of immutable data types such as String, numbers or tuples."
   ]
  },
  {
   "cell_type": "code",
   "execution_count": 1,
   "id": "d4dd5b47",
   "metadata": {},
   "outputs": [],
   "source": [
    "# Left side of the colon(:) is the key and right side of the : is the value.\n",
    "dict = {'StuName': 'Ajeet', 'StuAge': 19, 'StuCity': 'Kanpur'}"
   ]
  },
  {
   "cell_type": "markdown",
   "id": "5bcb930d",
   "metadata": {},
   "source": [
    "### Accessing dictionary values using keys in Python\n",
    "- To access a value we can can use the corresponding key in the square brackets as shown in the following example. \n",
    "- Dictionary name followed by square brackets and in the brackets we specify the key for which we want the value."
   ]
  },
  {
   "cell_type": "code",
   "execution_count": 2,
   "id": "a2a0c9d4",
   "metadata": {},
   "outputs": [
    {
     "name": "stdout",
     "output_type": "stream",
     "text": [
      "Student Age is: 19\n",
      "Student City is: Kanpur\n"
     ]
    }
   ],
   "source": [
    "dict = {'StuName': 'Ajeet', 'StuAge': 19, 'StuCity': 'Kanpur'}\n",
    "print(\"Student Age is:\", dict['StuAge'])\n",
    "print(\"Student City is:\", dict['StuCity'])"
   ]
  },
  {
   "cell_type": "markdown",
   "id": "840b7ed5",
   "metadata": {},
   "source": [
    "- If we specify a key which doesn’t exist in the dictionary then you will get a compilation error. \n",
    "- For example. Here we are trying to access the value for key ‘StuClass’ which does not exist in the dictionary mydict, thus we get a compilation error when we run this code."
   ]
  },
  {
   "cell_type": "code",
   "execution_count": 3,
   "id": "624a4658",
   "metadata": {},
   "outputs": [
    {
     "ename": "KeyError",
     "evalue": "'StuClass'",
     "output_type": "error",
     "traceback": [
      "\u001b[1;31m---------------------------------------------------------------------------\u001b[0m",
      "\u001b[1;31mKeyError\u001b[0m                                  Traceback (most recent call last)",
      "Input \u001b[1;32mIn [3]\u001b[0m, in \u001b[0;36m<cell line: 2>\u001b[1;34m()\u001b[0m\n\u001b[0;32m      1\u001b[0m \u001b[38;5;28mdict\u001b[39m \u001b[38;5;241m=\u001b[39m {\u001b[38;5;124m'\u001b[39m\u001b[38;5;124mStuName\u001b[39m\u001b[38;5;124m'\u001b[39m: \u001b[38;5;124m'\u001b[39m\u001b[38;5;124mAjeet\u001b[39m\u001b[38;5;124m'\u001b[39m, \u001b[38;5;124m'\u001b[39m\u001b[38;5;124mStuAge\u001b[39m\u001b[38;5;124m'\u001b[39m: \u001b[38;5;241m19\u001b[39m, \u001b[38;5;124m'\u001b[39m\u001b[38;5;124mStuCity\u001b[39m\u001b[38;5;124m'\u001b[39m: \u001b[38;5;124m'\u001b[39m\u001b[38;5;124mKanpur\u001b[39m\u001b[38;5;124m'\u001b[39m}\n\u001b[1;32m----> 2\u001b[0m \u001b[38;5;28mprint\u001b[39m(\u001b[38;5;124m\"\u001b[39m\u001b[38;5;124mStudent Age is:\u001b[39m\u001b[38;5;124m\"\u001b[39m, \u001b[38;5;28;43mdict\u001b[39;49m\u001b[43m[\u001b[49m\u001b[38;5;124;43m'\u001b[39;49m\u001b[38;5;124;43mStuClass\u001b[39;49m\u001b[38;5;124;43m'\u001b[39;49m\u001b[43m]\u001b[49m)\n\u001b[0;32m      3\u001b[0m \u001b[38;5;28mprint\u001b[39m(\u001b[38;5;124m\"\u001b[39m\u001b[38;5;124mStudent City is:\u001b[39m\u001b[38;5;124m\"\u001b[39m, \u001b[38;5;28mdict\u001b[39m[\u001b[38;5;124m'\u001b[39m\u001b[38;5;124mStuCity\u001b[39m\u001b[38;5;124m'\u001b[39m])\n",
      "\u001b[1;31mKeyError\u001b[0m: 'StuClass'"
     ]
    }
   ],
   "source": [
    "dict = {'StuName': 'Ajeet', 'StuAge': 19, 'StuCity': 'Kanpur'}\n",
    "print(\"Student Age is:\", dict['StuClass'])\n",
    "print(\"Student City is:\", dict['StuCity'])"
   ]
  },
  {
   "cell_type": "markdown",
   "id": "44cf1805",
   "metadata": {},
   "source": [
    "### Change values in Dictionary\n",
    "- Here we are updating the values for the existing key-value pairs. \n",
    "- To update a value in dictionary we are using the corresponding key."
   ]
  },
  {
   "cell_type": "code",
   "execution_count": 5,
   "id": "264f9924",
   "metadata": {},
   "outputs": [
    {
     "name": "stdout",
     "output_type": "stream",
     "text": [
      "Student Age before update is: 19\n",
      "Student City before update is: Kanpur\n",
      "Student Age after update is: 31\n",
      "Student City after update is: Noida\n"
     ]
    }
   ],
   "source": [
    "dict = {'StuName': 'Ajeet', 'StuAge': 19, 'StuCity': 'Kanpur'}\n",
    "print(\"Student Age before update is:\", dict['StuAge'])\n",
    "print(\"Student City before update is:\", dict['StuCity'])\n",
    "\n",
    "dict['StuAge'] = 31\n",
    "dict['StuCity'] = 'Noida'\n",
    "\n",
    "print(\"Student Age after update is:\", dict['StuAge'])\n",
    "print(\"Student City after update is:\", dict['StuCity'])"
   ]
  },
  {
   "cell_type": "markdown",
   "id": "398709fd",
   "metadata": {},
   "source": [
    "### Adding a new entry (key-value pair) in dictionary\n",
    "We can also add a new key-value pair in an existing dictionary. Lets take an example to understand this.\n",
    "\n"
   ]
  },
  {
   "cell_type": "code",
   "execution_count": 7,
   "id": "d01b5221",
   "metadata": {},
   "outputs": [
    {
     "name": "stdout",
     "output_type": "stream",
     "text": [
      "Student Name is: Steve\n",
      "Student Class is: Btech\n"
     ]
    }
   ],
   "source": [
    "dict = {'StuName': 'Steve', 'StuAge': 18, 'StuCity': 'Bangalore'}\n",
    "dict['StuClass'] = 'Btech'\n",
    "print(\"Student Name is:\", dict['StuName'])\n",
    "print(\"Student Class is:\", dict['StuClass'])"
   ]
  },
  {
   "cell_type": "markdown",
   "id": "3643af6f",
   "metadata": {},
   "source": [
    "### Loop through a dictionary\n",
    "We can loop through a dictionary as shown in the following example. Here we are using for loop."
   ]
  },
  {
   "cell_type": "code",
   "execution_count": 9,
   "id": "8695d0d7",
   "metadata": {},
   "outputs": [
    {
     "name": "stdout",
     "output_type": "stream",
     "text": [
      "Key: StuName Value: Naresh\n",
      "Key: StuAge Value: 21\n",
      "Key: StuCity Value: Chennai\n"
     ]
    }
   ],
   "source": [
    "dict = {'StuName': 'Naresh', 'StuAge': 21, 'StuCity': 'Chennai'}\n",
    "\n",
    "for e in dict:\n",
    "    print(\"Key:\",e,\"Value:\",dict[e])"
   ]
  },
  {
   "cell_type": "markdown",
   "id": "9038487e",
   "metadata": {},
   "source": [
    "### delete operation on dictionary\n",
    "- We can delete key-value pairs as well as entire dictionary in python. \n",
    "\n",
    "Lets take an example. As we can see we can use del following by dictionary name and in square brackets we can specify the key to delete the specified key value pair from dictionary.\n",
    "\n",
    "- To delete all the entries (all key-value pairs) from dictionary we can use the clear() method.\n",
    "- To delete entire dictionary along with all the data use del keyword followed by dictionary name as shown in the following example."
   ]
  },
  {
   "cell_type": "code",
   "execution_count": 10,
   "id": "7446da2d",
   "metadata": {},
   "outputs": [],
   "source": [
    "dict = {'StuName': 'Ramanuj', 'StuAge': 18, 'StuCity': 'Pondicherry'}\n",
    "del dict['StuCity']; # remove entry with key 'StuCity'\n",
    "dict.clear();        # remove all key-value pairs from mydict\n",
    "del dict ;           # delete entire dictionary mydict"
   ]
  },
  {
   "cell_type": "markdown",
   "id": "61320af6",
   "metadata": {},
   "source": [
    "## Python Sets\n",
    "- Set is an unordered and unindexed collection of items in Python. \n",
    "- Unordered means when we display the elements of a set, it will come out in a random order.\n",
    "- Unindexed means, we cannot access the elements of a set using the indexes like we can do in list and tuples.\n",
    "\n",
    "The elements of a set are defined inside curly brackets and are separated by commas. "
   ]
  },
  {
   "cell_type": "code",
   "execution_count": 12,
   "id": "521e6af6",
   "metadata": {},
   "outputs": [
    {
     "name": "stdout",
     "output_type": "stream",
     "text": [
      "{1, 2, 3, 4, 'hello'}\n"
     ]
    }
   ],
   "source": [
    "set = {1, 2, 3, 4, \"hello\"}\n",
    "print(set)"
   ]
  },
  {
   "cell_type": "markdown",
   "id": "35e1ff92",
   "metadata": {},
   "source": [
    "### Checking whether an item is in the set\n",
    "- We can check whether an item exists in Set or not using “in” operator as shown in the following example. \n",
    "- This returns the boolean value true or false. \n",
    "- If the item is in the given set then it returns true, else it returns false."
   ]
  },
  {
   "cell_type": "code",
   "execution_count": 14,
   "id": "69d9bdcc",
   "metadata": {},
   "outputs": [
    {
     "name": "stdout",
     "output_type": "stream",
     "text": [
      "True\n",
      "True\n",
      "False\n"
     ]
    }
   ],
   "source": [
    "# Set Example\n",
    "set = {\"hi\", 2, \"bye\", \"Hello World\"}\n",
    "\n",
    "# checking whether 2 is in myset\n",
    "print(2 in set)\n",
    "\n",
    "# checking whether \"hi\" is in myset\n",
    "print(\"hi\" in set)\n",
    "\n",
    "# checking whether \"BeginnersBook\" is in myset\n",
    "print(\"Fundamentals\" in set)"
   ]
  },
  {
   "cell_type": "markdown",
   "id": "00de2ae9",
   "metadata": {},
   "source": [
    "### Loop through the elements of a Set i\n",
    "- We can loop through the elements of a set in Python as shown in the following elements. \n",
    "- We can see in the output that the elements will appear in random order each time you run the code."
   ]
  },
  {
   "cell_type": "code",
   "execution_count": 15,
   "id": "0fbefacb",
   "metadata": {},
   "outputs": [
    {
     "name": "stdout",
     "output_type": "stream",
     "text": [
      "bye\n",
      "hi\n",
      "2\n",
      "Hello World\n"
     ]
    }
   ],
   "source": [
    "# Set Example\n",
    "set = {\"hi\", 2, \"bye\", \"Hello World\"}\n",
    "\n",
    "# loop through the elements of myset\n",
    "for a in set:\n",
    "    print(a)"
   ]
  },
  {
   "cell_type": "markdown",
   "id": "897ca00c",
   "metadata": {},
   "source": [
    "### Add or remove item from a Set\n",
    "- We can add an item in a Set using add() function and we can remove an item from a set using remove() function as shown in the following example."
   ]
  },
  {
   "cell_type": "code",
   "execution_count": 16,
   "id": "ab8835fe",
   "metadata": {},
   "outputs": [
    {
     "name": "stdout",
     "output_type": "stream",
     "text": [
      "Original Set: {'bye', 'hi', 2, 'Hello World'}\n",
      "Set after adding 99: {'hi', 99, 2, 'Hello World', 'bye'}\n",
      "Set after removing bye: {'hi', 99, 2, 'Hello World'}\n"
     ]
    }
   ],
   "source": [
    "# Set Example\n",
    "set = {\"hi\", 2, \"bye\", \"Hello World\"}\n",
    "print(\"Original Set:\", set)\n",
    "\n",
    "# adding an item\n",
    "set.add(99)\n",
    "print(\"Set after adding 99:\", set)\n",
    "\n",
    "# removing an item\n",
    "set.remove(\"bye\")\n",
    "print(\"Set after removing bye:\", set)"
   ]
  },
  {
   "cell_type": "code",
   "execution_count": null,
   "id": "e245f14f",
   "metadata": {},
   "outputs": [],
   "source": []
  }
 ],
 "metadata": {
  "kernelspec": {
   "display_name": "Python 3 (ipykernel)",
   "language": "python",
   "name": "python3"
  },
  "language_info": {
   "codemirror_mode": {
    "name": "ipython",
    "version": 3
   },
   "file_extension": ".py",
   "mimetype": "text/x-python",
   "name": "python",
   "nbconvert_exporter": "python",
   "pygments_lexer": "ipython3",
   "version": "3.9.7"
  }
 },
 "nbformat": 4,
 "nbformat_minor": 5
}
