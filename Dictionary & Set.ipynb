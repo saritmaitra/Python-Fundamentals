{
 "cells": [
  {
   "cell_type": "markdown",
   "id": "71d845a5",
   "metadata": {},
   "source": [
    "## Dictionary\n",
    "- Dictionary is a mutable data type in Python. \n",
    "- A python dictionary is a collection of key and value pairs separated by a colon (:), enclosed in curly braces {}.\n",
    "- Keys must be unique in dictionary, duplicate values are allowed.\n",
    "- A dictionary is said to be empty if it has no key value pairs. \n",
    "- An empty dictionary is denoted like this: {}.\n",
    "- The keys of dictionary must be of immutable data types such as String, numbers or tuples."
   ]
  },
  {
   "cell_type": "code",
   "execution_count": 1,
   "id": "d4dd5b47",
   "metadata": {},
   "outputs": [],
   "source": [
    "# Left side of the colon(:) is the key and right side of the : is the value.\n",
    "dict = {'StuName': 'Ajeet', 'StuAge': 19, 'StuCity': 'Kanpur'}"
   ]
  },
  {
   "cell_type": "markdown",
   "id": "5bcb930d",
   "metadata": {},
   "source": [
    "### Accessing dictionary values using keys in Python\n",
    "- To access a value we can can use the corresponding key in the square brackets as shown in the following example. \n",
    "- Dictionary name followed by square brackets and in the brackets we specify the key for which we want the value."
   ]
  },
  {
   "cell_type": "code",
   "execution_count": 2,
   "id": "a2a0c9d4",
   "metadata": {},
   "outputs": [
    {
     "name": "stdout",
     "output_type": "stream",
     "text": [
      "Student Age is: 19\n",
      "Student City is: Kanpur\n"
     ]
    }
   ],
   "source": [
    "dict = {'StuName': 'Ajeet', 'StuAge': 19, 'StuCity': 'Kanpur'}\n",
    "print(\"Student Age is:\", dict['StuAge'])\n",
    "print(\"Student City is:\", dict['StuCity'])"
   ]
  },
  {
   "cell_type": "markdown",
   "id": "840b7ed5",
   "metadata": {},
   "source": [
    "- If we specify a key which doesn’t exist in the dictionary then you will get a compilation error. \n",
    "- For example. Here we are trying to access the value for key ‘StuClass’ which does not exist in the dictionary mydict, thus we get a compilation error when we run this code."
   ]
  },
  {
   "cell_type": "code",
   "execution_count": 3,
   "id": "624a4658",
   "metadata": {},
   "outputs": [
    {
     "ename": "KeyError",
     "evalue": "'StuClass'",
     "output_type": "error",
     "traceback": [
      "\u001b[1;31m---------------------------------------------------------------------------\u001b[0m",
      "\u001b[1;31mKeyError\u001b[0m                                  Traceback (most recent call last)",
      "Input \u001b[1;32mIn [3]\u001b[0m, in \u001b[0;36m<cell line: 2>\u001b[1;34m()\u001b[0m\n\u001b[0;32m      1\u001b[0m \u001b[38;5;28mdict\u001b[39m \u001b[38;5;241m=\u001b[39m {\u001b[38;5;124m'\u001b[39m\u001b[38;5;124mStuName\u001b[39m\u001b[38;5;124m'\u001b[39m: \u001b[38;5;124m'\u001b[39m\u001b[38;5;124mAjeet\u001b[39m\u001b[38;5;124m'\u001b[39m, \u001b[38;5;124m'\u001b[39m\u001b[38;5;124mStuAge\u001b[39m\u001b[38;5;124m'\u001b[39m: \u001b[38;5;241m19\u001b[39m, \u001b[38;5;124m'\u001b[39m\u001b[38;5;124mStuCity\u001b[39m\u001b[38;5;124m'\u001b[39m: \u001b[38;5;124m'\u001b[39m\u001b[38;5;124mKanpur\u001b[39m\u001b[38;5;124m'\u001b[39m}\n\u001b[1;32m----> 2\u001b[0m \u001b[38;5;28mprint\u001b[39m(\u001b[38;5;124m\"\u001b[39m\u001b[38;5;124mStudent Age is:\u001b[39m\u001b[38;5;124m\"\u001b[39m, \u001b[38;5;28;43mdict\u001b[39;49m\u001b[43m[\u001b[49m\u001b[38;5;124;43m'\u001b[39;49m\u001b[38;5;124;43mStuClass\u001b[39;49m\u001b[38;5;124;43m'\u001b[39;49m\u001b[43m]\u001b[49m)\n\u001b[0;32m      3\u001b[0m \u001b[38;5;28mprint\u001b[39m(\u001b[38;5;124m\"\u001b[39m\u001b[38;5;124mStudent City is:\u001b[39m\u001b[38;5;124m\"\u001b[39m, \u001b[38;5;28mdict\u001b[39m[\u001b[38;5;124m'\u001b[39m\u001b[38;5;124mStuCity\u001b[39m\u001b[38;5;124m'\u001b[39m])\n",
      "\u001b[1;31mKeyError\u001b[0m: 'StuClass'"
     ]
    }
   ],
   "source": [
    "dict = {'StuName': 'Ajeet', 'StuAge': 19, 'StuCity': 'Kanpur'}\n",
    "print(\"Student Age is:\", dict['StuClass'])\n",
    "print(\"Student City is:\", dict['StuCity'])"
   ]
  },
  {
   "cell_type": "markdown",
   "id": "44cf1805",
   "metadata": {},
   "source": [
    "### Change values in Dictionary\n",
    "- Here we are updating the values for the existing key-value pairs. \n",
    "- To update a value in dictionary we are using the corresponding key."
   ]
  },
  {
   "cell_type": "code",
   "execution_count": 5,
   "id": "264f9924",
   "metadata": {},
   "outputs": [
    {
     "name": "stdout",
     "output_type": "stream",
     "text": [
      "Student Age before update is: 19\n",
      "Student City before update is: Kanpur\n",
      "Student Age after update is: 31\n",
      "Student City after update is: Noida\n"
     ]
    }
   ],
   "source": [
    "dict = {'StuName': 'Ajeet', 'StuAge': 19, 'StuCity': 'Kanpur'}\n",
    "print(\"Student Age before update is:\", dict['StuAge'])\n",
    "print(\"Student City before update is:\", dict['StuCity'])\n",
    "\n",
    "dict['StuAge'] = 31\n",
    "dict['StuCity'] = 'Noida'\n",
    "\n",
    "print(\"Student Age after update is:\", dict['StuAge'])\n",
    "print(\"Student City after update is:\", dict['StuCity'])"
   ]
  },
  {
   "cell_type": "markdown",
   "id": "398709fd",
   "metadata": {},
   "source": [
    "### Adding a new entry (key-value pair) in dictionary\n",
    "We can also add a new key-value pair in an existing dictionary. Lets take an example to understand this.\n",
    "\n"
   ]
  },
  {
   "cell_type": "code",
   "execution_count": 7,
   "id": "d01b5221",
   "metadata": {},
   "outputs": [
    {
     "name": "stdout",
     "output_type": "stream",
     "text": [
      "Student Name is: Steve\n",
      "Student Class is: Btech\n"
     ]
    }
   ],
   "source": [
    "dict = {'StuName': 'Steve', 'StuAge': 18, 'StuCity': 'Bangalore'}\n",
    "dict['StuClass'] = 'Btech'\n",
    "print(\"Student Name is:\", dict['StuName'])\n",
    "print(\"Student Class is:\", dict['StuClass'])"
   ]
  },
  {
   "cell_type": "markdown",
   "id": "3643af6f",
   "metadata": {},
   "source": [
    "### Loop through a dictionary\n",
    "We can loop through a dictionary as shown in the following example. Here we are using for loop."
   ]
  },
  {
   "cell_type": "code",
   "execution_count": 9,
   "id": "8695d0d7",
   "metadata": {},
   "outputs": [
    {
     "name": "stdout",
     "output_type": "stream",
     "text": [
      "Key: StuName Value: Naresh\n",
      "Key: StuAge Value: 21\n",
      "Key: StuCity Value: Chennai\n"
     ]
    }
   ],
   "source": [
    "dict = {'StuName': 'Naresh', 'StuAge': 21, 'StuCity': 'Chennai'}\n",
    "\n",
    "for e in dict:\n",
    "    print(\"Key:\",e,\"Value:\",dict[e])"
   ]
  },
  {
   "cell_type": "markdown",
   "id": "9038487e",
   "metadata": {},
   "source": [
    "### delete operation on dictionary\n",
    "- We can delete key-value pairs as well as entire dictionary in python. \n",
    "\n",
    "Lets take an example. As we can see we can use del following by dictionary name and in square brackets we can specify the key to delete the specified key value pair from dictionary.\n",
    "\n",
    "- To delete all the entries (all key-value pairs) from dictionary we can use the clear() method.\n",
    "- To delete entire dictionary along with all the data use del keyword followed by dictionary name as shown in the following example."
   ]
  },
  {
   "cell_type": "code",
   "execution_count": 10,
   "id": "7446da2d",
   "metadata": {},
   "outputs": [],
   "source": [
    "dict = {'StuName': 'Ramanuj', 'StuAge': 18, 'StuCity': 'Pondicherry'}\n",
    "del dict['StuCity']; # remove entry with key 'StuCity'\n",
    "dict.clear();        # remove all key-value pairs from mydict\n",
    "del dict ;           # delete entire dictionary mydict"
   ]
  },
  {
   "cell_type": "markdown",
   "id": "61320af6",
   "metadata": {},
   "source": [
    "## Python Sets\n",
    "- Set is an unordered and unindexed collection of items in Python. \n",
    "- Unordered means when we display the elements of a set, it will come out in a random order.\n",
    "- Unindexed means, we cannot access the elements of a set using the indexes like we can do in list and tuples.\n",
    "\n",
    "The elements of a set are defined inside curly brackets and are separated by commas. "
   ]
  },
  {
   "cell_type": "code",
   "execution_count": 12,
   "id": "521e6af6",
   "metadata": {},
   "outputs": [
    {
     "name": "stdout",
     "output_type": "stream",
     "text": [
      "{1, 2, 3, 4, 'hello'}\n"
     ]
    }
   ],
   "source": [
    "set = {1, 2, 3, 4, \"hello\"}\n",
    "print(set)"
   ]
  },
  {
   "cell_type": "markdown",
   "id": "35e1ff92",
   "metadata": {},
   "source": [
    "### Checking whether an item is in the set\n",
    "- We can check whether an item exists in Set or not using “in” operator as shown in the following example. \n",
    "- This returns the boolean value true or false. \n",
    "- If the item is in the given set then it returns true, else it returns false."
   ]
  },
  {
   "cell_type": "code",
   "execution_count": 14,
   "id": "69d9bdcc",
   "metadata": {},
   "outputs": [
    {
     "name": "stdout",
     "output_type": "stream",
     "text": [
      "True\n",
      "True\n",
      "False\n"
     ]
    }
   ],
   "source": [
    "# Set Example\n",
    "set = {\"hi\", 2, \"bye\", \"Hello World\"}\n",
    "\n",
    "# checking whether 2 is in myset\n",
    "print(2 in set)\n",
    "\n",
    "# checking whether \"hi\" is in myset\n",
    "print(\"hi\" in set)\n",
    "\n",
    "# checking whether \"BeginnersBook\" is in myset\n",
    "print(\"Fundamentals\" in set)"
   ]
  },
  {
   "cell_type": "markdown",
   "id": "00de2ae9",
   "metadata": {},
   "source": [
    "### Loop through the elements of a Set i\n",
    "- We can loop through the elements of a set in Python as shown in the following elements. \n",
    "- We can see in the output that the elements will appear in random order each time you run the code."
   ]
  },
  {
   "cell_type": "code",
   "execution_count": 15,
   "id": "0fbefacb",
   "metadata": {},
   "outputs": [
    {
     "name": "stdout",
     "output_type": "stream",
     "text": [
      "bye\n",
      "hi\n",
      "2\n",
      "Hello World\n"
     ]
    }
   ],
   "source": [
    "# Set Example\n",
    "set = {\"hi\", 2, \"bye\", \"Hello World\"}\n",
    "\n",
    "# loop through the elements of myset\n",
    "for a in set:\n",
    "    print(a)"
   ]
  },
  {
   "cell_type": "markdown",
   "id": "897ca00c",
   "metadata": {},
   "source": [
    "### Add or remove item from a Set\n",
    "- We can add an item in a Set using add() function and we can remove an item from a set using remove() function as shown in the following example."
   ]
  },
  {
   "cell_type": "code",
   "execution_count": 16,
   "id": "ab8835fe",
   "metadata": {},
   "outputs": [
    {
     "name": "stdout",
     "output_type": "stream",
     "text": [
      "Original Set: {'bye', 'hi', 2, 'Hello World'}\n",
      "Set after adding 99: {'hi', 99, 2, 'Hello World', 'bye'}\n",
      "Set after removing bye: {'hi', 99, 2, 'Hello World'}\n"
     ]
    }
   ],
   "source": [
    "# Set Example\n",
    "set = {\"hi\", 2, \"bye\", \"Hello World\"}\n",
    "print(\"Original Set:\", set)\n",
    "\n",
    "# adding an item\n",
    "set.add(99)\n",
    "print(\"Set after adding 99:\", set)\n",
    "\n",
    "# removing an item\n",
    "set.remove(\"bye\")\n",
    "print(\"Set after removing bye:\", set)"
   ]
  },
  {
   "cell_type": "markdown",
   "id": "8325b661",
   "metadata": {},
   "source": [
    "## Exercises:\n",
    "\n",
    "#### Convert two lists into a dictionary\n",
    "Below are the two lists. Write a Python program to convert them into a dictionary in a way that item from list1 is the key and item from list2 is the value\n",
    "\n",
    "    keys = ['Ten', 'Twenty', 'Thirty']\n",
    "    values = [10, 20, 30]\n",
    "\n",
    "Expected output: {'Ten': 10, 'Twenty': 20, 'Thirty': 30}"
   ]
  },
  {
   "cell_type": "code",
   "execution_count": 1,
   "id": "dc508e5b",
   "metadata": {},
   "outputs": [
    {
     "name": "stdout",
     "output_type": "stream",
     "text": [
      "{'Ten': 10, 'Twenty': 20, 'Thirty': 30}\n"
     ]
    }
   ],
   "source": [
    "# Solution 1: The zip() function and a dict() constructor\n",
    "\n",
    "# Use the zip(keys, values) to aggregate two lists.\n",
    "# Wrap the result of a zip() function into a dict() constructor.\n",
    "\n",
    "keys = ['Ten', 'Twenty', 'Thirty']\n",
    "values = [10, 20, 30]\n",
    "\n",
    "convert = dict(zip(keys, values))\n",
    "print(convert)"
   ]
  },
  {
   "cell_type": "code",
   "execution_count": 2,
   "id": "62454c4a",
   "metadata": {},
   "outputs": [
    {
     "name": "stdout",
     "output_type": "stream",
     "text": [
      "{'Ten': 10, 'Twenty': 20, 'Thirty': 30}\n"
     ]
    }
   ],
   "source": [
    "# Using a loop and update() method of a dictionary\n",
    "\n",
    "keys = ['Ten', 'Twenty', 'Thirty']\n",
    "values = [10, 20, 30]\n",
    "\n",
    "# empty dictionary\n",
    "convert = dict()\n",
    "\n",
    "for i in range(len(keys)):\n",
    "    convert.update({keys[i]: values[i]})\n",
    "print(convert)"
   ]
  },
  {
   "cell_type": "markdown",
   "id": "84f2180c",
   "metadata": {},
   "source": [
    "#### Merge two Python dictionaries into one\n",
    "    dict1 = {'Ten': 10, 'Twenty': 20, 'Thirty': 30}\n",
    "    dict2 = {'Thirty': 30, 'Fourty': 40, 'Fifty': 50}\n",
    "    \n",
    "Expected output: {'Ten': 10, 'Twenty': 20, 'Thirty': 30, 'Fourty': 40, 'Fifty': 50}"
   ]
  },
  {
   "cell_type": "code",
   "execution_count": 3,
   "id": "ae4511ad",
   "metadata": {},
   "outputs": [
    {
     "name": "stdout",
     "output_type": "stream",
     "text": [
      "{'Ten': 10, 'Twenty': 20, 'Thirty': 30, 'Fourty': 40, 'Fifty': 50}\n"
     ]
    }
   ],
   "source": [
    "# solution 1\n",
    "dict1 = {'Ten': 10, 'Twenty': 20, 'Thirty': 30}\n",
    "dict2 = {'Thirty': 30, 'Fourty': 40, 'Fifty': 50}\n",
    "\n",
    "dict3 = {**dict1, **dict2}\n",
    "print(dict3)"
   ]
  },
  {
   "cell_type": "code",
   "execution_count": 4,
   "id": "a6f34432",
   "metadata": {},
   "outputs": [
    {
     "name": "stdout",
     "output_type": "stream",
     "text": [
      "{'Ten': 10, 'Twenty': 20, 'Thirty': 30, 'Fourty': 40, 'Fifty': 50}\n"
     ]
    }
   ],
   "source": [
    "# solution 2\n",
    "dict1 = {'Ten': 10, 'Twenty': 20, 'Thirty': 30}\n",
    "dict2 = {'Thirty': 30, 'Fourty': 40, 'Fifty': 50}\n",
    "\n",
    "dict3 = dict1.copy()\n",
    "dict3.update(dict2)\n",
    "print(dict3)"
   ]
  },
  {
   "cell_type": "markdown",
   "id": "5764e601",
   "metadata": {},
   "source": [
    "#### Print the value of key ‘history’ from the below dict\n",
    "\n",
    "    sampleDict = {\n",
    "        \"class\": {\n",
    "            \"student\": {\n",
    "                \"name\": \"Mike\",\n",
    "                \"marks\": {\n",
    "                    \"physics\": 70,\n",
    "                    \"history\": 80\n",
    "                }\n",
    "            }\n",
    "        }\n",
    "    }"
   ]
  },
  {
   "cell_type": "code",
   "execution_count": 5,
   "id": "30000ca8",
   "metadata": {},
   "outputs": [
    {
     "name": "stdout",
     "output_type": "stream",
     "text": [
      "80\n"
     ]
    }
   ],
   "source": [
    "# solution\n",
    "sampleDict = {\n",
    "    \"class\": {\n",
    "        \"student\": {\n",
    "            \"name\": \"Mike\",\n",
    "            \"marks\": {\n",
    "                \"physics\": 70,\n",
    "                \"history\": 80\n",
    "            }\n",
    "        }\n",
    "    }\n",
    "}\n",
    "\n",
    "# understand how to located the nested key\n",
    "# sampleDict['class'] = {'student': {'name': 'Mike', 'marks': {'physics': 70, 'history': 80}}}\n",
    "# sampleDict['class']['student'] = {'name': 'Mike', 'marks': {'physics': 70, 'history': 80}}\n",
    "# sampleDict['class']['student']['marks'] = {'physics': 70, 'history': 80}\n",
    "\n",
    "# solution\n",
    "print(sampleDict['class']['student']['marks']['history'])"
   ]
  },
  {
   "cell_type": "markdown",
   "id": "584c7217",
   "metadata": {},
   "source": [
    "#### Initialize dictionary with default values\n",
    "In Python, we can initialize the keys with the same values.\n",
    "\n",
    "Given:\n",
    "\n",
    "    employees = ['Kelly', 'Emma']\n",
    "    defaults = {\"designation\": 'Developer', \"salary\": 8000}\n",
    "    \n",
    "Expected output: {'Kelly': {'designation': 'Developer', 'salary': 8000}, 'Emma': {'designation': 'Developer', 'salary': 8000}}"
   ]
  },
  {
   "cell_type": "code",
   "execution_count": 6,
   "id": "8f374146",
   "metadata": {},
   "outputs": [
    {
     "name": "stdout",
     "output_type": "stream",
     "text": [
      "{'Rahul': {'designation': 'Developer', 'salary': 8000}, 'Vinita': {'designation': 'Developer', 'salary': 8000}}\n",
      "{'designation': 'Developer', 'salary': 8000}\n"
     ]
    }
   ],
   "source": [
    "# solution\n",
    "# The fromkeys() method returns a dictionary with the specified keys and the specified value.\n",
    "\n",
    "employees = ['Rahul', 'Vinita']\n",
    "defaults = {\"designation\": 'Developer', \"salary\": 8000}\n",
    "\n",
    "res = dict.fromkeys(employees, defaults)\n",
    "print(res)\n",
    "\n",
    "# Individual data\n",
    "print(res[\"Rahul\"])"
   ]
  },
  {
   "cell_type": "markdown",
   "id": "8d291488",
   "metadata": {},
   "source": [
    "#### Create a dictionary by extracting the keys from a given dictionary\n",
    "Write a Python program to create a new dictionary by extracting the mentioned keys from the below dictionary.\n",
    "\n",
    "Given dictionary:\n",
    "\n",
    "    sample_dict = {\n",
    "        \"name\": \"Rohit\",\n",
    "        \"age\": 25,\n",
    "        \"salary\": 8000,\n",
    "        \"city\": \"Bangalore\"}\n",
    "\n",
    "    # Keys to extract\n",
    "    keys = [\"name\", \"salary\"]\n",
    "    \n",
    "Expected output: {'name': 'Rohit', 'salary': 8000}"
   ]
  },
  {
   "cell_type": "code",
   "execution_count": 7,
   "id": "63f991b1",
   "metadata": {},
   "outputs": [
    {
     "name": "stdout",
     "output_type": "stream",
     "text": [
      "{'name': 'Kelly', 'salary': 8000}\n"
     ]
    }
   ],
   "source": [
    "# solution 1\n",
    "\n",
    "sampleDict = { \n",
    "  \"name\": \"Kelly\",\n",
    "  \"age\":25, \n",
    "  \"salary\": 8000, \n",
    "  \"city\": \"New york\" }\n",
    "\n",
    "keys = [\"name\", \"salary\"]\n",
    "\n",
    "newDict = {k: sampleDict[k] for k in keys}\n",
    "print(newDict)"
   ]
  },
  {
   "cell_type": "code",
   "execution_count": 8,
   "id": "5a557dba",
   "metadata": {},
   "outputs": [
    {
     "name": "stdout",
     "output_type": "stream",
     "text": [
      "{'name': 'Kelly', 'salary': 8000}\n"
     ]
    }
   ],
   "source": [
    "# solution 2\n",
    "# Using the update() method and loop\n",
    "\n",
    "sample_dict = {\n",
    "    \"name\": \"Kelly\",\n",
    "    \"age\": 25,\n",
    "    \"salary\": 8000,\n",
    "    \"city\": \"New york\"}\n",
    "\n",
    "# keys to extract\n",
    "keys = [\"name\", \"salary\"]\n",
    "\n",
    "# new dict\n",
    "res = dict()\n",
    "\n",
    "for k in keys:\n",
    "    # add current key with its va;ue from sample_dict\n",
    "    res.update({k: sample_dict[k]})\n",
    "print(res)"
   ]
  },
  {
   "cell_type": "markdown",
   "id": "0346bb95",
   "metadata": {},
   "source": [
    "#### Delete a list of keys from a dictionary\n",
    "Given:\n",
    "\n",
    "    sample_dict = {\n",
    "        \"name\": \"Rahul\",\n",
    "        \"age\": 25,\n",
    "        \"salary\": 8000,\n",
    "        \"city\": \"New york\"\n",
    "    }\n",
    "\n",
    "    # Keys to remove\n",
    "    keys = [\"name\", \"salary\"]\n",
    "    \n",
    "Expected output: {'city': 'New york', 'age': 25}"
   ]
  },
  {
   "cell_type": "code",
   "execution_count": 9,
   "id": "71b6ecc1",
   "metadata": {},
   "outputs": [
    {
     "name": "stdout",
     "output_type": "stream",
     "text": [
      "{'age': 25, 'city': 'New york'}\n"
     ]
    }
   ],
   "source": [
    "# Solution 1\n",
    "# Using the pop() method and loop\n",
    "\n",
    "sample_dict = {\n",
    "    \"name\": \"Kelly\",\n",
    "    \"age\": 25,\n",
    "    \"salary\": 8000,\n",
    "    \"city\": \"New york\"\n",
    "}\n",
    "# Keys to remove\n",
    "keys = [\"name\", \"salary\"]\n",
    "\n",
    "for k in keys:\n",
    "    sample_dict.pop(k)\n",
    "print(sample_dict)"
   ]
  },
  {
   "cell_type": "code",
   "execution_count": 10,
   "id": "6498a49f",
   "metadata": {},
   "outputs": [
    {
     "name": "stdout",
     "output_type": "stream",
     "text": [
      "{'age': 25, 'city': 'New york'}\n"
     ]
    }
   ],
   "source": [
    "# Solution 2 \n",
    "# Dictionary Comprehension\n",
    "\n",
    "sample_dict = {\n",
    "    \"name\": \"Kelly\",\n",
    "    \"age\": 25,\n",
    "    \"salary\": 8000,\n",
    "    \"city\": \"New york\"\n",
    "}\n",
    "# Keys to remove\n",
    "keys = [\"name\", \"salary\"]\n",
    "\n",
    "sample_dict = {k: sample_dict[k] for k in sample_dict.keys() - keys}\n",
    "print(sample_dict)"
   ]
  },
  {
   "cell_type": "markdown",
   "id": "3b26136f",
   "metadata": {},
   "source": [
    "#### Check if a value exists in a dictionary\n",
    "We know how to check if the key exists in a dictionary. Sometimes it is required to check if the given value is present.\n",
    "\n",
    "Write a Python program to check if value 200 exists in the following dictionary.\n",
    "\n",
    "Given:\n",
    "\n",
    "    sample_dict = {'a': 100, 'b': 200, 'c': 300}\n",
    "\n",
    "Expected output: 200 present in a dict"
   ]
  },
  {
   "cell_type": "code",
   "execution_count": 11,
   "id": "ad2cb106",
   "metadata": {},
   "outputs": [
    {
     "name": "stdout",
     "output_type": "stream",
     "text": [
      "200 present in a dict\n"
     ]
    }
   ],
   "source": [
    "# solution\n",
    "\n",
    "sample_dict = {'a': 100, 'b': 200, 'c': 300}\n",
    "if 200 in sample_dict.values():\n",
    "    print('200 present in a dict')"
   ]
  },
  {
   "cell_type": "markdown",
   "id": "587f9648",
   "metadata": {},
   "source": [
    "#### Rename key of a dictionary\n",
    "Write a program to rename a key city to a location in the following dictionary.\n",
    "\n",
    "Given:\n",
    "\n",
    "    sample_dict = {\n",
    "      \"name\": \"Ram\",\n",
    "      \"age\":25,\n",
    "      \"salary\": 8000,\n",
    "      \"city\": \"Chennai\"\n",
    "    }\n",
    "Expected output: {'name': 'Kelly', 'age': 25, 'salary': 8000, 'location': 'New york'}"
   ]
  },
  {
   "cell_type": "code",
   "execution_count": 13,
   "id": "d18f02f3",
   "metadata": {},
   "outputs": [
    {
     "name": "stdout",
     "output_type": "stream",
     "text": [
      "{'name': 'Ram', 'age': 25, 'salary': 8000, 'location': 'Chennai'}\n"
     ]
    }
   ],
   "source": [
    "# solution\n",
    "sample_dict = {\n",
    "    \"name\": \"Ram\",\n",
    "    \"age\": 25,\n",
    "    \"salary\": 8000,\n",
    "    \"city\": \"Chennai\"\n",
    "}\n",
    "\n",
    "sample_dict['location'] = sample_dict.pop('city')\n",
    "print(sample_dict)"
   ]
  },
  {
   "cell_type": "markdown",
   "id": "7e07ba13",
   "metadata": {},
   "source": [
    "#### Get the key of a minimum value from the following dictionary\n",
    "    \n",
    "    sample_dict = {\n",
    "      'Physics': 82,\n",
    "      'Math': 65,\n",
    "      'history': 75\n",
    "    }\n",
    "\n",
    "Expected output: Math"
   ]
  },
  {
   "cell_type": "code",
   "execution_count": 14,
   "id": "c99aa44b",
   "metadata": {},
   "outputs": [
    {
     "name": "stdout",
     "output_type": "stream",
     "text": [
      "Math\n"
     ]
    }
   ],
   "source": [
    "# solution\n",
    "sample_dict = {\n",
    "    'Physics': 82,\n",
    "    'Math': 65,\n",
    "    'history': 75\n",
    "}\n",
    "print(min(sample_dict, key=sample_dict.get))"
   ]
  },
  {
   "cell_type": "markdown",
   "id": "98354932",
   "metadata": {},
   "source": [
    "#### Change value of a key in a nested dictionary\n",
    "Write a Python program to change Brad’s salary to 8500 in the following dictionary.\n",
    "\n",
    "Given:\n",
    "\n",
    "    sample_dict = {\n",
    "        'std1': {'name': 'Priya', 'salary': 7500},\n",
    "        'std2': {'name': 'Raju', 'salary': 8000},\n",
    "        'std3': {'name': 'Partha', 'salary': 500}\n",
    "    }\n",
    "\n",
    "Expected output:\n",
    "\n",
    "    {\n",
    "       'std1': {'name': 'Priya', 'salary': 7500},\n",
    "       'std2': {'name': 'Raju', 'salary': 8000},\n",
    "       'std3': {'name': 'Partha', 'salary': 8500}\n",
    "    }"
   ]
  },
  {
   "cell_type": "code",
   "execution_count": 17,
   "id": "9306a951",
   "metadata": {},
   "outputs": [
    {
     "ename": "SyntaxError",
     "evalue": "invalid syntax (380846301.py, line 5)",
     "output_type": "error",
     "traceback": [
      "\u001b[1;36m  Input \u001b[1;32mIn [17]\u001b[1;36m\u001b[0m\n\u001b[1;33m    'emp3': {'name': 'Partha,'salary': 6500}\u001b[0m\n\u001b[1;37m                              ^\u001b[0m\n\u001b[1;31mSyntaxError\u001b[0m\u001b[1;31m:\u001b[0m invalid syntax\n"
     ]
    }
   ],
   "source": [
    "# solution\n",
    "sample_dict = {\n",
    "    'emp1': {'name': 'Priya', 'salary': 7500},\n",
    "    'emp2': {'name': 'Raju', 'salary': 8000},\n",
    "    'emp3': {'name': 'Partha,'salary': 6500}\n",
    "}\n",
    "\n",
    "sample_dict['emp3']['salary'] = 8500\n",
    "print(sample_dict)"
   ]
  },
  {
   "cell_type": "markdown",
   "id": "331c63d9",
   "metadata": {},
   "source": [
    "#### Add a list of elements to a set\n",
    "Given a Python list, Write a program to add all its elements into a given set.\n",
    "\n",
    "Given:\n",
    "\n",
    "    sample_set = {\"Yellow\", \"Orange\", \"Black\"}\n",
    "    sample_list = [\"Blue\", \"Green\", \"Red\"]\n",
    "\n",
    "Expected output: {'Green', 'Yellow', 'Black', 'Orange', 'Red', 'Blue'}"
   ]
  },
  {
   "cell_type": "code",
   "execution_count": 18,
   "id": "a11080fa",
   "metadata": {},
   "outputs": [
    {
     "name": "stdout",
     "output_type": "stream",
     "text": [
      "{'Green', 'Blue', 'Orange', 'Black', 'Red', 'Yellow'}\n"
     ]
    }
   ],
   "source": [
    "# solution\n",
    "sample_set = {\"Yellow\", \"Orange\", \"Black\"}\n",
    "sample_list = [\"Blue\", \"Green\", \"Red\"]\n",
    "\n",
    "sample_set.update(sample_list)\n",
    "print(sample_set)"
   ]
  },
  {
   "cell_type": "markdown",
   "id": "18ba456b",
   "metadata": {},
   "source": [
    "#### Return a new set of identical items from two sets\n",
    "\n",
    "Given:\n",
    "\n",
    "    set1 = {10, 20, 30, 40, 50}\n",
    "    set2 = {30, 40, 50, 60, 70}\n",
    "\n",
    "Expected output: {40, 50, 30}"
   ]
  },
  {
   "cell_type": "code",
   "execution_count": 19,
   "id": "46d033e1",
   "metadata": {},
   "outputs": [
    {
     "name": "stdout",
     "output_type": "stream",
     "text": [
      "{40, 50, 30}\n"
     ]
    }
   ],
   "source": [
    "set1 = {10, 20, 30, 40, 50}\n",
    "set2 = {30, 40, 50, 60, 70}\n",
    "\n",
    "print(set1.intersection(set2))"
   ]
  },
  {
   "cell_type": "markdown",
   "id": "385fd580",
   "metadata": {},
   "source": [
    "#### Get Only unique items from two sets\n",
    "Write a Python program to return a new set with unique items from both sets by removing duplicates.\n",
    "\n",
    "Given:\n",
    "\n",
    "    set1 = {10, 20, 30, 40, 50}\n",
    "    set2 = {30, 40, 50, 60, 70}\n",
    "    \n",
    "Expected output: {70, 40, 10, 50, 20, 60, 30}"
   ]
  },
  {
   "cell_type": "code",
   "execution_count": 20,
   "id": "7181b902",
   "metadata": {},
   "outputs": [
    {
     "name": "stdout",
     "output_type": "stream",
     "text": [
      "{70, 40, 10, 50, 20, 60, 30}\n"
     ]
    }
   ],
   "source": [
    "# solution\n",
    "set1 = {10, 20, 30, 40, 50}\n",
    "set2 = {30, 40, 50, 60, 70}\n",
    "\n",
    "print(set1.union(set2))"
   ]
  },
  {
   "cell_type": "markdown",
   "id": "f54e24c9",
   "metadata": {},
   "source": [
    "#### Update the first set with items that don’t exist in the second set\n",
    "Given two Python sets, write a Python program to update the first set with items that exist only in the first set and not in the second set.\n",
    "\n",
    "Given:\n",
    "\n",
    "    set1 = {10, 20, 30}\n",
    "    set2 = {20, 40, 50}\n",
    "    \n",
    "Expected output: set1 {10, 30}"
   ]
  },
  {
   "cell_type": "code",
   "execution_count": 21,
   "id": "2accfbcc",
   "metadata": {},
   "outputs": [
    {
     "name": "stdout",
     "output_type": "stream",
     "text": [
      "{10, 30}\n"
     ]
    }
   ],
   "source": [
    "# solution\n",
    "set1 = {10, 20, 30}\n",
    "set2 = {20, 40, 50}\n",
    "\n",
    "set1.difference_update(set2)\n",
    "print(set1)"
   ]
  },
  {
   "cell_type": "markdown",
   "id": "cb6b03cc",
   "metadata": {},
   "source": [
    "#### Remove items from the set at once\n",
    "Write a Python program to remove items 10, 20, 30 from the following set at once.\n",
    "\n",
    "Given:\n",
    "\n",
    "    set = {10, 20, 30, 40, 50}\n",
    "\n",
    "Expected output: {40, 50}"
   ]
  },
  {
   "cell_type": "code",
   "execution_count": 22,
   "id": "0ef32c7e",
   "metadata": {},
   "outputs": [
    {
     "name": "stdout",
     "output_type": "stream",
     "text": [
      "{50, 40}\n"
     ]
    }
   ],
   "source": [
    "# solution\n",
    "set1 = {10, 20, 30, 40, 50}\n",
    "set1.difference_update({10, 20, 30})\n",
    "print(set1)"
   ]
  },
  {
   "cell_type": "markdown",
   "id": "af2477fc",
   "metadata": {},
   "source": [
    "#### Return a set of elements present in Set A or B, but not both\n",
    "Given:\n",
    "\n",
    "    set1 = {10, 20, 30, 40, 50}\n",
    "    set2 = {30, 40, 50, 60, 70}\n",
    "\n",
    "Expected output: {20, 70, 10, 60}"
   ]
  },
  {
   "cell_type": "code",
   "execution_count": 23,
   "id": "f69a8151",
   "metadata": {},
   "outputs": [
    {
     "name": "stdout",
     "output_type": "stream",
     "text": [
      "{20, 70, 10, 60}\n"
     ]
    }
   ],
   "source": [
    "set1 = {10, 20, 30, 40, 50}\n",
    "set2 = {30, 40, 50, 60, 70}\n",
    "\n",
    "print(set1.symmetric_difference(set2))"
   ]
  },
  {
   "cell_type": "markdown",
   "id": "f64d0cc3",
   "metadata": {},
   "source": [
    "#### Check if two sets have any elements in common. If yes, display the common elements\n",
    "Given:\n",
    "\n",
    "    set1 = {10, 20, 30, 40, 50}\n",
    "    set2 = {60, 70, 80, 90, 10}\n",
    "\n",
    "Expected output: Two sets have items in common {10}"
   ]
  },
  {
   "cell_type": "code",
   "execution_count": 24,
   "id": "903147d8",
   "metadata": {},
   "outputs": [
    {
     "name": "stdout",
     "output_type": "stream",
     "text": [
      "Two sets have items in common\n",
      "{10}\n"
     ]
    }
   ],
   "source": [
    "set1 = {10, 20, 30, 40, 50}\n",
    "set2 = {60, 70, 80, 90, 10}\n",
    "\n",
    "if set1.isdisjoint(set2):\n",
    "    print(\"Two sets have no items in common\")\n",
    "else:\n",
    "    print(\"Two sets have items in common\")\n",
    "    print(set1.intersection(set2))"
   ]
  },
  {
   "cell_type": "markdown",
   "id": "8186c8f9",
   "metadata": {},
   "source": [
    "#### Update set1 by adding items from set2, except common items\n",
    "Given:\n",
    "\n",
    "    set1 = {10, 20, 30, 40, 50}\n",
    "    set2 = {30, 40, 50, 60, 70}\n",
    "\n",
    "Expected output: {70, 10, 20, 60}"
   ]
  },
  {
   "cell_type": "code",
   "execution_count": 25,
   "id": "94c20090",
   "metadata": {},
   "outputs": [
    {
     "name": "stdout",
     "output_type": "stream",
     "text": [
      "{20, 70, 10, 60}\n"
     ]
    }
   ],
   "source": [
    "# solution\n",
    "set1 = {10, 20, 30, 40, 50}\n",
    "set2 = {30, 40, 50, 60, 70}\n",
    "\n",
    "set1.symmetric_difference_update(set2)\n",
    "print(set1)"
   ]
  },
  {
   "cell_type": "markdown",
   "id": "cfce4f6c",
   "metadata": {},
   "source": [
    "#### Remove items from set1 that are not common to both set1 and set2\n",
    "Given:\n",
    "\n",
    "    set1 = {10, 20, 30, 40, 50}\n",
    "    set2 = {30, 40, 50, 60, 70}\n",
    "\n",
    "Expected output: {40, 50, 30}"
   ]
  },
  {
   "cell_type": "code",
   "execution_count": 26,
   "id": "376d1faf",
   "metadata": {},
   "outputs": [
    {
     "name": "stdout",
     "output_type": "stream",
     "text": [
      "{40, 50, 30}\n"
     ]
    }
   ],
   "source": [
    "set1 = {10, 20, 30, 40, 50}\n",
    "set2 = {30, 40, 50, 60, 70}\n",
    "\n",
    "set1.intersection_update(set2)\n",
    "print(set1)"
   ]
  },
  {
   "cell_type": "code",
   "execution_count": null,
   "id": "e9cd6ef9",
   "metadata": {},
   "outputs": [],
   "source": []
  }
 ],
 "metadata": {
  "kernelspec": {
   "display_name": "Python 3 (ipykernel)",
   "language": "python",
   "name": "python3"
  },
  "language_info": {
   "codemirror_mode": {
    "name": "ipython",
    "version": 3
   },
   "file_extension": ".py",
   "mimetype": "text/x-python",
   "name": "python",
   "nbconvert_exporter": "python",
   "pygments_lexer": "ipython3",
   "version": "3.9.7"
  }
 },
 "nbformat": 4,
 "nbformat_minor": 5
}
