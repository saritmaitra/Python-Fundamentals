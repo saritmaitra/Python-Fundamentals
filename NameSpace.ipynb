{
 "cells": [
  {
   "cell_type": "markdown",
   "id": "b84a715d",
   "metadata": {},
   "source": [
    "- In simple words, a namespace is a collection of names and the details of the objects referenced by the names\n",
    "- Namespace is basically a system to make sure that all the names in a program are unique and can be used without any conflict. - Everything in Python—like strings, lists, functions, etc.—is an object. \n",
    "- Another interesting fact is that Python implements namespaces as dictionaries. \n",
    "- There is a name-to-object mapping, with the names as keys and the objects as values. \n",
    "- Multiple namespaces can use the same name and map it to a different object. Here are a few examples of namespaces:\n",
    "\n",
    "#### Local Namespace: \n",
    "This namespace includes local names inside a function. This namespace is created when a function is called, and it only lasts until the function returns.\n",
    "#### Global Namespace: \n",
    "This namespace includes names from various imported modules that you are using in a project. It is created when the module is included in the project, and it lasts until the script ends.\n",
    "#### Built-in Namespace: \n",
    "This namespace includes built-in functions and built-in exception names.\n",
    "\n",
    "### Scope of NameSpace\n",
    "Namespaces help us uniquely identify all the names inside a program. However, this doesn't imply that we can use a variable name anywhere we want. A name also has a scope that defines the parts of the program where you could use that name without using any prefix. There are also multiple scopes in a program. Here is a list of some scopes that can exist during the execution of a program.\n",
    "\n",
    "- A local scope, which is the innermost scope that contains a list of local names available in the current function.\n",
    "- A scope of all the enclosing functions. The search for a name starts from the nearest enclosing scope and moves outwards.\n",
    "- A module level scope that contains all the global names from the current module.\n",
    "- The outermost scope that contains a list of all the built-in names. This scope is searched last to find the name that you referenced. \n",
    "\n",
    "The search for a given name starts from the innermost function and then moves higher and higher until the program can map that name to an object. When no such name is found in any of the namespaces, the program raises a NameError exception.\n"
   ]
  },
  {
   "cell_type": "code",
   "execution_count": 1,
   "id": "1ce4e848",
   "metadata": {},
   "outputs": [
    {
     "data": {
      "text/plain": [
       "['In',\n",
       " 'Out',\n",
       " '_',\n",
       " '__',\n",
       " '___',\n",
       " '__builtin__',\n",
       " '__builtins__',\n",
       " '__doc__',\n",
       " '__loader__',\n",
       " '__name__',\n",
       " '__package__',\n",
       " '__spec__',\n",
       " '_dh',\n",
       " '_i',\n",
       " '_i1',\n",
       " '_ih',\n",
       " '_ii',\n",
       " '_iii',\n",
       " '_oh',\n",
       " 'exit',\n",
       " 'get_ipython',\n",
       " 'quit']"
      ]
     },
     "execution_count": 1,
     "metadata": {},
     "output_type": "execute_result"
    }
   ],
   "source": [
    "dir()"
   ]
  },
  {
   "cell_type": "markdown",
   "id": "25193a6f",
   "metadata": {},
   "source": [
    "All these names listed by dir() are available in every Python program. "
   ]
  },
  {
   "cell_type": "code",
   "execution_count": 3,
   "id": "350b0fcd",
   "metadata": {},
   "outputs": [
    {
     "name": "stdout",
     "output_type": "stream",
     "text": [
      "['b_num']\n"
     ]
    },
    {
     "data": {
      "text/plain": [
       "['In',\n",
       " 'Out',\n",
       " '_',\n",
       " '_1',\n",
       " '_2',\n",
       " '__',\n",
       " '___',\n",
       " '__builtin__',\n",
       " '__builtins__',\n",
       " '__doc__',\n",
       " '__loader__',\n",
       " '__name__',\n",
       " '__package__',\n",
       " '__spec__',\n",
       " '_dh',\n",
       " '_i',\n",
       " '_i1',\n",
       " '_i2',\n",
       " '_i3',\n",
       " '_ih',\n",
       " '_ii',\n",
       " '_iii',\n",
       " '_oh',\n",
       " 'a_num',\n",
       " 'exit',\n",
       " 'get_ipython',\n",
       " 'quit',\n",
       " 'some_func']"
      ]
     },
     "execution_count": 3,
     "metadata": {},
     "output_type": "execute_result"
    }
   ],
   "source": [
    "a_num = 10\n",
    "dir()\n",
    "\n",
    "def some_func():\n",
    "    b_num = 11\n",
    "    print(dir())\n",
    "     \n",
    "some_func()\n",
    "# ['b_num']\n",
    " \n",
    "dir()"
   ]
  },
  {
   "cell_type": "markdown",
   "id": "952752cd",
   "metadata": {},
   "source": [
    "- The dir() function only outputs the list of names inside the current scope. \n",
    "- That's why inside the scope of some_func(), there is only one name called b_num. \n",
    "- Calling dir() after defining some_func() adds it to the list of names available in the global namespace.\n",
    "\n",
    "Now, let's see the list of names inside some nested functions. The code in this block continues from the previous block."
   ]
  },
  {
   "cell_type": "code",
   "execution_count": 4,
   "id": "efd5a7b9",
   "metadata": {},
   "outputs": [
    {
     "name": "stdout",
     "output_type": "stream",
     "text": [
      "['d_num']  - names in inner_func\n",
      "['c_num', 'e_num', 'inner_func']  - names in outer_func\n"
     ]
    }
   ],
   "source": [
    "def outer_func():\n",
    "    c_num = 12\n",
    "    def inner_func():\n",
    "        d_num = 13\n",
    "        print(dir(), ' - names in inner_func')\n",
    "    e_num = 14\n",
    "    inner_func()\n",
    "    print(dir(), ' - names in outer_func')\n",
    "     \n",
    "outer_func()\n"
   ]
  },
  {
   "cell_type": "markdown",
   "id": "5b8c6d78",
   "metadata": {},
   "source": [
    "The above code defines two variables and a function inside the scope of outer_func(). Inside inner_func(), the dir() function only prints the name d_num. This seems fair as d_num is the only variable defined in there.\n",
    "\n",
    "Unless explicitly specified by using global, reassigning a global name inside a local namespace creates a new local variable with the same name. This is evident from the following code."
   ]
  },
  {
   "cell_type": "code",
   "execution_count": 5,
   "id": "2bc8f88e",
   "metadata": {},
   "outputs": [
    {
     "name": "stdout",
     "output_type": "stream",
     "text": [
      "a_num inside inner_func : 20\n",
      "b_num inside inner_func : 21\n",
      "a_num inside outer_func : 20\n",
      "b_num inside outer_func : 16\n",
      "a_num outside all functions : 20\n",
      "b_num outside all functions : 11\n"
     ]
    }
   ],
   "source": [
    "a_num = 10\n",
    "b_num = 11\n",
    " \n",
    "def outer_func():\n",
    "    global a_num\n",
    "    a_num = 15\n",
    "    b_num = 16\n",
    "    def inner_func():\n",
    "        global a_num\n",
    "        a_num = 20\n",
    "        b_num = 21\n",
    "        print('a_num inside inner_func :', a_num)\n",
    "        print('b_num inside inner_func :', b_num)\n",
    "    inner_func()\n",
    "    print('a_num inside outer_func :', a_num)\n",
    "    print('b_num inside outer_func :', b_num)\n",
    "     \n",
    "outer_func()\n",
    "print('a_num outside all functions :', a_num)\n",
    "print('b_num outside all functions :', b_num)"
   ]
  },
  {
   "cell_type": "markdown",
   "id": "0666129a",
   "metadata": {},
   "source": [
    "- Inside both the outer_func() and inner_func(), a_num has been declared to be a global variable. \n",
    "- We are just setting a different value for the same global variable. \n",
    "- This is the reason that the value of a_num at all locations is 20. \n",
    "- On the other hand, each function creates its own b_num variable with a local scope, and the print() function prints the value of this locally scoped variable."
   ]
  },
  {
   "cell_type": "code",
   "execution_count": 6,
   "id": "9730be03",
   "metadata": {},
   "outputs": [
    {
     "name": "stdout",
     "output_type": "stream",
     "text": [
      "After local assignment: test spam\n",
      "After nonlocal assignment: nonlocal spam\n",
      "After global assignment: nonlocal spam\n",
      "In global scope: global spam\n"
     ]
    }
   ],
   "source": [
    "def scope_test():\n",
    "    def do_local():\n",
    "        spam = \"local spam\"\n",
    "\n",
    "    def do_nonlocal():\n",
    "        nonlocal spam\n",
    "        spam = \"nonlocal spam\"\n",
    "\n",
    "    def do_global():\n",
    "        global spam\n",
    "        spam = \"global spam\"\n",
    "\n",
    "    spam = \"test spam\"\n",
    "    do_local()\n",
    "    print(\"After local assignment:\", spam)\n",
    "    do_nonlocal()\n",
    "    print(\"After nonlocal assignment:\", spam)\n",
    "    do_global()\n",
    "    print(\"After global assignment:\", spam)\n",
    "\n",
    "scope_test()\n",
    "print(\"In global scope:\", spam)"
   ]
  },
  {
   "cell_type": "markdown",
   "id": "9ac38d91",
   "metadata": {},
   "source": [
    "### Built-in namespace \n",
    "- It contains the names of built-in functions and objects. \n",
    "- It is created while starting the python interpreter, exists as long as the interpreter runs, and is destroyed when we close the interpreter. \n",
    "- It contains the names of built-in data types,exceptions and functions like print() and input(). \n",
    "\n",
    "We can access all the names defined in the built-in namespace as follows."
   ]
  },
  {
   "cell_type": "code",
   "execution_count": 8,
   "id": "a9f53752",
   "metadata": {},
   "outputs": [
    {
     "name": "stdout",
     "output_type": "stream",
     "text": [
      "ArithmeticError\n",
      "AssertionError\n",
      "AttributeError\n",
      "BaseException\n",
      "BlockingIOError\n",
      "BrokenPipeError\n",
      "BufferError\n",
      "BytesWarning\n",
      "ChildProcessError\n",
      "ConnectionAbortedError\n",
      "ConnectionError\n",
      "ConnectionRefusedError\n",
      "ConnectionResetError\n",
      "DeprecationWarning\n",
      "EOFError\n",
      "Ellipsis\n",
      "EnvironmentError\n",
      "Exception\n",
      "False\n",
      "FileExistsError\n",
      "FileNotFoundError\n",
      "FloatingPointError\n",
      "FutureWarning\n",
      "GeneratorExit\n",
      "IOError\n",
      "ImportError\n",
      "ImportWarning\n",
      "IndentationError\n",
      "IndexError\n",
      "InterruptedError\n",
      "IsADirectoryError\n",
      "KeyError\n",
      "KeyboardInterrupt\n",
      "LookupError\n",
      "MemoryError\n",
      "ModuleNotFoundError\n",
      "NameError\n",
      "None\n",
      "NotADirectoryError\n",
      "NotImplemented\n",
      "NotImplementedError\n",
      "OSError\n",
      "OverflowError\n",
      "PendingDeprecationWarning\n",
      "PermissionError\n",
      "ProcessLookupError\n",
      "RecursionError\n",
      "ReferenceError\n",
      "ResourceWarning\n",
      "RuntimeError\n",
      "RuntimeWarning\n",
      "StopAsyncIteration\n",
      "StopIteration\n",
      "SyntaxError\n",
      "SyntaxWarning\n",
      "SystemError\n",
      "SystemExit\n",
      "TabError\n",
      "TimeoutError\n",
      "True\n",
      "TypeError\n",
      "UnboundLocalError\n",
      "UnicodeDecodeError\n",
      "UnicodeEncodeError\n",
      "UnicodeError\n",
      "UnicodeTranslateError\n",
      "UnicodeWarning\n",
      "UserWarning\n",
      "ValueError\n",
      "Warning\n",
      "WindowsError\n",
      "ZeroDivisionError\n",
      "__IPYTHON__\n",
      "__build_class__\n",
      "__debug__\n",
      "__doc__\n",
      "__import__\n",
      "__loader__\n",
      "__name__\n",
      "__package__\n",
      "__spec__\n",
      "abs\n",
      "all\n",
      "any\n",
      "ascii\n",
      "bin\n",
      "bool\n",
      "breakpoint\n",
      "bytearray\n",
      "bytes\n",
      "callable\n",
      "chr\n",
      "classmethod\n",
      "compile\n",
      "complex\n",
      "copyright\n",
      "credits\n",
      "delattr\n",
      "dict\n",
      "dir\n",
      "display\n",
      "divmod\n",
      "enumerate\n",
      "eval\n",
      "exec\n",
      "execfile\n",
      "filter\n",
      "float\n",
      "format\n",
      "frozenset\n",
      "get_ipython\n",
      "getattr\n",
      "globals\n",
      "hasattr\n",
      "hash\n",
      "help\n",
      "hex\n",
      "id\n",
      "input\n",
      "int\n",
      "isinstance\n",
      "issubclass\n",
      "iter\n",
      "len\n",
      "license\n",
      "list\n",
      "locals\n",
      "map\n",
      "max\n",
      "memoryview\n",
      "min\n",
      "next\n",
      "object\n",
      "oct\n",
      "open\n",
      "ord\n",
      "pow\n",
      "print\n",
      "property\n",
      "range\n",
      "repr\n",
      "reversed\n",
      "round\n",
      "runfile\n",
      "set\n",
      "setattr\n",
      "slice\n",
      "sorted\n",
      "staticmethod\n",
      "str\n",
      "sum\n",
      "super\n",
      "tuple\n",
      "type\n",
      "vars\n",
      "zip\n"
     ]
    }
   ],
   "source": [
    "builtin_names = dir(__builtins__)\n",
    "for name in builtin_names:\n",
    "    print(name)"
   ]
  },
  {
   "cell_type": "markdown",
   "id": "78ef1941",
   "metadata": {},
   "source": [
    "### Global namespaces \n",
    "- These are defined at the program or module level. \n",
    "- It contains the names of objects defined in a module or the main program. \n",
    "- A global namespace is created when the program starts and exists until the program is terminated by the python interpreter. "
   ]
  },
  {
   "cell_type": "code",
   "execution_count": 9,
   "id": "838746d2",
   "metadata": {},
   "outputs": [],
   "source": [
    "Num1 = 10\n",
    "Num2 = 10\n",
    "\n",
    "# here Num1 and Num2 are in the global namespace of the program.\n",
    "def add(num1, num2):\n",
    "    temp = num1 + num2\n",
    "    return temp"
   ]
  },
  {
   "cell_type": "markdown",
   "id": "262e6aff",
   "metadata": {},
   "source": [
    "### Local namespace \n",
    "- It is defined for a class, a function, a loop, or any block of code. \n",
    "- The names defined in a block of code or a function are local to it. \n",
    "- The variable names cannot be accessed outside the block of code or the function in which they are defined. \n",
    "- The local namespace is created when the block of code or the function starts executing and terminates when the function or the block of code terminates."
   ]
  },
  {
   "cell_type": "code",
   "execution_count": null,
   "id": "dfe204bb",
   "metadata": {},
   "outputs": [],
   "source": [
    "Num1 = 10\n",
    "Num2 = 10\n",
    "\n",
    "\n",
    "def add(num1, num2):\n",
    "    temp = num1 + num2\n",
    "    return temp"
   ]
  },
  {
   "cell_type": "markdown",
   "id": "8514a504",
   "metadata": {},
   "source": [
    "Here, the variable names num1, num2 and temp are defined in the local namespace in the function add.\n",
    "### Enclosing namespace?\n",
    "- we can define a block of code or a function inside another block of code or function, A function or a block of code defined inside any function can access the namespace of the outer function or block of code. \n",
    "- Hence the outer namespace is termed as enclosing namespace for the namespace of the inner function or block of code. "
   ]
  },
  {
   "cell_type": "code",
   "execution_count": 10,
   "id": "80d9eae9",
   "metadata": {},
   "outputs": [],
   "source": [
    "Num1 = 10\n",
    "Num2 = 10\n",
    "\n",
    "\n",
    "def add(num1, num2):\n",
    "    temp = num1 + num2\n",
    "\n",
    "    def print_sum():\n",
    "        print(temp)\n",
    "\n",
    "    return temp"
   ]
  },
  {
   "cell_type": "markdown",
   "id": "1d2452ea",
   "metadata": {},
   "source": [
    "In the above example, the local namespace of add() function is the enclosing namespace of the print_sum() function as print_sum() is defined inside the add() function."
   ]
  },
  {
   "cell_type": "code",
   "execution_count": null,
   "id": "dfd2669f",
   "metadata": {},
   "outputs": [],
   "source": []
  }
 ],
 "metadata": {
  "kernelspec": {
   "display_name": "Python 3 (ipykernel)",
   "language": "python",
   "name": "python3"
  },
  "language_info": {
   "codemirror_mode": {
    "name": "ipython",
    "version": 3
   },
   "file_extension": ".py",
   "mimetype": "text/x-python",
   "name": "python",
   "nbconvert_exporter": "python",
   "pygments_lexer": "ipython3",
   "version": "3.9.7"
  }
 },
 "nbformat": 4,
 "nbformat_minor": 5
}
