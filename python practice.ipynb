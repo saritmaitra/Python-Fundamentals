{
 "cells": [
  {
   "cell_type": "code",
   "execution_count": 4,
   "id": "f13c6442",
   "metadata": {},
   "outputs": [
    {
     "name": "stdout",
     "output_type": "stream",
     "text": [
      "1.4.1\n"
     ]
    }
   ],
   "source": [
    "import pandas as pd\n",
    "print(pd.__version__)"
   ]
  },
  {
   "cell_type": "code",
   "execution_count": 3,
   "id": "03f3c1db",
   "metadata": {},
   "outputs": [
    {
     "name": "stdout",
     "output_type": "stream",
     "text": [
      "1.22.3\n"
     ]
    }
   ],
   "source": [
    "import numpy as np\n",
    "print(np.__version__)"
   ]
  },
  {
   "cell_type": "code",
   "execution_count": 1,
   "id": "4db3fb66",
   "metadata": {},
   "outputs": [
    {
     "name": "stdout",
     "output_type": "stream",
     "text": [
      "1.8.0\n"
     ]
    }
   ],
   "source": [
    "import scipy as sp\n",
    "print(sp.__version__)"
   ]
  },
  {
   "cell_type": "code",
   "execution_count": 10,
   "id": "50ed65f6",
   "metadata": {},
   "outputs": [],
   "source": [
    "# pip install scikit-learn"
   ]
  },
  {
   "cell_type": "code",
   "execution_count": 20,
   "id": "da6f1f22",
   "metadata": {},
   "outputs": [
    {
     "name": "stdout",
     "output_type": "stream",
     "text": [
      "1.0.2\n"
     ]
    }
   ],
   "source": [
    "import sklearn\n",
    "print(sklearn.__version__)"
   ]
  },
  {
   "cell_type": "code",
   "execution_count": 24,
   "id": "ad41cacd",
   "metadata": {},
   "outputs": [
    {
     "name": "stdout",
     "output_type": "stream",
     "text": [
      "3.5.1\n"
     ]
    }
   ],
   "source": [
    "import matplotlib\n",
    "print(matplotlib.__version__)\n",
    "import matplotlib.pyplot as plt"
   ]
  },
  {
   "cell_type": "code",
   "execution_count": 29,
   "id": "f8771ed7",
   "metadata": {},
   "outputs": [
    {
     "data": {
      "image/png": "[encoded data removed]",
      "text/plain": [
       "<Figure size 432x288 with 1 Axes>"
      ]
     },
     "metadata": {
      "needs_background": "light"
     },
     "output_type": "display_data"
    }
   ],
   "source": [
    "# importing matplotlib module \n",
    "from matplotlib import pyplot as plt\n",
    "  \n",
    "x = [5, 2, 9, 4, 7] # x-axis values\n",
    "y = [10, 5, 8, 4, 2] # Y-axis values\n",
    "  \n",
    "plt.bar(x,y) # Bar plot\n",
    "plt.plot(x,y) # Line plot\n",
    "plt.grid(True) # grid lines\n",
    "\n",
    "plt.xlabel('X-axis') # X axis label\n",
    "plt.ylabel('Y-axis') # Y-axis label\n",
    "plt.title('Bar plot') # Plot title\n",
    "  \n",
    "# show the plot\n",
    "plt.show()"
   ]
  },
  {
   "cell_type": "code",
   "execution_count": 3,
   "id": "9f951971",
   "metadata": {},
   "outputs": [
    {
     "name": "stdout",
     "output_type": "stream",
     "text": [
      "5 is a positive number.\n"
     ]
    }
   ],
   "source": [
    "# If the number is positive, we print an appropriate message\n",
    "\n",
    "num = 5\n",
    "if num > 0:\n",
    "    print(num, \"is a positive number.\")\n",
    "# print(\"This is always printed.\")\n",
    "\n",
    "num = -5\n",
    "if num > 0:\n",
    "    print(num, \"is a positive number.\")\n",
    "# print(\"This is also always printed.\")"
   ]
  },
  {
   "cell_type": "code",
   "execution_count": 5,
   "id": "2bc0169f",
   "metadata": {},
   "outputs": [
    {
     "name": "stdout",
     "output_type": "stream",
     "text": [
      "Positive number\n"
     ]
    }
   ],
   "source": [
    "# Program checks if the number is positive or negative\n",
    "# And displays an appropriate message\n",
    "\n",
    "num = 5\n",
    "\n",
    "# Try these two variations as well. \n",
    "# num = -5\n",
    "# num = 0\n",
    "\n",
    "if num >= 0:\n",
    "    print(\"Positive number\")\n",
    "else:\n",
    "    print(\"Negative number\")"
   ]
  },
  {
   "cell_type": "code",
   "execution_count": 8,
   "id": "f46779a5",
   "metadata": {},
   "outputs": [
    {
     "name": "stdout",
     "output_type": "stream",
     "text": [
      "Positive number\n"
     ]
    }
   ],
   "source": [
    "'''In this program, \n",
    "we check if the number is positive or negative or zero and display an appropriate message'''\n",
    "\n",
    "num = 5.2\n",
    "\n",
    "# Try these two variations as well:\n",
    "# num = 0\n",
    "# num = -4.5\n",
    "\n",
    "if num > 0:\n",
    "    print(\"Positive number\")\n",
    "elif num == 0:\n",
    "    print(\"Zero\")\n",
    "else:\n",
    "    print(\"Negative number\")"
   ]
  },
  {
   "cell_type": "code",
   "execution_count": 9,
   "id": "e2d5c45a",
   "metadata": {},
   "outputs": [
    {
     "data": {
      "text/plain": [
       "['False',\n",
       " 'None',\n",
       " 'True',\n",
       " 'and',\n",
       " 'as',\n",
       " 'assert',\n",
       " 'async',\n",
       " 'await',\n",
       " 'break',\n",
       " 'class',\n",
       " 'continue',\n",
       " 'def',\n",
       " 'del',\n",
       " 'elif',\n",
       " 'else',\n",
       " 'except',\n",
       " 'finally',\n",
       " 'for',\n",
       " 'from',\n",
       " 'global',\n",
       " 'if',\n",
       " 'import',\n",
       " 'in',\n",
       " 'is',\n",
       " 'lambda',\n",
       " 'nonlocal',\n",
       " 'not',\n",
       " 'or',\n",
       " 'pass',\n",
       " 'raise',\n",
       " 'return',\n",
       " 'try',\n",
       " 'while',\n",
       " 'with',\n",
       " 'yield']"
      ]
     },
     "execution_count": 9,
     "metadata": {},
     "output_type": "execute_result"
    }
   ],
   "source": [
    "import keyword\n",
    "keyword.kwlist"
   ]
  },
  {
   "cell_type": "markdown",
   "id": "fcb4c6bc",
   "metadata": {},
   "source": [
    "### Statement"
   ]
  },
  {
   "cell_type": "code",
   "execution_count": 10,
   "id": "beaf6926",
   "metadata": {},
   "outputs": [
    {
     "name": "stdout",
     "output_type": "stream",
     "text": [
      "45\n"
     ]
    }
   ],
   "source": [
    "A = 1+2+3+4+5+6+7+8+9\n",
    "print(A)"
   ]
  },
  {
   "cell_type": "markdown",
   "id": "3cb11bba",
   "metadata": {},
   "source": [
    "#### Multiline statement"
   ]
  },
  {
   "cell_type": "code",
   "execution_count": 11,
   "id": "121631ba",
   "metadata": {},
   "outputs": [
    {
     "name": "stdout",
     "output_type": "stream",
     "text": [
      "44\n"
     ]
    }
   ],
   "source": [
    "A = 1+2+3+\\\n",
    "4+5+6+\\\n",
    "7+7+9\n",
    "print(A)"
   ]
  },
  {
   "cell_type": "markdown",
   "id": "c49646eb",
   "metadata": {},
   "source": [
    "### Indentation"
   ]
  },
  {
   "cell_type": "code",
   "execution_count": 12,
   "id": "f6428050",
   "metadata": {},
   "outputs": [
    {
     "name": "stdout",
     "output_type": "stream",
     "text": [
      "1\n",
      "2\n",
      "3\n",
      "4\n",
      "5\n"
     ]
    }
   ],
   "source": [
    "for i in range(1,11):\n",
    "    print(i)\n",
    "    if i == 5:\n",
    "        break"
   ]
  },
  {
   "cell_type": "markdown",
   "id": "f00211f6",
   "metadata": {},
   "source": [
    "### Docstrings (documentation string)"
   ]
  },
  {
   "cell_type": "code",
   "execution_count": 16,
   "id": "38a8e52e",
   "metadata": {},
   "outputs": [
    {
     "name": "stdout",
     "output_type": "stream",
     "text": [
      "Function to double the value\n"
     ]
    }
   ],
   "source": [
    "def double(num):\n",
    "    \"\"\"Function to double the value\"\"\"\n",
    "    return 2*num\n",
    "print(double.__doc__)"
   ]
  },
  {
   "cell_type": "code",
   "execution_count": 1,
   "id": "44ef5b74",
   "metadata": {},
   "outputs": [
    {
     "name": "stdout",
     "output_type": "stream",
     "text": [
      "Welcome to Python Quiz\n",
      "Are you ready to play? (yes/no) :yes\n",
      "Question 1: What is your Favourite programming language?r\n",
      "Wrong Answer :(\n",
      "Question 2: Do you practice Python programming? yes\n",
      "correct\n",
      "Question 3: What is the name of your favourite tutor for learning Python?sarit\n",
      "correct\n",
      "Thankyou for Playing this small quiz game, you attempted 2 questions correctly!\n",
      "Marks obtained: 66.66666666666666\n",
      "BYE!\n"
     ]
    }
   ],
   "source": [
    "print('Welcome to Python Quiz')\n",
    "answer=input('Are you ready to play? (yes/no) :')\n",
    "score=0\n",
    "total_questions=3\n",
    " \n",
    "if answer.lower()=='yes':\n",
    "    answer=input('Question 1: What is your Favourite programming language?')\n",
    "    if answer.lower()=='python':\n",
    "        score += 1\n",
    "        print('correct')\n",
    "    else:\n",
    "        print('Wrong Answer :(')\n",
    " \n",
    " \n",
    "    answer=input('Question 2: Do you practice Python programming? ')\n",
    "    if answer.lower()=='yes':\n",
    "        score += 1\n",
    "        print('correct')\n",
    "    else:\n",
    "        print('Wrong Answer :(')\n",
    " \n",
    "    answer=input('Question 3: What is the name of your favourite tutor for learning Python?')\n",
    "    if answer.lower()=='sarit':\n",
    "        score += 1\n",
    "        print('correct')\n",
    "    else:\n",
    "        print('Wrong Answer :(')\n",
    " \n",
    "print('Thankyou for Playing this small quiz game, you attempted',score,\"questions correctly!\")\n",
    "mark=(score/total_questions)*100\n",
    "print('Marks obtained:',mark)\n",
    "print('BYE!')"
   ]
  },
  {
   "cell_type": "code",
   "execution_count": 26,
   "id": "56355e44",
   "metadata": {},
   "outputs": [],
   "source": [
    "# pip install pygame"
   ]
  },
  {
   "cell_type": "code",
   "execution_count": 2,
   "id": "a711cbac",
   "metadata": {},
   "outputs": [
    {
     "name": "stdout",
     "output_type": "stream",
     "text": [
      "pygame 2.1.2 (SDL 2.0.18, Python 3.8.12)\n",
      "Hello from the pygame community. https://www.pygame.org/contribute.html\n"
     ]
    }
   ],
   "source": [
    "# Simple pygame program\n",
    "\n",
    "# Import and initialize the pygame library\n",
    "import pygame\n",
    "pygame.init()\n",
    "\n",
    "# Set up the drawing window\n",
    "screen = pygame.display.set_mode([500, 500])\n",
    "\n",
    "# Run until the user asks to quit\n",
    "running = True\n",
    "while running:\n",
    "\n",
    "    # Did the user click the window close button?\n",
    "    for event in pygame.event.get():\n",
    "        if event.type == pygame.QUIT:\n",
    "            running = False\n",
    "\n",
    "    # Fill the background with white\n",
    "    screen.fill((255, 255, 255))\n",
    "\n",
    "    # Draw a solid blue circle in the center\n",
    "    pygame.draw.circle(screen, (0, 0, 255), (250, 250), 75)\n",
    "\n",
    "    # Flip the display\n",
    "    pygame.display.flip()\n",
    "\n",
    "# Done! Time to quit.\n",
    "pygame.quit()"
   ]
  },
  {
   "cell_type": "code",
   "execution_count": 3,
   "id": "6935aa32",
   "metadata": {},
   "outputs": [],
   "source": [
    "# pip install freegames"
   ]
  },
  {
   "cell_type": "code",
   "execution_count": 3,
   "id": "823d4ec4",
   "metadata": {},
   "outputs": [],
   "source": [
    "\"\"\"Pacman, classic arcade game.\n",
    "\n",
    "Exercises\n",
    "\n",
    "1. Change the board.\n",
    "2. Change the number of ghosts.\n",
    "3. Change where pacman starts.\n",
    "4. Make the ghosts faster/slower.\n",
    "5. Make the ghosts smarter.\n",
    "\"\"\"\n",
    "\n",
    "from random import choice\n",
    "from turtle import *\n",
    "\n",
    "from freegames import floor, vector\n",
    "\n",
    "state = {'score': 0}\n",
    "path = Turtle(visible=False)\n",
    "writer = Turtle(visible=False)\n",
    "aim = vector(5, 0)\n",
    "pacman = vector(-40, -80)\n",
    "ghosts = [\n",
    "    [vector(-180, 160), vector(5, 0)],\n",
    "    [vector(-180, -160), vector(0, 5)],\n",
    "    [vector(100, 160), vector(0, -5)],\n",
    "    [vector(100, -160), vector(-5, 0)],\n",
    "]\n",
    "# fmt: off\n",
    "tiles = [\n",
    "    0, 0, 0, 0, 0, 0, 0, 0, 0, 0, 0, 0, 0, 0, 0, 0, 0, 0, 0, 0,\n",
    "    0, 1, 1, 1, 1, 1, 1, 1, 0, 1, 1, 1, 1, 1, 1, 1, 0, 0, 0, 0,\n",
    "    0, 1, 0, 0, 1, 0, 0, 1, 0, 1, 0, 0, 1, 0, 0, 1, 0, 0, 0, 0,\n",
    "    0, 1, 1, 1, 1, 1, 1, 1, 1, 1, 1, 1, 1, 1, 1, 1, 0, 0, 0, 0,\n",
    "    0, 1, 0, 0, 1, 0, 1, 0, 0, 0, 1, 0, 1, 0, 0, 1, 0, 0, 0, 0,\n",
    "    0, 1, 1, 1, 1, 0, 1, 1, 0, 1, 1, 0, 1, 1, 1, 1, 0, 0, 0, 0,\n",
    "    0, 1, 0, 0, 1, 0, 0, 1, 0, 1, 0, 0, 1, 0, 0, 0, 0, 0, 0, 0,\n",
    "    0, 1, 0, 0, 1, 0, 1, 1, 1, 1, 1, 0, 1, 0, 0, 0, 0, 0, 0, 0,\n",
    "    0, 1, 1, 1, 1, 1, 1, 0, 0, 0, 1, 1, 1, 1, 1, 1, 0, 0, 0, 0,\n",
    "    0, 0, 0, 0, 1, 0, 1, 1, 1, 1, 1, 0, 1, 0, 0, 1, 0, 0, 0, 0,\n",
    "    0, 0, 0, 0, 1, 0, 1, 0, 0, 0, 1, 0, 1, 0, 0, 1, 0, 0, 0, 0,\n",
    "    0, 1, 1, 1, 1, 1, 1, 1, 0, 1, 1, 1, 1, 1, 1, 1, 0, 0, 0, 0,\n",
    "    0, 1, 0, 0, 1, 0, 0, 1, 0, 1, 0, 0, 0, 0, 0, 1, 0, 0, 0, 0,\n",
    "    0, 1, 1, 0, 1, 1, 1, 1, 1, 1, 1, 1, 1, 0, 1, 1, 0, 0, 0, 0,\n",
    "    0, 0, 1, 0, 1, 0, 1, 0, 0, 0, 1, 0, 1, 0, 1, 0, 0, 0, 0, 0,\n",
    "    0, 1, 1, 1, 1, 0, 1, 1, 0, 1, 1, 0, 1, 1, 1, 1, 0, 0, 0, 0,\n",
    "    0, 1, 0, 0, 0, 0, 0, 1, 0, 1, 0, 0, 0, 0, 0, 1, 0, 0, 0, 0,\n",
    "    0, 1, 1, 1, 1, 1, 1, 1, 1, 1, 1, 1, 1, 1, 1, 1, 0, 0, 0, 0,\n",
    "    0, 0, 0, 0, 0, 0, 0, 0, 0, 0, 0, 0, 0, 0, 0, 0, 0, 0, 0, 0,\n",
    "    0, 0, 0, 0, 0, 0, 0, 0, 0, 0, 0, 0, 0, 0, 0, 0, 0, 0, 0, 0,\n",
    "]\n",
    "# fmt: on\n",
    "\n",
    "\n",
    "def square(x, y):\n",
    "    \"\"\"Draw square using path at (x, y).\"\"\"\n",
    "    path.up()\n",
    "    path.goto(x, y)\n",
    "    path.down()\n",
    "    path.begin_fill()\n",
    "\n",
    "    for count in range(4):\n",
    "        path.forward(20)\n",
    "        path.left(90)\n",
    "\n",
    "    path.end_fill()\n",
    "\n",
    "\n",
    "def offset(point):\n",
    "    \"\"\"Return offset of point in tiles.\"\"\"\n",
    "    x = (floor(point.x, 20) + 200) / 20\n",
    "    y = (180 - floor(point.y, 20)) / 20\n",
    "    index = int(x + y * 20)\n",
    "    return index\n",
    "\n",
    "\n",
    "def valid(point):\n",
    "    \"\"\"Return True if point is valid in tiles.\"\"\"\n",
    "    index = offset(point)\n",
    "\n",
    "    if tiles[index] == 0:\n",
    "        return False\n",
    "\n",
    "    index = offset(point + 19)\n",
    "\n",
    "    if tiles[index] == 0:\n",
    "        return False\n",
    "\n",
    "    return point.x % 20 == 0 or point.y % 20 == 0\n",
    "\n",
    "\n",
    "def world():\n",
    "    \"\"\"Draw world using path.\"\"\"\n",
    "    bgcolor('black')\n",
    "    path.color('blue')\n",
    "\n",
    "    for index in range(len(tiles)):\n",
    "        tile = tiles[index]\n",
    "\n",
    "        if tile > 0:\n",
    "            x = (index % 20) * 20 - 200\n",
    "            y = 180 - (index // 20) * 20\n",
    "            square(x, y)\n",
    "\n",
    "            if tile == 1:\n",
    "                path.up()\n",
    "                path.goto(x + 10, y + 10)\n",
    "                path.dot(2, 'white')\n",
    "\n",
    "\n",
    "def move():\n",
    "    \"\"\"Move pacman and all ghosts.\"\"\"\n",
    "    writer.undo()\n",
    "    writer.write(state['score'])\n",
    "\n",
    "    clear()\n",
    "\n",
    "    if valid(pacman + aim):\n",
    "        pacman.move(aim)\n",
    "\n",
    "    index = offset(pacman)\n",
    "\n",
    "    if tiles[index] == 1:\n",
    "        tiles[index] = 2\n",
    "        state['score'] += 1\n",
    "        x = (index % 20) * 20 - 200\n",
    "        y = 180 - (index // 20) * 20\n",
    "        square(x, y)\n",
    "\n",
    "    up()\n",
    "    goto(pacman.x + 10, pacman.y + 10)\n",
    "    dot(20, 'yellow')\n",
    "\n",
    "    for point, course in ghosts:\n",
    "        if valid(point + course):\n",
    "            point.move(course)\n",
    "        else:\n",
    "            options = [\n",
    "                vector(5, 0),\n",
    "                vector(-5, 0),\n",
    "                vector(0, 5),\n",
    "                vector(0, -5),\n",
    "            ]\n",
    "            plan = choice(options)\n",
    "            course.x = plan.x\n",
    "            course.y = plan.y\n",
    "\n",
    "        up()\n",
    "        goto(point.x + 10, point.y + 10)\n",
    "        dot(20, 'red')\n",
    "\n",
    "    update()\n",
    "\n",
    "    for point, course in ghosts:\n",
    "        if abs(pacman - point) < 20:\n",
    "            return\n",
    "\n",
    "    ontimer(move, 100)\n",
    "\n",
    "\n",
    "def change(x, y):\n",
    "    \"\"\"Change pacman aim if valid.\"\"\"\n",
    "    if valid(pacman + vector(x, y)):\n",
    "        aim.x = x\n",
    "        aim.y = y\n",
    "\n",
    "\n",
    "setup(420, 420, 370, 0)\n",
    "hideturtle()\n",
    "tracer(False)\n",
    "writer.goto(160, 160)\n",
    "writer.color('white')\n",
    "writer.write(state['score'])\n",
    "listen()\n",
    "onkey(lambda: change(5, 0), 'Right')\n",
    "onkey(lambda: change(-5, 0), 'Left')\n",
    "onkey(lambda: change(0, 5), 'Up')\n",
    "onkey(lambda: change(0, -5), 'Down')\n",
    "world()\n",
    "move()\n",
    "done()\n",
    "\n",
    "\n"
   ]
  },
  {
   "cell_type": "code",
   "execution_count": null,
   "id": "864443dc",
   "metadata": {},
   "outputs": [],
   "source": []
  }
 ],
 "metadata": {
  "kernelspec": {
   "display_name": "Python 3 (ipykernel)",
   "language": "python",
   "name": "python3"
  },
  "language_info": {
   "codemirror_mode": {
    "name": "ipython",
    "version": 3
   },
   "file_extension": ".py",
   "mimetype": "text/x-python",
   "name": "python",
   "nbconvert_exporter": "python",
   "pygments_lexer": "ipython3",
   "version": "3.8.12"
  }
 },
 "nbformat": 4,
 "nbformat_minor": 5
}
