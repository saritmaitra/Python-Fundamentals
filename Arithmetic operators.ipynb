{
 "cells": [
  {
   "cell_type": "markdown",
   "id": "55a2c192",
   "metadata": {},
   "source": [
    "### Arithmetic operators in Python\n",
    "    Operator\tMeaning\t                                                                                          Example\n",
    "    +\t        Add two operands or unary plus\t                                                              x + y+ 2\n",
    "    -\t        Subtract right operand from the left or unary minus\t                                          x - y- 2\n",
    "    *\t        Multiply two operands\t                                                                      x * y\n",
    "    /\t        Divide left operand by the right one (always results into float)                              x / y\n",
    "    %\t        Modulus - remainder of the division of left operand by the right                              x % y               \n",
    "                                                                                                     (remainder of x/y)\n",
    "    //\t        Floor division - division that results into whole number adjusted to the left in the number line  x // y\n",
    "    **\t        Exponent - left operand raised to the power of right\t                                       x**y \n",
    "                                                                                                        (x to the power y)"
   ]
  },
  {
   "cell_type": "code",
   "execution_count": 1,
   "id": "f65e32fc",
   "metadata": {},
   "outputs": [
    {
     "name": "stdout",
     "output_type": "stream",
     "text": [
      "x + y = 19\n",
      "x - y = 11\n",
      "x * y = 60\n",
      "x / y = 3.75\n",
      "x // y = 3\n",
      "x ** y = 50625\n"
     ]
    }
   ],
   "source": [
    "x = 15\n",
    "y = 4\n",
    "\n",
    "# Output: x + y = 19\n",
    "print('x + y =',x+y)\n",
    "\n",
    "# Output: x - y = 11\n",
    "print('x - y =',x-y)\n",
    "\n",
    "# Output: x * y = 60\n",
    "print('x * y =',x*y)\n",
    "\n",
    "# Output: x / y = 3.75\n",
    "print('x / y =',x/y)\n",
    "\n",
    "# Output: x // y = 3\n",
    "print('x // y =',x//y)\n",
    "\n",
    "# Output: x ** y = 50625\n",
    "print('x ** y =',x**y)"
   ]
  },
  {
   "cell_type": "markdown",
   "id": "75368320",
   "metadata": {},
   "source": [
    "### Comparison operators\n",
    "Comparison operators are used to compare values. It returns either True or False according to the condition.\n",
    "\n",
    "       Operator\t          Meaning\t                                                          Example\n",
    "        >\t              Greater than - True if left operand is greater than the right\t      x > y\n",
    "        <\t              Less than - True if left operand is less than the right\t          x < y\n",
    "        ==\t              Equal to - True if both operands are equal\t                      x == y\n",
    "        !=\t              Not equal to - True if operands are not equal\t                      x != y\n",
    "        >=\t              Greater than or equal to - True if left operand is greater than or equal to the right\t\n",
    "                                                                                              x >= y\n",
    "        <=\t              Less than or equal to - True if left operand is less than or equal to the right\t\n",
    "                                                                                              x <= y"
   ]
  },
  {
   "cell_type": "code",
   "execution_count": 2,
   "id": "0029a7cb",
   "metadata": {},
   "outputs": [
    {
     "name": "stdout",
     "output_type": "stream",
     "text": [
      "x > y is False\n",
      "x < y is True\n",
      "x == y is False\n",
      "x != y is True\n",
      "x >= y is False\n",
      "x <= y is True\n"
     ]
    }
   ],
   "source": [
    "x = 10\n",
    "y = 12\n",
    "\n",
    "# Output: x > y is False\n",
    "print('x > y is',x>y)\n",
    "\n",
    "# Output: x < y is True\n",
    "print('x < y is',x<y)\n",
    "\n",
    "# Output: x == y is False\n",
    "print('x == y is',x==y)\n",
    "\n",
    "# Output: x != y is True\n",
    "print('x != y is',x!=y)\n",
    "\n",
    "# Output: x >= y is False\n",
    "print('x >= y is',x>=y)\n",
    "\n",
    "# Output: x <= y is True\n",
    "print('x <= y is',x<=y)"
   ]
  },
  {
   "cell_type": "markdown",
   "id": "9ece468a",
   "metadata": {},
   "source": [
    "#### Logical operators\n",
    "\n",
    "    Operator\t    Meaning\t                                             Example\n",
    "    and\t            True if both the operands are true\t                 x and y\n",
    "    or\t            True if either of the operands is true               x or y\n",
    "    not\t            True if operand is false (complements the operand)\t not x"
   ]
  },
  {
   "cell_type": "code",
   "execution_count": 3,
   "id": "e2323247",
   "metadata": {},
   "outputs": [
    {
     "name": "stdout",
     "output_type": "stream",
     "text": [
      "x and y is False\n",
      "x or y is True\n",
      "not x is False\n"
     ]
    }
   ],
   "source": [
    "x = True\n",
    "y = False\n",
    "\n",
    "print('x and y is',x and y)\n",
    "\n",
    "print('x or y is',x or y)\n",
    "\n",
    "print('not x is',not x)"
   ]
  },
  {
   "cell_type": "markdown",
   "id": "9dabb388",
   "metadata": {},
   "source": [
    "#### Assignment operators\n",
    "Assignment operators are used in Python to assign values to variables.\n",
    "\n",
    "a = 5 is a simple assignment operator that assigns the value 5 on the right to the variable a on the left.\n",
    "\n",
    "There are various compound operators in Python like a += 5 that adds to the variable and later assigns the same. It is equivalent to a = a + 5.\n",
    "\n",
    "    Operator\tExample\t            Equivalent to\n",
    "    =\t        x = 5\t            x = 5\n",
    "    +=\t        x += 5\t            x = x + 5\n",
    "    -=\t        x -= 5\t            x = x - 5\n",
    "    *=\t        x *= 5\t            x = x * 5\n",
    "    /=\t        x /= 5\t            x = x / 5\n",
    "    %=\t        x %= 5\t            x = x % 5\n",
    "    //=\t        x //= 5\t            x = x // 5\n",
    "    **=\t        x **= 5\t            x = x ** 5\n",
    "    &=\t        x &= 5\t            x = x & 5\n",
    "    |=\t        x |= 5\t            x = x | 5\n",
    "    ^=\t        x ^= 5\t            x = x ^ 5\n",
    "    >>=\t        x >>= 5\t            x = x >> 5\n",
    "    <<=\t        x <<= 5\t            x = x << 5"
   ]
  },
  {
   "cell_type": "markdown",
   "id": "138d5f61",
   "metadata": {},
   "source": [
    "#### Identity operators\n",
    "is and is not are the identity operators in Python. They are used to check if two values (or variables) are located on the same part of the memory. Two variables that are equal does not imply that they are identical.\n",
    "\n",
    "    Operator\tMeaning\t                                                                    Example\n",
    "    is\t        True if the operands are identical (refer to the same object)\t            x is True\n",
    "    is not\t    True if the operands are not identical (do not refer to the same object)\tx is not True"
   ]
  },
  {
   "cell_type": "code",
   "execution_count": 4,
   "id": "15e4fbfc",
   "metadata": {},
   "outputs": [
    {
     "name": "stdout",
     "output_type": "stream",
     "text": [
      "False\n",
      "True\n",
      "False\n"
     ]
    }
   ],
   "source": [
    "x1 = 5\n",
    "y1 = 5\n",
    "x2 = 'Hello'\n",
    "y2 = 'Hello'\n",
    "x3 = [1,2,3]\n",
    "y3 = [1,2,3]\n",
    "\n",
    "# Output: False\n",
    "print(x1 is not y1)\n",
    "\n",
    "# Output: True\n",
    "print(x2 is y2)\n",
    "\n",
    "# Output: False\n",
    "print(x3 is y3)"
   ]
  },
  {
   "cell_type": "markdown",
   "id": "cda7a6f8",
   "metadata": {},
   "source": [
    "Here, we see that x1 and y1 are integers of the same values, so they are equal as well as identical. Same is the case with x2 and y2 (strings).\n",
    "\n",
    "But x3 and y3 are lists. They are equal but not identical. It is because the interpreter locates them separately in memory although they are equal.\n",
    "\n",
    "#### Membership operators\n",
    "in and not in are the membership operators in Python. They are used to test whether a value or variable is found in a sequence (string, list, tuple, set and dictionary).\n",
    "\n",
    "In a dictionary we can only test for presence of key, not the value.\n",
    "\n",
    "    Operator\tMeaning\t                                             Example\n",
    "    in\t        True if value/variable is found in the sequence\t     5 in x\n",
    "    not in\t    True if value/variable is not found in the sequence\t 5 not in x\n",
    "\n"
   ]
  },
  {
   "cell_type": "code",
   "execution_count": 5,
   "id": "c94584b1",
   "metadata": {},
   "outputs": [
    {
     "name": "stdout",
     "output_type": "stream",
     "text": [
      "True\n",
      "True\n",
      "True\n",
      "False\n"
     ]
    }
   ],
   "source": [
    "x = 'Hello world'\n",
    "y = {1:'a',2:'b'}\n",
    "\n",
    "# Output: True\n",
    "print('H' in x)\n",
    "\n",
    "# Output: True\n",
    "print('hello' not in x)\n",
    "\n",
    "# Output: True\n",
    "print(1 in y)\n",
    "\n",
    "# Output: False\n",
    "print('a' in y)"
   ]
  },
  {
   "cell_type": "markdown",
   "id": "0cdd9b07",
   "metadata": {},
   "source": [
    "#### Python Variables\n",
    "A variable is a named location used to store data in the memory. It is helpful to think of variables as a container that holds data that can be changed later in the program. \n",
    "\n"
   ]
  },
  {
   "cell_type": "code",
   "execution_count": 6,
   "id": "054dcbc3",
   "metadata": {},
   "outputs": [],
   "source": [
    "# below we have created a variable named number. We have assigned the value 10 to the variable.\n",
    "number = 10"
   ]
  },
  {
   "cell_type": "code",
   "execution_count": 7,
   "id": "6ccbd4ef",
   "metadata": {},
   "outputs": [
    {
     "name": "stdout",
     "output_type": "stream",
     "text": [
      "google.com\n"
     ]
    }
   ],
   "source": [
    "website = \"google.com\"\n",
    "print(website)"
   ]
  },
  {
   "cell_type": "markdown",
   "id": "06823751",
   "metadata": {},
   "source": [
    "#### Changing the value of a variable"
   ]
  },
  {
   "cell_type": "code",
   "execution_count": 8,
   "id": "139b0abe",
   "metadata": {},
   "outputs": [
    {
     "name": "stdout",
     "output_type": "stream",
     "text": [
      "microsoft.com\n",
      "apple.com\n"
     ]
    }
   ],
   "source": [
    "website = \"microsoft.com\"\n",
    "print(website)\n",
    "\n",
    "# assigning a new value to website\n",
    "website = \"apple.com\"\n",
    "\n",
    "print(website)"
   ]
  },
  {
   "cell_type": "markdown",
   "id": "615e20a5",
   "metadata": {},
   "source": [
    "#### Assigning multiple values to multiple variables"
   ]
  },
  {
   "cell_type": "code",
   "execution_count": 9,
   "id": "1f0c3de7",
   "metadata": {},
   "outputs": [
    {
     "name": "stdout",
     "output_type": "stream",
     "text": [
      "5\n",
      "3.2\n",
      "Hello\n"
     ]
    }
   ],
   "source": [
    "a, b, c = 5, 3.2, \"Hello\"\n",
    "\n",
    "print (a)\n",
    "print (b)\n",
    "print (c)"
   ]
  },
  {
   "cell_type": "code",
   "execution_count": 10,
   "id": "246d051c",
   "metadata": {},
   "outputs": [
    {
     "name": "stdout",
     "output_type": "stream",
     "text": [
      "same\n",
      "same\n",
      "same\n"
     ]
    }
   ],
   "source": [
    "x = y = z = \"same\"\n",
    "\n",
    "print (x)\n",
    "print (y)\n",
    "print (z)"
   ]
  },
  {
   "cell_type": "markdown",
   "id": "cb460f5c",
   "metadata": {},
   "source": [
    "#### Constants\n",
    "A constant is a type of variable whose value cannot be changed. It is helpful to think of constants as containers that hold information which cannot be changed later.\n",
    "\n",
    "We can think of constants as a bag to store some books which cannot be replaced once placed inside the bag.\n",
    "\n",
    "#### Assigning value to constant \n",
    "- Constants are usually declared and assigned in a module. Here, the module is a new file containing variables, functions, etc which is imported to the main file. \n",
    "- Inside the module, constants are written in all capital letters and underscores separating the words.\n",
    "\n",
    "#### Declaring and assigning value to a constant"
   ]
  },
  {
   "cell_type": "code",
   "execution_count": 11,
   "id": "092c0f7e",
   "metadata": {},
   "outputs": [
    {
     "ename": "ModuleNotFoundError",
     "evalue": "No module named 'constant'",
     "output_type": "error",
     "traceback": [
      "\u001b[1;31m---------------------------------------------------------------------------\u001b[0m",
      "\u001b[1;31mModuleNotFoundError\u001b[0m                       Traceback (most recent call last)",
      "Input \u001b[1;32mIn [11]\u001b[0m, in \u001b[0;36m<cell line: 4>\u001b[1;34m()\u001b[0m\n\u001b[0;32m      1\u001b[0m PI \u001b[38;5;241m=\u001b[39m \u001b[38;5;241m3.14\u001b[39m\n\u001b[0;32m      2\u001b[0m GRAVITY \u001b[38;5;241m=\u001b[39m \u001b[38;5;241m9.8\u001b[39m\n\u001b[1;32m----> 4\u001b[0m \u001b[38;5;28;01mimport\u001b[39;00m \u001b[38;5;21;01mconstant\u001b[39;00m\n\u001b[0;32m      6\u001b[0m \u001b[38;5;28mprint\u001b[39m(constant\u001b[38;5;241m.\u001b[39mPI)\n\u001b[0;32m      7\u001b[0m \u001b[38;5;28mprint\u001b[39m(constant\u001b[38;5;241m.\u001b[39mGRAVITY)\n",
      "\u001b[1;31mModuleNotFoundError\u001b[0m: No module named 'constant'"
     ]
    }
   ],
   "source": [
    "create constant.py\n",
    "PI = 3.14\n",
    "GRAVITY = 9.8\n",
    "\n",
    "import constant\n",
    "\n",
    "print(constant.PI)\n",
    "print(constant.GRAVITY)"
   ]
  },
  {
   "cell_type": "markdown",
   "id": "a5be9134",
   "metadata": {},
   "source": [
    "In the above program, we create a constant.py module file. Then, we assign the constant value to PI and GRAVITY. After that, we create a main.py file and import the constant module. Finally, we print the constant value.\n",
    "\n",
    "#### Rules and Naming Convention for Variables and constants\n",
    "- Constant and variable names should have a combination of letters in lowercase (a to z) or uppercase (A to Z) or digits (0 to 9) or an underscore (_). For example:\n",
    "\n",
    "   - snake_case\n",
    "   - MACRO_CASE\n",
    "   - camelCase\n",
    "   - CapitalWords\n",
    "\n",
    "- Create a name that makes sense. For example, vowel makes more sense than v.\n",
    "- If we want to create a variable name having two words, use underscore to separate them. For example:\n",
    "    - my_name\n",
    "    - current_salary\n",
    "    \n",
    "- Use capital letters possible to declare a constant. For example:\n",
    "    - PI\n",
    "    - G\n",
    "    - MASS\n",
    "    - SPEED_OF_LIGHT\n",
    "    - TEMP\n",
    "    \n",
    "- Never use special symbols like !, @, #, $, %, etc.\n",
    "- Don't start a variable name with a digit.\n",
    "\n",
    "#### Literals\n",
    "Literal is a raw data given in a variable or constant. In Python, there are various types of literals they are as follows:\n",
    "\n",
    "#### Numeric Literals\n",
    "Numeric Literals are immutable (unchangeable). Numeric literals can belong to 3 different numerical types: Integer, Float, and Complex.\n",
    "\n",
    "#### Use Numeric literals \n"
   ]
  },
  {
   "cell_type": "code",
   "execution_count": 2,
   "id": "77d14a9b",
   "metadata": {},
   "outputs": [
    {
     "name": "stdout",
     "output_type": "stream",
     "text": [
      "10 100 200 300\n",
      "10.5 150.0\n",
      "3.14j 3.14 0.0\n"
     ]
    }
   ],
   "source": [
    "a = 0b1010 # Binary Literals\n",
    "b = 100    # Decimal Literal \n",
    "c = 0o310  # Octal Literal\n",
    "d = 0x12c  # Hexadecimal Literal\n",
    "\n",
    "# Float Literal\n",
    "float_1 = 10.5 \n",
    "float_2 = 1.5e2\n",
    "\n",
    "# Complex Literal \n",
    "x = 3.14j\n",
    "\n",
    "print(a, b, c, d)\n",
    "print(float_1, float_2)\n",
    "print(x, x.imag, x.real)"
   ]
  },
  {
   "cell_type": "markdown",
   "id": "0614aba0",
   "metadata": {},
   "source": [
    "In the above program,\n",
    "\n",
    "- We assigned integer literals into different variables. Here, a is binary literal, b is a decimal literal, c is an octal literal and d is a hexadecimal literal.\n",
    "- When we print the variables, all the literals are converted into decimal values.\n",
    "- 10.5 and 1.5e2 are floating-point literals. 1.5e2 is expressed with exponential and is equivalent to 1.5 * 102.\n",
    "- We assigned a complex literal i.e 3.14j in variable x. \n",
    "- Then we use imaginary literal (x.imag) and real literal (x.real) to create imaginary and real parts of complex numbers.\n",
    "\n",
    "\n",
    "#### String literals\n",
    "A string literal is a sequence of characters surrounded by quotes. We can use both single, double, or triple quotes for a string. And, a character literal is a single character surrounded by single or double quotes.\n",
    "\n",
    "#### String literals "
   ]
  },
  {
   "cell_type": "code",
   "execution_count": 3,
   "id": "cdd45cf2",
   "metadata": {},
   "outputs": [
    {
     "name": "stdout",
     "output_type": "stream",
     "text": [
      "We are at Alliance Uni\n",
      "A\n",
      "This is a multiline string with more than one line code.\n",
      "Ünicöde\n",
      "raw \\n string\n"
     ]
    }
   ],
   "source": [
    "strings = \"We are at Alliance Uni\"\n",
    "char = \"A\"\n",
    "multiline_str = \"\"\"This is a multiline string with more than one line code.\"\"\"\n",
    "unicode = u\"\\u00dcnic\\u00f6de\"\n",
    "raw_str = r\"raw \\n string\"\n",
    "\n",
    "print(strings)\n",
    "print(char)\n",
    "print(multiline_str)\n",
    "print(unicode)\n",
    "print(raw_str)"
   ]
  },
  {
   "cell_type": "markdown",
   "id": "75a17794",
   "metadata": {},
   "source": [
    "In the above program, \n",
    "- \"We are at Alliance Uni\" is a string literal and \"A\" is a character literal.\n",
    "- The value in triple-quotes \"\"\" assigned to the multiline_str is a multi-line string literal.\n",
    "- The string u\"\\u00dcnic\\u00f6de\" is a Unicode literal which supports characters other than English. \n",
    "- In this case, \\u00dc represents Ü and \\u00f6 represents ö.\n",
    "- r\"raw \\n string\" is a raw string literal.\n",
    "\n",
    "#### Boolean literals\n",
    "A Boolean literal can have any of the two values: True or False.\n",
    "\n",
    "#### use boolean literals "
   ]
  },
  {
   "cell_type": "code",
   "execution_count": 4,
   "id": "025fb312",
   "metadata": {},
   "outputs": [
    {
     "name": "stdout",
     "output_type": "stream",
     "text": [
      "x is True\n",
      "y is False\n",
      "a: 5\n",
      "b: 10\n"
     ]
    }
   ],
   "source": [
    "x = (1 == True)\n",
    "y = (1 == False)\n",
    "a = True + 4\n",
    "b = False + 10\n",
    "\n",
    "print(\"x is\", x)\n",
    "print(\"y is\", y)\n",
    "print(\"a:\", a)\n",
    "print(\"b:\", b)"
   ]
  },
  {
   "cell_type": "markdown",
   "id": "00b07b6c",
   "metadata": {},
   "source": [
    "In the above program, we use boolean literal True and False. In Python, True represents the value as 1 and False as 0. The value of x is True because 1 is equal to True. And, the value of y is False because 1 is not equal to False.\n",
    "\n",
    "Similarly, we can use the True and False in numeric expressions as the value. The value of a is 5 because we add True which has a value of 1 with 4. Similarly, b is 10 because we add the False having value of 0 with 10.\n",
    "\n",
    "#### Special literals\n",
    "Python contains one special literal i.e. None. We use it to specify that the field has not been created.\n",
    "\n",
    "#### special literals"
   ]
  },
  {
   "cell_type": "code",
   "execution_count": 5,
   "id": "84b16b85",
   "metadata": {},
   "outputs": [
    {
     "name": "stdout",
     "output_type": "stream",
     "text": [
      "Available\n",
      "None\n"
     ]
    }
   ],
   "source": [
    "drink = \"Available\"\n",
    "food = None\n",
    "\n",
    "def menu(x):\n",
    "    if x == drink:\n",
    "        print(drink)\n",
    "    else:\n",
    "        print(food)\n",
    "\n",
    "menu(drink)\n",
    "menu(food)"
   ]
  },
  {
   "cell_type": "markdown",
   "id": "12bce7a6",
   "metadata": {},
   "source": [
    "In the above program, we define a menu function. Inside menu, when we set the argument as drink then, it displays Available. And, when the argument is food, it displays None."
   ]
  },
  {
   "cell_type": "code",
   "execution_count": 6,
   "id": "09668153",
   "metadata": {},
   "outputs": [
    {
     "name": "stdout",
     "output_type": "stream",
     "text": [
      "['apple', 'mango', 'orange']\n",
      "(1, 2, 3)\n",
      "{'a': 'apple', 'b': 'ball', 'c': 'cat'}\n",
      "{'u', 'e', 'o', 'a', 'i'}\n"
     ]
    }
   ],
   "source": [
    "fruits = [\"apple\", \"mango\", \"orange\"]            #list\n",
    "numbers = (1, 2, 3)                              # tuple\n",
    "alphabets = {'a':'apple', 'b':'ball', 'c':'cat'} # dictionary\n",
    "vowels = {'a', 'e', 'i' , 'o', 'u'}              # set\n",
    "\n",
    "print(fruits)\n",
    "print(numbers)\n",
    "print(alphabets)\n",
    "print(vowels)"
   ]
  },
  {
   "cell_type": "markdown",
   "id": "c1f91af6",
   "metadata": {},
   "source": [
    "#### Data types in Python\n",
    "Every value in Python has a datatype. Since everything is an object in Python programming, data types are actually classes and variables are instance (object) of these classes.\n",
    "\n",
    "There are various data types in Python. Some of the important types are listed below.\n",
    "\n",
    "#### Python Numbers\n",
    "Integers, floating point numbers and complex numbers fall under Python numbers category. They are defined as int, float and complex classes in Python.\n",
    "\n",
    "We can use the type() function to know which class a variable or a value belongs to. Similarly, the isinstance() function is used to check if an object belongs to a particular class."
   ]
  },
  {
   "cell_type": "code",
   "execution_count": 7,
   "id": "d854e0dd",
   "metadata": {},
   "outputs": [
    {
     "name": "stdout",
     "output_type": "stream",
     "text": [
      "5 is of type <class 'int'>\n",
      "2.0 is of type <class 'float'>\n",
      "(1+2j) is complex number? True\n"
     ]
    }
   ],
   "source": [
    "a = 5\n",
    "print(a, \"is of type\", type(a))\n",
    "\n",
    "a = 2.0\n",
    "print(a, \"is of type\", type(a))\n",
    "\n",
    "a = 1+2j\n",
    "print(a, \"is complex number?\", isinstance(1+2j,complex))"
   ]
  },
  {
   "cell_type": "markdown",
   "id": "b42a3662",
   "metadata": {},
   "source": [
    "- Integers can be of any length, it is only limited by the memory available.\n",
    "- A floating-point number is accurate up to 15 decimal places. Integer and floating points are separated by decimal points. 1 is an integer, 1.0 is a floating-point number.\n",
    "- Complex numbers are written in the form, x + yj, where x is the real part and y is the imaginary part. Here are some examples.\n",
    "\n",
    "#### Tuple\n",
    "Tuple is an ordered sequence of items same as a list. The only difference is that tuples are immutable. Tuples once created cannot be modified.\n",
    "\n",
    "Tuples are used to write-protect data and are usually faster than lists as they cannot change dynamically.\n",
    "\n",
    "It is defined within parentheses () where items are separated by commas."
   ]
  },
  {
   "cell_type": "code",
   "execution_count": 8,
   "id": "04483474",
   "metadata": {},
   "outputs": [
    {
     "name": "stdout",
     "output_type": "stream",
     "text": [
      "t[1] =  program\n",
      "t[0:3] =  (5, 'program', (1+3j))\n"
     ]
    },
    {
     "ename": "TypeError",
     "evalue": "'tuple' object does not support item assignment",
     "output_type": "error",
     "traceback": [
      "\u001b[1;31m---------------------------------------------------------------------------\u001b[0m",
      "\u001b[1;31mTypeError\u001b[0m                                 Traceback (most recent call last)",
      "Input \u001b[1;32mIn [8]\u001b[0m, in \u001b[0;36m<cell line: 11>\u001b[1;34m()\u001b[0m\n\u001b[0;32m      7\u001b[0m \u001b[38;5;28mprint\u001b[39m(\u001b[38;5;124m\"\u001b[39m\u001b[38;5;124mt[0:3] = \u001b[39m\u001b[38;5;124m\"\u001b[39m, t[\u001b[38;5;241m0\u001b[39m:\u001b[38;5;241m3\u001b[39m])\n\u001b[0;32m      9\u001b[0m \u001b[38;5;66;03m# Generates error\u001b[39;00m\n\u001b[0;32m     10\u001b[0m \u001b[38;5;66;03m# Tuples are immutable\u001b[39;00m\n\u001b[1;32m---> 11\u001b[0m t[\u001b[38;5;241m0\u001b[39m] \u001b[38;5;241m=\u001b[39m \u001b[38;5;241m10\u001b[39m\n",
      "\u001b[1;31mTypeError\u001b[0m: 'tuple' object does not support item assignment"
     ]
    }
   ],
   "source": [
    "t = (5,'program', 1+3j)\n",
    "\n",
    "# t[1] = 'program'\n",
    "print(\"t[1] = \", t[1])\n",
    "\n",
    "# t[0:3] = (5, 'program', (1+3j))\n",
    "print(\"t[0:3] = \", t[0:3])\n",
    "\n",
    "# Generates error\n",
    "# Tuples are immutable\n",
    "t[0] = 10"
   ]
  },
  {
   "cell_type": "markdown",
   "id": "0f737291",
   "metadata": {},
   "source": [
    "#### Set\n",
    "Set is an unordered collection of unique items. Set is defined by values separated by comma inside braces { }. Items in a set are not ordered."
   ]
  },
  {
   "cell_type": "code",
   "execution_count": 9,
   "id": "ffe9c9d7",
   "metadata": {},
   "outputs": [
    {
     "name": "stdout",
     "output_type": "stream",
     "text": [
      "a =  {1, 2, 3, 4, 5}\n",
      "<class 'set'>\n"
     ]
    }
   ],
   "source": [
    "a = {5,2,3,1,4}\n",
    "\n",
    "# printing set variable\n",
    "print(\"a = \", a)\n",
    "\n",
    "# data type of variable a\n",
    "print(type(a))"
   ]
  },
  {
   "cell_type": "markdown",
   "id": "0b347a99",
   "metadata": {},
   "source": [
    "#### Dictionary\n",
    "Dictionary is an unordered collection of key-value pairs.\n",
    "\n",
    "It is generally used when we have a huge amount of data. Dictionaries are optimized for retrieving data. We must know the key to retrieve the value.\n",
    "\n",
    "In Python, dictionaries are defined within braces {} with each item being a pair in the form key:value. Key and value can be of any type."
   ]
  },
  {
   "cell_type": "code",
   "execution_count": 11,
   "id": "776af9a8",
   "metadata": {},
   "outputs": [
    {
     "name": "stdout",
     "output_type": "stream",
     "text": [
      "<class 'dict'>\n"
     ]
    }
   ],
   "source": [
    "d = {1:'value','key':2}\n",
    "print(type(d))"
   ]
  },
  {
   "cell_type": "markdown",
   "id": "72f8588e",
   "metadata": {},
   "source": [
    "We use key to retrieve the respective value. But not the other way around."
   ]
  },
  {
   "cell_type": "code",
   "execution_count": 12,
   "id": "fa52a6c8",
   "metadata": {},
   "outputs": [
    {
     "name": "stdout",
     "output_type": "stream",
     "text": [
      "<class 'dict'>\n",
      "d[1] =  value\n",
      "d['key'] =  2\n"
     ]
    },
    {
     "ename": "KeyError",
     "evalue": "2",
     "output_type": "error",
     "traceback": [
      "\u001b[1;31m---------------------------------------------------------------------------\u001b[0m",
      "\u001b[1;31mKeyError\u001b[0m                                  Traceback (most recent call last)",
      "Input \u001b[1;32mIn [12]\u001b[0m, in \u001b[0;36m<cell line: 9>\u001b[1;34m()\u001b[0m\n\u001b[0;32m      6\u001b[0m \u001b[38;5;28mprint\u001b[39m(\u001b[38;5;124m\"\u001b[39m\u001b[38;5;124md[\u001b[39m\u001b[38;5;124m'\u001b[39m\u001b[38;5;124mkey\u001b[39m\u001b[38;5;124m'\u001b[39m\u001b[38;5;124m] = \u001b[39m\u001b[38;5;124m\"\u001b[39m, d[\u001b[38;5;124m'\u001b[39m\u001b[38;5;124mkey\u001b[39m\u001b[38;5;124m'\u001b[39m])\n\u001b[0;32m      8\u001b[0m \u001b[38;5;66;03m# Generates error\u001b[39;00m\n\u001b[1;32m----> 9\u001b[0m \u001b[38;5;28mprint\u001b[39m(\u001b[38;5;124m\"\u001b[39m\u001b[38;5;124md[2] = \u001b[39m\u001b[38;5;124m\"\u001b[39m, \u001b[43md\u001b[49m\u001b[43m[\u001b[49m\u001b[38;5;241;43m2\u001b[39;49m\u001b[43m]\u001b[49m)\n",
      "\u001b[1;31mKeyError\u001b[0m: 2"
     ]
    }
   ],
   "source": [
    "d = {1:'value','key':2}\n",
    "print(type(d))\n",
    "\n",
    "print(\"d[1] = \", d[1])\n",
    "\n",
    "print(\"d['key'] = \", d['key'])\n",
    "\n",
    "# Generates error\n",
    "print(\"d[2] = \", d[2])"
   ]
  },
  {
   "cell_type": "markdown",
   "id": "517ce3db",
   "metadata": {},
   "source": [
    "#### Conversion between data types\n",
    "We can convert between different data types by using different type conversion functions like int(), float(), str(), etc."
   ]
  },
  {
   "cell_type": "code",
   "execution_count": 13,
   "id": "7a702b8d",
   "metadata": {},
   "outputs": [
    {
     "name": "stdout",
     "output_type": "stream",
     "text": [
      "type: float\n",
      "converted value: 9 , type: int\n"
     ]
    }
   ],
   "source": [
    "# conversion from float to int\n",
    "  \n",
    "num = 9.3\n",
    "  \n",
    "# printing data type of 'num' \n",
    "print('type:', \n",
    "      type(num).__name__)  \n",
    "  \n",
    "# conversion to int\n",
    "num = int(num)   \n",
    "  \n",
    "# printing data type of 'num' \n",
    "print('converted value:', num, \n",
    "      ', type:', type(num).__name__)"
   ]
  },
  {
   "cell_type": "markdown",
   "id": "755351ee",
   "metadata": {},
   "source": [
    "In most cases the int() function rounds off the result to an integer lesser than or equal to the input, but the behavior is neither definite nor predictable. One such example is shown below."
   ]
  },
  {
   "cell_type": "code",
   "execution_count": 14,
   "id": "d9d61258",
   "metadata": {},
   "outputs": [
    {
     "name": "stdout",
     "output_type": "stream",
     "text": [
      "5\n",
      "6\n"
     ]
    }
   ],
   "source": [
    "# example of unpredictable \n",
    "# behaviour of int()\n",
    "  \n",
    "num1 = 5.9\n",
    "num2 = 5.99999999999999999999\n",
    "  \n",
    "num1 = int(num1)\n",
    "num2 = int(num2)\n",
    "  \n",
    "print(num1, num2, sep = '\\n')"
   ]
  },
  {
   "cell_type": "code",
   "execution_count": null,
   "id": "295c5e4f",
   "metadata": {},
   "outputs": [],
   "source": []
  }
 ],
 "metadata": {
  "kernelspec": {
   "display_name": "Python 3 (ipykernel)",
   "language": "python",
   "name": "python3"
  },
  "language_info": {
   "codemirror_mode": {
    "name": "ipython",
    "version": 3
   },
   "file_extension": ".py",
   "mimetype": "text/x-python",
   "name": "python",
   "nbconvert_exporter": "python",
   "pygments_lexer": "ipython3",
   "version": "3.9.7"
  }
 },
 "nbformat": 4,
 "nbformat_minor": 5
}
