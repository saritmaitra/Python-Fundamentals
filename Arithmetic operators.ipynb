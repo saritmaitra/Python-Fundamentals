{
 "cells": [
  {
   "cell_type": "markdown",
   "id": "55a2c192",
   "metadata": {},
   "source": [
    "This contains brief demonstration of Python :\n",
    " 1. operators\n",
    " 2. variables\n",
    " 3. constants\n",
    " 4. naming convention\n",
    " 5. data types\n",
    " \n",
    "\n",
    "\n",
    "## Operators:\n",
    "Operators are special symbols that perform specific operations on one or more operands (values) and then return a result.\n",
    "### Arithmetic operators in Python\n",
    "    Operators\tOperation\t         Example\n",
    "    **\t        Exponent\t         2 ** 3 = 8\n",
    "    %\t        Modulus/Remainder\t 22 % 8 = 6\n",
    "    //\t        Integer division\t 22 // 8 = 2\n",
    "    /\t        Division\t         22 / 8 = 2.75\n",
    "    *\t        Multiplication\t     3 * 3 = 9\n",
    "    -\t        Subtraction\t         5 - 2 = 3\n",
    "    +\t        Addition\t         2 + 2 = 4"
   ]
  },
  {
   "cell_type": "code",
   "execution_count": 1,
   "id": "f65e32fc",
   "metadata": {},
   "outputs": [
    {
     "name": "stdout",
     "output_type": "stream",
     "text": [
      "x + y = 19\n",
      "x - y = 11\n",
      "x * y = 60\n",
      "x / y = 3.75\n",
      "x // y = 3\n",
      "x ** y = 50625\n"
     ]
    }
   ],
   "source": [
    "x = 15\n",
    "y = 4\n",
    "\n",
    "# Output: x + y = 19\n",
    "print('x + y =',x+y)\n",
    "\n",
    "# Output: x - y = 11\n",
    "print('x - y =',x-y)\n",
    "\n",
    "# Output: x * y = 60\n",
    "print('x * y =',x*y)\n",
    "\n",
    "# Output: x / y = 3.75\n",
    "print('x / y =',x/y)\n",
    "\n",
    "# Output: x // y = 3\n",
    "print('x // y =',x//y)\n",
    "\n",
    "# Output: x ** y = 50625\n",
    "print('x ** y =',x**y)"
   ]
  },
  {
   "cell_type": "markdown",
   "id": "597df8a4",
   "metadata": {},
   "source": [
    "### Addition operator +"
   ]
  },
  {
   "cell_type": "code",
   "execution_count": 2,
   "id": "126ae37f",
   "metadata": {},
   "outputs": [
    {
     "name": "stdout",
     "output_type": "stream",
     "text": [
      "50\n"
     ]
    }
   ],
   "source": [
    "x = 10\n",
    "y = 40\n",
    "print(x + y)"
   ]
  },
  {
   "cell_type": "code",
   "execution_count": 3,
   "id": "abed2cfb",
   "metadata": {},
   "outputs": [
    {
     "name": "stdout",
     "output_type": "stream",
     "text": [
      "Modi Veronica\n"
     ]
    }
   ],
   "source": [
    "name = \"Veronica\"\n",
    "surname = \"Modi\"\n",
    "print(surname + \" \" + name)"
   ]
  },
  {
   "cell_type": "markdown",
   "id": "c0fc299e",
   "metadata": {},
   "source": [
    "### Subtraction -"
   ]
  },
  {
   "cell_type": "code",
   "execution_count": 4,
   "id": "fd35b93f",
   "metadata": {},
   "outputs": [
    {
     "name": "stdout",
     "output_type": "stream",
     "text": [
      "30\n"
     ]
    }
   ],
   "source": [
    "x = 10\n",
    "y = 40\n",
    "print(y - x)"
   ]
  },
  {
   "cell_type": "markdown",
   "id": "d6e1e23d",
   "metadata": {},
   "source": [
    "### Multiplication *"
   ]
  },
  {
   "cell_type": "code",
   "execution_count": 5,
   "id": "32da0232",
   "metadata": {},
   "outputs": [
    {
     "name": "stdout",
     "output_type": "stream",
     "text": [
      "8\n",
      "40\n"
     ]
    }
   ],
   "source": [
    "x = 2\n",
    "y = 4\n",
    "z = 5\n",
    "print(x * y)\n",
    "\n",
    "print(x * y * z)"
   ]
  },
  {
   "cell_type": "code",
   "execution_count": 6,
   "id": "7fd9b615",
   "metadata": {},
   "outputs": [
    {
     "name": "stdout",
     "output_type": "stream",
     "text": [
      "JesicaJesicaJesica\n"
     ]
    }
   ],
   "source": [
    "name = \"Jesica\"\n",
    "print(name * 3)"
   ]
  },
  {
   "cell_type": "markdown",
   "id": "c43ab878",
   "metadata": {},
   "source": [
    "### Division"
   ]
  },
  {
   "cell_type": "code",
   "execution_count": 7,
   "id": "efe3ddf8",
   "metadata": {},
   "outputs": [
    {
     "name": "stdout",
     "output_type": "stream",
     "text": [
      "2.0\n",
      "1.0\n"
     ]
    }
   ],
   "source": [
    "x = 2\n",
    "y = 4\n",
    "z = 8\n",
    "print(y / x)\n",
    "\n",
    "print(z / y / x)\n",
    "\n",
    "# print(z / 0) # divide by 0 throws an error"
   ]
  },
  {
   "cell_type": "markdown",
   "id": "ead18691",
   "metadata": {},
   "source": [
    "### Floor division\n",
    "Floor division returns the quotient (the result of division) in which the digits after the decimal point are removed. In simple terms, It is used to divide one value by a second value and gives a quotient as a round figure value to the next smallest whole value.\n",
    "\n",
    "It works the same as a division operator, except it returns a possible integer. The // symbol denotes a floor division operator."
   ]
  },
  {
   "cell_type": "code",
   "execution_count": 8,
   "id": "52d7912a",
   "metadata": {},
   "outputs": [
    {
     "name": "stdout",
     "output_type": "stream",
     "text": [
      "2.0\n",
      "2\n",
      "1.8181818181818181\n",
      "1.0\n"
     ]
    }
   ],
   "source": [
    "x = 2\n",
    "y = 4\n",
    "z = 2.2\n",
    "\n",
    "# normal division\n",
    "print(y / x)\n",
    "\n",
    "# floor division to get result as integer\n",
    "print(y // x)\n",
    "\n",
    "# normal division\n",
    "print(y / z)  \n",
    "\n",
    "# floor division.\n",
    "# Result as float because one argument is float\n",
    "print(y // z)  "
   ]
  },
  {
   "cell_type": "markdown",
   "id": "ecd57060",
   "metadata": {},
   "source": [
    "### Modulus ℅\n",
    "- The remainder of the division of left operand by the right. \n",
    "- The modulus operator is denoted by a % symbol. \n",
    "- In simple terms, the Modulus operator divides one value by a second and gives the remainder as a result."
   ]
  },
  {
   "cell_type": "code",
   "execution_count": 9,
   "id": "864fc202",
   "metadata": {},
   "outputs": [
    {
     "name": "stdout",
     "output_type": "stream",
     "text": [
      "3\n"
     ]
    }
   ],
   "source": [
    "x = 15\n",
    "y = 4\n",
    "\n",
    "print(x % y)"
   ]
  },
  {
   "cell_type": "markdown",
   "id": "6c939ad8",
   "metadata": {},
   "source": [
    "### Exponent **\n",
    "- Using exponent operator left operand raised to the power of right. \n",
    "- The exponentiation operator is denoted by a double asterisk ** symbol. \n",
    "- We can use it as a shortcut to calculate the exponential value.\n",
    "\n",
    "For example, 2**3 here 2 is multiplied by itself 3 times, i.e., 2*2*2. Here the 2 is the base, and 3 is an exponent."
   ]
  },
  {
   "cell_type": "code",
   "execution_count": 10,
   "id": "a655535d",
   "metadata": {},
   "outputs": [
    {
     "name": "stdout",
     "output_type": "stream",
     "text": [
      "4\n",
      "8\n"
     ]
    }
   ],
   "source": [
    "num = 2\n",
    "# 2*2\n",
    "print(num ** 2) \n",
    "\n",
    "print(num ** 3)"
   ]
  },
  {
   "cell_type": "markdown",
   "id": "75368320",
   "metadata": {},
   "source": [
    "### Comparison operators\n",
    "Comparison operators are used to compare values. It returns either True or False according to the condition.\n",
    "\n",
    "       Operator\t          Meaning\t                                                          Example\n",
    "        >\t              Greater than - True if left operand is greater than the right\t      x > y\n",
    "        <\t              Less than - True if left operand is less than the right\t          x < y\n",
    "        ==\t              Equal to - True if both operands are equal\t                      x == y\n",
    "        !=\t              Not equal to - True if operands are not equal\t                      x != y\n",
    "        >=\t              Greater than or equal to - True if left operand is greater than or equal to the right\t\n",
    "                                                                                              x >= y\n",
    "        <=\t              Less than or equal to - True if left operand is less than or equal to the right\t\n",
    "                                                                                              x <= y\n",
    "                                                                                              \n",
    "We can compare more than two values also. Assume variable x holds 10, variable y holds 5, and variable z holds 2.\n",
    "\n",
    "So print(x > y > z) will return True because x is greater than y, and y is greater than z, so it makes x is greater than z."
   ]
  },
  {
   "cell_type": "code",
   "execution_count": 11,
   "id": "8cbf218c",
   "metadata": {},
   "outputs": [
    {
     "name": "stdout",
     "output_type": "stream",
     "text": [
      "True\n",
      "True\n",
      "False\n",
      "True\n",
      "False\n",
      "True\n",
      "True\n",
      "False\n",
      "True\n",
      "True\n",
      "False\n",
      "True\n"
     ]
    }
   ],
   "source": [
    "x = 10\n",
    "y = 5\n",
    "z = 2\n",
    "\n",
    "# > Greater than\n",
    "print(x > y)  # True\n",
    "print(x > y > z)  # True\n",
    "\n",
    "# < Less than\n",
    "print(x < y)  # False\n",
    "print(y < x)  # True\n",
    "\n",
    "# Equal to \n",
    "print(x == y)  # False \n",
    "print(x == 10)  # True \n",
    "\n",
    "# != Not Equal to \n",
    "print(x != y)  # True \n",
    "print(10 != x)  # False \n",
    "\n",
    "# >= Greater than equal to\n",
    "print(x >= y)  # True\n",
    "print(10 >= x)  # True\n",
    "\n",
    "# <= Less than equal to\n",
    "print(x <= y)  # False\n",
    "print(10 <= x)  # True"
   ]
  },
  {
   "cell_type": "code",
   "execution_count": 12,
   "id": "0029a7cb",
   "metadata": {},
   "outputs": [
    {
     "name": "stdout",
     "output_type": "stream",
     "text": [
      "x > y is False\n",
      "x < y is True\n",
      "x == y is False\n",
      "x != y is True\n",
      "x >= y is False\n",
      "x <= y is True\n"
     ]
    }
   ],
   "source": [
    "x = 10\n",
    "y = 12\n",
    "\n",
    "# Output: x > y is False\n",
    "print('x > y is',x>y)\n",
    "\n",
    "# Output: x < y is True\n",
    "print('x < y is',x<y)\n",
    "\n",
    "# Output: x == y is False\n",
    "print('x == y is',x==y)\n",
    "\n",
    "# Output: x != y is True\n",
    "print('x != y is',x!=y)\n",
    "\n",
    "# Output: x >= y is False\n",
    "print('x >= y is',x>=y)\n",
    "\n",
    "# Output: x <= y is True\n",
    "print('x <= y is',x<=y)"
   ]
  },
  {
   "cell_type": "markdown",
   "id": "9ece468a",
   "metadata": {},
   "source": [
    "#### 1. Logical operators\n",
    "\n",
    "    Operator\t    Meaning\t                                             Example\n",
    "    and\t            True if both the operands are true\t                 x and y\n",
    "    or\t            True if either of the operands is true               x or y\n",
    "    not\t            True if operand is false (complements the operand)\t not x"
   ]
  },
  {
   "cell_type": "code",
   "execution_count": 13,
   "id": "03fb5de5",
   "metadata": {},
   "outputs": [
    {
     "name": "stdout",
     "output_type": "stream",
     "text": [
      "False\n",
      "True\n",
      "False\n",
      "False\n",
      "8\n"
     ]
    }
   ],
   "source": [
    "print(True and False)  \n",
    "# both are True\n",
    "print(True and True) \n",
    "print(False and False)  \n",
    "print(False and True)  \n",
    "\n",
    "# actual use in code\n",
    "a = 2\n",
    "b = 4\n",
    "\n",
    "# Logical and\n",
    "if a > 0 and b > 0:\n",
    "    # both conditions are true\n",
    "    print(a * b)\n",
    "else:\n",
    "    print(\"Do nothing\")"
   ]
  },
  {
   "cell_type": "markdown",
   "id": "b4410b64",
   "metadata": {},
   "source": [
    "In the case of arithmetic values, Logical and always returns the second value; as a result, see the following example."
   ]
  },
  {
   "cell_type": "code",
   "execution_count": 14,
   "id": "30a506f1",
   "metadata": {},
   "outputs": [
    {
     "name": "stdout",
     "output_type": "stream",
     "text": [
      "20\n",
      "5\n",
      "300\n"
     ]
    }
   ],
   "source": [
    "print(10 and 20) \n",
    "print(10 and 5)  \n",
    "print(100 and 300) "
   ]
  },
  {
   "cell_type": "markdown",
   "id": "e81a3987",
   "metadata": {},
   "source": [
    "#### or (Logical or)\n",
    "The logical or the operator returns a boolean  True if one expression is true, and it returns False if both values are false."
   ]
  },
  {
   "cell_type": "code",
   "execution_count": 15,
   "id": "b5f35dda",
   "metadata": {},
   "outputs": [
    {
     "name": "stdout",
     "output_type": "stream",
     "text": [
      "True\n",
      "True\n",
      "False\n",
      "True\n",
      "6\n"
     ]
    }
   ],
   "source": [
    "print(True or False)  \n",
    "print(True or True)  \n",
    "print(False or False)   \n",
    "print(False or True)  \n",
    "\n",
    "# actual use in code\n",
    "a = 2\n",
    "b = 4\n",
    "\n",
    "# Logical and\n",
    "if a > 0 or b < 0:\n",
    "    # at least one expression is true so conditions is true\n",
    "    print(a + b)  # 6\n",
    "else:\n",
    "    print(\"Do nothing\")"
   ]
  },
  {
   "cell_type": "markdown",
   "id": "6c33f7e5",
   "metadata": {},
   "source": [
    "In the case of arithmetic values, Logical or it always returns the first value; as a result, see the following code."
   ]
  },
  {
   "cell_type": "code",
   "execution_count": 16,
   "id": "85a5f55a",
   "metadata": {},
   "outputs": [
    {
     "name": "stdout",
     "output_type": "stream",
     "text": [
      "10\n",
      "10\n",
      "100\n"
     ]
    }
   ],
   "source": [
    "print(10 or 20) \n",
    "print(10 or 5) \n",
    "print(100 or 300) "
   ]
  },
  {
   "cell_type": "markdown",
   "id": "8f37b246",
   "metadata": {},
   "source": [
    "#### not (Logical not)\n",
    "The logical not operator returns boolean True if the expression is false."
   ]
  },
  {
   "cell_type": "code",
   "execution_count": 17,
   "id": "27bba1d1",
   "metadata": {},
   "outputs": [
    {
     "name": "stdout",
     "output_type": "stream",
     "text": [
      "True\n",
      "False\n",
      "Do nothing\n"
     ]
    }
   ],
   "source": [
    "print(not False)  \n",
    "print(not True)  \n",
    "\n",
    "# actual use in code\n",
    "a = True\n",
    "\n",
    "# Logical not\n",
    "if not a:\n",
    "    # a is True so expression is False\n",
    "    print(a) \n",
    "else:\n",
    "    print(\"Do nothing\")"
   ]
  },
  {
   "cell_type": "markdown",
   "id": "14e8af1e",
   "metadata": {},
   "source": [
    "In the case of arithmetic values, Logical not always return False for nonzero value."
   ]
  },
  {
   "cell_type": "code",
   "execution_count": 18,
   "id": "138e004e",
   "metadata": {},
   "outputs": [
    {
     "name": "stdout",
     "output_type": "stream",
     "text": [
      "False\n",
      "False\n",
      "False\n",
      "True\n"
     ]
    }
   ],
   "source": [
    "print(not 10) \n",
    "print(not 1)  \n",
    "print(not 5)  \n",
    "print(not 0)  "
   ]
  },
  {
   "cell_type": "code",
   "execution_count": 19,
   "id": "e2323247",
   "metadata": {},
   "outputs": [
    {
     "name": "stdout",
     "output_type": "stream",
     "text": [
      "x and y is False\n",
      "x or y is True\n",
      "not x is False\n"
     ]
    }
   ],
   "source": [
    "x = True\n",
    "y = False\n",
    "\n",
    "print('x and y is',x and y)\n",
    "\n",
    "print('x or y is',x or y)\n",
    "\n",
    "print('not x is',not x)"
   ]
  },
  {
   "cell_type": "markdown",
   "id": "9dabb388",
   "metadata": {},
   "source": [
    "#### 2. Assignment operators\n",
    "Assignment operators are used in Python to assign values to variables.\n",
    "\n",
    "a = 5 is a simple assignment operator that assigns the value 5 on the right to the variable a on the left.\n",
    "\n",
    "There are various compound operators in Python like a += 5 that adds to the variable and later assigns the same. It is equivalent to a = a + 5.\n",
    "\n",
    "    Operator\tExample\t            Equivalent to\n",
    "    =\t        x = 5\t            x = 5\n",
    "    +=\t        x += 5\t            x = x + 5\n",
    "    -=\t        x -= 5\t            x = x - 5\n",
    "    *=\t        x *= 5\t            x = x * 5\n",
    "    /=\t        x /= 5\t            x = x / 5\n",
    "    %=\t        x %= 5\t            x = x % 5\n",
    "    //=\t        x //= 5\t            x = x // 5\n",
    "    **=\t        x **= 5\t            x = x ** 5\n",
    "    &=\t        x &= 5\t            x = x & 5\n",
    "    |=\t        x |= 5\t            x = x | 5\n",
    "    ^=\t        x ^= 5\t            x = x ^ 5\n",
    "    >>=\t        x >>= 5\t            x = x >> 5\n",
    "    <<=\t        x <<= 5\t            x = x << 5"
   ]
  },
  {
   "cell_type": "markdown",
   "id": "138d5f61",
   "metadata": {},
   "source": [
    "#### 3. Identity operators\n",
    "Use the Identity operator to check whether the value of two variables is the same or not. This operator is known as a reference-quality operator because the identity operator compares values according to two variables’ memory addresses.\n",
    "\n",
    "    Operator\tMeaning\t                                                                    Example\n",
    "    is\t        True if the operands are identical (refer to the same object)\t            x is True\n",
    "    is not\t    True if the operands are not identical (do not refer to the same object)\tx is not True\n",
    "    \n",
    "#### is operator\n",
    "The is operator returns Boolean True or False. It Return True if the memory address first value is equal to the second value. Otherwise, it returns False."
   ]
  },
  {
   "cell_type": "code",
   "execution_count": 20,
   "id": "0c3beb0c",
   "metadata": {},
   "outputs": [
    {
     "name": "stdout",
     "output_type": "stream",
     "text": [
      "False\n",
      "True\n"
     ]
    }
   ],
   "source": [
    "x = 10\n",
    "y = 11 \n",
    "z = 10\n",
    "print(x is y) # it compare memory address of x and y \n",
    "print(x is z) # it compare memory address of x and z"
   ]
  },
  {
   "cell_type": "markdown",
   "id": "777a13e5",
   "metadata": {},
   "source": [
    "Here, we can use is() function to check whether both variables are pointing to the same object or not.\n",
    "\n",
    "#### is not operator\n",
    "is not the operator returns boolean values either True or False. It Return True if the first value is not equal to the second value. Otherwise, it returns False."
   ]
  },
  {
   "cell_type": "code",
   "execution_count": 21,
   "id": "c2c7e6c5",
   "metadata": {},
   "outputs": [
    {
     "name": "stdout",
     "output_type": "stream",
     "text": [
      "True\n",
      "False\n"
     ]
    }
   ],
   "source": [
    "x = 10\n",
    "y = 11 \n",
    "z = 10\n",
    "print(x is not y) # it campare memory address of x and y \n",
    "print(x is not z) # it campare memory address of x and z"
   ]
  },
  {
   "cell_type": "code",
   "execution_count": 22,
   "id": "5f6ff07e",
   "metadata": {},
   "outputs": [
    {
     "name": "stdout",
     "output_type": "stream",
     "text": [
      "6\n",
      "2\n",
      "8\n",
      "2.0\n",
      "16\n",
      "1\n",
      "2\n"
     ]
    }
   ],
   "source": [
    "a = 4\n",
    "b = 2\n",
    "\n",
    "a += b\n",
    "print(a)  \n",
    "\n",
    "a = 4\n",
    "a -= 2\n",
    "print(a)  \n",
    "\n",
    "a = 4\n",
    "a *= 2\n",
    "print(a)  \n",
    "\n",
    "a = 4\n",
    "a /= 2\n",
    "print(a)  \n",
    "\n",
    "a = 4\n",
    "a **= 2\n",
    "print(a)  \n",
    "\n",
    "a = 5\n",
    "a %= 2\n",
    "print(a)  \n",
    "\n",
    "a = 4\n",
    "a //= 2\n",
    "print(a)  "
   ]
  },
  {
   "cell_type": "code",
   "execution_count": 23,
   "id": "15e4fbfc",
   "metadata": {},
   "outputs": [
    {
     "name": "stdout",
     "output_type": "stream",
     "text": [
      "False\n",
      "True\n",
      "False\n"
     ]
    }
   ],
   "source": [
    "x1 = 5\n",
    "y1 = 5\n",
    "x2 = 'Hello'\n",
    "y2 = 'Hello'\n",
    "x3 = [1,2,3]\n",
    "y3 = [1,2,3]\n",
    "\n",
    "# Output: False\n",
    "print(x1 is not y1)\n",
    "\n",
    "# Output: True\n",
    "print(x2 is y2)\n",
    "\n",
    "# Output: False\n",
    "print(x3 is y3)"
   ]
  },
  {
   "cell_type": "markdown",
   "id": "cda7a6f8",
   "metadata": {},
   "source": [
    "Here, we see that x1 and y1 are integers of the same values, so they are equal as well as identical. Same is the case with x2 and y2 (strings).\n",
    "\n",
    "But x3 and y3 are lists. They are equal but not identical. It is because the interpreter locates them separately in memory although they are equal.\n",
    "\n",
    "#### 4. Membership operators\n",
    "Python’s membership operators are used to check for membership of objects in sequence, such as string, list, tuple. It checks whether the given value or variable is present in a given sequence. If present, it will return True else False.\n",
    "\n",
    "In a dictionary we can only test for presence of key, not the value.\n",
    "\n",
    "    Operator\tMeaning\t                                             Example\n",
    "    in\t        True if value/variable is found in the sequence\t     5 in x\n",
    "    not in\t    True if value/variable is not found in the sequence\t 5 not in x\n",
    "    \n",
    "In Python, there are two membership operator in and not in\n",
    "\n",
    "#### In operator\n",
    "It returns a result as True if it finds a given object in the sequence. Otherwise, it returns False.\n",
    "\n",
    "Let’s check if the number 15 present in a given list using the in operator.\n",
    "\n"
   ]
  },
  {
   "cell_type": "code",
   "execution_count": 24,
   "id": "1c828d25",
   "metadata": {},
   "outputs": [
    {
     "name": "stdout",
     "output_type": "stream",
     "text": [
      "number is present\n"
     ]
    }
   ],
   "source": [
    "list = [11, 15, 21, 29, 50, 70]\n",
    "number = 15\n",
    "if number in list:\n",
    "    print(\"number is present\")\n",
    "else:\n",
    "    print(\"number is not present\")\n"
   ]
  },
  {
   "cell_type": "markdown",
   "id": "2208fcfe",
   "metadata": {},
   "source": [
    "#### Not in operator\n",
    "It returns True if the object is not present in a given sequence. Otherwise, it returns False"
   ]
  },
  {
   "cell_type": "code",
   "execution_count": 25,
   "id": "3f48c821",
   "metadata": {},
   "outputs": [
    {
     "name": "stdout",
     "output_type": "stream",
     "text": [
      "number is not present\n"
     ]
    }
   ],
   "source": [
    "tuple = (11, 15, 21, 29, 50, 70)\n",
    "number = 35\n",
    "if number not in tuple:\n",
    "    print(\"number is not present\")\n",
    "else:\n",
    "    print(\"number is present\")"
   ]
  },
  {
   "cell_type": "code",
   "execution_count": 26,
   "id": "c94584b1",
   "metadata": {},
   "outputs": [
    {
     "name": "stdout",
     "output_type": "stream",
     "text": [
      "True\n",
      "True\n",
      "True\n",
      "False\n"
     ]
    }
   ],
   "source": [
    "x = 'Hello world'\n",
    "y = {1:'a',2:'b'}\n",
    "\n",
    "# Output: True\n",
    "print('H' in x)\n",
    "\n",
    "# Output: True\n",
    "print('hello' not in x)\n",
    "\n",
    "# Output: True\n",
    "print(1 in y)\n",
    "\n",
    "# Output: False\n",
    "print('a' in y)"
   ]
  },
  {
   "cell_type": "markdown",
   "id": "cc907e04",
   "metadata": {},
   "source": [
    "### Bitwise Operators\n",
    "\n",
    "In Python, bitwise operators are used to performing bitwise operations on integers. To perform bitwise, we first need to convert integer value to binary (0 and 1) value.\n",
    "\n",
    "The bitwise operator operates on values bit by bit, so it’s called bitwise. It always returns the result in decimal format. Python has 6 bitwise operators listed below.\n",
    "\n",
    "    1. & Bitwise and\n",
    "    2. | Bitwise or\n",
    "    3. ^ Bitwise xor\n",
    "    4. ~ Bitwise 1’s complement\n",
    "    5. << Bitwise left-shift\n",
    "    6. >> Bitwise right-shift\n",
    "    \n",
    "#### Bitwise and &\n",
    "It performs logical AND operation on the integer value after converting an integer to a binary value and gives the result as a decimal value. It returns True only if both operands are True. Otherwise, it returns False."
   ]
  },
  {
   "cell_type": "code",
   "execution_count": 27,
   "id": "b1e708cc",
   "metadata": {},
   "outputs": [
    {
     "name": "stdout",
     "output_type": "stream",
     "text": [
      "4\n",
      "5\n",
      "4\n"
     ]
    }
   ],
   "source": [
    "a = 7\n",
    "b = 4\n",
    "c = 5\n",
    "print(a & b)\n",
    "print(a & c)\n",
    "print(b & c)"
   ]
  },
  {
   "cell_type": "markdown",
   "id": "d3229947",
   "metadata": {},
   "source": [
    "- Here, every integer value is converted into a binary value. \n",
    "- a =7, its binary value is 0111, \n",
    "- b=4, its binary value is 0100. \n",
    "- Next we performed logical AND, and got 0100 as a result, similarly for a and c, b and c\n",
    "\n",
    "#### Bitwise or |\n",
    "- It performs logical OR operation on the integer value after converting integer value to binary value and gives the result a decimal value. \n",
    "- It returns False only if both operands are True. Otherwise, it returns True."
   ]
  },
  {
   "cell_type": "code",
   "execution_count": 28,
   "id": "106787ba",
   "metadata": {},
   "outputs": [
    {
     "name": "stdout",
     "output_type": "stream",
     "text": [
      "7\n",
      "7\n",
      "5\n"
     ]
    }
   ],
   "source": [
    "a = 7\n",
    "b = 4\n",
    "c = 5\n",
    "print(a | b)\n",
    "print(a | c)\n",
    "print(b | c)"
   ]
  },
  {
   "cell_type": "markdown",
   "id": "210f479f",
   "metadata": {},
   "source": [
    "- Here, every integer value is converted into binary. \n",
    "- a =7 its binary value is 0111, \n",
    "- b=4, its binary value is 0100, \n",
    "- after logical OR, we got 0111 as a result. \n",
    "- Similarly for a and c, b and c.\n",
    "\n",
    "#### Bitwise xor ^\n",
    "It performs Logical XOR ^ operation on the binary value of a integer and gives the result as a decimal value.\n",
    "\n"
   ]
  },
  {
   "cell_type": "code",
   "execution_count": 29,
   "id": "88e60ead",
   "metadata": {},
   "outputs": [
    {
     "name": "stdout",
     "output_type": "stream",
     "text": [
      "2\n",
      "1\n"
     ]
    }
   ],
   "source": [
    "a = 7\n",
    "b = 4\n",
    "c = 5\n",
    "print(a ^ c)\n",
    "print(b ^ c)"
   ]
  },
  {
   "cell_type": "markdown",
   "id": "5e1b1984",
   "metadata": {},
   "source": [
    "- Here, again every integer value is converted into binary. \n",
    "- a =7 its binary value is 0111 \n",
    "- b=4, and its binary value is 0100, \n",
    "- after logical XOR we got 0011 as a result. \n",
    "- Similarly for a and c, b and c.\n",
    "\n",
    "#### Bitwise 1’s complement ~\n",
    "It performs 1’s complement operation. It invert each bit of binary value and returns the bitwise negation of a value as a result."
   ]
  },
  {
   "cell_type": "code",
   "execution_count": 30,
   "id": "ea93d79c",
   "metadata": {},
   "outputs": [
    {
     "name": "stdout",
     "output_type": "stream",
     "text": [
      "-8 -5 -4\n"
     ]
    }
   ],
   "source": [
    "a = 7\n",
    "b = 4\n",
    "c = 3\n",
    "print(~a, ~b, ~c)"
   ]
  },
  {
   "cell_type": "markdown",
   "id": "99bd9012",
   "metadata": {},
   "source": [
    "#### Bitwise left-shift <<\n",
    "The left-shift << operator performs a shifting bit of value by a given number of the place and fills 0’s to new positions."
   ]
  },
  {
   "cell_type": "code",
   "execution_count": 31,
   "id": "9245a07c",
   "metadata": {},
   "outputs": [
    {
     "name": "stdout",
     "output_type": "stream",
     "text": [
      "16\n",
      "40\n"
     ]
    }
   ],
   "source": [
    "print(4 << 2) \n",
    "\n",
    "print(5 << 3)\n"
   ]
  },
  {
   "cell_type": "markdown",
   "id": "262ab7af",
   "metadata": {},
   "source": [
    "- here (4 << 2) we have to shift to 2 bits\n",
    "- the binary value of 4 is =100\n",
    "- shifting every bit to the left with 2 spaces and |filling blank spaces with 0 i.e. 1 0 0 0 0 (this binary value =16)\n",
    "\n",
    "#### Bitwise right-shift >>\n",
    "The left-shift >> operator performs shifting a bit of value to the right by a given number of places. Here some bits are lost."
   ]
  },
  {
   "cell_type": "code",
   "execution_count": 32,
   "id": "acd035dd",
   "metadata": {},
   "outputs": [
    {
     "name": "stdout",
     "output_type": "stream",
     "text": [
      "1\n",
      "1\n"
     ]
    }
   ],
   "source": [
    "print(4 >> 2)\n",
    " \n",
    "print(5 >> 2)"
   ]
  },
  {
   "cell_type": "markdown",
   "id": "4fbf0183",
   "metadata": {},
   "source": [
    "### Precedence\n",
    "\n",
    "- Precedence and associativity play an essential role in solving the expression in Python. \n",
    "- An expression is the combination of variables and operators that evaluate based on operator precedence.\n",
    "- Operator precedence is used in an expression to determine which operation to perform first.\n",
    "\n",
    "    Operators\t                                           Meaning\n",
    "    ()\t                                                   Parentheses\n",
    "    **\t                                                   Exponent\n",
    "    +x, -x, ~x\t                                           Unary plus, Unary minus, Bitwise NOT\n",
    "    *, /, //, %\t                                           Multiplication, Division, Floor division, Modulus\n",
    "    +, -\t                                               Addition, Subtraction\n",
    "    <<, >>\t                                               Bitwise shift operators\n",
    "    &\t                                                   Bitwise AND\n",
    "    ^\t                                                   Bitwise XOR\n",
    "    |\t                                                   Bitwise OR\n",
    "    ==, !=, >, >=, <, <=, is, is not, in, not in\t       Comparisons, Identity, Membership operators\n",
    "    not\t                                                   Logical NOT\n",
    "    and\t                                                   Logical AND\n",
    "    or\t                                                   Logical OR"
   ]
  },
  {
   "cell_type": "code",
   "execution_count": null,
   "id": "555c9934",
   "metadata": {},
   "outputs": [],
   "source": []
  },
  {
   "cell_type": "code",
   "execution_count": 33,
   "id": "b3823da7",
   "metadata": {},
   "outputs": [
    {
     "name": "stdout",
     "output_type": "stream",
     "text": [
      "24\n"
     ]
    }
   ],
   "source": [
    "print((10 - 4) * 2 + (10+2))"
   ]
  },
  {
   "cell_type": "markdown",
   "id": "19c653da",
   "metadata": {},
   "source": [
    "In the above example. 1st precedence goes to a parenthesis(), then for plus and minus operators. The expression will be executed as \n",
    "\n",
    "    (10 - 4) * 2 +(10+2) \n",
    "    6 * 2 + 12 \n",
    "    12 + 12\n",
    "    \n",
    "    \n",
    "    Precedence level\t      Operator\t                            Meaning \n",
    "    1 (Highest)\t              ()\t                                Parenthesis\n",
    "    2\t                      **\t                                Exponent\n",
    "    3\t                      +x, -x ,~x\t                        Unary plus, Unary Minus, Bitwise negation\n",
    "    4\t                      *, /, //, %\t                        Multiplication, Division, Floor division, Modulus\n",
    "    5\t                      +, -\t                                Addition, Subtraction\n",
    "    6\t                      <<, >>\t                            Bitwise shift operator\n",
    "    7\t                      &\t                                    Bitwise AND\n",
    "    8\t                      ^\t                                    Bitwise XOR\n",
    "    9\t                      |\t                                    Bitwise OR\n",
    "    10\t                      ==, !=, >, >=, <, <=\t                Comparison\n",
    "    11\t                      is, is not, in, not in\t            Identity, Membership\n",
    "    12\t                      not\t                                Logical NOT\n",
    "    13\t                      and\t                                Logical AND\n",
    "    14(Lowest)\t              or\t                                Logical OR\n"
   ]
  },
  {
   "cell_type": "code",
   "execution_count": 34,
   "id": "443ebc80",
   "metadata": {},
   "outputs": [
    {
     "name": "stdout",
     "output_type": "stream",
     "text": [
      "Lunch being delivered\n"
     ]
    }
   ],
   "source": [
    "# Precedence of or & and\n",
    "meal = \"fruit_salad\"\n",
    "money = 0\n",
    "\n",
    "if meal == \"fruit_salad\" or meal == \"sandwich\" and money >= 2:\n",
    "    print(\"Lunch being delivered\")\n",
    "else:\n",
    "    print(\"Can't deliver lunch\")"
   ]
  },
  {
   "cell_type": "markdown",
   "id": "f53df4cf",
   "metadata": {},
   "source": [
    "- This program runs if block even when money is 0. \n",
    "- It does not give us the desired output since the precedence of and is higher than or."
   ]
  },
  {
   "cell_type": "code",
   "execution_count": 35,
   "id": "8a98fb70",
   "metadata": {},
   "outputs": [
    {
     "name": "stdout",
     "output_type": "stream",
     "text": [
      "Can't deliver lunch\n"
     ]
    }
   ],
   "source": [
    "# Precedence of or & and\n",
    "meal = \"fruit_salad\"\n",
    "money = 0\n",
    "\n",
    "if (meal == \"fruit\" or meal == \"sandwich\") and money >= 2:\n",
    "    print(\"Lunch being delivered\")\n",
    "else:\n",
    "    print(\"Can't deliver lunch\")"
   ]
  },
  {
   "cell_type": "markdown",
   "id": "961ab245",
   "metadata": {},
   "source": [
    "### input() Function"
   ]
  },
  {
   "cell_type": "code",
   "execution_count": 36,
   "id": "3cae0f81",
   "metadata": {},
   "outputs": [
    {
     "name": "stdout",
     "output_type": "stream",
     "text": [
      "What is your name?\n",
      "sarit\n",
      "It is good to meet you, sarit\n"
     ]
    }
   ],
   "source": [
    "print('What is your name?')   # ask for name\n",
    "myName = input()\n",
    "print('It is good to meet you, {}'.format(myName))"
   ]
  },
  {
   "cell_type": "markdown",
   "id": "67b60610",
   "metadata": {},
   "source": [
    "### Indentation"
   ]
  },
  {
   "cell_type": "code",
   "execution_count": 37,
   "id": "91aa3d5e",
   "metadata": {},
   "outputs": [
    {
     "name": "stdout",
     "output_type": "stream",
     "text": [
      "Logging on to Alliance Uni...\n",
      "All set !\n"
     ]
    }
   ],
   "source": [
    "site = 'allianceuni'\n",
    " \n",
    "if site == 'allianceuni':\n",
    "    print('Logging on to Alliance Uni...')\n",
    "else:\n",
    "    print('retype the URL.')\n",
    "print('All set !')"
   ]
  },
  {
   "cell_type": "code",
   "execution_count": 38,
   "id": "ac89d64b",
   "metadata": {},
   "outputs": [
    {
     "name": "stdout",
     "output_type": "stream",
     "text": [
      "1\n",
      "2\n",
      "3\n",
      "4\n",
      "5\n"
     ]
    }
   ],
   "source": [
    "j = 1\n",
    "while(j<= 5):\n",
    "    print(j)\n",
    "    j = j + 1"
   ]
  },
  {
   "cell_type": "markdown",
   "id": "0cdd9b07",
   "metadata": {},
   "source": [
    "## Variables\n",
    "A variable is a named location used to store data in the memory. It is helpful to think of variables as a container that holds data that can be changed later in the program. \n",
    "\n",
    "We can name a variable anything as long as it obeys the following rules:\n",
    "\n",
    "- It can be only one word.\n",
    "- It can use only letters, numbers, and the underscore (_) character.\n",
    "- It can’t begin with a number.\n",
    "- Variable name starting with an underscore (_) are considered as \"unuseful`."
   ]
  },
  {
   "cell_type": "code",
   "execution_count": 39,
   "id": "054dcbc3",
   "metadata": {},
   "outputs": [],
   "source": [
    "# below we have created a variable named number. We have assigned the value 10 to the variable.\n",
    "number = 10"
   ]
  },
  {
   "cell_type": "code",
   "execution_count": 40,
   "id": "6ccbd4ef",
   "metadata": {},
   "outputs": [
    {
     "name": "stdout",
     "output_type": "stream",
     "text": [
      "google.com\n"
     ]
    }
   ],
   "source": [
    "website = \"google.com\"\n",
    "print(website)"
   ]
  },
  {
   "cell_type": "markdown",
   "id": "06823751",
   "metadata": {},
   "source": [
    "### 1. Changing the value of a variable"
   ]
  },
  {
   "cell_type": "code",
   "execution_count": 41,
   "id": "139b0abe",
   "metadata": {},
   "outputs": [
    {
     "name": "stdout",
     "output_type": "stream",
     "text": [
      "microsoft.com\n",
      "apple.com\n"
     ]
    }
   ],
   "source": [
    "website = \"microsoft.com\"\n",
    "print(website)\n",
    "\n",
    "# assigning a new value to website\n",
    "website = \"apple.com\"\n",
    "\n",
    "print(website)"
   ]
  },
  {
   "cell_type": "markdown",
   "id": "11ef0a3e",
   "metadata": {},
   "source": [
    "#### Assign values to variables "
   ]
  },
  {
   "cell_type": "code",
   "execution_count": 42,
   "id": "1155b519",
   "metadata": {},
   "outputs": [
    {
     "name": "stdout",
     "output_type": "stream",
     "text": [
      "The value of a is: 15\n"
     ]
    }
   ],
   "source": [
    "# variable assignment upon condition using Direct Initialisation Method\n",
    " \n",
    "# initialising variable directly\n",
    "a = 15\n",
    " \n",
    "# printing value of a\n",
    "print (\"The value of a is: \" + str(a))"
   ]
  },
  {
   "cell_type": "markdown",
   "id": "edc19274",
   "metadata": {},
   "source": [
    "#### Using Conditional Operator"
   ]
  },
  {
   "cell_type": "code",
   "execution_count": 43,
   "id": "89d31f71",
   "metadata": {},
   "outputs": [
    {
     "name": "stdout",
     "output_type": "stream",
     "text": [
      "The value of a is:  1\n"
     ]
    }
   ],
   "source": [
    "# variable assignment upon condition using Conditional Operator\n",
    " \n",
    "# Initialising variables using Conditional Operator\n",
    "a = 1 if 20 > 10 else 0\n",
    " \n",
    "# Printing value of a\n",
    "print(\"The value of a is: \" , str(a))"
   ]
  },
  {
   "cell_type": "markdown",
   "id": "615e20a5",
   "metadata": {},
   "source": [
    "### 2. Assigning multiple values to multiple variables"
   ]
  },
  {
   "cell_type": "code",
   "execution_count": 44,
   "id": "1f0c3de7",
   "metadata": {},
   "outputs": [
    {
     "name": "stdout",
     "output_type": "stream",
     "text": [
      "5\n",
      "3.2\n",
      "Hello\n"
     ]
    }
   ],
   "source": [
    "a, b, c = 5, 3.2, \"Hello\"\n",
    "\n",
    "print (a)\n",
    "print (b)\n",
    "print (c)"
   ]
  },
  {
   "cell_type": "code",
   "execution_count": 45,
   "id": "246d051c",
   "metadata": {},
   "outputs": [
    {
     "name": "stdout",
     "output_type": "stream",
     "text": [
      "same\n",
      "same\n",
      "same\n"
     ]
    }
   ],
   "source": [
    "x = y = z = \"same\"\n",
    "\n",
    "print (x)\n",
    "print (y)\n",
    "print (z)"
   ]
  },
  {
   "cell_type": "markdown",
   "id": "cb460f5c",
   "metadata": {},
   "source": [
    "## Constants\n",
    "A constant is a type of variable whose value cannot be changed. It is helpful to think of constants as containers that hold information which cannot be changed later.\n",
    "\n",
    "### Assigning value to constant \n",
    "- Constants are usually declared and assigned in a module. Here, the module is a new file containing variables, functions, etc which is imported to the main file. \n",
    "- Inside the module, constants are written in all capital letters and underscores separating the words.\n",
    "\n",
    "#### Example "
   ]
  },
  {
   "cell_type": "code",
   "execution_count": 46,
   "id": "092c0f7e",
   "metadata": {},
   "outputs": [
    {
     "ename": "SyntaxError",
     "evalue": "invalid syntax (2863510805.py, line 1)",
     "output_type": "error",
     "traceback": [
      "\u001b[1;36m  Input \u001b[1;32mIn [46]\u001b[1;36m\u001b[0m\n\u001b[1;33m    create constant.py\u001b[0m\n\u001b[1;37m           ^\u001b[0m\n\u001b[1;31mSyntaxError\u001b[0m\u001b[1;31m:\u001b[0m invalid syntax\n"
     ]
    }
   ],
   "source": [
    "create constant.py\n",
    "PI = 3.14\n",
    "GRAVITY = 9.8\n",
    "\n",
    "import constant\n",
    "\n",
    "print(constant.PI)\n",
    "print(constant.GRAVITY)"
   ]
  },
  {
   "cell_type": "markdown",
   "id": "a5be9134",
   "metadata": {},
   "source": [
    "In the above program, we create a constant.py module file. Then, we assign the constant value to PI and GRAVITY. After that, we create a main.py file and import the constant module. Finally, we print the constant value.\n",
    "\n",
    "## Rules and Naming Convention for Variables and constants\n",
    "- Constant and variable names should have a combination of letters in lowercase (a to z) or uppercase (A to Z) or digits (0 to 9) or an underscore (_). For example:\n",
    "\n",
    "   - snake_case\n",
    "   - MACRO_CASE\n",
    "   - camelCase\n",
    "   - CapitalWords\n",
    "\n",
    "- Create a name that makes sense. For example, vowel makes more sense than v.\n",
    "- If we want to create a variable name having two words, use underscore to separate them. For example:\n",
    "    - my_name\n",
    "    - current_salary\n",
    "    \n",
    "- Use capital letters possible to declare a constant. For example:\n",
    "    - PI\n",
    "    - G\n",
    "    - MASS\n",
    "    - SPEED_OF_LIGHT\n",
    "    - TEMP\n",
    "    \n",
    "- Never use special symbols like !, @, #, $, %, etc.\n",
    "- Don't start a variable name with a digit.\n",
    "\n",
    "#### Literals\n",
    "Literal is a raw data given in a variable or constant. In Python, there are various types of literals they are as follows:\n",
    "\n",
    "#### Numeric Literals\n",
    "Numeric Literals are immutable (unchangeable). Numeric literals can belong to 3 different numerical types: Integer, Float, and Complex.\n",
    "\n",
    "#### Use Numeric literals \n"
   ]
  },
  {
   "cell_type": "code",
   "execution_count": null,
   "id": "77d14a9b",
   "metadata": {},
   "outputs": [],
   "source": [
    "a = 0b1010 # Binary Literals\n",
    "b = 100    # Decimal Literal \n",
    "c = 0o310  # Octal Literal\n",
    "d = 0x12c  # Hexadecimal Literal\n",
    "\n",
    "# Float Literal\n",
    "float_1 = 10.5 \n",
    "float_2 = 1.5e2\n",
    "\n",
    "# Complex Literal \n",
    "x = 3.14j\n",
    "\n",
    "print(a, b, c, d)\n",
    "print(float_1, float_2)\n",
    "print(x, x.imag, x.real)"
   ]
  },
  {
   "cell_type": "markdown",
   "id": "0614aba0",
   "metadata": {},
   "source": [
    "In the above program,\n",
    "\n",
    "- We assigned integer literals into different variables. Here, a is binary literal, b is a decimal literal, c is an octal literal and d is a hexadecimal literal.\n",
    "- When we print the variables, all the literals are converted into decimal values.\n",
    "- 10.5 and 1.5e2 are floating-point literals. 1.5e2 is expressed with exponential and is equivalent to 1.5 * 102.\n",
    "- We assigned a complex literal i.e 3.14j in variable x. \n",
    "- Then we use imaginary literal (x.imag) and real literal (x.real) to create imaginary and real parts of complex numbers.\n",
    "\n",
    "\n",
    "#### String literals\n",
    "A string literal is a sequence of characters surrounded by quotes. We can use both single, double, or triple quotes for a string. And, a character literal is a single character surrounded by single or double quotes.\n",
    "\n",
    "#### String literals "
   ]
  },
  {
   "cell_type": "code",
   "execution_count": null,
   "id": "cdd45cf2",
   "metadata": {},
   "outputs": [],
   "source": [
    "strings = \"We are at Alliance Uni\"\n",
    "char = \"A\"\n",
    "multiline_str = \"\"\"This is a multiline string with more than one line code.\"\"\"\n",
    "unicode = u\"\\u00dcnic\\u00f6de\"\n",
    "raw_str = r\"raw \\n string\"\n",
    "\n",
    "print(strings)\n",
    "print(char)\n",
    "print(multiline_str)\n",
    "print(unicode)\n",
    "print(raw_str)"
   ]
  },
  {
   "cell_type": "markdown",
   "id": "75a17794",
   "metadata": {},
   "source": [
    "In the above program, \n",
    "- \"We are at Alliance Uni\" is a string literal and \"A\" is a character literal.\n",
    "- The value in triple-quotes \"\"\" assigned to the multiline_str is a multi-line string literal.\n",
    "- The string u\"\\u00dcnic\\u00f6de\" is a Unicode literal which supports characters other than English. \n",
    "- In this case, \\u00dc represents Ü and \\u00f6 represents ö.\n",
    "- r\"raw \\n string\" is a raw string literal.\n",
    "\n",
    "#### Boolean literals\n",
    "A Boolean literal can have any of the two values: True or False.\n",
    "\n",
    "#### use boolean literals "
   ]
  },
  {
   "cell_type": "code",
   "execution_count": null,
   "id": "025fb312",
   "metadata": {},
   "outputs": [],
   "source": [
    "x = (1 == True)\n",
    "y = (1 == False)\n",
    "a = True + 4\n",
    "b = False + 10\n",
    "\n",
    "print(\"x is\", x)\n",
    "print(\"y is\", y)\n",
    "print(\"a:\", a)\n",
    "print(\"b:\", b)"
   ]
  },
  {
   "cell_type": "markdown",
   "id": "00b07b6c",
   "metadata": {},
   "source": [
    "In the above program, we use boolean literal True and False. In Python, True represents the value as 1 and False as 0. The value of x is True because 1 is equal to True. And, the value of y is False because 1 is not equal to False.\n",
    "\n",
    "Similarly, we can use the True and False in numeric expressions as the value. The value of a is 5 because we add True which has a value of 1 with 4. Similarly, b is 10 because we add the False having value of 0 with 10.\n",
    "\n",
    "#### Special literals\n",
    "Python contains one special literal i.e. None. We use it to specify that the field has not been created.\n",
    "\n",
    "#### special literals"
   ]
  },
  {
   "cell_type": "code",
   "execution_count": null,
   "id": "84b16b85",
   "metadata": {},
   "outputs": [],
   "source": [
    "drink = \"Available\"\n",
    "food = None\n",
    "\n",
    "def menu(x):\n",
    "    if x == drink:\n",
    "        print(drink)\n",
    "    else:\n",
    "        print(food)\n",
    "\n",
    "menu(drink)\n",
    "menu(food)"
   ]
  },
  {
   "cell_type": "markdown",
   "id": "12bce7a6",
   "metadata": {},
   "source": [
    "In the above program, we define a menu function. Inside menu, when we set the argument as drink then, it displays Available. And, when the argument is food, it displays None."
   ]
  },
  {
   "cell_type": "code",
   "execution_count": null,
   "id": "09668153",
   "metadata": {},
   "outputs": [],
   "source": [
    "fruits = [\"apple\", \"mango\", \"orange\"]            #list\n",
    "numbers = (1, 2, 3)                              # tuple\n",
    "alphabets = {'a':'apple', 'b':'ball', 'c':'cat'} # dictionary\n",
    "vowels = {'a', 'e', 'i' , 'o', 'u'}              # set\n",
    "\n",
    "print(fruits)\n",
    "print(numbers)\n",
    "print(alphabets)\n",
    "print(vowels)"
   ]
  },
  {
   "cell_type": "markdown",
   "id": "c1f91af6",
   "metadata": {},
   "source": [
    "## Data types in Python\n",
    "Every value in Python has a datatype. Since everything is an object in Python programming, data types are actually classes and variables are instance (object) of these classes.\n",
    "\n",
    "    Data Type\t            Examples\n",
    "    Integers\t            -2, -1, 0, 1, 2, 3, 4, 5\n",
    "    Floating-point numbers\t-1.25, -1.0, --0.5, 0.0, 0.5, 1.0, 1.25\n",
    "    Strings\t                'a', 'aa', 'aaa', 'Hello!', '11 cats'\n",
    "\n",
    "### 1. Python Numbers\n",
    "Integers, floating point numbers and complex numbers fall under Python numbers category. They are defined as int, float and complex classes in Python.\n",
    "\n",
    "We can use the type() function to know which class a variable or a value belongs to. Similarly, the isinstance() function is used to check if an object belongs to a particular class."
   ]
  },
  {
   "cell_type": "code",
   "execution_count": null,
   "id": "d854e0dd",
   "metadata": {},
   "outputs": [],
   "source": [
    "a = 5\n",
    "print(a, \"is of type\", type(a))\n",
    "\n",
    "a = 2.0\n",
    "print(a, \"is of type\", type(a))\n",
    "\n",
    "a = 1+2j\n",
    "print(a, \"is complex number?\", isinstance(1+2j,complex))"
   ]
  },
  {
   "cell_type": "markdown",
   "id": "b42a3662",
   "metadata": {},
   "source": [
    "- Integers can be of any length, it is only limited by the memory available.\n",
    "- A floating-point number is accurate up to 15 decimal places. Integer and floating points are separated by decimal points. 1 is an integer, 1.0 is a floating-point number.\n",
    "- Complex numbers are written in the form, x + yj, where x is the real part and y is the imaginary part. Here are some examples.\n",
    "\n",
    "### 2. Tuple\n",
    "Tuple is an ordered sequence of items same as a list. The only difference is that tuples are immutable. Tuples once created cannot be modified.\n",
    "\n",
    "Tuples are used to write-protect data and are usually faster than lists as they cannot change dynamically.\n",
    "\n",
    "It is defined within parentheses () where items are separated by commas."
   ]
  },
  {
   "cell_type": "code",
   "execution_count": null,
   "id": "04483474",
   "metadata": {},
   "outputs": [],
   "source": [
    "t = (5,'program', 1+3j)\n",
    "\n",
    "# t[1] = 'program'\n",
    "print(\"t[1] = \", t[1])\n",
    "\n",
    "# t[0:3] = (5, 'program', (1+3j))\n",
    "print(\"t[0:3] = \", t[0:3])\n",
    "\n",
    "# Generates error\n",
    "# Tuples are immutable\n",
    "t[0] = 10"
   ]
  },
  {
   "cell_type": "markdown",
   "id": "0f737291",
   "metadata": {},
   "source": [
    "### 3. Set\n",
    "Set is an unordered collection of unique items. Set is defined by values separated by comma inside braces { }. Items in a set are not ordered."
   ]
  },
  {
   "cell_type": "code",
   "execution_count": null,
   "id": "ffe9c9d7",
   "metadata": {},
   "outputs": [],
   "source": [
    "a = {5,2,3,1,4}\n",
    "\n",
    "# printing set variable\n",
    "print(\"a = \", a)\n",
    "\n",
    "# data type of variable a\n",
    "print(type(a))"
   ]
  },
  {
   "cell_type": "markdown",
   "id": "0b347a99",
   "metadata": {},
   "source": [
    "### 4. Dictionary\n",
    "Dictionary is an unordered collection of key-value pairs.\n",
    "\n",
    "It is generally used when we have a huge amount of data. Dictionaries are optimized for retrieving data. We must know the key to retrieve the value.\n",
    "\n",
    "In Python, dictionaries are defined within braces {} with each item being a pair in the form key:value. Key and value can be of any type."
   ]
  },
  {
   "cell_type": "code",
   "execution_count": null,
   "id": "776af9a8",
   "metadata": {},
   "outputs": [],
   "source": [
    "d = {1:'value','key':2}\n",
    "print(type(d))"
   ]
  },
  {
   "cell_type": "markdown",
   "id": "72f8588e",
   "metadata": {},
   "source": [
    "We use key to retrieve the respective value. But not the other way around."
   ]
  },
  {
   "cell_type": "code",
   "execution_count": null,
   "id": "fa52a6c8",
   "metadata": {},
   "outputs": [],
   "source": [
    "d = {1:'value','key':2}\n",
    "print(type(d))\n",
    "\n",
    "print(\"d[1] = \", d[1])\n",
    "\n",
    "print(\"d['key'] = \", d['key'])\n",
    "\n",
    "# Generates error\n",
    "print(\"d[2] = \", d[2])"
   ]
  },
  {
   "cell_type": "markdown",
   "id": "517ce3db",
   "metadata": {},
   "source": [
    "### Conversion between data types\n",
    "We can convert between different data types by using different type conversion functions like int(), float(), str(), etc."
   ]
  },
  {
   "cell_type": "code",
   "execution_count": null,
   "id": "7a702b8d",
   "metadata": {},
   "outputs": [],
   "source": [
    "# conversion from float to int\n",
    "  \n",
    "num = 9.3\n",
    "  \n",
    "# printing data type of 'num' \n",
    "print('type:', \n",
    "      type(num).__name__)  \n",
    "  \n",
    "# conversion to int\n",
    "num = int(num)   \n",
    "  \n",
    "# printing data type of 'num' \n",
    "print('converted value:', num, \n",
    "      ', type:', type(num).__name__)"
   ]
  },
  {
   "cell_type": "markdown",
   "id": "755351ee",
   "metadata": {},
   "source": [
    "In most cases the int() function rounds off the result to an integer lesser than or equal to the input, but the behavior is neither definite nor predictable. One such example is shown below."
   ]
  },
  {
   "cell_type": "code",
   "execution_count": null,
   "id": "d9d61258",
   "metadata": {},
   "outputs": [],
   "source": [
    "# example of unpredictable \n",
    "# behaviour of int()\n",
    "  \n",
    "num1 = 5.9\n",
    "num2 = 5.99999999999999999999\n",
    "  \n",
    "num1 = int(num1)\n",
    "num2 = int(num2)\n",
    "  \n",
    "print(num1, num2, sep = '\\n')"
   ]
  },
  {
   "cell_type": "markdown",
   "id": "30519792",
   "metadata": {},
   "source": [
    "### Condiional statements\n",
    "Python has six conditional statements that are used in decision-making:-\n",
    " 1. If the statement\n",
    " 2. If else statement\n",
    " 3. Nested if statement\n",
    " 4. If…Elif ladder\n",
    " 5. Short Hand if statement\n",
    " 6. Short Hand if-else statement"
   ]
  },
  {
   "cell_type": "markdown",
   "id": "740fec8c",
   "metadata": {},
   "source": [
    "#### 'if' statement"
   ]
  },
  {
   "cell_type": "code",
   "execution_count": null,
   "id": "06386848",
   "metadata": {},
   "outputs": [],
   "source": [
    "# If the condition is true, the statement will be executed.\n",
    "num = 5\n",
    "if num > 0:\n",
    "    print(num, \"is a positive number.\")\n",
    "print(\"This statement is true.\")"
   ]
  },
  {
   "cell_type": "code",
   "execution_count": null,
   "id": "c6eaad90",
   "metadata": {},
   "outputs": [],
   "source": [
    "a = 25\n",
    "b = 73\n",
    "if b > a:\n",
    "  print(\"b is greater than a\")"
   ]
  },
  {
   "cell_type": "markdown",
   "id": "c6b41eb3",
   "metadata": {},
   "source": [
    "#### 'if/else' statement\n",
    "\n"
   ]
  },
  {
   "cell_type": "code",
   "execution_count": null,
   "id": "bc642008",
   "metadata": {},
   "outputs": [],
   "source": [
    "# When the condition is true, the statement inside the if block is executed; \n",
    "# if the condition is false, the statement outside the if block is executed\n",
    "num = 5\n",
    "if num >= 0:\n",
    "    print(\"Positive or Zero\")\n",
    "else:\n",
    "     print(\"Negative number\")"
   ]
  },
  {
   "cell_type": "markdown",
   "id": "f6669b95",
   "metadata": {},
   "source": [
    "#### 'if/elif/else' statement\n",
    "In this case, the If condition is evaluated first. If it is false, the Elif statement will be executed; if it also comes false, the Else statement will be executed."
   ]
  },
  {
   "cell_type": "code",
   "execution_count": null,
   "id": "3702ee94",
   "metadata": {},
   "outputs": [],
   "source": [
    "num = 7\n",
    "if num > 0:\n",
    "    print(\"Positive number\")\n",
    "elif num == 0:\n",
    "    print(\"Zero\")\n",
    "else:\n",
    "    print(\"Negative number\")"
   ]
  },
  {
   "cell_type": "markdown",
   "id": "401eca83",
   "metadata": {},
   "source": [
    "### Nested IF Statement\n",
    "\n",
    "- A Nested IF statement is one in which an If statement is nestled inside another If statement. \n",
    "- This is used when a variable must be processed more than once. \n",
    "- If, If-else, and If…elif…else statements can be used in the program. \n",
    "- In Nested If statements, the indentation (whitespace at the beginning) to determine the scope of each statement should take precedence."
   ]
  },
  {
   "cell_type": "code",
   "execution_count": null,
   "id": "67a62f54",
   "metadata": {},
   "outputs": [],
   "source": [
    "num = 8\n",
    "if num >= 0:\n",
    "    if num == 0:\n",
    "        print(\"zero\")\n",
    "    else:\n",
    "        print(\"Positive number\")\n",
    "else:\n",
    "    print(\"Negative number\")"
   ]
  },
  {
   "cell_type": "code",
   "execution_count": null,
   "id": "c2ff3145",
   "metadata": {},
   "outputs": [],
   "source": [
    "price = 100\n",
    "quantity = 10\n",
    "amount = price * quantity\n",
    "\n",
    "if amount > 200:\n",
    "    if amount >1000:\n",
    "        print(\"The amount is greater than 1000\")\n",
    "    else:\n",
    "        if amount >800:\n",
    "            print(\"The amount is between 800 and 1000\")\n",
    "        elif amount >600:\n",
    "            print(\"The amount is between 600 and 1000\")\n",
    "        else:\n",
    "            print(\"The amount is between 400 and 1000\")\n",
    "elif amount == 200:\n",
    "    print(\"Amount is 200\")\n",
    "else:\n",
    "    print(\"Amount is less than 200\")"
   ]
  },
  {
   "cell_type": "markdown",
   "id": "b9ad33a3",
   "metadata": {},
   "source": [
    "### Python For Loops\n",
    "Looping means repeating something over and over until a particular condition is satisfied."
   ]
  },
  {
   "cell_type": "code",
   "execution_count": null,
   "id": "e78cd2bd",
   "metadata": {},
   "outputs": [],
   "source": [
    "fruits = [\"apple\", \"banana\", \"cherry\"]\n",
    "for x in fruits:\n",
    "    print(x)"
   ]
  },
  {
   "cell_type": "code",
   "execution_count": null,
   "id": "b5f2a3ae",
   "metadata": {},
   "outputs": [],
   "source": [
    "fruits = [\"apple\", \"banana\", \"cherry\"]\n",
    "for x in fruits:\n",
    "    print(x)\n",
    "    if x == \"banana\":\n",
    "        break"
   ]
  },
  {
   "cell_type": "code",
   "execution_count": null,
   "id": "34de8cfb",
   "metadata": {},
   "outputs": [],
   "source": [
    "# Python program to illustrate while loop\n",
    "count = 0\n",
    "while (count < 3):   \n",
    "    count = count + 1\n",
    "    print(\"Hello Alliance\")"
   ]
  },
  {
   "cell_type": "code",
   "execution_count": null,
   "id": "f624a6db",
   "metadata": {},
   "outputs": [],
   "source": [
    "count = 0\n",
    "while (count < 3):   \n",
    "    count = count + 1\n",
    "    print(\"Hello Alliance\")\n",
    "else:\n",
    "    print(\"In Else Block\")"
   ]
  },
  {
   "cell_type": "code",
   "execution_count": null,
   "id": "90758a92",
   "metadata": {},
   "outputs": [],
   "source": [
    "# infinite loop\n",
    "count = 0\n",
    "while (count == 0): \n",
    "    print(\"Hello Alliance\")"
   ]
  },
  {
   "cell_type": "code",
   "execution_count": null,
   "id": "541710f8",
   "metadata": {},
   "outputs": [],
   "source": [
    "n = 4\n",
    "for i in range(0, n):\n",
    "    print(i)"
   ]
  },
  {
   "cell_type": "code",
   "execution_count": null,
   "id": "518dcc3e",
   "metadata": {},
   "outputs": [],
   "source": []
  }
 ],
 "metadata": {
  "kernelspec": {
   "display_name": "Python 3 (ipykernel)",
   "language": "python",
   "name": "python3"
  },
  "language_info": {
   "codemirror_mode": {
    "name": "ipython",
    "version": 3
   },
   "file_extension": ".py",
   "mimetype": "text/x-python",
   "name": "python",
   "nbconvert_exporter": "python",
   "pygments_lexer": "ipython3",
   "version": "3.9.7"
  }
 },
 "nbformat": 4,
 "nbformat_minor": 5
}
