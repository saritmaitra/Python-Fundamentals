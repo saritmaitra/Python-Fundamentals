{
 "cells": [
  {
   "cell_type": "markdown",
   "id": "887aa196",
   "metadata": {},
   "source": [
    "## Modules\n",
    "\n",
    "- Modules are files with the < .py > extension containing Python code that can be imported inside another Python Program.\n",
    "- With modules, we can organise related functions, classes, or any code block in the same file. \n",
    "- We can break large code into smaller and more manageable pieces."
   ]
  },
  {
   "cell_type": "code",
   "execution_count": null,
   "id": "8e7bc630",
   "metadata": {},
   "outputs": [],
   "source": [
    "# my Python module (pyModule)\n",
    "def greeting(x):\n",
    "    print(\"Hello,\", x)\n",
    "    \n",
    "import pyModule\n",
    "# To call the greeting function of mypymodule, we simply need to use the dot notation:\n",
    "pyModule.greeting(\"Alliance\")\n"
   ]
  },
  {
   "cell_type": "code",
   "execution_count": null,
   "id": "06646a52",
   "metadata": {},
   "outputs": [],
   "source": [
    "# best to work on VS Code \n",
    "# save the below module as < myModule.py >\n",
    "\n",
    "student = {\n",
    "  \"name\": \"Deepa Nair\",\n",
    "  \"age\": 19,\n",
    "  \"country\": \"India\",\n",
    "  \"education\": \"Alliance Uni\"  \n",
    "}"
   ]
  },
  {
   "cell_type": "code",
   "execution_count": null,
   "id": "3479a4ea",
   "metadata": {},
   "outputs": [],
   "source": [
    "# Import < myModule > to access the student dictionary components\n",
    "\n",
    "import myModule\n",
    "\n",
    "x = myModule.student[\"age\"]\n",
    "y = myModule.student[\"education\"]\n",
    "z = myModule.student[\"country\"]\n",
    "\n",
    "print(x)"
   ]
  },
  {
   "cell_type": "code",
   "execution_count": null,
   "id": "b27b89d6",
   "metadata": {},
   "outputs": [],
   "source": [
    "# Rename Module\n",
    "# To rename the module name, create an alias when we import a module using < as > keyword\n",
    "\n",
    "import myModule as main_module\n",
    "\n",
    "x = main_module.student[\"age\"]\n",
    "y = main_module.student[\"education\"]\n",
    "z = main_module.student[\"country\"]\n",
    "\n",
    "print(x)"
   ]
  },
  {
   "cell_type": "markdown",
   "id": "f2ca66f3",
   "metadata": {},
   "source": [
    "### Import from Modules \n",
    "- If we want to choose to import only some parts from a module, we can use < from > keyword.\n",
    "\n",
    "For Example,\n",
    "- we have a module named myModule that has one function and one dictionary"
   ]
  },
  {
   "cell_type": "code",
   "execution_count": null,
   "id": "544bdc0b",
   "metadata": {},
   "outputs": [],
   "source": [
    "def welcome(name):\n",
    "    print(\"Hello, \" + name +\" to Alliance University\")"
   ]
  },
  {
   "cell_type": "code",
   "execution_count": null,
   "id": "7928107f",
   "metadata": {},
   "outputs": [],
   "source": [
    "student = {\n",
    "  \"name\": \"Deepa Nair\",\n",
    "  \"age\": 19,\n",
    "  \"country\": \"India\"\n",
    "  \"education\": \"Ryan International\"  \n",
    "}"
   ]
  },
  {
   "cell_type": "markdown",
   "id": "942b16dd",
   "metadata": {},
   "source": [
    "Let’s try to Import only the student dictionary from myModule"
   ]
  },
  {
   "cell_type": "code",
   "execution_count": null,
   "id": "837ce556",
   "metadata": {},
   "outputs": [],
   "source": [
    "from myModule import student\n",
    "print (student[\"age\"])"
   ]
  },
  {
   "cell_type": "markdown",
   "id": "3fb4a60a",
   "metadata": {},
   "source": [
    "## Takeaways:\n",
    "\n",
    "### Advantages of Modules\n",
    "\n",
    "#### Reusability\n",
    "- Working with modules makes the code reusable.\n",
    "\n",
    "#### Simplicity\n",
    "- The module focuses on a small proportion of the problem, rather than focusing on the entire problem.\n",
    "\n",
    "#### Scoping\n",
    "- A separate namespace is defined by a module that helps to avoid collisions between identifiers.\n"
   ]
  },
  {
   "cell_type": "code",
   "execution_count": 1,
   "id": "837411f3",
   "metadata": {},
   "outputs": [
    {
     "name": "stdout",
     "output_type": "stream",
     "text": [
      "\n",
      "Please wait a moment while I gather a list of all available modules...\n",
      "\n"
     ]
    },
    {
     "name": "stderr",
     "output_type": "stream",
     "text": [
      "C:\\Users\\sarit.maitra\\Anaconda3\\envs\\Python\\lib\\pkgutil.py:93: UserWarning: The numpy.array_api submodule is still experimental. See NEP 47.\n",
      "  __import__(info.name)\n",
      "C:\\Users\\sarit.maitra\\Anaconda3\\envs\\Python\\lib\\pkgutil.py:108: VisibleDeprecationWarning: zmq.eventloop.minitornado is deprecated in pyzmq 14.0 and will be removed.\n",
      "    Install tornado itself to use zmq with the tornado IOLoop.\n",
      "    \n",
      "  yield from walk_packages(path, info.name+'.', onerror)\n"
     ]
    },
    {
     "name": "stdout",
     "output_type": "stream",
     "text": [
      "IPython             binhex              marshal             string\n",
      "OpenSSL             bisect              math                stringprep\n",
      "PIL                 bleach              matplotlib          struct\n",
      "__future__          brotli              matplotlib_inline   subprocess\n",
      "_abc                builtins            mimetypes           sunau\n",
      "_aix_support        bz2                 mistune             symbol\n",
      "_argon2_cffi_bindings cProfile            mmap                symtable\n",
      "_ast                calendar            mmapfile            sys\n",
      "_asyncio            certifi             mmsystem            sysconfig\n",
      "_bisect             cffi                modulefinder        tabnanny\n",
      "_blake2             cgi                 msilib              tarfile\n",
      "_bootlocale         cgitb               msvcrt              telnetlib\n",
      "_bootsubprocess     charset_normalizer  multiprocessing     tempfile\n",
      "_bz2                chunk               nbclassic           terminado\n",
      "_cffi_backend       cmath               nbclient            test\n",
      "_codecs             cmd                 nbconvert           testpath\n",
      "_codecs_cn          code                nbformat            textwrap\n",
      "_codecs_hk          codecs              nest_asyncio        this\n",
      "_codecs_iso2022     codeop              netbios             threading\n",
      "_codecs_jp          collections         netrc               time\n",
      "_codecs_kr          colorama            nntplib             timeit\n",
      "_codecs_tw          colorsys            notebook            timer\n",
      "_collections        commctrl            nt                  tkinter\n",
      "_collections_abc    compileall          ntpath              token\n",
      "_compat_pickle      concurrent          ntsecuritycon       tokenize\n",
      "_compression        configparser        nturl2path          tornado\n",
      "_contextvars        constant            numbers             trace\n",
      "_csv                contextlib          numpy               traceback\n",
      "_ctypes             contextvars         odbc                tracemalloc\n",
      "_ctypes_test        copy                opcode              traitlets\n",
      "_datetime           copyreg             operator            tty\n",
      "_decimal            crypt               optparse            turtle\n",
      "_distutils_hack     cryptography        os                  turtledemo\n",
      "_elementtree        csv                 packaging           types\n",
      "_functools          ctypes              pandas              typing\n",
      "_hashlib            curses              pandocfilters       typing_extensions\n",
      "_heapq              cycler              parser              unicodedata\n",
      "_imp                dataclasses         parso               unittest\n",
      "_io                 datetime            pathlib             untitled\n",
      "_json               dateutil            pdb                 urllib\n",
      "_locale             dbi                 perfmon             urllib3\n",
      "_lsprof             dbm                 pickle              uu\n",
      "_lzma               dde                 pickleshare         uuid\n",
      "_markupbase         debugpy             pickletools         venv\n",
      "_md5                decimal             pip                 warnings\n",
      "_msi                decorator           pipes               wave\n",
      "_multibytecodec     defusedxml          pkg_resources       wcwidth\n",
      "_multiprocessing    difflib             pkgutil             weakref\n",
      "_opcode             dis                 platform            webbrowser\n",
      "_operator           distutils           plistlib            webencodings\n",
      "_osx_support        doctest             poplib              websocket\n",
      "_overlapped         email               posixpath           wheel\n",
      "_peg_parser         encodings           pprint              win2kras\n",
      "_pickle             ensurepip           profile             win32api\n",
      "_py_abc             entrypoints         prometheus_client   win32clipboard\n",
      "_pydecimal          enum                prompt_toolkit      win32com\n",
      "_pyio               errno               pstats              win32con\n",
      "_pyrsistent_version executing           pty                 win32console\n",
      "_queue              faulthandler        pure_eval           win32cred\n",
      "_random             filecmp             pvectorc            win32crypt\n",
      "_sha1               fileinput           py_compile          win32cryptcon\n",
      "_sha256             fnmatch             pyclbr              win32event\n",
      "_sha3               fontTools           pycparser           win32evtlog\n",
      "_sha512             formatter           pydoc               win32evtlogutil\n",
      "_signal             fractions           pydoc_data          win32file\n",
      "_sitebuiltins       ftplib              pyexpat             win32gui\n",
      "_socket             functools           pygments            win32gui_struct\n",
      "_sqlite3            gc                  pylab               win32help\n",
      "_sre                genericpath         pyparsing           win32inet\n",
      "_ssl                getopt              pyrsistent          win32inetcon\n",
      "_stat               getpass             pythoncom           win32job\n",
      "_statistics         gettext             pytz                win32lz\n",
      "_string             glob                pywin               win32net\n",
      "_strptime           graphlib            pywin32_bootstrap   win32netcon\n",
      "_struct             gzip                pywin32_testutil    win32pdh\n",
      "_symtable           hashlib             pywintypes          win32pdhquery\n",
      "_testbuffer         heapq               queue               win32pdhutil\n",
      "_testcapi           hmac                quopri              win32pipe\n",
      "_testconsole        html                random              win32print\n",
      "_testimportmultiple http                rasutil             win32process\n",
      "_testinternalcapi   idlelib             re                  win32profile\n",
      "_testmultiphase     idna                regcheck            win32ras\n",
      "_thread             imaplib             regutil             win32rcparser\n",
      "_threading_local    imghdr              reprlib             win32security\n",
      "_tkinter            imp                 requests            win32service\n",
      "_tracemalloc        importlib           rlcompleter         win32serviceutil\n",
      "_uuid               importlib_metadata  runpy               win32timezone\n",
      "_warnings           inspect             sched               win32trace\n",
      "_weakref            io                  secrets             win32traceutil\n",
      "_weakrefset         ipaddress           select              win32transaction\n",
      "_win32sysloader     ipykernel           selectors           win32ts\n",
      "_winapi             ipykernel_launcher  send2trash          win32ui\n",
      "_winxptheme         ipython_genutils    servicemanager      win32uiole\n",
      "_xxsubinterpreters  isapi               setuptools          win32verstamp\n",
      "_zoneinfo           itertools           shelve              win32wnet\n",
      "abc                 jedi                shlex               win_inet_pton\n",
      "adodbapi            jinja2              shutil              wincertstore\n",
      "afxres              json                signal              winerror\n",
      "aifc                json5               site                winioctlcon\n",
      "antigravity         jsonschema          six                 winnt\n",
      "anyio               jupyter             smtpd               winperf\n",
      "argon2              jupyter_client      smtplib             winpty\n",
      "argparse            jupyter_core        sndhdr              winreg\n",
      "array               jupyter_server      sniffio             winsound\n",
      "ast                 jupyterlab          socket              winxpgui\n",
      "asttokens           jupyterlab_pygments socketserver        winxptheme\n",
      "asynchat            jupyterlab_server   socks               wsgiref\n",
      "asyncio             keyword             sockshandler        xdrlib\n",
      "asyncore            kiwisolver          sqlite3             xml\n",
      "atexit              lib2to3             sre_compile         xmlrpc\n",
      "attr                linecache           sre_constants       xxsubtype\n",
      "attrs               locale              sre_parse           zipapp\n",
      "audioop             logging             ssl                 zipfile\n",
      "babel               lzma                sspi                zipimport\n",
      "backcall            mailbox             sspicon             zipp\n",
      "base64              mailcap             stack_data          zlib\n",
      "bdb                 main                stat                zmq\n",
      "binascii            markupsafe          statistics          zoneinfo\n",
      "\n",
      "Enter any module name to get more help.  Or, type \"modules spam\" to search\n",
      "for modules whose name or summary contain the string \"spam\".\n",
      "\n"
     ]
    }
   ],
   "source": [
    "# python built-in module\n",
    "help('modules') "
   ]
  },
  {
   "cell_type": "code",
   "execution_count": null,
   "id": "3616c1fa",
   "metadata": {},
   "outputs": [],
   "source": []
  }
 ],
 "metadata": {
  "kernelspec": {
   "display_name": "Python 3 (ipykernel)",
   "language": "python",
   "name": "python3"
  },
  "language_info": {
   "codemirror_mode": {
    "name": "ipython",
    "version": 3
   },
   "file_extension": ".py",
   "mimetype": "text/x-python",
   "name": "python",
   "nbconvert_exporter": "python",
   "pygments_lexer": "ipython3",
   "version": "3.9.7"
  }
 },
 "nbformat": 4,
 "nbformat_minor": 5
}
