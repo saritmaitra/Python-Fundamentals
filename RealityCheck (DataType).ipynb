{
 "cells": [
  {
   "cell_type": "markdown",
   "id": "9005df4c",
   "metadata": {},
   "source": [
    "### q1: \n",
    "In Python 3, the maximum value for an integer is 2**63 - 1:\n",
    "- True\n",
    "- False"
   ]
  },
  {
   "cell_type": "markdown",
   "id": "7f8732b5",
   "metadata": {},
   "source": [
    "### q2:\n",
    "print(r'fat\\\\cat\\nlion')\n",
    "\n",
    "Which of the following is the correct REPL output?\n",
    "- fat\\cat\\nlion\n",
    "- fat\\catlion\n",
    "- fat\\\\cat\\nlion\n",
    "- fat\\\\catnlion"
   ]
  },
  {
   "cell_type": "markdown",
   "id": "2a6c637b",
   "metadata": {},
   "source": [
    "### q3:\n",
    "which of the following is not a built-in python function?\n",
    "- diff()\n",
    "- isinstance()\n",
    "- repr()\n",
    "- round()\n",
    "- map()"
   ]
  },
  {
   "cell_type": "markdown",
   "id": "17ada34c",
   "metadata": {},
   "source": [
    "### q4:\n",
    "Select all the valid String creation in Python\n",
    "\n",
    "A. \n",
    "- str1 = 'str1'\n",
    "- str1 = \"str1\"\n",
    "- str1 = '''str'''\n",
    "\n",
    "B. \n",
    "- str1 = 'str1'\n",
    "- str1 = \"str1\"\"\n",
    "- str1 = '''str1''\n",
    "\n",
    "C.\n",
    "- str1 = str(Jessa)"
   ]
  },
  {
   "cell_type": "markdown",
   "id": "62a1f825",
   "metadata": {},
   "source": [
    "### q5:\n",
    "What is the output of the following code?\n",
    "\n",
    "    def func():\n",
    "        x = 50\n",
    "        return x\n",
    "    func()\n",
    "    print(x)\n",
    "    \n",
    "- 50\n",
    "- NameError\n",
    "- None\n",
    "- 0"
   ]
  },
  {
   "cell_type": "markdown",
   "id": "56437004",
   "metadata": {},
   "source": [
    "### q6:\n",
    "What is the output of -\n",
    "\n",
    "    print(type({}) is set)\n",
    "    \n",
    "- True\n",
    "- False"
   ]
  },
  {
   "cell_type": "markdown",
   "id": "bba5fe84",
   "metadata": {},
   "source": [
    "### q7:\n",
    "What is the data type of the following?\n",
    "\n",
    "        aTuple = (1, 'Jhon', 1+3j)\n",
    "        print(type(aTuple[2:3]))"
   ]
  },
  {
   "cell_type": "markdown",
   "id": "830dafd9",
   "metadata": {},
   "source": [
    "### q8:\n",
    "\n",
    "In Python 3, what is the output of \n",
    "\n",
    "    type(range(5)). \n",
    "    \n",
    "(What data type it will return).\n",
    "\n",
    "- int\n",
    "- list\n",
    "- range\n",
    "- None"
   ]
  },
  {
   "cell_type": "markdown",
   "id": "52ad5b8e",
   "metadata": {},
   "source": [
    "### q9:\n",
    "What is the data type of \n",
    "\n",
    "    print(type(0xFF))\n",
    "\n",
    "- number\n",
    "- hexint\n",
    "- hex\n",
    "- int"
   ]
  },
  {
   "cell_type": "markdown",
   "id": "02530a19",
   "metadata": {},
   "source": [
    "### q10:\n",
    "What is the output of the following code\n",
    "\n",
    "    print(bool(0), bool(3.14159), bool(-3), bool(1.0+1j))\n",
    "\n",
    " - False True False True\n",
    " - True True False True\n",
    " - True True False True\n",
    " - False True True True"
   ]
  },
  {
   "cell_type": "markdown",
   "id": "be8f75d1",
   "metadata": {},
   "source": [
    "### q11:\n",
    "What is the output of the following code?\n",
    "\n",
    "    x = 50\n",
    "    def fun():\n",
    "        x = 25\n",
    "        print(x)\n",
    "    \n",
    "    fun()\n",
    "    print(x)\n",
    "    \n",
    " - NameError\n",
    " - 25  25\n",
    " - 25  50"
   ]
  },
  {
   "cell_type": "markdown",
   "id": "926f2356",
   "metadata": {},
   "source": [
    "### q12:\n",
    "Select the right way to create a string literal Ault'Kelly\n",
    "\n",
    "    str = 'Aunt\\\\'Kelly'\n",
    "    str = 'Aunt\\'Kelly'\n",
    "    str = \"\"\"Aunt'Kelly\"\"\""
   ]
  },
  {
   "cell_type": "markdown",
   "id": "2803ac12",
   "metadata": {},
   "source": [
    "### q13:\n",
    "Please select the correct expression to reassign a global variable \"x\" to 20 inside a function fun()\n",
    "\n",
    "    x = 50\n",
    "    def fun1():\n",
    "        # code to assign global x = 20\n",
    "    \n",
    "    fun1()\n",
    "    print(x) # it should print 20\n",
    "    \n",
    "#### select  \n",
    "\n",
    "    global x =20\n",
    " \n",
    "    global var x\n",
    "    x = 20\n",
    " \n",
    "    global.x = 20\n",
    " \n",
    "    global x\n",
    "    x = 20"
   ]
  },
  {
   "cell_type": "markdown",
   "id": "aee73bb8",
   "metadata": {},
   "source": [
    "### q14:\n",
    "What is the data type of \n",
    "\n",
    "    print(type(10))\n",
    "\n",
    " - float\n",
    " - integer\n",
    " - int"
   ]
  },
  {
   "cell_type": "markdown",
   "id": "c7de9de7",
   "metadata": {},
   "source": [
    "### q16:\n",
    "What is the output of the following variable assignment?\n",
    "\n",
    "    x = 75\n",
    "    def func():\n",
    "        x = x + 1\n",
    "        print(x)\n",
    "\n",
    "    func()\n",
    "    print(x)\n",
    "    \n",
    "- Error\n",
    "- 76\n",
    "- 1\n",
    "- None"
   ]
  },
  {
   "cell_type": "code",
   "execution_count": null,
   "id": "8d8dbd93",
   "metadata": {},
   "outputs": [],
   "source": []
  }
 ],
 "metadata": {
  "kernelspec": {
   "display_name": "Python 3 (ipykernel)",
   "language": "python",
   "name": "python3"
  },
  "language_info": {
   "codemirror_mode": {
    "name": "ipython",
    "version": 3
   },
   "file_extension": ".py",
   "mimetype": "text/x-python",
   "name": "python",
   "nbconvert_exporter": "python",
   "pygments_lexer": "ipython3",
   "version": "3.9.7"
  }
 },
 "nbformat": 4,
 "nbformat_minor": 5
}
