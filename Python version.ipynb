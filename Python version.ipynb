{
 "cells": [
  {
   "cell_type": "code",
   "execution_count": 1,
   "id": "70ea5e2c",
   "metadata": {},
   "outputs": [
    {
     "name": "stdout",
     "output_type": "stream",
     "text": [
      "C:\\Users\\sarit.maitra\\Anaconda3\\envs\\Python\\python.exe\n",
      "3.9.7 (default, Sep 16 2021, 16:59:28) [MSC v.1916 64 bit (AMD64)]\n",
      "sys.version_info(major=3, minor=9, micro=7, releaselevel='final', serial=0)\n"
     ]
    }
   ],
   "source": [
    "# Check Python version\n",
    "import sys\n",
    "\n",
    "print(sys.executable)\n",
    "print(sys.version)\n",
    "print(sys.version_info)"
   ]
  },
  {
   "cell_type": "code",
   "execution_count": 2,
   "id": "e8f9777d",
   "metadata": {},
   "outputs": [
    {
     "name": "stdout",
     "output_type": "stream",
     "text": [
      "3.9.7\n"
     ]
    }
   ],
   "source": [
    "from platform import python_version\n",
    "\n",
    "print(python_version())"
   ]
  },
  {
   "cell_type": "markdown",
   "id": "6de962ba",
   "metadata": {},
   "source": [
    "### List of all keywords in Python"
   ]
  },
  {
   "cell_type": "code",
   "execution_count": 1,
   "id": "7c95917c",
   "metadata": {},
   "outputs": [
    {
     "name": "stdout",
     "output_type": "stream",
     "text": [
      "The list of keywords is : \n",
      "['False', 'None', 'True', '__peg_parser__', 'and', 'as', 'assert', 'async', 'await', 'break', 'class', 'continue', 'def', 'del', 'elif', 'else', 'except', 'finally', 'for', 'from', 'global', 'if', 'import', 'in', 'is', 'lambda', 'nonlocal', 'not', 'or', 'pass', 'raise', 'return', 'try', 'while', 'with', 'yield']\n"
     ]
    }
   ],
   "source": [
    "# importing \"keyword\" for keyword operations\n",
    "import keyword\n",
    "  \n",
    "# printing all keywords at once using \"kwlist()\"\n",
    "print(\"The list of keywords is : \")\n",
    "print(keyword.kwlist)"
   ]
  },
  {
   "cell_type": "markdown",
   "id": "b53fcf1c",
   "metadata": {},
   "source": [
    "### True, False, None\n",
    "- True: This keyword is used to represent a boolean true. If a statement is true, “True” is printed.\n",
    "- False: This keyword is used to represent a boolean false. If a statement is false, “False” is printed. \n",
    "- None: This is a special constant used to denote a null value or a void. \n",
    "\n",
    "It is an object of its datatype – NoneType. It is not possible to create multiple None objects and can assign them to variables.\n",
    "\n",
    "#### Boolean:\n",
    "In computer science, a boolean or bool is a data type with two possible values: true or false."
   ]
  },
  {
   "cell_type": "code",
   "execution_count": 2,
   "id": "50449ece",
   "metadata": {},
   "outputs": [
    {
     "name": "stdout",
     "output_type": "stream",
     "text": [
      "True\n",
      "True\n",
      "3\n",
      "1\n",
      "False\n",
      "False\n"
     ]
    }
   ],
   "source": [
    "print(False == 0)\n",
    "print(True == 1)\n",
    "  \n",
    "print(True + True + True)\n",
    "print(True + False + False)\n",
    "  \n",
    "print(None == 0)\n",
    "print(None == [])"
   ]
  },
  {
   "cell_type": "markdown",
   "id": "9c3706d3",
   "metadata": {},
   "source": [
    "### and, or, not, in, is\n",
    "- and: This a logical operator in python. \n",
    "- “and” Return the first false value. \n",
    "- If not found return last."
   ]
  },
  {
   "cell_type": "code",
   "execution_count": 11,
   "id": "41643704",
   "metadata": {},
   "outputs": [
    {
     "name": "stdout",
     "output_type": "stream",
     "text": [
      "return True\n"
     ]
    }
   ],
   "source": [
    "# \"not\" operator\n",
    " \n",
    "x = 10\n",
    " \n",
    "if not x > 10:\n",
    "    print(\"return True\")\n",
    "\n",
    "else:\n",
    "    print(\"return False\")"
   ]
  },
  {
   "cell_type": "markdown",
   "id": "4b0a706f",
   "metadata": {},
   "source": [
    "x > 10 is False, so not operator evaluated as True, thus the if statement is True and code inside the if statement executed."
   ]
  },
  {
   "cell_type": "code",
   "execution_count": 12,
   "id": "ed623f9f",
   "metadata": {},
   "outputs": [
    {
     "name": "stdout",
     "output_type": "stream",
     "text": [
      "Evaluated False\n"
     ]
    }
   ],
   "source": [
    "# 'not' operator\n",
    " \n",
    "x = 10\n",
    "if not x:\n",
    "    print(\"Evaluated True\")\n",
    "else:\n",
    "    print(\"Evaluated False\")"
   ]
  },
  {
   "cell_type": "markdown",
   "id": "a864d2c7",
   "metadata": {},
   "source": [
    "- The expression not x means if x is True or False. \n",
    "- In Python, if a variable is a numeric zero or empty, or a None object then it is considered as False, otherwise True. \n",
    "- In that case, as x = 10 so it is True. \n",
    "- As x is True, so not operator evaluated as False and else part executed. \n",
    "#### not with ‘in’ "
   ]
  },
  {
   "cell_type": "code",
   "execution_count": 15,
   "id": "b91cf06f",
   "metadata": {},
   "outputs": [
    {
     "name": "stdout",
     "output_type": "stream",
     "text": [
      "List Item:  5\n",
      "List Item:  15\n",
      "List Item:  20\n",
      "List Item:  30\n"
     ]
    }
   ],
   "source": [
    "# 'not' with 'in' operator\n",
    " \n",
    "list = [5, 10, 15, 20, 25, 30]\n",
    " \n",
    "for a in list:\n",
    "    if not a in (10,25):\n",
    "        print (\"List Item: \", a)"
   ]
  },
  {
   "cell_type": "markdown",
   "id": "732ad953",
   "metadata": {},
   "source": [
    "We can see, the items that evaluated False as using 'not' did not display."
   ]
  },
  {
   "cell_type": "code",
   "execution_count": 3,
   "id": "d27e460c",
   "metadata": {},
   "outputs": [
    {
     "name": "stdout",
     "output_type": "stream",
     "text": [
      "[21, 40.5, 33]\n"
     ]
    }
   ],
   "source": [
    "# Python program to illustrate a list \n",
    "  \n",
    "# creates a empty list\n",
    "nums = [] \n",
    "  \n",
    "# appending data in list\n",
    "nums.append(21)\n",
    "nums.append(40.5)\n",
    "nums.append(33)\n",
    "  \n",
    "print(nums)"
   ]
  },
  {
   "cell_type": "raw",
   "id": "f215b858",
   "metadata": {},
   "source": [
    "# is used for single line comment in Python\n",
    "\"\"\" this is a comment \"\"\" is used for multi line comments"
   ]
  },
  {
   "cell_type": "code",
   "execution_count": 4,
   "id": "631cd74c",
   "metadata": {},
   "outputs": [
    {
     "name": "stdout",
     "output_type": "stream",
     "text": [
      "Enter num1: 5\n",
      "Enter num2: 6\n",
      "Product is:  30\n"
     ]
    }
   ],
   "source": [
    "num1 = int(input(\"Enter num1: \"))\n",
    "num2 = int(input(\"Enter num2: \"))\n",
    "  \n",
    "num3 = num1 * num2\n",
    "print(\"Product is: \", num3)"
   ]
  },
  {
   "cell_type": "markdown",
   "id": "56fc54d8",
   "metadata": {},
   "source": [
    "## Selection\n",
    "\n",
    "Selection in Python is made using the two keywords ‘if’ and ‘elif’ and else (elseif)"
   ]
  },
  {
   "cell_type": "code",
   "execution_count": 5,
   "id": "fc488958",
   "metadata": {},
   "outputs": [
    {
     "name": "stdout",
     "output_type": "stream",
     "text": [
      "Num1 is good\n"
     ]
    }
   ],
   "source": [
    "# Python program to illustrate selection statement\n",
    "  \n",
    "num1 = 34\n",
    "if(num1>12):\n",
    "    print(\"Num1 is good\")\n",
    "elif(num1>35):\n",
    "    print(\"Num2 is not gooooo....\")\n",
    "else:\n",
    "    print(\"Num2 is great\")"
   ]
  },
  {
   "cell_type": "markdown",
   "id": "442ed25e",
   "metadata": {},
   "source": [
    "## Functions\n",
    "\n",
    "We can think of functions like a bunch of code that is intended to do a particular task in the whole Python script. Python used the keyword 'def' to define a function."
   ]
  },
  {
   "cell_type": "code",
   "execution_count": 7,
   "id": "72760afe",
   "metadata": {},
   "outputs": [
    {
     "name": "stdout",
     "output_type": "stream",
     "text": [
      "hello\n",
      "hello again\n",
      "hello\n",
      "hello again\n"
     ]
    }
   ],
   "source": [
    "# Python program to illustrate\n",
    "# functions\n",
    "def hello():\n",
    "    print(\"hello\")\n",
    "    print(\"hello again\")\n",
    "hello()\n",
    "  \n",
    "# calling function\n",
    "hello()  "
   ]
  },
  {
   "cell_type": "code",
   "execution_count": 8,
   "id": "0b42f4ef",
   "metadata": {},
   "outputs": [
    {
     "name": "stdout",
     "output_type": "stream",
     "text": [
      "Started\n",
      "Enter integer: 5\n",
      "5\n"
     ]
    }
   ],
   "source": [
    "# Python program to illustrate function with main\n",
    "def getInteger():\n",
    "    result = int(input(\"Enter integer: \"))\n",
    "    return result\n",
    "  \n",
    "def Main():\n",
    "    print(\"Started\")\n",
    "  \n",
    "    # calling the getInteger function and storing its returned value in the output variable\n",
    "    output = getInteger()     \n",
    "    print(output)\n",
    "\n",
    "# now we are required to tell Python for 'Main' function existence\n",
    "if __name__==\"__main__\":\n",
    "    Main()"
   ]
  },
  {
   "cell_type": "markdown",
   "id": "9d8947fd",
   "metadata": {},
   "source": [
    "## Iteration (Looping)\n",
    "\n",
    "As the name suggests it calls repeating things again and again. We will use the most popular ‘for’ loop here."
   ]
  },
  {
   "cell_type": "code",
   "execution_count": 9,
   "id": "b6c94933",
   "metadata": {},
   "outputs": [
    {
     "name": "stdout",
     "output_type": "stream",
     "text": [
      "0\n",
      "1\n",
      "2\n",
      "3\n",
      "4\n"
     ]
    }
   ],
   "source": [
    "# Python program to illustrate a simple for loop\n",
    "  \n",
    "for step in range(5):    \n",
    "    print(step)"
   ]
  },
  {
   "cell_type": "markdown",
   "id": "60373f53",
   "metadata": {},
   "source": [
    "## Module"
   ]
  },
  {
   "cell_type": "code",
   "execution_count": 11,
   "id": "59cbe5a2",
   "metadata": {},
   "outputs": [
    {
     "name": "stdout",
     "output_type": "stream",
     "text": [
      "85.0\n"
     ]
    }
   ],
   "source": [
    "# Python program to illustrate math module\n",
    "import math\n",
    "  \n",
    "def Main():\n",
    "    num = -85\n",
    "  \n",
    "    # fabs is used to get the absolute value of a decimal\n",
    "    number = math.fabs(num) \n",
    "    print(number)\n",
    "      \n",
    "if __name__==\"__main__\":\n",
    "    Main()"
   ]
  },
  {
   "cell_type": "code",
   "execution_count": null,
   "id": "975848b8",
   "metadata": {},
   "outputs": [],
   "source": []
  }
 ],
 "metadata": {
  "kernelspec": {
   "display_name": "Python 3 (ipykernel)",
   "language": "python",
   "name": "python3"
  },
  "language_info": {
   "codemirror_mode": {
    "name": "ipython",
    "version": 3
   },
   "file_extension": ".py",
   "mimetype": "text/x-python",
   "name": "python",
   "nbconvert_exporter": "python",
   "pygments_lexer": "ipython3",
   "version": "3.9.7"
  }
 },
 "nbformat": 4,
 "nbformat_minor": 5
}
