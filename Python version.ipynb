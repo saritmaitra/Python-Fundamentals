{
 "cells": [
  {
   "cell_type": "code",
   "execution_count": 1,
   "id": "70ea5e2c",
   "metadata": {},
   "outputs": [
    {
     "name": "stdout",
     "output_type": "stream",
     "text": [
      "C:\\Users\\sarit.maitra\\Anaconda3\\envs\\Python\\python.exe\n",
      "3.9.7 (default, Sep 16 2021, 16:59:28) [MSC v.1916 64 bit (AMD64)]\n",
      "sys.version_info(major=3, minor=9, micro=7, releaselevel='final', serial=0)\n"
     ]
    }
   ],
   "source": [
    "import sys\n",
    "print(sys.executable)\n",
    "print(sys.version)\n",
    "print(sys.version_info)"
   ]
  },
  {
   "cell_type": "code",
   "execution_count": 2,
   "id": "e8f9777d",
   "metadata": {},
   "outputs": [
    {
     "name": "stdout",
     "output_type": "stream",
     "text": [
      "3.9.7\n"
     ]
    }
   ],
   "source": [
    "from platform import python_version\n",
    "\n",
    "print(python_version())"
   ]
  },
  {
   "cell_type": "code",
   "execution_count": 3,
   "id": "d27e460c",
   "metadata": {},
   "outputs": [
    {
     "name": "stdout",
     "output_type": "stream",
     "text": [
      "[21, 40.5, 33]\n"
     ]
    }
   ],
   "source": [
    "# Python program to illustrate a list \n",
    "  \n",
    "# creates a empty list\n",
    "nums = [] \n",
    "  \n",
    "# appending data in list\n",
    "nums.append(21)\n",
    "nums.append(40.5)\n",
    "nums.append(33)\n",
    "  \n",
    "print(nums)"
   ]
  },
  {
   "cell_type": "raw",
   "id": "f215b858",
   "metadata": {},
   "source": [
    "# is used for single line comment in Python\n",
    "\"\"\" this is a comment \"\"\" is used for multi line comments"
   ]
  },
  {
   "cell_type": "code",
   "execution_count": 4,
   "id": "631cd74c",
   "metadata": {},
   "outputs": [
    {
     "name": "stdout",
     "output_type": "stream",
     "text": [
      "Enter num1: 5\n",
      "Enter num2: 6\n",
      "Product is:  30\n"
     ]
    }
   ],
   "source": [
    "num1 = int(input(\"Enter num1: \"))\n",
    "num2 = int(input(\"Enter num2: \"))\n",
    "  \n",
    "num3 = num1 * num2\n",
    "print(\"Product is: \", num3)"
   ]
  },
  {
   "cell_type": "markdown",
   "id": "56fc54d8",
   "metadata": {},
   "source": [
    "## Selection\n",
    "\n",
    "Selection in Python is made using the two keywords ‘if’ and ‘elif’ and else (elseif)"
   ]
  },
  {
   "cell_type": "code",
   "execution_count": 5,
   "id": "fc488958",
   "metadata": {},
   "outputs": [
    {
     "name": "stdout",
     "output_type": "stream",
     "text": [
      "Num1 is good\n"
     ]
    }
   ],
   "source": [
    "# Python program to illustrate selection statement\n",
    "  \n",
    "num1 = 34\n",
    "if(num1>12):\n",
    "    print(\"Num1 is good\")\n",
    "elif(num1>35):\n",
    "    print(\"Num2 is not gooooo....\")\n",
    "else:\n",
    "    print(\"Num2 is great\")"
   ]
  },
  {
   "cell_type": "markdown",
   "id": "442ed25e",
   "metadata": {},
   "source": [
    "## Functions\n",
    "\n",
    "We can think of functions like a bunch of code that is intended to do a particular task in the whole Python script. Python used the keyword 'def' to define a function."
   ]
  },
  {
   "cell_type": "code",
   "execution_count": 7,
   "id": "72760afe",
   "metadata": {},
   "outputs": [
    {
     "name": "stdout",
     "output_type": "stream",
     "text": [
      "hello\n",
      "hello again\n",
      "hello\n",
      "hello again\n"
     ]
    }
   ],
   "source": [
    "# Python program to illustrate\n",
    "# functions\n",
    "def hello():\n",
    "    print(\"hello\")\n",
    "    print(\"hello again\")\n",
    "hello()\n",
    "  \n",
    "# calling function\n",
    "hello()  "
   ]
  },
  {
   "cell_type": "code",
   "execution_count": 8,
   "id": "0b42f4ef",
   "metadata": {},
   "outputs": [
    {
     "name": "stdout",
     "output_type": "stream",
     "text": [
      "Started\n",
      "Enter integer: 5\n",
      "5\n"
     ]
    }
   ],
   "source": [
    "# Python program to illustrate function with main\n",
    "def getInteger():\n",
    "    result = int(input(\"Enter integer: \"))\n",
    "    return result\n",
    "  \n",
    "def Main():\n",
    "    print(\"Started\")\n",
    "  \n",
    "    # calling the getInteger function and storing its returned value in the output variable\n",
    "    output = getInteger()     \n",
    "    print(output)\n",
    "\n",
    "# now we are required to tell Python for 'Main' function existence\n",
    "if __name__==\"__main__\":\n",
    "    Main()"
   ]
  },
  {
   "cell_type": "markdown",
   "id": "9d8947fd",
   "metadata": {},
   "source": [
    "## Iteration (Looping)\n",
    "\n",
    "As the name suggests it calls repeating things again and again. We will use the most popular ‘for’ loop here."
   ]
  },
  {
   "cell_type": "code",
   "execution_count": 9,
   "id": "b6c94933",
   "metadata": {},
   "outputs": [
    {
     "name": "stdout",
     "output_type": "stream",
     "text": [
      "0\n",
      "1\n",
      "2\n",
      "3\n",
      "4\n"
     ]
    }
   ],
   "source": [
    "# Python program to illustrate a simple for loop\n",
    "  \n",
    "for step in range(5):    \n",
    "    print(step)"
   ]
  },
  {
   "cell_type": "markdown",
   "id": "60373f53",
   "metadata": {},
   "source": [
    "## Module"
   ]
  },
  {
   "cell_type": "code",
   "execution_count": 11,
   "id": "59cbe5a2",
   "metadata": {},
   "outputs": [
    {
     "name": "stdout",
     "output_type": "stream",
     "text": [
      "85.0\n"
     ]
    }
   ],
   "source": [
    "# Python program to illustrate math module\n",
    "import math\n",
    "  \n",
    "def Main():\n",
    "    num = -85\n",
    "  \n",
    "    # fabs is used to get the absolute value of a decimal\n",
    "    number = math.fabs(num) \n",
    "    print(number)\n",
    "      \n",
    "if __name__==\"__main__\":\n",
    "    Main()"
   ]
  },
  {
   "cell_type": "code",
   "execution_count": null,
   "id": "975848b8",
   "metadata": {},
   "outputs": [],
   "source": []
  }
 ],
 "metadata": {
  "kernelspec": {
   "display_name": "Python 3 (ipykernel)",
   "language": "python",
   "name": "python3"
  },
  "language_info": {
   "codemirror_mode": {
    "name": "ipython",
    "version": 3
   },
   "file_extension": ".py",
   "mimetype": "text/x-python",
   "name": "python",
   "nbconvert_exporter": "python",
   "pygments_lexer": "ipython3",
   "version": "3.9.7"
  }
 },
 "nbformat": 4,
 "nbformat_minor": 5
}
