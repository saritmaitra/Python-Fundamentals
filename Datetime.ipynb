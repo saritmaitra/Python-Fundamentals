{
 "cells": [
  {
   "cell_type": "code",
   "execution_count": 1,
   "id": "1edcd484",
   "metadata": {},
   "outputs": [
    {
     "name": "stdout",
     "output_type": "stream",
     "text": [
      "['MAXYEAR', 'MINYEAR', '__all__', '__builtins__', '__cached__', '__doc__', '__file__', '__loader__', '__name__', '__package__', '__spec__', 'date', 'datetime', 'datetime_CAPI', 'sys', 'time', 'timedelta', 'timezone', 'tzinfo']\n"
     ]
    }
   ],
   "source": [
    "import datetime\n",
    "print(dir(datetime))"
   ]
  },
  {
   "cell_type": "code",
   "execution_count": 2,
   "id": "9aa29f0c",
   "metadata": {},
   "outputs": [
    {
     "name": "stdout",
     "output_type": "stream",
     "text": [
      "2022-04-11 15:37:36.755382\n"
     ]
    }
   ],
   "source": [
    "import datetime\n",
    "\n",
    "x = datetime.datetime.now()\n",
    "print(x)"
   ]
  },
  {
   "cell_type": "code",
   "execution_count": 3,
   "id": "d528d615",
   "metadata": {},
   "outputs": [
    {
     "name": "stdout",
     "output_type": "stream",
     "text": [
      "2022-04-11\n"
     ]
    }
   ],
   "source": [
    "# Get Current Date\n",
    "\n",
    "import datetime\n",
    "date = datetime.date.today()\n",
    "print(date)"
   ]
  },
  {
   "cell_type": "code",
   "execution_count": 4,
   "id": "c16a78d5",
   "metadata": {},
   "outputs": [
    {
     "name": "stdout",
     "output_type": "stream",
     "text": [
      "2022\n",
      "Monday\n"
     ]
    }
   ],
   "source": [
    "import datetime\n",
    "\n",
    "x = datetime.datetime.now()\n",
    "\n",
    "print(x.year)\n",
    "print(x.strftime(\"%A\"))"
   ]
  },
  {
   "cell_type": "code",
   "execution_count": 5,
   "id": "b3c0509a",
   "metadata": {},
   "outputs": [
    {
     "name": "stdout",
     "output_type": "stream",
     "text": [
      "June\n"
     ]
    }
   ],
   "source": [
    "import datetime\n",
    "\n",
    "x = datetime.datetime(2021, 6, 1)\n",
    "print(x.strftime(\"%B\"))"
   ]
  },
  {
   "cell_type": "code",
   "execution_count": 6,
   "id": "c0f76c97",
   "metadata": {},
   "outputs": [
    {
     "name": "stdout",
     "output_type": "stream",
     "text": [
      "time: 15:37:36\n",
      "a: 04/11/2022, 15:37:36\n",
      "b: 11/04/2022, 15:37:36\n"
     ]
    }
   ],
   "source": [
    "# Format date using strftime()\n",
    "from datetime import datetime\n",
    "\n",
    "# current date and time\n",
    "now = datetime.now()\n",
    "\n",
    "t = now.strftime(\"%H:%M:%S\")\n",
    "print(\"time:\", t)\n",
    "\n",
    "a = now.strftime(\"%m/%d/%Y, %H:%M:%S\")\n",
    "# mm/dd/YY H:M:S format\n",
    "print(\"a:\", a)\n",
    "\n",
    "b = now.strftime(\"%d/%m/%Y, %H:%M:%S\")\n",
    "# dd/mm/YY H:M:S format\n",
    "print(\"b:\", b)"
   ]
  },
  {
   "cell_type": "code",
   "execution_count": 7,
   "id": "bcfb1e57",
   "metadata": {},
   "outputs": [
    {
     "name": "stdout",
     "output_type": "stream",
     "text": [
      "Current year: 2022\n",
      "Current month: 4\n",
      "Current day: 11\n"
     ]
    }
   ],
   "source": [
    "from datetime import date\n",
    "\n",
    "# date object of today's date\n",
    "today = date.today() \n",
    "\n",
    "print(\"Current year:\", today.year)\n",
    "print(\"Current month:\", today.month)\n",
    "print(\"Current day:\", today.day)"
   ]
  },
  {
   "cell_type": "code",
   "execution_count": 8,
   "id": "15d89f6e",
   "metadata": {},
   "outputs": [
    {
     "name": "stdout",
     "output_type": "stream",
     "text": [
      "117 days\n"
     ]
    }
   ],
   "source": [
    "# Python3 program to find number of days\n",
    "# between two given dates\n",
    "from datetime import date\n",
    " \n",
    "def num_of_days(date1, date2):\n",
    "    return (date2 - date1).days\n",
    "     \n",
    "# Driver program\n",
    "date_1 = date(2021, 12, 15)\n",
    "date_2 = date(2022, 4, 11)\n",
    "print(num_of_days(date_1, date_2), \"days\")"
   ]
  },
  {
   "cell_type": "code",
   "execution_count": null,
   "id": "7f00f0d4",
   "metadata": {},
   "outputs": [],
   "source": []
  },
  {
   "cell_type": "code",
   "execution_count": null,
   "id": "cff7db9a",
   "metadata": {},
   "outputs": [],
   "source": []
  },
  {
   "cell_type": "code",
   "execution_count": 9,
   "id": "6e11899c",
   "metadata": {},
   "outputs": [
    {
     "name": "stdout",
     "output_type": "stream",
     "text": [
      "Difference:  36 days, 10:04:20\n",
      "Total difference in minutes:  52444.333333333336\n",
      "Difference in minutes:  604.3333333333334\n"
     ]
    }
   ],
   "source": [
    "import datetime\n",
    "  \n",
    "# datetime(year, month, day, hour, minute, second)\n",
    "a = datetime.datetime(2021, 6, 21, 18, 25, 30)\n",
    "b = datetime.datetime(2021, 5, 16, 8, 21, 10)\n",
    "  \n",
    "# returns a timedelta object\n",
    "c = a - b \n",
    "print('Difference: ', c)\n",
    "  \n",
    "minutes = c.total_seconds() / 60\n",
    "print('Total difference in minutes: ', minutes)\n",
    "  \n",
    "# returns the difference of the time of the day\n",
    "minutes = c.seconds / 60\n",
    "print('Difference in minutes: ', minutes)"
   ]
  },
  {
   "cell_type": "code",
   "execution_count": 10,
   "id": "23d9a666",
   "metadata": {},
   "outputs": [
    {
     "name": "stdout",
     "output_type": "stream",
     "text": [
      "Difference:  36 days, 10:04:20\n",
      "Total difference in minutes:  52444.0 minutes 20.0 seconds\n",
      "Total difference in minutes:  604 minutes 20 seconds\n"
     ]
    }
   ],
   "source": [
    "# divmod() \n",
    "\n",
    "import datetime\n",
    "  \n",
    "# datetime(year, month, day, hour, minute, second)\n",
    "a = datetime.datetime(2021, 6, 21, 18, 25, 30)\n",
    "b = datetime.datetime(2021, 5, 16, 8, 21, 10)\n",
    "  \n",
    "# returns a timedelta object\n",
    "c = a-b \n",
    "print('Difference: ', c)\n",
    "  \n",
    "# returns (minutes, seconds)\n",
    "minutes = divmod(c.total_seconds(), 60) \n",
    "print('Total difference in minutes: ', minutes[0], 'minutes',\n",
    "                                 minutes[1], 'seconds')\n",
    "  \n",
    "# returns the difference of the time of the day (minutes, seconds)\n",
    "minutes = divmod(c.seconds, 60) \n",
    "print('Total difference in minutes: ', minutes[0], 'minutes',\n",
    "                                 minutes[1], 'seconds')"
   ]
  },
  {
   "cell_type": "code",
   "execution_count": 11,
   "id": "5216a998",
   "metadata": {},
   "outputs": [
    {
     "name": "stdout",
     "output_type": "stream",
     "text": [
      "initial_date 2022-04-11 15:37:36.898367\n",
      "future_date_after_2yrs: 2024-04-10 15:37:36.898367\n",
      "future_date_after_2days: 2022-04-13 15:37:36.898367\n"
     ]
    }
   ],
   "source": [
    "from datetime import datetime, timedelta\n",
    "  \n",
    "# Using current time\n",
    "current_time = datetime.now()\n",
    "  \n",
    "# printing initial_date\n",
    "print (\"initial_date\", str(current_time))\n",
    "  \n",
    "# Calculating future dates\n",
    "# for two years\n",
    "date_after_2yrs = current_time + timedelta(days = 365 * 2)\n",
    "  \n",
    "date_after_2days = current_time + timedelta(days = 2)\n",
    "  \n",
    "# printing calculated future_dates\n",
    "print('future_date_after_2yrs:', str(date_after_2yrs))\n",
    "print('future_date_after_2days:', str(date_after_2days))"
   ]
  },
  {
   "cell_type": "code",
   "execution_count": 12,
   "id": "1ade3208",
   "metadata": {},
   "outputs": [
    {
     "name": "stdout",
     "output_type": "stream",
     "text": [
      "initial_date 2022-04-11 15:37:36.914416\n",
      "past_date_before_2yrs: 2020-04-11 15:37:36.914416\n",
      "past_date_after_2days: 2022-04-11 13:37:36.914416\n"
     ]
    }
   ],
   "source": [
    "# Timedelta function demonstration \n",
    "from datetime import datetime, timedelta\n",
    "  \n",
    "# Using current time\n",
    "time_now = datetime.now()\n",
    "  \n",
    "# printing initial_date\n",
    "print (\"initial_date\", str(time_now))\n",
    "  \n",
    "# Calculating past dates\n",
    "# for two years\n",
    "date_before_2yrs = time_now - timedelta(days = 365*2)\n",
    "  \n",
    "# for two hours\n",
    "date_before_2hours = time_now - timedelta(hours = 2)\n",
    "  \n",
    "# printing calculated past_dates\n",
    "print('past_date_before_2yrs:', str(date_before_2yrs))\n",
    "print('past_date_after_2days:', str(date_before_2hours))"
   ]
  },
  {
   "cell_type": "code",
   "execution_count": 13,
   "id": "97e7b542",
   "metadata": {},
   "outputs": [
    {
     "name": "stdout",
     "output_type": "stream",
     "text": [
      "initial_date 2022-04-11 15:37:36.930456\n",
      "new_final_time 2022-04-13 15:37:36.930456\n",
      "Time difference: 2 days, 0:00:00\n"
     ]
    }
   ],
   "source": [
    "# Timedelta function demonstration \n",
    "from datetime import datetime, timedelta\n",
    "  \n",
    "# Using current time\n",
    "time_now = datetime.now()\n",
    "  \n",
    "# printing initial_date\n",
    "print (\"initial_date\", str(time_now))\n",
    "  \n",
    "# Some another datetime\n",
    "final_time = time_now + timedelta(days = 2)\n",
    "  \n",
    "# printing new final_date\n",
    "print (\"new_final_time\", str(final_time))\n",
    "  \n",
    "# printing calculated past_dates\n",
    "print('Time difference:', str(final_time - time_now))"
   ]
  },
  {
   "cell_type": "code",
   "execution_count": 14,
   "id": "366fee4a",
   "metadata": {},
   "outputs": [
    {
     "name": "stdout",
     "output_type": "stream",
     "text": [
      "Local: 04/11/2022, 15:37:36\n",
      "NY: 04/11/2022, 06:07:37\n",
      "London: 04/11/2022, 11:07:37\n"
     ]
    }
   ],
   "source": [
    "# pytz 3rd party timezone tool\n",
    "from datetime import datetime\n",
    "import pytz\n",
    "\n",
    "local = datetime.now()\n",
    "print(\"Local:\", local.strftime(\"%m/%d/%Y, %H:%M:%S\"))\n",
    "\n",
    "tz_NY = pytz.timezone('America/New_York') \n",
    "datetime_NY = datetime.now(tz_NY)\n",
    "print(\"NY:\", datetime_NY.strftime(\"%m/%d/%Y, %H:%M:%S\"))\n",
    "\n",
    "tz_London = pytz.timezone('Europe/London')\n",
    "datetime_London = datetime.now(tz_London)\n",
    "print(\"London:\", datetime_London.strftime(\"%m/%d/%Y, %H:%M:%S\"))"
   ]
  },
  {
   "cell_type": "code",
   "execution_count": null,
   "id": "41c57a78",
   "metadata": {},
   "outputs": [],
   "source": []
  }
 ],
 "metadata": {
  "kernelspec": {
   "display_name": "Python 3 (ipykernel)",
   "language": "python",
   "name": "python3"
  },
  "language_info": {
   "codemirror_mode": {
    "name": "ipython",
    "version": 3
   },
   "file_extension": ".py",
   "mimetype": "text/x-python",
   "name": "python",
   "nbconvert_exporter": "python",
   "pygments_lexer": "ipython3",
   "version": "3.9.7"
  }
 },
 "nbformat": 4,
 "nbformat_minor": 5
}
