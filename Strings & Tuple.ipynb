{
 "cells": [
  {
   "cell_type": "markdown",
   "id": "0c0a9575",
   "metadata": {},
   "source": [
    "## Python Strings\n",
    "\n",
    "- A string is usually a sequence of characters. \n",
    "- In Python we use \" \"(double quotes) or ' ' (single quotes) to represent a string. \n",
    "- Triple double quotes \"\"\" and triple single quotes ''' are used for creating multi-line strings in Python"
   ]
  },
  {
   "cell_type": "code",
   "execution_count": 1,
   "id": "a77608a4",
   "metadata": {},
   "outputs": [
    {
     "name": "stdout",
     "output_type": "stream",
     "text": [
      "MyName\n",
      "sarit_maitra\n",
      "we are practicing \n",
      "   Python fundamentals\n",
      "This is a practical \n",
      "   class\n"
     ]
    }
   ],
   "source": [
    "# lets see the ways to create strings in Python\n",
    "str = 'MyName'\n",
    "print(str)\n",
    "\n",
    "str2 = \"sarit_maitra\"\n",
    "print(str2)\n",
    "\n",
    "# multi-line string\n",
    "str3 = \"\"\"we are practicing \n",
    "   Python fundamentals\"\"\"\n",
    "print(str3)\n",
    "\n",
    "str4 = '''This is a practical \n",
    "   class'''\n",
    "print(str4)"
   ]
  },
  {
   "cell_type": "markdown",
   "id": "73a50d29",
   "metadata": {},
   "source": [
    "### How to access strings in Python\n",
    "- A string is an array of characters so we can use the indexes to access the characters of a it. \n",
    "- the indexes start from 0 to the length-1.\n",
    "- We will get IndexError if we try to access the character which is not in the range. \n",
    "\n",
    "For example, if a string is of length 6 and we try to access the 8th char, we will get error.\n",
    "\n"
   ]
  },
  {
   "cell_type": "code",
   "execution_count": 2,
   "id": "ef7f746b",
   "metadata": {},
   "outputs": [
    {
     "name": "stdout",
     "output_type": "stream",
     "text": [
      "Bidisha\n",
      "B\n",
      "d\n",
      "a\n",
      "h\n"
     ]
    }
   ],
   "source": [
    "str = \"Bidisha\"\n",
    "\n",
    "# displaying whole string\n",
    "print(str)\n",
    "\n",
    "# displaying first character of string\n",
    "print(str[0])\n",
    "\n",
    "# displaying third character of string\n",
    "print(str[2])\n",
    "\n",
    "# displaying the last character of the string\n",
    "print(str[-1])\n",
    "\n",
    "# displaying the second last char of string\n",
    "print(str[-2])"
   ]
  },
  {
   "cell_type": "markdown",
   "id": "52ade516",
   "metadata": {},
   "source": [
    "### Substring in Python – Slicing operation"
   ]
  },
  {
   "cell_type": "code",
   "execution_count": 8,
   "id": "a4302218",
   "metadata": {},
   "outputs": [
    {
     "name": "stdout",
     "output_type": "stream",
     "text": [
      "The original string is:  Fundamentals\n",
      "str[9:]:  als\n",
      "str[2:6]:  ndam\n",
      "str[:9]:  Fundament\n",
      "str[9:-1]:  al\n"
     ]
    }
   ],
   "source": [
    "str = \"Fundamentals\"\n",
    "\n",
    "# displaying whole string\n",
    "print(\"The original string is: \", str)\n",
    "\n",
    "# slicing 10th to the last character\n",
    "print(\"str[9:]: \", str[9:])\n",
    "\n",
    "# slicing 3rd to 6th character\n",
    "print(\"str[2:6]: \", str[2:6])\n",
    "\n",
    "# slicing from start to the 9th character\n",
    "print(\"str[:9]: \", str[:9])\n",
    "\n",
    "# slicing from 10th to second last character\n",
    "print(\"str[9:-1]: \", str[9:-1])"
   ]
  },
  {
   "cell_type": "markdown",
   "id": "60e221cc",
   "metadata": {},
   "source": [
    "### Concatenation of strings in Python\n",
    "The + operator is used for string concatenation in Python. "
   ]
  },
  {
   "cell_type": "code",
   "execution_count": 9,
   "id": "cb53edc3",
   "metadata": {},
   "outputs": [
    {
     "name": "stdout",
     "output_type": "stream",
     "text": [
      "OneTwoThree\n"
     ]
    }
   ],
   "source": [
    "str1 = \"One\"\n",
    "str2 = \"Two\"\n",
    "str3 = \"Three\"\n",
    "\n",
    "# Concatenation of three strings\n",
    "print(str1 + str2 + str3)"
   ]
  },
  {
   "cell_type": "markdown",
   "id": "88354d95",
   "metadata": {},
   "source": [
    "- When + operator is used on numbers it adds them but when it used on strings it concatenates them. \n",
    "- However if we try to use this between string and number then it will throw TypeError."
   ]
  },
  {
   "cell_type": "code",
   "execution_count": 10,
   "id": "5ff06a3b",
   "metadata": {},
   "outputs": [
    {
     "ename": "TypeError",
     "evalue": "can only concatenate str (not \"int\") to str",
     "output_type": "error",
     "traceback": [
      "\u001b[1;31m---------------------------------------------------------------------------\u001b[0m",
      "\u001b[1;31mTypeError\u001b[0m                                 Traceback (most recent call last)",
      "Input \u001b[1;32mIn [10]\u001b[0m, in \u001b[0;36m<cell line: 3>\u001b[1;34m()\u001b[0m\n\u001b[0;32m      1\u001b[0m s \u001b[38;5;241m=\u001b[39m \u001b[38;5;124m\"\u001b[39m\u001b[38;5;124mone\u001b[39m\u001b[38;5;124m\"\u001b[39m\n\u001b[0;32m      2\u001b[0m n \u001b[38;5;241m=\u001b[39m \u001b[38;5;241m2\u001b[39m\n\u001b[1;32m----> 3\u001b[0m \u001b[38;5;28mprint\u001b[39m(\u001b[43ms\u001b[49m\u001b[38;5;241;43m+\u001b[39;49m\u001b[43mn\u001b[49m)\n",
      "\u001b[1;31mTypeError\u001b[0m: can only concatenate str (not \"int\") to str"
     ]
    }
   ],
   "source": [
    "s = \"one\"\n",
    "n = 2\n",
    "print(s+n)"
   ]
  },
  {
   "cell_type": "markdown",
   "id": "b16fdd2f",
   "metadata": {},
   "source": [
    "### Repetition of string – Replication operator"
   ]
  },
  {
   "cell_type": "code",
   "execution_count": 11,
   "id": "54bd3585",
   "metadata": {},
   "outputs": [
    {
     "name": "stdout",
     "output_type": "stream",
     "text": [
      "xyzxyzxyz\n"
     ]
    }
   ],
   "source": [
    "# * operator to repeat a string by specified number of times.\n",
    "\n",
    "str = \"xyz\"\n",
    "\n",
    "# repeating the string str by 3 times\n",
    "print(str*3)"
   ]
  },
  {
   "cell_type": "markdown",
   "id": "8b911afe",
   "metadata": {},
   "source": [
    "### Membership Operators in Strings\n",
    "- in: This checks whether a string is present in another string or not. \n",
    "   - It returns true if the entire string is found else it returns false.\n",
    "- not in: It works just opposite to what “in” operator does. \n",
    "   - It returns true if the string is not found in the specified string else it returns false."
   ]
  },
  {
   "cell_type": "code",
   "execution_count": 13,
   "id": "3f01dadf",
   "metadata": {},
   "outputs": [
    {
     "name": "stdout",
     "output_type": "stream",
     "text": [
      "False\n",
      "False\n",
      "True\n"
     ]
    }
   ],
   "source": [
    "str = \"Alliance University python fundamentals\"\n",
    "str2 = \"Welcome\"\n",
    "str3 = \"Jeniffer\"\n",
    "str4 = \"XYZ\"\n",
    "\n",
    "# str2 is in str? True\n",
    "print(str2 in str)\n",
    "\n",
    "# str3 is in str? False\n",
    "print(str3 in str)\n",
    "\n",
    "# str4 not in str? True\n",
    "print(str4 not in str)"
   ]
  },
  {
   "cell_type": "markdown",
   "id": "fd3c5c5e",
   "metadata": {},
   "source": [
    "### Relational Operators on Strings\n",
    "\n",
    "The relational operators works on strings based on the ASCII values of characters.\n",
    "- The ASCII value of a is 97, b is 98 and so on.\n",
    "- The ASCII value of A is 65, B is 66 and so on."
   ]
  },
  {
   "cell_type": "code",
   "execution_count": 14,
   "id": "92604cc5",
   "metadata": {},
   "outputs": [
    {
     "name": "stdout",
     "output_type": "stream",
     "text": [
      "True\n",
      "False\n"
     ]
    }
   ],
   "source": [
    "str = \"ABC\"\n",
    "str2 = \"aBC\"\n",
    "str3 = \"XYZ\"\n",
    "str4 = \"XYz\"\n",
    "\n",
    "# ASCII value of str2 is > str? True\n",
    "print(str2 > str)\n",
    "\n",
    "# ASCII value of str3 is > str4? False\n",
    "print(str3 > str4)"
   ]
  },
  {
   "cell_type": "markdown",
   "id": "a73dad65",
   "metadata": {},
   "source": [
    "## Python Tuple\n",
    "\n",
    "tuple is similar to List except that the objects in tuple are immutable which means we cannot change the elements of a tuple once assigned. On the other hand, we can change the elements of a list.\n",
    "### Tuple vs List\n",
    "- The elements of a list are mutable whereas the elements of a tuple are immutable.\n",
    "- When we do not want to change the data over time, the tuple is a preferred data type whereas when we need to change the data in future, list would be a wise option.\n",
    "- Iterating over the elements of a tuple is faster compared to iterating over a list.\n",
    "- Elements of a tuple are enclosed in parenthesis whereas the elements of list are enclosed in square bracket.\n",
    "\n",
    "### create a tuple in Python\n",
    "- To create a tuple in Python, place all the elements in a () parenthesis, separated by commas. \n",
    "- A tuple can have heterogeneous data items, a tuple can have string and list as data items as well."
   ]
  },
  {
   "cell_type": "code",
   "execution_count": 15,
   "id": "93585415",
   "metadata": {},
   "outputs": [
    {
     "name": "stdout",
     "output_type": "stream",
     "text": [
      "('hi', 'hello', 'bye')\n",
      "(1, 2.8, 'Hello World')\n",
      "('Book', [1, 2, 3])\n",
      "((2, 3, 4), (1, 2, 'hi'))\n"
     ]
    }
   ],
   "source": [
    "# tuple of strings\n",
    "data = (\"hi\", \"hello\", \"bye\")\n",
    "print(data)\n",
    "\n",
    "# tuple of int, float, string\n",
    "data2 = (1, 2.8, \"Hello World\")\n",
    "print(data2)\n",
    "\n",
    "# tuple of string and list\n",
    "data3 = (\"Book\", [1, 2, 3])\n",
    "print(data3)\n",
    "\n",
    "# tuples inside another tuple nested tuple\n",
    "data4 = ((2, 3, 4), (1, 2, \"hi\"))\n",
    "print(data4)"
   ]
  },
  {
   "cell_type": "code",
   "execution_count": 16,
   "id": "cbc25b3e",
   "metadata": {},
   "outputs": [],
   "source": [
    "# empty tuple\n",
    "data = ()"
   ]
  },
  {
   "cell_type": "code",
   "execution_count": 18,
   "id": "5771c134",
   "metadata": {},
   "outputs": [],
   "source": [
    "# tuple with single data item\n",
    "\n",
    "\"\"\"If we do not put comma after 99 in the above example then \n",
    "python will treat my_data as an int variable rather than a tuple.\"\"\"\n",
    "\n",
    "data = (99,)\n"
   ]
  },
  {
   "cell_type": "markdown",
   "id": "c17f5e6e",
   "metadata": {},
   "source": [
    "### Access tuple"
   ]
  },
  {
   "cell_type": "code",
   "execution_count": 19,
   "id": "34026362",
   "metadata": {},
   "outputs": [
    {
     "name": "stdout",
     "output_type": "stream",
     "text": [
      "('hi', 'hello', 'bye')\n",
      "hi\n",
      "bye\n"
     ]
    }
   ],
   "source": [
    "# tuple of strings\n",
    "data = (\"hi\", \"hello\", \"bye\")\n",
    "\n",
    "# displaying all elements\n",
    "print(data)\n",
    "\n",
    "# accessing first element prints \"hi\"\n",
    "print(data[0])\n",
    "\n",
    "# accessing third element prints \"bye\"\n",
    "print(data[2])"
   ]
  },
  {
   "cell_type": "markdown",
   "id": "4548435c",
   "metadata": {},
   "source": [
    "- TypeError: \n",
    "  - If we do not use integer indexes in the tuple. \n",
    "  - For example data[2.0] will raise this error. \n",
    "  - The index must always be an integer.\n",
    "- IndexError: \n",
    "  - Index out of range. \n",
    "  - This error occurs when we mention the index which is not in the range. \n",
    "  - For example, if a tuple has 5 elements and we try to access the 7th element then this error would occurr.\n",
    "  \n",
    "#### Negative indexes in tuples\n",
    "- Similar to list and strings we can use negative indexes to access the tuple elements from the end.\n",
    "- -1 to access last element, -2 to access second last and so on."
   ]
  },
  {
   "cell_type": "code",
   "execution_count": 20,
   "id": "559d7720",
   "metadata": {},
   "outputs": [
    {
     "name": "stdout",
     "output_type": "stream",
     "text": [
      "8.9\n",
      "2\n"
     ]
    }
   ],
   "source": [
    "data = (1, 2, \"Kevin\", 8.9)\n",
    "\n",
    "# accessing last element\n",
    "# prints 8.9\n",
    "print(data[-1])\n",
    "\n",
    "# prints 2\n",
    "print(data[-3])"
   ]
  },
  {
   "cell_type": "markdown",
   "id": "3606286b",
   "metadata": {},
   "source": [
    "#### Accessing elements from nested tuples\n",
    "- The first index represents the element of main tuple and the second index represent the element of the nested tuple.\n",
    "- Below, when we used data[2][1], it accessed the second element of the nested tuple. Because 2 represented the third element of main tuple which is a tuple and the 1 represented the second element of that tuple."
   ]
  },
  {
   "cell_type": "code",
   "execution_count": 22,
   "id": "fe464172",
   "metadata": {},
   "outputs": [
    {
     "name": "stdout",
     "output_type": "stream",
     "text": [
      "t\n",
      "22\n"
     ]
    }
   ],
   "source": [
    "data = (1, \"Meeta\", (11, 22, 33))\n",
    "\n",
    "# prints 'v'\n",
    "print(data[1][3])\n",
    "\n",
    "# prints 22\n",
    "print(data[2][1])"
   ]
  },
  {
   "cell_type": "markdown",
   "id": "51db7651",
   "metadata": {},
   "source": [
    "#### Changing the elements of a tuple\n",
    "- We cannot change the elements of a tuple because elements of tuple are immutable. \n",
    "- However we can change the elements of nested items that are mutable. \n",
    "- For example, in the following code, we are changing the element of the list which is present inside the tuple. List items are mutable that’s why it is allowed."
   ]
  },
  {
   "cell_type": "code",
   "execution_count": 23,
   "id": "d6657a06",
   "metadata": {},
   "outputs": [
    {
     "name": "stdout",
     "output_type": "stream",
     "text": [
      "(1, [9, 8, 7], 'World')\n",
      "(1, [9, 8, 99], 'World')\n"
     ]
    }
   ],
   "source": [
    "data = (1, [9, 8, 7], \"World\")\n",
    "print(data)\n",
    "\n",
    "# changing the element of the list\n",
    "# this is valid because list is mutable\n",
    "data[1][2] = 99\n",
    "print(data)\n",
    "\n",
    "# changing the element of tuple\n",
    "# This is not valid since tuple elements are immutable\n",
    "# TypeError: 'tuple' object does not support item assignment\n",
    "# data[0] = 101\n",
    "# print(data)"
   ]
  },
  {
   "cell_type": "markdown",
   "id": "31fa35c8",
   "metadata": {},
   "source": [
    "#### Delete operation on tuple\n",
    "- We have seen above that tuple elements are immutable which also means that we cannot delete the elements of a tuple. \n",
    "- However deleting entire tuple is possible."
   ]
  },
  {
   "cell_type": "code",
   "execution_count": 24,
   "id": "058c028a",
   "metadata": {},
   "outputs": [
    {
     "name": "stdout",
     "output_type": "stream",
     "text": [
      "(1, 2, 3, 4, 5, 6)\n"
     ]
    }
   ],
   "source": [
    "data = (1, 2, 3, 4, 5, 6)\n",
    "print(data)\n",
    "\n",
    "# not possible\n",
    "# error\n",
    "# del data[2]\n",
    "\n",
    "# deleting entire tuple is possible\n",
    "del data\n",
    "\n",
    "# not possible\n",
    "# error\n",
    "# because my_data is deleted\n",
    "# print(data)"
   ]
  },
  {
   "cell_type": "markdown",
   "id": "620686a8",
   "metadata": {},
   "source": [
    "#### Slicing operation in tuples"
   ]
  },
  {
   "cell_type": "code",
   "execution_count": 25,
   "id": "05d257f3",
   "metadata": {},
   "outputs": [
    {
     "name": "stdout",
     "output_type": "stream",
     "text": [
      "(11, 22, 33, 44, 55, 66, 77, 88, 99)\n",
      "(33, 44, 55)\n",
      "(11, 22, 33, 44)\n",
      "(55, 66, 77, 88, 99)\n",
      "(55, 66, 77, 88)\n",
      "(11, 22, 33, 44, 55, 66, 77, 88, 99)\n"
     ]
    }
   ],
   "source": [
    "data = (11, 22, 33, 44, 55, 66, 77, 88, 99)\n",
    "print(data)\n",
    "\n",
    "# elements from 3rd to 5th\n",
    "# prints (33, 44, 55)\n",
    "print(data[2:5])\n",
    "\n",
    "# elements from start to 4th\n",
    "# prints (11, 22, 33, 44)\n",
    "print(data[:4])\n",
    "\n",
    "# elements from 5th to end\n",
    "# prints (55, 66, 77, 88, 99)\n",
    "print(data[4:])\n",
    "\n",
    "# elements from 5th to second last\n",
    "# prints (55, 66, 77, 88)\n",
    "print(data[4:-1])\n",
    "\n",
    "# displaying entire tuple\n",
    "print(data[:])"
   ]
  },
  {
   "cell_type": "markdown",
   "id": "21617e7a",
   "metadata": {},
   "source": [
    "#### Membership Test in Tuples\n",
    "- in: Checks whether an element exists in the specified tuple.\n",
    "- not in: Checks whether an element does not exist in the specified tuple."
   ]
  },
  {
   "cell_type": "code",
   "execution_count": 26,
   "id": "95207737",
   "metadata": {},
   "outputs": [
    {
     "name": "stdout",
     "output_type": "stream",
     "text": [
      "(11, 22, 33, 44, 55, 66, 77, 88, 99)\n",
      "True\n",
      "False\n",
      "False\n",
      "True\n"
     ]
    }
   ],
   "source": [
    "data = (11, 22, 33, 44, 55, 66, 77, 88, 99)\n",
    "print(data)\n",
    "\n",
    "# true\n",
    "print(22 in data)\n",
    "\n",
    "# false\n",
    "print(2 in data)\n",
    "\n",
    "# false\n",
    "print(88 not in data)\n",
    "\n",
    "# true\n",
    "print(101 not in data)"
   ]
  },
  {
   "cell_type": "markdown",
   "id": "a4322e6a",
   "metadata": {},
   "source": [
    "#### Iterating a tuple"
   ]
  },
  {
   "cell_type": "code",
   "execution_count": 27,
   "id": "425a0650",
   "metadata": {},
   "outputs": [
    {
     "name": "stdout",
     "output_type": "stream",
     "text": [
      "Apple\n",
      "Orange\n",
      "Grapes\n",
      "Banana\n"
     ]
    }
   ],
   "source": [
    "# tuple of fruits\n",
    "tuple = (\"Apple\", \"Orange\", \"Grapes\", \"Banana\")\n",
    "\n",
    "# iterating over tuple elements\n",
    "for fruit in tuple:\n",
    "     print(fruit)"
   ]
  },
  {
   "cell_type": "markdown",
   "id": "fb732ae3",
   "metadata": {},
   "source": [
    "## Exercises:\n",
    "\n",
    "#### Create a string made of the first, middle and last character\n",
    "Write a program to create a new string made of an input string’s first, middle, and last character.\n",
    "\n",
    "Given:\n",
    "\n",
    "    str1 = \"James\"\n",
    "    \n",
    "Expected Output: Jms"
   ]
  },
  {
   "cell_type": "code",
   "execution_count": 1,
   "id": "cb471bbf",
   "metadata": {},
   "outputs": [
    {
     "name": "stdout",
     "output_type": "stream",
     "text": [
      "Original String is James\n",
      "New String: Jms\n"
     ]
    }
   ],
   "source": [
    "# Solution\n",
    "# Use string indexing to get the character present at the given index.\n",
    "# Use str[0] to get the first character of a string and add it to the result variable\n",
    "# Next, get the middle character’s index by dividing string length by 2. x = len(str1) /2. Use str1[x] to get the middle character and add it to the result variable\n",
    "# Use str[len(str)-1] to get the last character of a string and add it to the result variable\n",
    "# print result variable to display new string\n",
    "\n",
    "str_1 = 'James'\n",
    "print(\"Original String is\", str_1)\n",
    "\n",
    "# Get first character\n",
    "res = str_1[0]\n",
    "\n",
    "# Get string size\n",
    "l = len(str_1)\n",
    "\n",
    "# Get middle index number\n",
    "mi = int(l / 2)\n",
    "\n",
    "# Get middle character and add it to result\n",
    "res = res + str_1[mi]\n",
    "\n",
    "# Get last character and add it to result\n",
    "res = res + str_1[l - 1]\n",
    "\n",
    "print(\"New String:\", res)"
   ]
  },
  {
   "cell_type": "markdown",
   "id": "124976cc",
   "metadata": {},
   "source": [
    "#### Create a string made of the middle three characters\n",
    "Write a program to create a new string made of the middle three characters of an input string.\n",
    "\n",
    "Case 1\n",
    "\n",
    "    str1 = \"JhonDipPeta\"\n",
    "    \n",
    "Output: Dip\n",
    "\n",
    "Case 2\n",
    "\n",
    "    str2 = \"JaSonAy\"\n",
    "\n",
    "Output: Son"
   ]
  },
  {
   "cell_type": "code",
   "execution_count": 4,
   "id": "df8249cf",
   "metadata": {},
   "outputs": [
    {
     "name": "stdout",
     "output_type": "stream",
     "text": [
      "Original String is JhonDipPeta\n",
      "Middle three chars are: Dip\n",
      "Original String is JaSonAy\n",
      "Middle three chars are: Son\n"
     ]
    }
   ],
   "source": [
    "# solution\n",
    "# Get the middle character’s index using x = len(str1) /2.\n",
    "# Use string slicing to get the middle three characters starting from the middle index \n",
    "# to the next two character str1[middle_index-1:middle_index+2]\n",
    "\n",
    "def get_middle_three_chars(str1):\n",
    "    print(\"Original String is\", str1)\n",
    "\n",
    "    # first get middle index number\n",
    "    mi = int(len(str1) / 2)\n",
    "\n",
    "    # use string slicing to get result characters\n",
    "    res = str1[mi - 1:mi + 2]\n",
    "    print(\"Middle three chars are:\", res)\n",
    "\n",
    "get_middle_three_chars(\"JhonDipPeta\")\n",
    "get_middle_three_chars(\"JaSonAy\")"
   ]
  },
  {
   "cell_type": "markdown",
   "id": "65e9576c",
   "metadata": {},
   "source": [
    "#### Append new string in the middle of a given string\n",
    "Given two strings, s1 and s2. Write a program to create a new string s3 by appending s2 in the middle of s1.\n",
    "\n",
    "Given:\n",
    "\n",
    "    s1 = \"Ray\"\n",
    "    s2 = \"Nimita\"\n",
    "\n",
    "Expected Output: NimitaRay"
   ]
  },
  {
   "cell_type": "code",
   "execution_count": 7,
   "id": "414b5aa2",
   "metadata": {},
   "outputs": [
    {
     "name": "stdout",
     "output_type": "stream",
     "text": [
      "Original Strings are Ray Nimita\n",
      "After appending new string in middle: RNimitaay\n"
     ]
    }
   ],
   "source": [
    "# solution\n",
    "# First, get the middle index number of s1 by dividing s1’s length by 2\n",
    "# Use string slicing to get the character from s1 starting from 0 to the middle index number and store it in x\n",
    "# concatenate x and s2. x = x + s2\n",
    "# concatenate x and remeaning character from s1\n",
    "# print x\n",
    "\n",
    "def append_middle(s1, s2):\n",
    "    print(\"Original Strings are\", s1, s2)\n",
    "\n",
    "    # middle index number of s1\n",
    "    m = int(len(s1) / 2)\n",
    "\n",
    "    # get character from 0 to the middle index number from s1\n",
    "    x = s1[:m:]\n",
    "    \n",
    "    # concatenate s2 to it\n",
    "    x = x + s2\n",
    "    \n",
    "    # append remaining character from s1\n",
    "    x = x + s1[m:]\n",
    "    \n",
    "    print(\"After appending new string in middle:\", x)\n",
    "\n",
    "append_middle(\"Ray\", \"Nimita\")"
   ]
  },
  {
   "cell_type": "markdown",
   "id": "fc3a7727",
   "metadata": {},
   "source": [
    "#### Create a new string made of the first, middle, and last characters of each input string\n",
    "Given two strings, s1 and s2, write a program to return a new string made of s1 and s2’s first, middle, and last characters.\n",
    "\n",
    "Given:\n",
    "    \n",
    "    s1 = \"America\"\n",
    "    s2 = \"Japan\"\n",
    "\n",
    "Expected Output: AJrpan"
   ]
  },
  {
   "cell_type": "code",
   "execution_count": 8,
   "id": "2221c438",
   "metadata": {},
   "outputs": [
    {
     "name": "stdout",
     "output_type": "stream",
     "text": [
      "Mix String is  AJrpan\n"
     ]
    }
   ],
   "source": [
    "# solution\n",
    "# Get the first character from both strings, concatenate them, and store them in variable x\n",
    "# Get the middle character from both strings, concatenate them, and store them in variable y\n",
    "# Get the last character from both strings, concatenate them, and store them in variable x\n",
    "# In the end, join x, y, and z and save it in the result variable\n",
    "# print the result\n",
    "\n",
    "def mix_string(s1, s2):\n",
    "    # get first character from both string\n",
    "    first_char = s1[0] + s2[0]\n",
    "\n",
    "    # get middle character from both string\n",
    "    middle_char = s1[int(len(s1) / 2):int(len(s1) / 2) + 1] + s2[int(len(s2) / 2):int(len(s2) / 2) + 1]\n",
    "\n",
    "    # get last character from both string\n",
    "    last_char = s1[len(s1) - 1] + s2[len(s2) - 1]\n",
    "\n",
    "    # add all\n",
    "    res = first_char + middle_char + last_char\n",
    "    print(\"Mix String is \", res)\n",
    "\n",
    "s1 = \"America\"\n",
    "s2 = \"Japan\"\n",
    "mix_string(s1, s2)"
   ]
  },
  {
   "cell_type": "markdown",
   "id": "c2316619",
   "metadata": {},
   "source": [
    "#### Arrange string characters such that lowercase letters should come first\n",
    "Given string contains a combination of the lower and upper case letters. Write a program to arrange the characters of a string so that all lowercase letters should come first.\n",
    "\n",
    "Given:\n",
    "\n",
    "    str1 = PyThoNFUna\n",
    "\n",
    "Expected Output: yhonaPTNFU"
   ]
  },
  {
   "cell_type": "code",
   "execution_count": 9,
   "id": "6506ed5a",
   "metadata": {},
   "outputs": [
    {
     "name": "stdout",
     "output_type": "stream",
     "text": [
      "Original String: PyThoNFUna\n",
      "Result: yhonaPTNFU\n"
     ]
    }
   ],
   "source": [
    "# solution\n",
    "# Create two lists lower and upper\n",
    "# Iterate a string using a for loop\n",
    "# In each loop iteration, check if the current character is the lower or upper case using the islower() string function.\n",
    "# If a character is the lower case, add it to the lower list, else add it to the upper list\n",
    "# to join the lower and upper list using a join() function.\n",
    "# convert list to string\n",
    "# print the final string\n",
    "\n",
    "str1 = \"PyThoNFUna\"\n",
    "print('Original String:', str1)\n",
    "\n",
    "lower = []\n",
    "upper = []\n",
    "\n",
    "for char in str1:\n",
    "    if char.islower():\n",
    "        \n",
    "        # add lowercase characters to lower list\n",
    "        lower.append(char)\n",
    "    else:\n",
    "        \n",
    "        # add uppercase characters to lower list\n",
    "        upper.append(char)\n",
    "\n",
    "# Join both list\n",
    "sorted_str = ''.join(lower + upper)\n",
    "print('Result:', sorted_str)"
   ]
  },
  {
   "cell_type": "markdown",
   "id": "e4b22865",
   "metadata": {},
   "source": [
    "#### Count all letters, digits, and special symbols from a given string\n",
    "Given:\n",
    "\n",
    "    str1 = \"P@#yn26at^&i5ve\"\n",
    "    \n",
    "Expected Outcome:\n",
    "\n",
    "Total counts of chars, digits, and symbols \n",
    "\n",
    "Chars = 8, Digits = 3, Symbol = 4"
   ]
  },
  {
   "cell_type": "code",
   "execution_count": 10,
   "id": "50a1fdad",
   "metadata": {},
   "outputs": [
    {
     "name": "stdout",
     "output_type": "stream",
     "text": [
      "total counts of chars, Digits, and symbols \n",
      "\n",
      "Chars = 8 Digits = 2 Symbol = 3\n"
     ]
    }
   ],
   "source": [
    "# solution\n",
    "# Iterate each character from a string using a for loop\n",
    "# In each loop iteration, check if the current character is the alphabet using an isalpha() function. \n",
    "# If yes, increase the character counter. Check if it is a digit using the isdigit() function and increase the digit counter; otherwise, increase the symbol counter.\n",
    "# Print the value of each counter\n",
    "\n",
    "def find_digits_chars_symbols(sample_str):\n",
    "    char_count = 0\n",
    "    digit_count = 0\n",
    "    symbol_count = 0\n",
    "    for char in sample_str:\n",
    "        if char.isalpha():\n",
    "            char_count += 1\n",
    "        elif char.isdigit():\n",
    "            digit_count += 1\n",
    "        # if it is not letter or digit then it is special symbol\n",
    "        else:\n",
    "            symbol_count += 1\n",
    "\n",
    "    print(\"Chars =\", char_count, \"Digits =\", digit_count, \"Symbol =\", symbol_count)\n",
    "\n",
    "sample_str = \"P@yn2at&#i5ve\"\n",
    "print(\"total counts of chars, Digits, and symbols \\n\")\n",
    "find_digits_chars_symbols(sample_str)"
   ]
  },
  {
   "cell_type": "markdown",
   "id": "af044246",
   "metadata": {},
   "source": [
    "#### Create a mixed String using the following rules\n",
    "Given two strings, s1 and s2. Write a program to create a new string s3 made of the first char of s1, then the last char of s2, Next, the second char of s1 and second last char of s2, and so on. Any leftover chars go at the end of the result.\n",
    "\n",
    "Given:\n",
    "\n",
    "    s1 = \"Abc\"\n",
    "    s2 = \"Xyz\"\n",
    "    \n",
    "Expected Output: AzbycX"
   ]
  },
  {
   "cell_type": "code",
   "execution_count": 12,
   "id": "6074e6e8",
   "metadata": {},
   "outputs": [
    {
     "name": "stdout",
     "output_type": "stream",
     "text": [
      "AzbycX\n"
     ]
    }
   ],
   "source": [
    "# solution\n",
    "s1 = \"Abc\"\n",
    "s2 = \"Xyz\"\n",
    "\n",
    "# get string length\n",
    "s1_length = len(s1)\n",
    "s2_length = len(s2)\n",
    "\n",
    "# get length of a bigger string\n",
    "length = s1_length if s1_length > s2_length else s2_length\n",
    "result = \"\"\n",
    "\n",
    "# reverse s2\n",
    "s2 = s2[::-1]\n",
    "\n",
    "# iterate string \n",
    "# s1 ascending and s2 descending\n",
    "for i in range(length):\n",
    "    if i < s1_length:\n",
    "        result = result + s1[i]\n",
    "    if i < s2_length:\n",
    "        result = result + s2[i]\n",
    "\n",
    "print(result)"
   ]
  },
  {
   "cell_type": "markdown",
   "id": "cde78c01",
   "metadata": {},
   "source": [
    "#### Calculate the sum and average of the digits present in a string\n",
    "Given a string s1, write a program to return the sum and average of the digits that appear in the string, ignoring all other characters.\n",
    "\n",
    "Given\n",
    "    \n",
    "    str1 = \"PYthon29@#8496\""
   ]
  },
  {
   "cell_type": "code",
   "execution_count": 13,
   "id": "febe4c09",
   "metadata": {},
   "outputs": [
    {
     "name": "stdout",
     "output_type": "stream",
     "text": [
      "Sum is: 38 Average is  6.333333333333333\n"
     ]
    }
   ],
   "source": [
    "# Solution 1\n",
    "\n",
    "# Iterate each character from a string s1 using a loop\n",
    "# In the body of a loop, check if the current character is digit using the isdigit() function\n",
    "# If it is a digit, then add it to the sum variable\n",
    "# In the end, calculate the average by dividing the total by the count of digits\n",
    "\n",
    "input_str = \"PYthon29@#8496\"\n",
    "total = 0\n",
    "cnt = 0\n",
    "for char in input_str:\n",
    "    if char.isdigit():\n",
    "        total += int(char)\n",
    "        cnt += 1\n",
    "\n",
    "# average = sum / count of digits\n",
    "avg = total / cnt\n",
    "print(\"Sum is:\", total, \"Average is \", avg)"
   ]
  },
  {
   "cell_type": "code",
   "execution_count": 14,
   "id": "e8f3e488",
   "metadata": {},
   "outputs": [
    {
     "name": "stdout",
     "output_type": "stream",
     "text": [
      "Digits: [2, 9, 8, 4, 9, 6]\n",
      "Sum is: 38 Average is  6.333333333333333\n"
     ]
    }
   ],
   "source": [
    "# Solution 2\n",
    "\n",
    "import re\n",
    "\n",
    "input_str = \"PYthon29@#8496\"\n",
    "digit_list = [int(num) for num in re.findall(r'\\d', input_str)]\n",
    "print('Digits:', digit_list)\n",
    "\n",
    "# use the built-in function sum\n",
    "total = sum(digit_list)\n",
    "\n",
    "# average = sum / count of digits\n",
    "avg = total / len(digit_list)\n",
    "print(\"Sum is:\", total, \"Average is \", avg)"
   ]
  },
  {
   "cell_type": "markdown",
   "id": "8ddfc225",
   "metadata": {},
   "source": [
    "#### Replace each special symbol with # in the following string\n",
    "\n",
    "Given:\n",
    "\n",
    "    str1 = '/*Jon is @developer & musician!!'\n",
    "\n",
    "Expected Output: ##Jon is #developer # musician##"
   ]
  },
  {
   "cell_type": "code",
   "execution_count": 15,
   "id": "3cac49f6",
   "metadata": {},
   "outputs": [
    {
     "name": "stdout",
     "output_type": "stream",
     "text": [
      "The original string is :  /*Jon is @developer & musician!!\n",
      "The strings after replacement :  ##Jon is #developer # musician##\n"
     ]
    }
   ],
   "source": [
    "# solution\n",
    "# Use the string.punctuation constant to get the list of all punctuations\n",
    "# Iterate each symbol from a punctuations\n",
    "# Use string function replace() to replace the current special symbol in a string with #\n",
    "\n",
    "import string\n",
    "\n",
    "str_1 = '/*Jon is @developer & musician!!'\n",
    "print(\"The original string is : \", str_1)\n",
    "\n",
    "# Replace punctuations with #\n",
    "replace_char = '#'\n",
    "\n",
    "# string.punctuation to get the list of all special symbols\n",
    "for char in string.punctuation:\n",
    "    str_1 = str_1.replace(char, replace_char)\n",
    "\n",
    "print(\"The strings after replacement : \", str_1)"
   ]
  },
  {
   "cell_type": "markdown",
   "id": "65a00f8d",
   "metadata": {},
   "source": [
    "#### Find words with both alphabets and numbers\n",
    "Write a program to find words with both alphabets and numbers from an input string.\n",
    "\n",
    "Given:\n",
    "\n",
    "    str_1 = \"Peter25 is Data scientist50 and AI Expert\"\n",
    "\n",
    "Expected Output:\n",
    "\n",
    "    Peter25\n",
    "    scientist50"
   ]
  },
  {
   "cell_type": "code",
   "execution_count": 16,
   "id": "0ee3b338",
   "metadata": {},
   "outputs": [
    {
     "name": "stdout",
     "output_type": "stream",
     "text": [
      "The original string is : Peter25 is Data scientist50 and AI Expert\n",
      "Displaying words with alphabets and numbers\n",
      "Peter25\n",
      "scientist50\n"
     ]
    }
   ],
   "source": [
    "str_1 = \"Peter25 is Data scientist50 and AI Expert\"\n",
    "print(\"The original string is : \" + str_1)\n",
    "\n",
    "res = []\n",
    "# split string on whitespace\n",
    "temp = str_1.split()\n",
    "\n",
    "# Words with both alphabets and numbers\n",
    "# isdigit() for numbers + isalpha() for alphabets\n",
    "# use any() to check each character\n",
    "\n",
    "for item in temp:\n",
    "    if any(char.isalpha() for char in item) and any(char.isdigit() for char in item):\n",
    "        res.append(item)\n",
    "\n",
    "print(\"Displaying words with alphabets and numbers\")\n",
    "for i in res:\n",
    "    print(i)"
   ]
  },
  {
   "cell_type": "markdown",
   "id": "0e1708cb",
   "metadata": {},
   "source": [
    "#### Removal all characters from a string except integers\n",
    "Given:\n",
    "\n",
    "    str_1 = 'I am 18 years and 10 months old'\n",
    "\n",
    "Expected Output: 1810"
   ]
  },
  {
   "cell_type": "code",
   "execution_count": 17,
   "id": "1421d345",
   "metadata": {},
   "outputs": [
    {
     "name": "stdout",
     "output_type": "stream",
     "text": [
      "Original string is I am 18 years and 10 months old\n",
      "\n"
     ]
    }
   ],
   "source": [
    "str_1 = 'I am 18 years and 10 months old'\n",
    "print(\"Original string is\", str_1)\n",
    "\n",
    "# Retain Numbers in String\n",
    "# Using list comprehension + join() + isdigit()\n",
    "res = \"\".join([item for item in str1 if item.isdigit()])\n",
    "\n",
    "print(res)"
   ]
  },
  {
   "cell_type": "markdown",
   "id": "66c88522",
   "metadata": {},
   "source": [
    "#### Remove special symbols / punctuation from a string\n",
    "Given:\n",
    "\n",
    "    str_1 = \"/*Vinita is @developer & musician\"\n",
    "\n",
    "Expected Output: \"Jon is developer musician\""
   ]
  },
  {
   "cell_type": "code",
   "execution_count": 18,
   "id": "ed394c37",
   "metadata": {},
   "outputs": [
    {
     "name": "stdout",
     "output_type": "stream",
     "text": [
      "Original string is  PyThoNFUna\n",
      "New string is  Vinita is developer  musician\n"
     ]
    }
   ],
   "source": [
    "# Solution 1: \n",
    "# Use string functions translate() and maketrans().\n",
    "# The string.punctuation constant contain all special symbols.\n",
    "\n",
    "import string\n",
    "\n",
    "str_1 = \"/*Vinita is @developer & musician\"\n",
    "print(\"Original string is \", str1)\n",
    "\n",
    "new_str = str_1.translate(str.maketrans('', '', string.punctuation))\n",
    "\n",
    "print(\"New string is \", new_str)"
   ]
  },
  {
   "cell_type": "code",
   "execution_count": 19,
   "id": "289aac52",
   "metadata": {},
   "outputs": [
    {
     "name": "stdout",
     "output_type": "stream",
     "text": [
      "Original string is  /*Vinita is @developer & musician\n",
      "New string is  Vinita is developer  musician\n"
     ]
    }
   ],
   "source": [
    "# Solution 2: \n",
    "# Using regex replace pattern in a string\n",
    "\n",
    "import re\n",
    "\n",
    "str_1 = \"/*Vinita is @developer & musician\"\n",
    "print(\"Original string is \", str_1)\n",
    "\n",
    "# replace special symbols with ''\n",
    "res = re.sub(r'[^\\w\\s]', '', str_1)\n",
    "print(\"New string is \", res)"
   ]
  },
  {
   "cell_type": "markdown",
   "id": "6b4d2b27",
   "metadata": {},
   "source": [
    "#### Remove empty strings from a list of strings\n",
    "Given:\n",
    "\n",
    "    str_list = [\"Emma\", \"Jon\", \"\", \"Kelly\", None, \"Eric\", \"\"]\n",
    "\n",
    "Expected Output:\n",
    "\n",
    "    ['Emma', 'Jon', 'Kelly', 'Eric']"
   ]
  },
  {
   "cell_type": "code",
   "execution_count": 20,
   "id": "ceb26b64",
   "metadata": {},
   "outputs": [
    {
     "name": "stdout",
     "output_type": "stream",
     "text": [
      "['Emma', 'Jon', 'Kelly', 'Eric']\n"
     ]
    }
   ],
   "source": [
    "# Solution 1 \n",
    "#Using the loop and if condition\n",
    "\n",
    "str_list = [\"Emma\", \"Jon\", \"\", \"Kelly\", None, \"Eric\", \"\"]\n",
    "res_list = []\n",
    "for s in str_list:\n",
    "    # check for non empty string\n",
    "    if s:\n",
    "        res_list.append(s)\n",
    "print(res_list)"
   ]
  },
  {
   "cell_type": "code",
   "execution_count": 21,
   "id": "266d7991",
   "metadata": {},
   "outputs": [
    {
     "name": "stdout",
     "output_type": "stream",
     "text": [
      "After removing empty strings\n",
      "['Emma', 'Jon', 'Kelly', 'Eric']\n"
     ]
    }
   ],
   "source": [
    "# Solution 2 \n",
    "# Using the built-in function filter()\n",
    "\n",
    "str_list = [\"Emma\", \"Jon\", \"\", \"Kelly\", None, \"Eric\", \"\"]\n",
    "\n",
    "# use built-in function filter to filter empty value\n",
    "new_str_list = list(filter(None, str_list))\n",
    "\n",
    "print(\"After removing empty strings\")\n",
    "print(new_str_list)"
   ]
  },
  {
   "cell_type": "markdown",
   "id": "7d0b95f3",
   "metadata": {},
   "source": [
    "#### Split a string on hyphens\n",
    "Write a program to split a given string on hyphens and display each substring.\n",
    "\n",
    "Given:\n",
    "\n",
    "    str1 = Rama-is-a-data-scientist\n",
    "\n",
    "Expected Output:\n",
    "\n",
    "Displaying each substring\n",
    "\n",
    "    Rama\n",
    "    is\n",
    "    a\n",
    "    data\n",
    "    scientist"
   ]
  },
  {
   "cell_type": "code",
   "execution_count": 23,
   "id": "3cf0ce80",
   "metadata": {},
   "outputs": [
    {
     "name": "stdout",
     "output_type": "stream",
     "text": [
      "Original String is: PyThoNFUna\n",
      "Displaying each substring:\n",
      "Rama\n",
      "is\n",
      "a\n",
      "data\n",
      "scientist\n"
     ]
    }
   ],
   "source": [
    "str_1 = \"Rama-is-a-data-scientist\"\n",
    "print(\"Original String is:\", str1)\n",
    "\n",
    "# split string\n",
    "sub_strings = str_1.split(\"-\")\n",
    "\n",
    "print(\"Displaying each substring:\")\n",
    "for sub in sub_strings:\n",
    "    print(sub)"
   ]
  },
  {
   "cell_type": "markdown",
   "id": "9257ad53",
   "metadata": {},
   "source": [
    "#### Find the last position of a given substring\n",
    "Write a program to find the last position of a substring “Emma” in a given string.\n",
    "\n",
    "Given:\n",
    "\n",
    "    str_1 = \"Rama is a data scientist who knows Python. Rama works at google.\"\n",
    "\n",
    "Expected Output: Last occurrence of Rama starts at index 43"
   ]
  },
  {
   "cell_type": "code",
   "execution_count": 26,
   "id": "6bf90b0b",
   "metadata": {},
   "outputs": [
    {
     "name": "stdout",
     "output_type": "stream",
     "text": [
      "Original String is: PyThoNFUna\n",
      "Last occurrence of Rama starts at index: 43\n"
     ]
    }
   ],
   "source": [
    "str_1 = \"Rama is a data scientist who knows Python. Rama works at google.\"\n",
    "print(\"Original String is:\", str1)\n",
    "\n",
    "index = str_1.rfind(\"Rama\")\n",
    "print(\"Last occurrence of Rama starts at index:\", index)"
   ]
  },
  {
   "cell_type": "code",
   "execution_count": null,
   "id": "cb79c3d5",
   "metadata": {},
   "outputs": [],
   "source": []
  }
 ],
 "metadata": {
  "kernelspec": {
   "display_name": "Python 3 (ipykernel)",
   "language": "python",
   "name": "python3"
  },
  "language_info": {
   "codemirror_mode": {
    "name": "ipython",
    "version": 3
   },
   "file_extension": ".py",
   "mimetype": "text/x-python",
   "name": "python",
   "nbconvert_exporter": "python",
   "pygments_lexer": "ipython3",
   "version": "3.9.7"
  }
 },
 "nbformat": 4,
 "nbformat_minor": 5
}
