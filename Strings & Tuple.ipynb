{
 "cells": [
  {
   "cell_type": "markdown",
   "id": "0c0a9575",
   "metadata": {},
   "source": [
    "## Python Strings\n",
    "\n",
    "- A string is usually a sequence of characters. \n",
    "- In Python we use \" \"(double quotes) or ' ' (single quotes) to represent a string. \n",
    "- Triple double quotes \"\"\" and triple single quotes ''' are used for creating multi-line strings in Python"
   ]
  },
  {
   "cell_type": "code",
   "execution_count": 1,
   "id": "a77608a4",
   "metadata": {},
   "outputs": [
    {
     "name": "stdout",
     "output_type": "stream",
     "text": [
      "MyName\n",
      "sarit_maitra\n",
      "we are practicing \n",
      "   Python fundamentals\n",
      "This is a practical \n",
      "   class\n"
     ]
    }
   ],
   "source": [
    "# lets see the ways to create strings in Python\n",
    "str = 'MyName'\n",
    "print(str)\n",
    "\n",
    "str2 = \"sarit_maitra\"\n",
    "print(str2)\n",
    "\n",
    "# multi-line string\n",
    "str3 = \"\"\"we are practicing \n",
    "   Python fundamentals\"\"\"\n",
    "print(str3)\n",
    "\n",
    "str4 = '''This is a practical \n",
    "   class'''\n",
    "print(str4)"
   ]
  },
  {
   "cell_type": "markdown",
   "id": "73a50d29",
   "metadata": {},
   "source": [
    "### How to access strings in Python\n",
    "- A string is an array of characters so we can use the indexes to access the characters of a it. \n",
    "- the indexes start from 0 to the length-1.\n",
    "- We will get IndexError if we try to access the character which is not in the range. \n",
    "\n",
    "For example, if a string is of length 6 and we try to access the 8th char, we will get error.\n",
    "\n"
   ]
  },
  {
   "cell_type": "code",
   "execution_count": 2,
   "id": "ef7f746b",
   "metadata": {},
   "outputs": [
    {
     "name": "stdout",
     "output_type": "stream",
     "text": [
      "Bidisha\n",
      "B\n",
      "d\n",
      "a\n",
      "h\n"
     ]
    }
   ],
   "source": [
    "str = \"Bidisha\"\n",
    "\n",
    "# displaying whole string\n",
    "print(str)\n",
    "\n",
    "# displaying first character of string\n",
    "print(str[0])\n",
    "\n",
    "# displaying third character of string\n",
    "print(str[2])\n",
    "\n",
    "# displaying the last character of the string\n",
    "print(str[-1])\n",
    "\n",
    "# displaying the second last char of string\n",
    "print(str[-2])"
   ]
  },
  {
   "cell_type": "markdown",
   "id": "52ade516",
   "metadata": {},
   "source": [
    "### Substring in Python – Slicing operation"
   ]
  },
  {
   "cell_type": "code",
   "execution_count": 8,
   "id": "a4302218",
   "metadata": {},
   "outputs": [
    {
     "name": "stdout",
     "output_type": "stream",
     "text": [
      "The original string is:  Fundamentals\n",
      "str[9:]:  als\n",
      "str[2:6]:  ndam\n",
      "str[:9]:  Fundament\n",
      "str[9:-1]:  al\n"
     ]
    }
   ],
   "source": [
    "str = \"Fundamentals\"\n",
    "\n",
    "# displaying whole string\n",
    "print(\"The original string is: \", str)\n",
    "\n",
    "# slicing 10th to the last character\n",
    "print(\"str[9:]: \", str[9:])\n",
    "\n",
    "# slicing 3rd to 6th character\n",
    "print(\"str[2:6]: \", str[2:6])\n",
    "\n",
    "# slicing from start to the 9th character\n",
    "print(\"str[:9]: \", str[:9])\n",
    "\n",
    "# slicing from 10th to second last character\n",
    "print(\"str[9:-1]: \", str[9:-1])"
   ]
  },
  {
   "cell_type": "markdown",
   "id": "60e221cc",
   "metadata": {},
   "source": [
    "### Concatenation of strings in Python\n",
    "The + operator is used for string concatenation in Python. "
   ]
  },
  {
   "cell_type": "code",
   "execution_count": 9,
   "id": "cb53edc3",
   "metadata": {},
   "outputs": [
    {
     "name": "stdout",
     "output_type": "stream",
     "text": [
      "OneTwoThree\n"
     ]
    }
   ],
   "source": [
    "str1 = \"One\"\n",
    "str2 = \"Two\"\n",
    "str3 = \"Three\"\n",
    "\n",
    "# Concatenation of three strings\n",
    "print(str1 + str2 + str3)"
   ]
  },
  {
   "cell_type": "markdown",
   "id": "88354d95",
   "metadata": {},
   "source": [
    "- When + operator is used on numbers it adds them but when it used on strings it concatenates them. \n",
    "- However if we try to use this between string and number then it will throw TypeError."
   ]
  },
  {
   "cell_type": "code",
   "execution_count": 10,
   "id": "5ff06a3b",
   "metadata": {},
   "outputs": [
    {
     "ename": "TypeError",
     "evalue": "can only concatenate str (not \"int\") to str",
     "output_type": "error",
     "traceback": [
      "\u001b[1;31m---------------------------------------------------------------------------\u001b[0m",
      "\u001b[1;31mTypeError\u001b[0m                                 Traceback (most recent call last)",
      "Input \u001b[1;32mIn [10]\u001b[0m, in \u001b[0;36m<cell line: 3>\u001b[1;34m()\u001b[0m\n\u001b[0;32m      1\u001b[0m s \u001b[38;5;241m=\u001b[39m \u001b[38;5;124m\"\u001b[39m\u001b[38;5;124mone\u001b[39m\u001b[38;5;124m\"\u001b[39m\n\u001b[0;32m      2\u001b[0m n \u001b[38;5;241m=\u001b[39m \u001b[38;5;241m2\u001b[39m\n\u001b[1;32m----> 3\u001b[0m \u001b[38;5;28mprint\u001b[39m(\u001b[43ms\u001b[49m\u001b[38;5;241;43m+\u001b[39;49m\u001b[43mn\u001b[49m)\n",
      "\u001b[1;31mTypeError\u001b[0m: can only concatenate str (not \"int\") to str"
     ]
    }
   ],
   "source": [
    "s = \"one\"\n",
    "n = 2\n",
    "print(s+n)"
   ]
  },
  {
   "cell_type": "markdown",
   "id": "b16fdd2f",
   "metadata": {},
   "source": [
    "### Repetition of string – Replication operator"
   ]
  },
  {
   "cell_type": "code",
   "execution_count": 11,
   "id": "54bd3585",
   "metadata": {},
   "outputs": [
    {
     "name": "stdout",
     "output_type": "stream",
     "text": [
      "xyzxyzxyz\n"
     ]
    }
   ],
   "source": [
    "# * operator to repeat a string by specified number of times.\n",
    "\n",
    "str = \"xyz\"\n",
    "\n",
    "# repeating the string str by 3 times\n",
    "print(str*3)"
   ]
  },
  {
   "cell_type": "markdown",
   "id": "8b911afe",
   "metadata": {},
   "source": [
    "### Membership Operators in Strings\n",
    "- in: This checks whether a string is present in another string or not. \n",
    "   - It returns true if the entire string is found else it returns false.\n",
    "- not in: It works just opposite to what “in” operator does. \n",
    "   - It returns true if the string is not found in the specified string else it returns false."
   ]
  },
  {
   "cell_type": "code",
   "execution_count": 13,
   "id": "3f01dadf",
   "metadata": {},
   "outputs": [
    {
     "name": "stdout",
     "output_type": "stream",
     "text": [
      "False\n",
      "False\n",
      "True\n"
     ]
    }
   ],
   "source": [
    "str = \"Alliance University python fundamentals\"\n",
    "str2 = \"Welcome\"\n",
    "str3 = \"Jeniffer\"\n",
    "str4 = \"XYZ\"\n",
    "\n",
    "# str2 is in str? True\n",
    "print(str2 in str)\n",
    "\n",
    "# str3 is in str? False\n",
    "print(str3 in str)\n",
    "\n",
    "# str4 not in str? True\n",
    "print(str4 not in str)"
   ]
  },
  {
   "cell_type": "markdown",
   "id": "fd3c5c5e",
   "metadata": {},
   "source": [
    "### Relational Operators on Strings\n",
    "\n",
    "The relational operators works on strings based on the ASCII values of characters.\n",
    "- The ASCII value of a is 97, b is 98 and so on.\n",
    "- The ASCII value of A is 65, B is 66 and so on."
   ]
  },
  {
   "cell_type": "code",
   "execution_count": 14,
   "id": "92604cc5",
   "metadata": {},
   "outputs": [
    {
     "name": "stdout",
     "output_type": "stream",
     "text": [
      "True\n",
      "False\n"
     ]
    }
   ],
   "source": [
    "str = \"ABC\"\n",
    "str2 = \"aBC\"\n",
    "str3 = \"XYZ\"\n",
    "str4 = \"XYz\"\n",
    "\n",
    "# ASCII value of str2 is > str? True\n",
    "print(str2 > str)\n",
    "\n",
    "# ASCII value of str3 is > str4? False\n",
    "print(str3 > str4)"
   ]
  },
  {
   "cell_type": "markdown",
   "id": "a73dad65",
   "metadata": {},
   "source": [
    "## Python Tuple\n",
    "\n",
    "tuple is similar to List except that the objects in tuple are immutable which means we cannot change the elements of a tuple once assigned. On the other hand, we can change the elements of a list.\n",
    "### Tuple vs List\n",
    "- The elements of a list are mutable whereas the elements of a tuple are immutable.\n",
    "- When we do not want to change the data over time, the tuple is a preferred data type whereas when we need to change the data in future, list would be a wise option.\n",
    "- Iterating over the elements of a tuple is faster compared to iterating over a list.\n",
    "- Elements of a tuple are enclosed in parenthesis whereas the elements of list are enclosed in square bracket.\n",
    "\n",
    "### create a tuple in Python\n",
    "- To create a tuple in Python, place all the elements in a () parenthesis, separated by commas. \n",
    "- A tuple can have heterogeneous data items, a tuple can have string and list as data items as well."
   ]
  },
  {
   "cell_type": "code",
   "execution_count": 15,
   "id": "93585415",
   "metadata": {},
   "outputs": [
    {
     "name": "stdout",
     "output_type": "stream",
     "text": [
      "('hi', 'hello', 'bye')\n",
      "(1, 2.8, 'Hello World')\n",
      "('Book', [1, 2, 3])\n",
      "((2, 3, 4), (1, 2, 'hi'))\n"
     ]
    }
   ],
   "source": [
    "# tuple of strings\n",
    "data = (\"hi\", \"hello\", \"bye\")\n",
    "print(data)\n",
    "\n",
    "# tuple of int, float, string\n",
    "data2 = (1, 2.8, \"Hello World\")\n",
    "print(data2)\n",
    "\n",
    "# tuple of string and list\n",
    "data3 = (\"Book\", [1, 2, 3])\n",
    "print(data3)\n",
    "\n",
    "# tuples inside another tuple nested tuple\n",
    "data4 = ((2, 3, 4), (1, 2, \"hi\"))\n",
    "print(data4)"
   ]
  },
  {
   "cell_type": "code",
   "execution_count": 16,
   "id": "cbc25b3e",
   "metadata": {},
   "outputs": [],
   "source": [
    "# empty tuple\n",
    "data = ()"
   ]
  },
  {
   "cell_type": "code",
   "execution_count": 18,
   "id": "5771c134",
   "metadata": {},
   "outputs": [],
   "source": [
    "# tuple with single data item\n",
    "\n",
    "\"\"\"If we do not put comma after 99 in the above example then \n",
    "python will treat my_data as an int variable rather than a tuple.\"\"\"\n",
    "\n",
    "data = (99,)\n"
   ]
  },
  {
   "cell_type": "markdown",
   "id": "c17f5e6e",
   "metadata": {},
   "source": [
    "### Access tuple"
   ]
  },
  {
   "cell_type": "code",
   "execution_count": 19,
   "id": "34026362",
   "metadata": {},
   "outputs": [
    {
     "name": "stdout",
     "output_type": "stream",
     "text": [
      "('hi', 'hello', 'bye')\n",
      "hi\n",
      "bye\n"
     ]
    }
   ],
   "source": [
    "# tuple of strings\n",
    "data = (\"hi\", \"hello\", \"bye\")\n",
    "\n",
    "# displaying all elements\n",
    "print(data)\n",
    "\n",
    "# accessing first element prints \"hi\"\n",
    "print(data[0])\n",
    "\n",
    "# accessing third element prints \"bye\"\n",
    "print(data[2])"
   ]
  },
  {
   "cell_type": "markdown",
   "id": "4548435c",
   "metadata": {},
   "source": [
    "- TypeError: \n",
    "  - If we do not use integer indexes in the tuple. \n",
    "  - For example data[2.0] will raise this error. \n",
    "  - The index must always be an integer.\n",
    "- IndexError: \n",
    "  - Index out of range. \n",
    "  - This error occurs when we mention the index which is not in the range. \n",
    "  - For example, if a tuple has 5 elements and we try to access the 7th element then this error would occurr.\n",
    "  \n",
    "#### Negative indexes in tuples\n",
    "- Similar to list and strings we can use negative indexes to access the tuple elements from the end.\n",
    "- -1 to access last element, -2 to access second last and so on."
   ]
  },
  {
   "cell_type": "code",
   "execution_count": 20,
   "id": "559d7720",
   "metadata": {},
   "outputs": [
    {
     "name": "stdout",
     "output_type": "stream",
     "text": [
      "8.9\n",
      "2\n"
     ]
    }
   ],
   "source": [
    "data = (1, 2, \"Kevin\", 8.9)\n",
    "\n",
    "# accessing last element\n",
    "# prints 8.9\n",
    "print(data[-1])\n",
    "\n",
    "# prints 2\n",
    "print(data[-3])"
   ]
  },
  {
   "cell_type": "markdown",
   "id": "3606286b",
   "metadata": {},
   "source": [
    "#### Accessing elements from nested tuples\n",
    "- The first index represents the element of main tuple and the second index represent the element of the nested tuple.\n",
    "- Below, when we used data[2][1], it accessed the second element of the nested tuple. Because 2 represented the third element of main tuple which is a tuple and the 1 represented the second element of that tuple."
   ]
  },
  {
   "cell_type": "code",
   "execution_count": 22,
   "id": "fe464172",
   "metadata": {},
   "outputs": [
    {
     "name": "stdout",
     "output_type": "stream",
     "text": [
      "t\n",
      "22\n"
     ]
    }
   ],
   "source": [
    "data = (1, \"Meeta\", (11, 22, 33))\n",
    "\n",
    "# prints 'v'\n",
    "print(data[1][3])\n",
    "\n",
    "# prints 22\n",
    "print(data[2][1])"
   ]
  },
  {
   "cell_type": "markdown",
   "id": "51db7651",
   "metadata": {},
   "source": [
    "#### Changing the elements of a tuple\n",
    "- We cannot change the elements of a tuple because elements of tuple are immutable. \n",
    "- However we can change the elements of nested items that are mutable. \n",
    "- For example, in the following code, we are changing the element of the list which is present inside the tuple. List items are mutable that’s why it is allowed."
   ]
  },
  {
   "cell_type": "code",
   "execution_count": 23,
   "id": "d6657a06",
   "metadata": {},
   "outputs": [
    {
     "name": "stdout",
     "output_type": "stream",
     "text": [
      "(1, [9, 8, 7], 'World')\n",
      "(1, [9, 8, 99], 'World')\n"
     ]
    }
   ],
   "source": [
    "data = (1, [9, 8, 7], \"World\")\n",
    "print(data)\n",
    "\n",
    "# changing the element of the list\n",
    "# this is valid because list is mutable\n",
    "data[1][2] = 99\n",
    "print(data)\n",
    "\n",
    "# changing the element of tuple\n",
    "# This is not valid since tuple elements are immutable\n",
    "# TypeError: 'tuple' object does not support item assignment\n",
    "# data[0] = 101\n",
    "# print(data)"
   ]
  },
  {
   "cell_type": "markdown",
   "id": "31fa35c8",
   "metadata": {},
   "source": [
    "#### Delete operation on tuple\n",
    "- We have seen above that tuple elements are immutable which also means that we cannot delete the elements of a tuple. \n",
    "- However deleting entire tuple is possible."
   ]
  },
  {
   "cell_type": "code",
   "execution_count": 24,
   "id": "058c028a",
   "metadata": {},
   "outputs": [
    {
     "name": "stdout",
     "output_type": "stream",
     "text": [
      "(1, 2, 3, 4, 5, 6)\n"
     ]
    }
   ],
   "source": [
    "data = (1, 2, 3, 4, 5, 6)\n",
    "print(data)\n",
    "\n",
    "# not possible\n",
    "# error\n",
    "# del data[2]\n",
    "\n",
    "# deleting entire tuple is possible\n",
    "del data\n",
    "\n",
    "# not possible\n",
    "# error\n",
    "# because my_data is deleted\n",
    "# print(data)"
   ]
  },
  {
   "cell_type": "markdown",
   "id": "620686a8",
   "metadata": {},
   "source": [
    "#### Slicing operation in tuples"
   ]
  },
  {
   "cell_type": "code",
   "execution_count": 25,
   "id": "05d257f3",
   "metadata": {},
   "outputs": [
    {
     "name": "stdout",
     "output_type": "stream",
     "text": [
      "(11, 22, 33, 44, 55, 66, 77, 88, 99)\n",
      "(33, 44, 55)\n",
      "(11, 22, 33, 44)\n",
      "(55, 66, 77, 88, 99)\n",
      "(55, 66, 77, 88)\n",
      "(11, 22, 33, 44, 55, 66, 77, 88, 99)\n"
     ]
    }
   ],
   "source": [
    "data = (11, 22, 33, 44, 55, 66, 77, 88, 99)\n",
    "print(data)\n",
    "\n",
    "# elements from 3rd to 5th\n",
    "# prints (33, 44, 55)\n",
    "print(data[2:5])\n",
    "\n",
    "# elements from start to 4th\n",
    "# prints (11, 22, 33, 44)\n",
    "print(data[:4])\n",
    "\n",
    "# elements from 5th to end\n",
    "# prints (55, 66, 77, 88, 99)\n",
    "print(data[4:])\n",
    "\n",
    "# elements from 5th to second last\n",
    "# prints (55, 66, 77, 88)\n",
    "print(data[4:-1])\n",
    "\n",
    "# displaying entire tuple\n",
    "print(data[:])"
   ]
  },
  {
   "cell_type": "markdown",
   "id": "21617e7a",
   "metadata": {},
   "source": [
    "#### Membership Test in Tuples\n",
    "- in: Checks whether an element exists in the specified tuple.\n",
    "- not in: Checks whether an element does not exist in the specified tuple."
   ]
  },
  {
   "cell_type": "code",
   "execution_count": 26,
   "id": "95207737",
   "metadata": {},
   "outputs": [
    {
     "name": "stdout",
     "output_type": "stream",
     "text": [
      "(11, 22, 33, 44, 55, 66, 77, 88, 99)\n",
      "True\n",
      "False\n",
      "False\n",
      "True\n"
     ]
    }
   ],
   "source": [
    "data = (11, 22, 33, 44, 55, 66, 77, 88, 99)\n",
    "print(data)\n",
    "\n",
    "# true\n",
    "print(22 in data)\n",
    "\n",
    "# false\n",
    "print(2 in data)\n",
    "\n",
    "# false\n",
    "print(88 not in data)\n",
    "\n",
    "# true\n",
    "print(101 not in data)"
   ]
  },
  {
   "cell_type": "markdown",
   "id": "a4322e6a",
   "metadata": {},
   "source": [
    "#### Iterating a tuple"
   ]
  },
  {
   "cell_type": "code",
   "execution_count": 27,
   "id": "425a0650",
   "metadata": {},
   "outputs": [
    {
     "name": "stdout",
     "output_type": "stream",
     "text": [
      "Apple\n",
      "Orange\n",
      "Grapes\n",
      "Banana\n"
     ]
    }
   ],
   "source": [
    "# tuple of fruits\n",
    "tuple = (\"Apple\", \"Orange\", \"Grapes\", \"Banana\")\n",
    "\n",
    "# iterating over tuple elements\n",
    "for fruit in tuple:\n",
    "     print(fruit)"
   ]
  },
  {
   "cell_type": "code",
   "execution_count": null,
   "id": "065d031b",
   "metadata": {},
   "outputs": [],
   "source": []
  }
 ],
 "metadata": {
  "kernelspec": {
   "display_name": "Python 3 (ipykernel)",
   "language": "python",
   "name": "python3"
  },
  "language_info": {
   "codemirror_mode": {
    "name": "ipython",
    "version": 3
   },
   "file_extension": ".py",
   "mimetype": "text/x-python",
   "name": "python",
   "nbconvert_exporter": "python",
   "pygments_lexer": "ipython3",
   "version": "3.9.7"
  }
 },
 "nbformat": 4,
 "nbformat_minor": 5
}
