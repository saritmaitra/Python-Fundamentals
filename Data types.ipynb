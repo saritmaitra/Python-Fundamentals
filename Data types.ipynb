{
 "cells": [
  {
   "cell_type": "markdown",
   "id": "2610352f",
   "metadata": {},
   "source": [
    "A basic Python curriculum can be broken down into 4 essential topics:\n",
    "\n",
    "## Data types (int, float, strings)\n",
    "- Compound data structures (lists, tuples, and dictionaries)\n",
    "- Conditionals, loops, and functions\n",
    "- Object-oriented programming and using external libraries\n",
    "\n",
    "### 1. Data Types and Structures\n",
    "The very first step is to understand how Python interprets data.\n",
    "\n",
    "Starting with widely used data types, we should be familiar with integers (int), floats (float), strings (str), and booleans (bool). \n",
    "\n",
    "#### Type, typecasting, and I/O functions:\n",
    "Learning the type of data using the type() method."
   ]
  },
  {
   "cell_type": "code",
   "execution_count": 1,
   "id": "e4c42a87",
   "metadata": {},
   "outputs": [
    {
     "data": {
      "text/plain": [
       "str"
      ]
     },
     "execution_count": 1,
     "metadata": {},
     "output_type": "execute_result"
    }
   ],
   "source": [
    "type('sarit')"
   ]
  },
  {
   "cell_type": "markdown",
   "id": "0126cff7",
   "metadata": {},
   "source": [
    "#### Storing values into variables and input-output functions (a = 5.67)\n",
    "Typecasting — converting a particular type of variable/data into another type if possible. For example, converting a string of integers into an integer:"
   ]
  },
  {
   "cell_type": "code",
   "execution_count": 2,
   "id": "8b63a14a",
   "metadata": {},
   "outputs": [
    {
     "name": "stdout",
     "output_type": "stream",
     "text": [
      "<class 'str'>\n"
     ]
    }
   ],
   "source": [
    "string = \"55\"\n",
    "print(type(string))"
   ]
  },
  {
   "cell_type": "markdown",
   "id": "1b8d99cf",
   "metadata": {},
   "source": [
    "#### But if we try to convert an alphanumeric or alphabet string into an integer, it will throw an error:"
   ]
  },
  {
   "cell_type": "code",
   "execution_count": 6,
   "id": "7002e9bd",
   "metadata": {},
   "outputs": [
    {
     "name": "stdout",
     "output_type": "stream",
     "text": [
      "<class 'str'>\n"
     ]
    },
    {
     "ename": "ValueError",
     "evalue": "invalid literal for int() with base 10: '5sarit'",
     "output_type": "error",
     "traceback": [
      "\u001b[1;31m---------------------------------------------------------------------------\u001b[0m",
      "\u001b[1;31mValueError\u001b[0m                                Traceback (most recent call last)",
      "Input \u001b[1;32mIn [6]\u001b[0m, in \u001b[0;36m<cell line: 4>\u001b[1;34m()\u001b[0m\n\u001b[0;32m      1\u001b[0m string \u001b[38;5;241m=\u001b[39m \u001b[38;5;124m\"\u001b[39m\u001b[38;5;124m5sarit\u001b[39m\u001b[38;5;124m\"\u001b[39m\n\u001b[0;32m      2\u001b[0m \u001b[38;5;28mprint\u001b[39m(\u001b[38;5;28mtype\u001b[39m(string))\n\u001b[1;32m----> 4\u001b[0m number \u001b[38;5;241m=\u001b[39m \u001b[38;5;28;43mint\u001b[39;49m\u001b[43m(\u001b[49m\u001b[43mstring\u001b[49m\u001b[43m)\u001b[49m\n\u001b[0;32m      5\u001b[0m \u001b[38;5;28mprint\u001b[39m(number)\n",
      "\u001b[1;31mValueError\u001b[0m: invalid literal for int() with base 10: '5sarit'"
     ]
    }
   ],
   "source": [
    "string = \"5sarit\"\n",
    "print(type(string))\n",
    "\n",
    "number = int(string)\n",
    "print(number)"
   ]
  },
  {
   "cell_type": "code",
   "execution_count": 7,
   "id": "3d6f4800",
   "metadata": {},
   "outputs": [
    {
     "name": "stdout",
     "output_type": "stream",
     "text": [
      "29.0\n"
     ]
    }
   ],
   "source": [
    "answer = 43 + 56 / 14 - 9 * 2\n",
    "print(answer)"
   ]
  },
  {
   "cell_type": "code",
   "execution_count": 10,
   "id": "d5f4df61",
   "metadata": {},
   "outputs": [
    {
     "name": "stdout",
     "output_type": "stream",
     "text": [
      "70\n"
     ]
    }
   ],
   "source": [
    "# module operator %\n",
    "remainder = 170%100\n",
    "print(remainder)"
   ]
  },
  {
   "cell_type": "code",
   "execution_count": 11,
   "id": "330de5a0",
   "metadata": {},
   "outputs": [
    {
     "name": "stdout",
     "output_type": "stream",
     "text": [
      "625\n"
     ]
    }
   ],
   "source": [
    "# x ^ n\n",
    "x = 5\n",
    "n = 4\n",
    "print(x ** n)"
   ]
  },
  {
   "cell_type": "markdown",
   "id": "823764c8",
   "metadata": {},
   "source": [
    "#### Strings:\n",
    "Knowing how to deal with textual data and their operators comes in handy when dealing with the string data type. Practice these concepts:\n",
    "\n",
    "- Concatenating strings using +\n",
    "- Splitting and joining the string using the split() and join()method\n",
    "- Changing the case of the string using lower() and upper() methods\n"
   ]
  },
  {
   "cell_type": "code",
   "execution_count": 13,
   "id": "9ed59bce",
   "metadata": {},
   "outputs": [
    {
     "name": "stdout",
     "output_type": "stream",
     "text": [
      "30\n"
     ]
    }
   ],
   "source": [
    "nstr = \"abc\"\n",
    "ans = nstr * 10\n",
    "print(len(ans))"
   ]
  },
  {
   "cell_type": "code",
   "execution_count": 14,
   "id": "3e3b8afb",
   "metadata": {},
   "outputs": [
    {
     "name": "stdout",
     "output_type": "stream",
     "text": [
      "Bhumika is a data scientist!\n"
     ]
    }
   ],
   "source": [
    "name = \"Bhumika\"\n",
    "print(\"%s is a data scientist!\" %name)"
   ]
  },
  {
   "cell_type": "code",
   "execution_count": 15,
   "id": "18fc98be",
   "metadata": {},
   "outputs": [
    {
     "data": {
      "text/plain": [
       "'BHUMIKA'"
      ]
     },
     "execution_count": 15,
     "metadata": {},
     "output_type": "execute_result"
    }
   ],
   "source": [
    "name.upper()"
   ]
  },
  {
   "cell_type": "code",
   "execution_count": 16,
   "id": "baa24850",
   "metadata": {},
   "outputs": [
    {
     "data": {
      "text/plain": [
       "'It is a lovely day today.'"
      ]
     },
     "execution_count": 16,
     "metadata": {},
     "output_type": "execute_result"
    }
   ],
   "source": [
    "nstr = \"it is a lovely day today.\"\n",
    "nstr.capitalize()"
   ]
  },
  {
   "cell_type": "markdown",
   "id": "93ab3041",
   "metadata": {},
   "source": [
    "#### Dictionaries\n",
    "These are another type of collection in Python. While lists are integer indexed, dictionaries are more like addresses. Dictionaries have key-value pairs, and keys are analogous to indexes in lists."
   ]
  },
  {
   "cell_type": "code",
   "execution_count": 19,
   "id": "575aff55",
   "metadata": {},
   "outputs": [
    {
     "name": "stdout",
     "output_type": "stream",
     "text": [
      "{'Bangalore': 80, 'Mumbai': 22, 'Hyderabad': 40}\n"
     ]
    }
   ],
   "source": [
    "# dictionary\n",
    "state_code = {'Bangalore': 80, 'Mumbai': 22, 'Hyderabad': 40}\n",
    "print(state_code)"
   ]
  },
  {
   "cell_type": "code",
   "execution_count": 20,
   "id": "dfb4339f",
   "metadata": {},
   "outputs": [
    {
     "name": "stdout",
     "output_type": "stream",
     "text": [
      "40\n"
     ]
    }
   ],
   "source": [
    "print(state_code['Hyderabad'])"
   ]
  },
  {
   "cell_type": "markdown",
   "id": "640b3e79",
   "metadata": {},
   "source": [
    "#### if/else"
   ]
  },
  {
   "cell_type": "code",
   "execution_count": 21,
   "id": "5ef20671",
   "metadata": {},
   "outputs": [
    {
     "name": "stdout",
     "output_type": "stream",
     "text": [
      "Admission successful!\n"
     ]
    }
   ],
   "source": [
    "score = 76\n",
    "percentile = 83\n",
    "\n",
    "if score > 75 or percentile > 90:\n",
    "    print(\"Admission successful!\")\n",
    "else:\n",
    "    print(\"Try again next year\")"
   ]
  },
  {
   "cell_type": "code",
   "execution_count": 26,
   "id": "876fd65a",
   "metadata": {},
   "outputs": [
    {
     "name": "stdout",
     "output_type": "stream",
     "text": [
      "b is divisible by a\n"
     ]
    }
   ],
   "source": [
    "a = 3\n",
    "b = 9\n",
    "if b % a == 0 :\n",
    "    print (\"b is divisible by a\")\n",
    "elif b + 1 == 10:\n",
    "    print (\"Increment in b produces 10\")\n",
    "else:\n",
    "    print (\"You are in else statement\")"
   ]
  },
  {
   "cell_type": "code",
   "execution_count": 27,
   "id": "4d47785b",
   "metadata": {},
   "outputs": [
    {
     "name": "stdout",
     "output_type": "stream",
     "text": [
      "a is divisible by b\n"
     ]
    }
   ],
   "source": [
    "def check_Divisibility(a, b):\n",
    "    if a % b == 0 :\n",
    "        print (\"a is divisible by b\")\n",
    "    else:\n",
    "        print (\"a is not divisible by b\")\n",
    "\n",
    "# Driver program to test the above function\n",
    "check_Divisibility(4, 2)"
   ]
  },
  {
   "cell_type": "markdown",
   "id": "fb501b89",
   "metadata": {},
   "source": [
    "#### Local Variables\n",
    "Local variables are those which are initialized inside a function and belongs only to that particular function. It cannot be accessed anywhere outside the function. "
   ]
  },
  {
   "cell_type": "code",
   "execution_count": 28,
   "id": "2db19d8a",
   "metadata": {},
   "outputs": [
    {
     "name": "stdout",
     "output_type": "stream",
     "text": [
      "I love Alliance Uni\n"
     ]
    }
   ],
   "source": [
    "def f():\n",
    "     \n",
    "    # local variable\n",
    "    s = \"I love Alliance Uni\"\n",
    "    print(s)\n",
    "\n",
    "# Driver code\n",
    "f()"
   ]
  },
  {
   "cell_type": "markdown",
   "id": "0dd28874",
   "metadata": {},
   "source": [
    "If we try to use this local variable outside the function we get an error."
   ]
  },
  {
   "cell_type": "code",
   "execution_count": 29,
   "id": "91415e1c",
   "metadata": {},
   "outputs": [
    {
     "name": "stdout",
     "output_type": "stream",
     "text": [
      "Inside Function: I love Alliance Uni\n"
     ]
    },
    {
     "ename": "NameError",
     "evalue": "name 's' is not defined",
     "output_type": "error",
     "traceback": [
      "\u001b[1;31m---------------------------------------------------------------------------\u001b[0m",
      "\u001b[1;31mNameError\u001b[0m                                 Traceback (most recent call last)",
      "Input \u001b[1;32mIn [29]\u001b[0m, in \u001b[0;36m<cell line: 9>\u001b[1;34m()\u001b[0m\n\u001b[0;32m      7\u001b[0m \u001b[38;5;66;03m# Driver code\u001b[39;00m\n\u001b[0;32m      8\u001b[0m f()\n\u001b[1;32m----> 9\u001b[0m \u001b[38;5;28mprint\u001b[39m(\u001b[43ms\u001b[49m)\n",
      "\u001b[1;31mNameError\u001b[0m: name 's' is not defined"
     ]
    }
   ],
   "source": [
    "def f():\n",
    "     \n",
    "    # local variable\n",
    "    s = \"I love Alliance Uni\"\n",
    "    print(\"Inside Function:\", s)\n",
    "\n",
    "# Driver code\n",
    "f()\n",
    "print(s)"
   ]
  },
  {
   "cell_type": "markdown",
   "id": "42c18694",
   "metadata": {},
   "source": [
    "#### Global Variables\n",
    "The global variables are those which are defined outside any function and which are accessible throughout the program i.e. inside and outside of every function."
   ]
  },
  {
   "cell_type": "code",
   "execution_count": 31,
   "id": "afca4ea5",
   "metadata": {},
   "outputs": [
    {
     "name": "stdout",
     "output_type": "stream",
     "text": [
      "Inside Function: I love Alliance Uni\n",
      "Outside Function: I love Alliance Uni\n"
     ]
    }
   ],
   "source": [
    "# This function uses global variable s\n",
    "def f():\n",
    "    print(\"Inside Function:\", s)\n",
    "\n",
    "# Global scope\n",
    "s = \"I love Alliance Uni\"\n",
    "f()\n",
    "print(\"Outside Function:\", s)"
   ]
  },
  {
   "cell_type": "markdown",
   "id": "eb6d9c72",
   "metadata": {},
   "source": [
    "The variable s is defined as the global variable and is used both inside the function as well as outside the function.\n",
    "\n",
    "Now, what if there is a variable with the same name initialized inside a function as well as globally. Now the question arises, will the local variable will have some effect on the global variable or vice versa, and what will happen if we change the value of variable inside of the function f()? "
   ]
  },
  {
   "cell_type": "code",
   "execution_count": 32,
   "id": "0ede14fa",
   "metadata": {},
   "outputs": [
    {
     "name": "stdout",
     "output_type": "stream",
     "text": [
      "Me too.\n",
      "I love Alliance Uni\n"
     ]
    }
   ],
   "source": [
    "# This function has a variable with name same as s.\n",
    "def f():\n",
    "    s = \"Me too.\"\n",
    "    print(s)\n",
    "\n",
    "# Global scope\n",
    "s = \"I love Alliance Uni\"\n",
    "f()\n",
    "print(s)"
   ]
  },
  {
   "cell_type": "markdown",
   "id": "d10787d9",
   "metadata": {},
   "source": [
    "If a variable with the same name is defined inside the scope of function as well then it will print the value given inside the function only and not the global value. \n",
    "\n",
    "The question is, what if we try to change the value of a global variable inside the function. "
   ]
  },
  {
   "cell_type": "code",
   "execution_count": 33,
   "id": "228d8ee5",
   "metadata": {},
   "outputs": [
    {
     "ename": "UnboundLocalError",
     "evalue": "local variable 's' referenced before assignment",
     "output_type": "error",
     "traceback": [
      "\u001b[1;31m---------------------------------------------------------------------------\u001b[0m",
      "\u001b[1;31mUnboundLocalError\u001b[0m                         Traceback (most recent call last)",
      "Input \u001b[1;32mIn [33]\u001b[0m, in \u001b[0;36m<cell line: 8>\u001b[1;34m()\u001b[0m\n\u001b[0;32m      6\u001b[0m \u001b[38;5;66;03m# Global scope\u001b[39;00m\n\u001b[0;32m      7\u001b[0m s \u001b[38;5;241m=\u001b[39m \u001b[38;5;124m\"\u001b[39m\u001b[38;5;124mI love Alliance Uni\u001b[39m\u001b[38;5;124m\"\u001b[39m\n\u001b[1;32m----> 8\u001b[0m \u001b[43mf\u001b[49m\u001b[43m(\u001b[49m\u001b[43m)\u001b[49m\n",
      "Input \u001b[1;32mIn [33]\u001b[0m, in \u001b[0;36mf\u001b[1;34m()\u001b[0m\n\u001b[0;32m      2\u001b[0m \u001b[38;5;28;01mdef\u001b[39;00m \u001b[38;5;21mf\u001b[39m():\n\u001b[1;32m----> 3\u001b[0m     s \u001b[38;5;241m+\u001b[39m\u001b[38;5;241m=\u001b[39m \u001b[38;5;124m'\u001b[39m\u001b[38;5;124mAlliance\u001b[39m\u001b[38;5;124m'\u001b[39m\n\u001b[0;32m      4\u001b[0m     \u001b[38;5;28mprint\u001b[39m(\u001b[38;5;124m\"\u001b[39m\u001b[38;5;124mInside Function\u001b[39m\u001b[38;5;124m\"\u001b[39m, s)\n",
      "\u001b[1;31mUnboundLocalError\u001b[0m: local variable 's' referenced before assignment"
     ]
    }
   ],
   "source": [
    "# This function uses global variable s\n",
    "def f():\n",
    "    s += 'Alliance'\n",
    "    print(\"Inside Function\", s)\n",
    "\n",
    "# Global scope\n",
    "s = \"I love Alliance Uni\"\n",
    "f()"
   ]
  },
  {
   "cell_type": "markdown",
   "id": "befa52c2",
   "metadata": {},
   "source": [
    "To make the above program work, we need to use the “global” keyword. Let’s see what this global keyword is.\n",
    "\n",
    "#### Global Keyword\n",
    "We only need to use the global keyword in a function if we want to do assignments or change the global variable. global is not needed for printing and accessing. Python “assumes” that we want a local variable due to the assignment to s inside of f(), so the first statement throws the error message. Any variable which is changed or created inside of a function is local if it hasn’t been declared as a global variable. To tell Python, that we want to use the global variable, we have to use the keyword “global”"
   ]
  },
  {
   "cell_type": "code",
   "execution_count": 34,
   "id": "95bcaa20",
   "metadata": {},
   "outputs": [
    {
     "name": "stdout",
     "output_type": "stream",
     "text": [
      "Python is great!Alliance\n",
      "Look for Alliance Uni Python Classes\n",
      "Look for Alliance Uni Python Classes\n"
     ]
    }
   ],
   "source": [
    "# This function modifies the global variable 's'\n",
    "def f():\n",
    "    global s\n",
    "    s += 'Alliance'\n",
    "    print(s)\n",
    "    s = \"Look for Alliance Uni Python Classes\"\n",
    "    print(s)\n",
    "\n",
    "# Global Scope\n",
    "s = \"Python is great!\"\n",
    "f()\n",
    "print(s)"
   ]
  },
  {
   "cell_type": "markdown",
   "id": "1fe6ed3f",
   "metadata": {},
   "source": [
    "#### Loops\n",
    "Often we'll need to do a repetitive task, and loops will be our best friend to eliminate the overhead of code redundancy. We’ll often need to iterate through each element of a list or dictionary, and loops come in handy for that. while and for are two types of loops."
   ]
  },
  {
   "cell_type": "code",
   "execution_count": 22,
   "id": "35b303b5",
   "metadata": {},
   "outputs": [
    {
     "name": "stdout",
     "output_type": "stream",
     "text": [
      "Juvenile\n",
      "Adult\n",
      "Adult\n",
      "Juvenile\n"
     ]
    }
   ],
   "source": [
    "age = [12,43,45,10]\n",
    "i = 0\n",
    "while i < len(age):\n",
    "    if age[i] >= 18:\n",
    "        print(\"Adult\")\n",
    "    else:\n",
    "        print(\"Juvenile\")\n",
    "    i += 1"
   ]
  },
  {
   "cell_type": "markdown",
   "id": "3b4ff16e",
   "metadata": {},
   "source": [
    "Iterating through lists and appending (or any other task with list items) elements in a particular order"
   ]
  },
  {
   "cell_type": "code",
   "execution_count": 23,
   "id": "936c27b4",
   "metadata": {},
   "outputs": [
    {
     "name": "stdout",
     "output_type": "stream",
     "text": [
      "[1, 8, 27, 64, 125, 216, 343, 512, 729]\n"
     ]
    }
   ],
   "source": [
    "cubes = []\n",
    "for i in range(1,10):\n",
    "    cubes.append(i ** 3)\n",
    "print(cubes)"
   ]
  },
  {
   "cell_type": "markdown",
   "id": "62269776",
   "metadata": {},
   "source": [
    "#### List Comprehension\n",
    "A sophisticated and succinct way of creating a list using and iterable followed by a for clause."
   ]
  },
  {
   "cell_type": "code",
   "execution_count": 24,
   "id": "83750c28",
   "metadata": {},
   "outputs": [
    {
     "name": "stdout",
     "output_type": "stream",
     "text": [
      "[1, 8, 27, 64, 125, 216, 343, 512, 729]\n"
     ]
    }
   ],
   "source": [
    "# list comprehension\n",
    "cubes = [n** 3 for n in range(1,10)]\n",
    "print(cubes)"
   ]
  },
  {
   "cell_type": "markdown",
   "id": "b84844c8",
   "metadata": {},
   "source": [
    "#### Functions\n",
    "While working on a big project, maintaining code becomes a real chore. If our code performs similar tasks many times, a convenient way to manage our code is by using functions."
   ]
  },
  {
   "cell_type": "code",
   "execution_count": 25,
   "id": "700316e4",
   "metadata": {},
   "outputs": [
    {
     "data": {
      "text/plain": [
       "22"
      ]
     },
     "execution_count": 25,
     "metadata": {},
     "output_type": "execute_result"
    }
   ],
   "source": [
    "def add_two_numbers(a, b):\n",
    "    sum = a + b\n",
    "    return sum\n",
    "\n",
    "add_two_numbers(12,10)"
   ]
  },
  {
   "cell_type": "code",
   "execution_count": null,
   "id": "82fc3e61",
   "metadata": {},
   "outputs": [],
   "source": []
  }
 ],
 "metadata": {
  "kernelspec": {
   "display_name": "Python 3 (ipykernel)",
   "language": "python",
   "name": "python3"
  },
  "language_info": {
   "codemirror_mode": {
    "name": "ipython",
    "version": 3
   },
   "file_extension": ".py",
   "mimetype": "text/x-python",
   "name": "python",
   "nbconvert_exporter": "python",
   "pygments_lexer": "ipython3",
   "version": "3.9.7"
  }
 },
 "nbformat": 4,
 "nbformat_minor": 5
}
