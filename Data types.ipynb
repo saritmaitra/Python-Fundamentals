{
 "cells": [
  {
   "cell_type": "markdown",
   "id": "faa50be2",
   "metadata": {},
   "source": [
    "A basic Python curriculum can be broken down into 4 essential topics:\n",
    "\n",
    "## Data types (int, float, strings)\n",
    "- Compound data structures (lists, tuples, and dictionaries)\n",
    "- Conditionals, loops, and functions\n",
    "- Object-oriented programming and using external libraries\n",
    "\n",
    "### 1. Data Types and Structures\n",
    "The very first step is to understand how Python interprets data.\n",
    "\n",
    "Starting with widely used data types, we should be familiar with integers (int), floats (float), strings (str), and booleans (bool). \n",
    "\n",
    "#### Type, typecasting, and I/O functions:\n",
    "Learning the type of data using the type() method."
   ]
  },
  {
   "cell_type": "code",
   "execution_count": 1,
   "id": "0b35c120",
   "metadata": {},
   "outputs": [
    {
     "data": {
      "text/plain": [
       "str"
      ]
     },
     "execution_count": 1,
     "metadata": {},
     "output_type": "execute_result"
    }
   ],
   "source": [
    "type('sarit')"
   ]
  },
  {
   "cell_type": "markdown",
   "id": "9efc904d",
   "metadata": {},
   "source": [
    "#### Storing values into variables and input-output functions (a = 5.67)\n",
    "Typecasting — converting a particular type of variable/data into another type if possible. For example, converting a string of integers into an integer:"
   ]
  },
  {
   "cell_type": "code",
   "execution_count": 2,
   "id": "616ffb12",
   "metadata": {},
   "outputs": [
    {
     "name": "stdout",
     "output_type": "stream",
     "text": [
      "<class 'str'>\n"
     ]
    }
   ],
   "source": [
    "string = \"55\"\n",
    "print(type(string))"
   ]
  },
  {
   "cell_type": "markdown",
   "id": "5e2d0628",
   "metadata": {},
   "source": [
    "#### But if we try to convert an alphanumeric or alphabet string into an integer, it will throw an error:"
   ]
  },
  {
   "cell_type": "code",
   "execution_count": 6,
   "id": "4d651f32",
   "metadata": {},
   "outputs": [
    {
     "name": "stdout",
     "output_type": "stream",
     "text": [
      "<class 'str'>\n"
     ]
    },
    {
     "ename": "ValueError",
     "evalue": "invalid literal for int() with base 10: '5sarit'",
     "output_type": "error",
     "traceback": [
      "\u001b[1;31m---------------------------------------------------------------------------\u001b[0m",
      "\u001b[1;31mValueError\u001b[0m                                Traceback (most recent call last)",
      "Input \u001b[1;32mIn [6]\u001b[0m, in \u001b[0;36m<cell line: 4>\u001b[1;34m()\u001b[0m\n\u001b[0;32m      1\u001b[0m string \u001b[38;5;241m=\u001b[39m \u001b[38;5;124m\"\u001b[39m\u001b[38;5;124m5sarit\u001b[39m\u001b[38;5;124m\"\u001b[39m\n\u001b[0;32m      2\u001b[0m \u001b[38;5;28mprint\u001b[39m(\u001b[38;5;28mtype\u001b[39m(string))\n\u001b[1;32m----> 4\u001b[0m number \u001b[38;5;241m=\u001b[39m \u001b[38;5;28;43mint\u001b[39;49m\u001b[43m(\u001b[49m\u001b[43mstring\u001b[49m\u001b[43m)\u001b[49m\n\u001b[0;32m      5\u001b[0m \u001b[38;5;28mprint\u001b[39m(number)\n",
      "\u001b[1;31mValueError\u001b[0m: invalid literal for int() with base 10: '5sarit'"
     ]
    }
   ],
   "source": [
    "string = \"5sarit\"\n",
    "print(type(string))\n",
    "\n",
    "number = int(string)\n",
    "print(number)"
   ]
  },
  {
   "cell_type": "code",
   "execution_count": 7,
   "id": "f7e67b3c",
   "metadata": {},
   "outputs": [
    {
     "name": "stdout",
     "output_type": "stream",
     "text": [
      "29.0\n"
     ]
    }
   ],
   "source": [
    "answer = 43 + 56 / 14 - 9 * 2\n",
    "print(answer)"
   ]
  },
  {
   "cell_type": "code",
   "execution_count": 10,
   "id": "448ebe04",
   "metadata": {},
   "outputs": [
    {
     "name": "stdout",
     "output_type": "stream",
     "text": [
      "70\n"
     ]
    }
   ],
   "source": [
    "# module operator %\n",
    "remainder = 170%100\n",
    "print(remainder)"
   ]
  },
  {
   "cell_type": "code",
   "execution_count": 11,
   "id": "c350842b",
   "metadata": {},
   "outputs": [
    {
     "name": "stdout",
     "output_type": "stream",
     "text": [
      "625\n"
     ]
    }
   ],
   "source": [
    "# x ^ n\n",
    "x = 5\n",
    "n = 4\n",
    "print(x ** n)"
   ]
  },
  {
   "cell_type": "markdown",
   "id": "56d49bd3",
   "metadata": {},
   "source": [
    "#### Strings:\n",
    "Knowing how to deal with textual data and their operators comes in handy when dealing with the string data type. Practice these concepts:\n",
    "\n",
    "- Concatenating strings using +\n",
    "- Splitting and joining the string using the split() and join()method\n",
    "- Changing the case of the string using lower() and upper() methods\n"
   ]
  },
  {
   "cell_type": "code",
   "execution_count": 13,
   "id": "5feef102",
   "metadata": {},
   "outputs": [
    {
     "name": "stdout",
     "output_type": "stream",
     "text": [
      "30\n"
     ]
    }
   ],
   "source": [
    "nstr = \"abc\"\n",
    "ans = nstr * 10\n",
    "print(len(ans))"
   ]
  },
  {
   "cell_type": "code",
   "execution_count": 14,
   "id": "2e3e7d19",
   "metadata": {},
   "outputs": [
    {
     "name": "stdout",
     "output_type": "stream",
     "text": [
      "Bhumika is a data scientist!\n"
     ]
    }
   ],
   "source": [
    "name = \"Bhumika\"\n",
    "print(\"%s is a data scientist!\" %name)"
   ]
  },
  {
   "cell_type": "code",
   "execution_count": 15,
   "id": "f20ac4a7",
   "metadata": {},
   "outputs": [
    {
     "data": {
      "text/plain": [
       "'BHUMIKA'"
      ]
     },
     "execution_count": 15,
     "metadata": {},
     "output_type": "execute_result"
    }
   ],
   "source": [
    "name.upper()"
   ]
  },
  {
   "cell_type": "code",
   "execution_count": 16,
   "id": "2c9dedc1",
   "metadata": {},
   "outputs": [
    {
     "data": {
      "text/plain": [
       "'It is a lovely day today.'"
      ]
     },
     "execution_count": 16,
     "metadata": {},
     "output_type": "execute_result"
    }
   ],
   "source": [
    "nstr = \"it is a lovely day today.\"\n",
    "nstr.capitalize()"
   ]
  },
  {
   "cell_type": "markdown",
   "id": "26b69f5b",
   "metadata": {},
   "source": [
    "#### Dictionaries\n",
    "These are another type of collection in Python. While lists are integer indexed, dictionaries are more like addresses. Dictionaries have key-value pairs, and keys are analogous to indexes in lists."
   ]
  },
  {
   "cell_type": "code",
   "execution_count": 19,
   "id": "47d2ffda",
   "metadata": {},
   "outputs": [
    {
     "name": "stdout",
     "output_type": "stream",
     "text": [
      "{'Bangalore': 80, 'Mumbai': 22, 'Hyderabad': 40}\n"
     ]
    }
   ],
   "source": [
    "# dictionary\n",
    "state_code = {'Bangalore': 80, 'Mumbai': 22, 'Hyderabad': 40}\n",
    "print(state_code)"
   ]
  },
  {
   "cell_type": "code",
   "execution_count": 20,
   "id": "a4697cb0",
   "metadata": {},
   "outputs": [
    {
     "name": "stdout",
     "output_type": "stream",
     "text": [
      "40\n"
     ]
    }
   ],
   "source": [
    "print(state_code['Hyderabad'])"
   ]
  },
  {
   "cell_type": "markdown",
   "id": "b0862434",
   "metadata": {},
   "source": [
    "#### if/else"
   ]
  },
  {
   "cell_type": "code",
   "execution_count": 21,
   "id": "a5042ba3",
   "metadata": {},
   "outputs": [
    {
     "name": "stdout",
     "output_type": "stream",
     "text": [
      "Admission successful!\n"
     ]
    }
   ],
   "source": [
    "score = 76\n",
    "percentile = 83\n",
    "\n",
    "if score > 75 or percentile > 90:\n",
    "    print(\"Admission successful!\")\n",
    "else:\n",
    "    print(\"Try again next year\")"
   ]
  },
  {
   "cell_type": "markdown",
   "id": "eeeb35ae",
   "metadata": {},
   "source": [
    "#### Loops\n",
    "Often we'll need to do a repetitive task, and loops will be our best friend to eliminate the overhead of code redundancy. We’ll often need to iterate through each element of a list or dictionary, and loops come in handy for that. while and for are two types of loops."
   ]
  },
  {
   "cell_type": "code",
   "execution_count": 22,
   "id": "8b38b27b",
   "metadata": {},
   "outputs": [
    {
     "name": "stdout",
     "output_type": "stream",
     "text": [
      "Juvenile\n",
      "Adult\n",
      "Adult\n",
      "Juvenile\n"
     ]
    }
   ],
   "source": [
    "age = [12,43,45,10]\n",
    "i = 0\n",
    "while i < len(age):\n",
    "    if age[i] >= 18:\n",
    "        print(\"Adult\")\n",
    "    else:\n",
    "        print(\"Juvenile\")\n",
    "    i += 1"
   ]
  },
  {
   "cell_type": "markdown",
   "id": "0fe0bd5e",
   "metadata": {},
   "source": [
    "Iterating through lists and appending (or any other task with list items) elements in a particular order"
   ]
  },
  {
   "cell_type": "code",
   "execution_count": 23,
   "id": "b028ec38",
   "metadata": {},
   "outputs": [
    {
     "name": "stdout",
     "output_type": "stream",
     "text": [
      "[1, 8, 27, 64, 125, 216, 343, 512, 729]\n"
     ]
    }
   ],
   "source": [
    "cubes = []\n",
    "for i in range(1,10):\n",
    "    cubes.append(i ** 3)\n",
    "print(cubes)"
   ]
  },
  {
   "cell_type": "markdown",
   "id": "73a63e5f",
   "metadata": {},
   "source": [
    "#### List Comprehension\n",
    "A sophisticated and succinct way of creating a list using and iterable followed by a for clause."
   ]
  },
  {
   "cell_type": "code",
   "execution_count": 24,
   "id": "a6c6f01c",
   "metadata": {},
   "outputs": [
    {
     "name": "stdout",
     "output_type": "stream",
     "text": [
      "[1, 8, 27, 64, 125, 216, 343, 512, 729]\n"
     ]
    }
   ],
   "source": [
    "# list comprehension\n",
    "cubes = [n** 3 for n in range(1,10)]\n",
    "print(cubes)"
   ]
  },
  {
   "cell_type": "markdown",
   "id": "67676c02",
   "metadata": {},
   "source": [
    "#### Functions\n",
    "While working on a big project, maintaining code becomes a real chore. If our code performs similar tasks many times, a convenient way to manage our code is by using functions."
   ]
  },
  {
   "cell_type": "code",
   "execution_count": 25,
   "id": "816686d1",
   "metadata": {},
   "outputs": [
    {
     "data": {
      "text/plain": [
       "22"
      ]
     },
     "execution_count": 25,
     "metadata": {},
     "output_type": "execute_result"
    }
   ],
   "source": [
    "def add_two_numbers(a, b):\n",
    "    sum = a + b\n",
    "    return sum\n",
    "\n",
    "add_two_numbers(12,10)"
   ]
  },
  {
   "cell_type": "code",
   "execution_count": null,
   "id": "e24eadcd",
   "metadata": {},
   "outputs": [],
   "source": []
  }
 ],
 "metadata": {
  "kernelspec": {
   "display_name": "Python 3 (ipykernel)",
   "language": "python",
   "name": "python3"
  },
  "language_info": {
   "codemirror_mode": {
    "name": "ipython",
    "version": 3
   },
   "file_extension": ".py",
   "mimetype": "text/x-python",
   "name": "python",
   "nbconvert_exporter": "python",
   "pygments_lexer": "ipython3",
   "version": "3.9.7"
  }
 },
 "nbformat": 4,
 "nbformat_minor": 5
}
