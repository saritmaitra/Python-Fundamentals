{
 "cells": [
  {
   "cell_type": "markdown",
   "id": "c97c35c6",
   "metadata": {},
   "source": [
    "## File Operation\n",
    "- Files are named locations on disk to store related information. \n",
    "- They are used to permanently store data in a non-volatile memory (e.g. hard disk).\n",
    "- Since Random Access Memory (RAM) is volatile (which loses its data when the computer is turned off), we use files for future use of the data by permanently storing them.\n",
    "- When we want to read from or write to a file, we need to open it first. \n",
    "- When we are done, it needs to be closed so that the resources that are tied with the file are freed.\n",
    "\n",
    "In Python, a file operation takes place in the following order:\n",
    "\n",
    "- Open a file\n",
    "- Read or write (perform operation)\n",
    "- Close the file\n",
    "\n",
    "### Opening Files in Python\n",
    "- Python has a built-in open() function to open a file in both read and write mode \n",
    "- This function returns a file object. \n",
    "- In the open() function, we define two arguments in which the first is the file name and the second is the mode in which we want to open that file.\n"
   ]
  },
  {
   "cell_type": "raw",
   "id": "c568247e",
   "metadata": {},
   "source": [
    "file = open (\"abc.txt\", “r”)"
   ]
  },
  {
   "cell_type": "markdown",
   "id": "8ac9e1ea",
   "metadata": {},
   "source": [
    "- In the above example, we want to open a file named \"abc.txt\" in the read mode. \n",
    "- Similarly, users can open a file in different modes like \"w\" for write mode and \"a\" for append mode. \n",
    "- In Python, we can also specify the binary or textual mode in which he wants to open a file. \n",
    "- It is not mandatory to specify the mode of the file; if no mode is specified, then by default Python will open a file in reading \"r\" mode.\n",
    "\n",
    "\n",
    "        Mode       Function Description\n",
    "        \"r\"        open a file in read mode\n",
    "        \"w\"        open a file in write mode\n",
    "        \"a\"        open a file in append mode (adding text at the end of file)\n",
    "        \"x\"        Creates a specified file, returns an error if the file already exists\n",
    "        \"r+\"       It opens a file in both reading and writing mode\n",
    "        \"b\"        Opens a file in binary mode (in case of images, .exe files)\n",
    "        \"t\"        It opens a file in text mode\n",
    "        "
   ]
  },
  {
   "cell_type": "code",
   "execution_count": null,
   "id": "1e69718b",
   "metadata": {},
   "outputs": [],
   "source": [
    "# Python code to illustrate read() mode\n",
    "file = open(\"file.txt\", \"r\")\n",
    "print (file.read())"
   ]
  },
  {
   "cell_type": "code",
   "execution_count": null,
   "id": "e32f7000",
   "metadata": {},
   "outputs": [],
   "source": [
    "# Read mode\n",
    "file = open (\"abc.txt\",\"r\") for (x in file):\n",
    "print(x ) # prints the whole content of each line stored in x one by one"
   ]
  },
  {
   "cell_type": "code",
   "execution_count": null,
   "id": "0b2a524e",
   "metadata": {},
   "outputs": [],
   "source": [
    "# Write mode\n",
    "file = open(\"new.txt\", \"w\")\n",
    "file.write (\"hello I am learning file operations in Python\")   #  write the content in file \n",
    "file.close()"
   ]
  },
  {
   "cell_type": "code",
   "execution_count": null,
   "id": "c22e23f8",
   "metadata": {},
   "outputs": [],
   "source": [
    "# Python code to create a file\n",
    "file = open('alliance.txt','w')\n",
    "file.write(\"This is the write command\")\n",
    "file.write(\"It allows us to write in a particular file\")\n",
    "file.close()"
   ]
  },
  {
   "cell_type": "code",
   "execution_count": null,
   "id": "40767f09",
   "metadata": {},
   "outputs": [],
   "source": [
    "# Append mode\n",
    "file = open (\"test.txt\",\"a\")\n",
    "file.write (\"hello this will append content in the file\")    # append content at the end of file\n",
    "file.close()"
   ]
  },
  {
   "cell_type": "markdown",
   "id": "6b320d89",
   "metadata": {},
   "source": [
    "### Closing a file\n",
    "- Closing a file will free up the resources that were tied with the file. \n",
    "- It is done using the close() method available in Python.\n",
    "- Python has a garbage collector to clean up unreferenced objects but we must not rely on it to close the file."
   ]
  },
  {
   "cell_type": "code",
   "execution_count": null,
   "id": "b940a4e8",
   "metadata": {},
   "outputs": [],
   "source": [
    "file = open (\"abc.txt\",\"a\") \n",
    "file.write (\"append the text\") \n",
    "file.close()"
   ]
  },
  {
   "cell_type": "markdown",
   "id": "859058d6",
   "metadata": {},
   "source": [
    "It does not take any parameter like opening a file, but this method is not totally safe as in case of exceptions, it might exit the code without closing a file. For this, it is better to use the close() method in the finally block so that it will run every time, even in case of exceptions."
   ]
  },
  {
   "cell_type": "code",
   "execution_count": null,
   "id": "12cb98b2",
   "metadata": {},
   "outputs": [],
   "source": [
    "try:\n",
    "    f = open(\"test.txt\", encoding = 'utf-8')\n",
    "    # perform file operations\n",
    "finally:\n",
    "    f.close()"
   ]
  },
  {
   "cell_type": "markdown",
   "id": "110d6477",
   "metadata": {},
   "source": [
    "- Below syntax is designed to provide much cleaner syntax and exception handling when you are working with code. \n",
    "- That explains why it’s good practice to use them with a statement where applicable. \n",
    "- This is helpful because using this method any files opened will be closed automatically after one is done, so auto-cleanup. "
   ]
  },
  {
   "cell_type": "code",
   "execution_count": null,
   "id": "0b190867",
   "metadata": {},
   "outputs": [],
   "source": [
    "# Python code to illustrate with()\n",
    "with open(\"file.txt\") as file: \n",
    "    data = file.read()\n",
    "# do something with data"
   ]
  },
  {
   "cell_type": "code",
   "execution_count": null,
   "id": "24ec0d53",
   "metadata": {},
   "outputs": [],
   "source": [
    "# Python code to illustrate with() alongwith write()\n",
    "with open(\"file.txt\", \"w\") as f:\n",
    "    f.write(\"Hello World!!!\")"
   ]
  },
  {
   "cell_type": "markdown",
   "id": "c8075c3c",
   "metadata": {},
   "source": [
    "- We can also split lines using file handling in Python. \n",
    "- This splits the variable when space is encountered. \n",
    "- We can also split using any characters as we wish. "
   ]
  },
  {
   "cell_type": "code",
   "execution_count": null,
   "id": "227303a1",
   "metadata": {},
   "outputs": [],
   "source": [
    "# Python code to illustrate split() function\n",
    "with open(\"file.text\", \"r\") as file:\n",
    "    data = file.readlines()\n",
    "    for line in data:\n",
    "        word = line.split()\n",
    "        print (word)"
   ]
  }
 ],
 "metadata": {
  "kernelspec": {
   "display_name": "Python 3 (ipykernel)",
   "language": "python",
   "name": "python3"
  },
  "language_info": {
   "codemirror_mode": {
    "name": "ipython",
    "version": 3
   },
   "file_extension": ".py",
   "mimetype": "text/x-python",
   "name": "python",
   "nbconvert_exporter": "python",
   "pygments_lexer": "ipython3",
   "version": "3.9.7"
  }
 },
 "nbformat": 4,
 "nbformat_minor": 5
}
