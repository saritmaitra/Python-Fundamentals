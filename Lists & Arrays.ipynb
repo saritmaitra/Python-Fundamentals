{
 "cells": [
  {
   "cell_type": "markdown",
   "id": "08a5d07a",
   "metadata": {},
   "source": [
    "## Lists & Arrays\n",
    "- Python does not have built-in support for Arrays, but Python Lists can be used instead. \n",
    "- We can store data of heterogeneous datatypes usng lists. \n",
    "- Difference between lists and arrays are the functions that we can perform on them like for example when we want to divide an array by 4, the result will be printed on request but in case of a list, python will throw an error message."
   ]
  },
  {
   "cell_type": "code",
   "execution_count": 2,
   "id": "1a6edd29",
   "metadata": {},
   "outputs": [
    {
     "name": "stdout",
     "output_type": "stream",
     "text": [
      "[0.5 1.  2.  4. ]\n"
     ]
    }
   ],
   "source": [
    "from numpy import array\n",
    "\n",
    "x = array([2,4,8,16])\n",
    "y = x/4\n",
    "print(y)"
   ]
  },
  {
   "cell_type": "code",
   "execution_count": 3,
   "id": "d9818435",
   "metadata": {},
   "outputs": [
    {
     "ename": "TypeError",
     "evalue": "unsupported operand type(s) for /: 'list' and 'int'",
     "output_type": "error",
     "traceback": [
      "\u001b[1;31m---------------------------------------------------------------------------\u001b[0m",
      "\u001b[1;31mTypeError\u001b[0m                                 Traceback (most recent call last)",
      "\u001b[1;32mC:\\Users\\SARIT~1.MAI\\AppData\\Local\\Temp/ipykernel_5952/1297131067.py\u001b[0m in \u001b[0;36m<module>\u001b[1;34m\u001b[0m\n\u001b[0;32m      1\u001b[0m \u001b[0mx\u001b[0m \u001b[1;33m=\u001b[0m \u001b[1;33m[\u001b[0m\u001b[1;36m2\u001b[0m\u001b[1;33m,\u001b[0m\u001b[1;36m4\u001b[0m\u001b[1;33m,\u001b[0m\u001b[1;36m8\u001b[0m\u001b[1;33m,\u001b[0m\u001b[1;36m16\u001b[0m\u001b[1;33m]\u001b[0m\u001b[1;33m\u001b[0m\u001b[1;33m\u001b[0m\u001b[0m\n\u001b[1;32m----> 2\u001b[1;33m \u001b[0my\u001b[0m \u001b[1;33m=\u001b[0m \u001b[0mx\u001b[0m\u001b[1;33m/\u001b[0m\u001b[1;36m4\u001b[0m\u001b[1;33m\u001b[0m\u001b[1;33m\u001b[0m\u001b[0m\n\u001b[0m\u001b[0;32m      3\u001b[0m \u001b[0mprint\u001b[0m\u001b[1;33m(\u001b[0m\u001b[0my\u001b[0m\u001b[1;33m)\u001b[0m\u001b[1;33m\u001b[0m\u001b[1;33m\u001b[0m\u001b[0m\n",
      "\u001b[1;31mTypeError\u001b[0m: unsupported operand type(s) for /: 'list' and 'int'"
     ]
    }
   ],
   "source": [
    "# creating a list\n",
    "x = [2,4,8,16]\n",
    "y = x/4\n",
    "print(y)"
   ]
  },
  {
   "cell_type": "markdown",
   "id": "a66eb41d",
   "metadata": {},
   "source": [
    "- Arrays need to be declared whereas lists do not need declaration because they are a part of Python's syntax. \n",
    "- This is the reason lists are  more often used than arrays. \n",
    "- if we want to perform some arithmetic function to our list, we should go with arrays instead. \n",
    "- If we want to store a large amount of data, we should consider arrays because they can store data very compactly and efficiently."
   ]
  },
  {
   "cell_type": "code",
   "execution_count": null,
   "id": "95cb1c3b",
   "metadata": {},
   "outputs": [],
   "source": []
  }
 ],
 "metadata": {
  "kernelspec": {
   "display_name": "Python 3 (ipykernel)",
   "language": "python",
   "name": "python3"
  },
  "language_info": {
   "codemirror_mode": {
    "name": "ipython",
    "version": 3
   },
   "file_extension": ".py",
   "mimetype": "text/x-python",
   "name": "python",
   "nbconvert_exporter": "python",
   "pygments_lexer": "ipython3",
   "version": "3.9.7"
  }
 },
 "nbformat": 4,
 "nbformat_minor": 5
}
