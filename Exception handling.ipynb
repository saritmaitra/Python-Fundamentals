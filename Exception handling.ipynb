{
 "cells": [
  {
   "cell_type": "markdown",
   "id": "c34e3c21",
   "metadata": {},
   "source": [
    "## Exception handling\n",
    "\n",
    "https://docs.python.org/3/tutorial/errors.html\n",
    "\n",
    "- < try >  test a block of code for errors.\n",
    "- < except > handle the error.\n",
    "- < else > execute code when there is no error.\n",
    "- < finally > execute code, regardless of the result of the try- and except blocks.\n",
    "    \n",
    "When an error occurs, or exception, Python will normally stop and generate an error message.\n",
    "- exceptions can be handled using a < try > statement.\n",
    "- The critical operation which can raise an exception is placed inside the < try > clause. \n",
    "- The code that handles the exceptions is written in the < except > clause.\n",
    "- We can thus choose what operations to perform once we have caught the exception.\n",
    "\n",
    "###  Raising an Exception"
   ]
  },
  {
   "cell_type": "code",
   "execution_count": 3,
   "id": "6db05cb7",
   "metadata": {},
   "outputs": [
    {
     "ename": "Exception",
     "evalue": "x should not exceed 5. The value of x was: 10",
     "output_type": "error",
     "traceback": [
      "\u001b[1;31m---------------------------------------------------------------------------\u001b[0m",
      "\u001b[1;31mException\u001b[0m                                 Traceback (most recent call last)",
      "Input \u001b[1;32mIn [3]\u001b[0m, in \u001b[0;36m<cell line: 2>\u001b[1;34m()\u001b[0m\n\u001b[0;32m      1\u001b[0m x \u001b[38;5;241m=\u001b[39m \u001b[38;5;241m10\u001b[39m\n\u001b[0;32m      2\u001b[0m \u001b[38;5;28;01mif\u001b[39;00m x \u001b[38;5;241m>\u001b[39m \u001b[38;5;241m5\u001b[39m:\n\u001b[1;32m----> 3\u001b[0m     \u001b[38;5;28;01mraise\u001b[39;00m \u001b[38;5;167;01mException\u001b[39;00m(\u001b[38;5;124m'\u001b[39m\u001b[38;5;124mx should not exceed 5. The value of x was: \u001b[39m\u001b[38;5;132;01m{}\u001b[39;00m\u001b[38;5;124m'\u001b[39m\u001b[38;5;241m.\u001b[39mformat(x))\n",
      "\u001b[1;31mException\u001b[0m: x should not exceed 5. The value of x was: 10"
     ]
    }
   ],
   "source": [
    "x = 10\n",
    "if x > 5:\n",
    "    raise Exception('x should not exceed 5. The value of x was: {}'.format(x))"
   ]
  },
  {
   "cell_type": "markdown",
   "id": "73b36fb3",
   "metadata": {},
   "source": [
    "### < try > < except > statement"
   ]
  },
  {
   "cell_type": "code",
   "execution_count": 1,
   "id": "c3b7660b",
   "metadata": {},
   "outputs": [
    {
     "name": "stdout",
     "output_type": "stream",
     "text": [
      "An exception occurred\n"
     ]
    }
   ],
   "source": [
    "try:\n",
    "    print(x)\n",
    "except:\n",
    "    print(\"An exception occurred\")"
   ]
  },
  {
   "cell_type": "markdown",
   "id": "3f9c3f51",
   "metadata": {},
   "source": [
    "- Since < try > raises an error, < except > block will be executed.\n",
    "- Without < try >, the program will crash and raise an error:"
   ]
  },
  {
   "cell_type": "code",
   "execution_count": 3,
   "id": "97ca9ccb",
   "metadata": {},
   "outputs": [
    {
     "ename": "NameError",
     "evalue": "name 'x' is not defined",
     "output_type": "error",
     "traceback": [
      "\u001b[1;31m---------------------------------------------------------------------------\u001b[0m",
      "\u001b[1;31mNameError\u001b[0m                                 Traceback (most recent call last)",
      "Input \u001b[1;32mIn [3]\u001b[0m, in \u001b[0;36m<cell line: 1>\u001b[1;34m()\u001b[0m\n\u001b[1;32m----> 1\u001b[0m \u001b[38;5;28mprint\u001b[39m(\u001b[43mx\u001b[49m)\n",
      "\u001b[1;31mNameError\u001b[0m: name 'x' is not defined"
     ]
    }
   ],
   "source": [
    "print(x)"
   ]
  },
  {
   "cell_type": "code",
   "execution_count": 4,
   "id": "241ab5fe",
   "metadata": {},
   "outputs": [
    {
     "name": "stdout",
     "output_type": "stream",
     "text": [
      "x is not defined\n"
     ]
    }
   ],
   "source": [
    "# Print one message if the try block raises a NameError and another for other errors\n",
    "try:\n",
    "    print(x)\n",
    "except NameError:\n",
    "    print(\"x is not defined\")\n",
    "except:\n",
    "    print(\"Something else went wrong\")"
   ]
  },
  {
   "cell_type": "markdown",
   "id": "41031061",
   "metadata": {},
   "source": [
    "### Common Exceptions\n",
    "Python provides the number of built-in exceptions, but here we are describing the common standard exceptions. A list of common exceptions that can be thrown from a standard Python program is given below.\n",
    "\n",
    "- ZeroDivisionError: Occurs when a number is divided by zero.\n",
    "- NameError: It occurs when a name is not found. It may be local or global.\n",
    "- IndentationError: If incorrect indentation is given.\n",
    "- IOError: It occurs when Input Output operation fails.\n",
    "- EOFError: It occurs when the end of the file is reached, and yet operations are being performed.\n",
    "\n",
    "##### The problem without handling exceptions\n",
    "- The exception is an abnormal condition that halts the execution of the program.\n",
    "- Suppose we have two variables a and b, which take the input from the user and perform the division of these values. What if the user entered the zero as the denominator? It will interrupt the program execution and through a ZeroDivision exception. \n",
    "\n",
    "Let's see the following example."
   ]
  },
  {
   "cell_type": "code",
   "execution_count": 7,
   "id": "cbd388f5",
   "metadata": {},
   "outputs": [
    {
     "name": "stdout",
     "output_type": "stream",
     "text": [
      "Enter a:10\n",
      "Enter b:0\n"
     ]
    },
    {
     "ename": "ZeroDivisionError",
     "evalue": "division by zero",
     "output_type": "error",
     "traceback": [
      "\u001b[1;31m---------------------------------------------------------------------------\u001b[0m",
      "\u001b[1;31mZeroDivisionError\u001b[0m                         Traceback (most recent call last)",
      "Input \u001b[1;32mIn [7]\u001b[0m, in \u001b[0;36m<cell line: 3>\u001b[1;34m()\u001b[0m\n\u001b[0;32m      1\u001b[0m a \u001b[38;5;241m=\u001b[39m \u001b[38;5;28mint\u001b[39m(\u001b[38;5;28minput\u001b[39m(\u001b[38;5;124m\"\u001b[39m\u001b[38;5;124mEnter a:\u001b[39m\u001b[38;5;124m\"\u001b[39m))    \n\u001b[0;32m      2\u001b[0m b \u001b[38;5;241m=\u001b[39m \u001b[38;5;28mint\u001b[39m(\u001b[38;5;28minput\u001b[39m(\u001b[38;5;124m\"\u001b[39m\u001b[38;5;124mEnter b:\u001b[39m\u001b[38;5;124m\"\u001b[39m))    \n\u001b[1;32m----> 3\u001b[0m c \u001b[38;5;241m=\u001b[39m \u001b[43ma\u001b[49m\u001b[38;5;241;43m/\u001b[39;49m\u001b[43mb\u001b[49m  \n\u001b[0;32m      4\u001b[0m \u001b[38;5;28mprint\u001b[39m(\u001b[38;5;124m\"\u001b[39m\u001b[38;5;124ma/b = \u001b[39m\u001b[38;5;132;01m%d\u001b[39;00m\u001b[38;5;124m\"\u001b[39m \u001b[38;5;241m%\u001b[39mc)    \n\u001b[0;32m      6\u001b[0m \u001b[38;5;66;03m#other code:    \u001b[39;00m\n",
      "\u001b[1;31mZeroDivisionError\u001b[0m: division by zero"
     ]
    }
   ],
   "source": [
    "a = int(input(\"Enter a:\"))    \n",
    "b = int(input(\"Enter b:\"))    \n",
    "c = a/b  \n",
    "print(\"a/b = %d\" %c)    \n",
    "    \n",
    "# other code:    \n",
    "print(\"This is other part of the program\")  "
   ]
  },
  {
   "cell_type": "markdown",
   "id": "87ff2000",
   "metadata": {},
   "source": [
    "- The above program is syntactically correct, but it is giving the error because of unusual input. \n",
    "- This kind of programming may not be suitable or recommended for the live projects because which require uninterrupted execution. \n",
    "- Thus exception-handling plays an essential role in handling these unexpected exceptions. \n",
    "\n",
    "We can handle these exceptions in the following way."
   ]
  },
  {
   "cell_type": "code",
   "execution_count": 8,
   "id": "0537688c",
   "metadata": {},
   "outputs": [
    {
     "name": "stdout",
     "output_type": "stream",
     "text": [
      "Enter a:10\n",
      "Enter b:0\n",
      "Can't divide with zero\n"
     ]
    }
   ],
   "source": [
    "try:  \n",
    "    a = int(input(\"Enter a:\"))    \n",
    "    b = int(input(\"Enter b:\"))    \n",
    "    c = a/b  \n",
    "except:  \n",
    "    print(\"Can't divide with zero\")  "
   ]
  },
  {
   "cell_type": "markdown",
   "id": "aee0d50e",
   "metadata": {},
   "source": [
    "We can also use < else > statement with the < try > < except > statement in which, we can place the code which will be executed in the scenario if no exception occurs in < try > block."
   ]
  },
  {
   "cell_type": "code",
   "execution_count": 12,
   "id": "3109243d",
   "metadata": {},
   "outputs": [
    {
     "name": "stdout",
     "output_type": "stream",
     "text": [
      "Enter a:10\n",
      "Enter b:0\n",
      "division by 0 occured\n",
      "<class 'Exception'>\n"
     ]
    }
   ],
   "source": [
    "try:    \n",
    "    a = int(input(\"Enter a:\"))    \n",
    "    b = int(input(\"Enter b:\"))    \n",
    "    c = a/b  \n",
    "    print(\"a/b = %d\"%c)    \n",
    "\n",
    "# Using Exception with except statement. \n",
    "# If we print(Exception) it return's exception class  \n",
    "except Exception:    \n",
    "    print(\"division by 0 occured\")    \n",
    "    print(Exception)  \n",
    "else:    \n",
    "    print(\"This is else block\")     "
   ]
  },
  {
   "cell_type": "code",
   "execution_count": 10,
   "id": "4a8b76f4",
   "metadata": {},
   "outputs": [
    {
     "name": "stdout",
     "output_type": "stream",
     "text": [
      "Enter a:10\n",
      "Enter b:0\n",
      "can't divide by zero\n"
     ]
    }
   ],
   "source": [
    "try:    \n",
    "    a = int(input(\"Enter a:\"))    \n",
    "    b = int(input(\"Enter b:\"))    \n",
    "    c = a/b;    \n",
    "    print(\"a/b = %d\"%c)    \n",
    "\n",
    "# do not specify exception with the exception statement\n",
    "except:    \n",
    "    print(\"can't divide by zero\")    \n",
    "else:    \n",
    "    print(\"Hi I am else block\")     "
   ]
  },
  {
   "cell_type": "code",
   "execution_count": 11,
   "id": "4906886f",
   "metadata": {},
   "outputs": [
    {
     "name": "stdout",
     "output_type": "stream",
     "text": [
      "Enter a:10\n",
      "Enter b:0\n",
      "can't divide by zero\n",
      "division by zero\n"
     ]
    }
   ],
   "source": [
    "# except statement using with exception variable\n",
    "\n",
    "try:    \n",
    "    a = int(input(\"Enter a:\"))    \n",
    "    b = int(input(\"Enter b:\"))    \n",
    "    c = a/b  \n",
    "    print(\"a/b = %d\"%c)    \n",
    "\n",
    "# Using exception object with the except statement  \n",
    "except Exception as e:    \n",
    "    print(\"can't divide by zero\")    \n",
    "    print(e)  \n",
    "else:    \n",
    "    print(\"This is else statement\")    "
   ]
  },
  {
   "cell_type": "code",
   "execution_count": 1,
   "id": "ce8e1244",
   "metadata": {},
   "outputs": [
    {
     "name": "stdout",
     "output_type": "stream",
     "text": [
      "The entry is a\n",
      "Oops! <class 'ValueError'> occurred.\n",
      "Next entry.\n",
      "\n",
      "The entry is 0\n",
      "Oops! <class 'ZeroDivisionError'> occurred.\n",
      "Next entry.\n",
      "\n",
      "The entry is 2\n",
      "The reciprocal of 2 is 0.5\n"
     ]
    }
   ],
   "source": [
    "# import module sys to get the type of exception\n",
    "import sys\n",
    "\n",
    "list_created = ['a', 0, 2]\n",
    "\n",
    "for entry in list_created:\n",
    "    try:\n",
    "        print(\"The entry is\", entry)\n",
    "        r = 1/int(entry)\n",
    "        break\n",
    "    except:\n",
    "        print(\"Oops!\", sys.exc_info()[0], \"occurred.\")\n",
    "        print(\"Next entry.\")\n",
    "        print()\n",
    "print(\"The reciprocal of\", entry, \"is\", r)"
   ]
  },
  {
   "cell_type": "markdown",
   "id": "02dba8ee",
   "metadata": {},
   "source": [
    "- Above, we loop through the values of the list. \n",
    "- the portion that can cause an exception is placed inside < try >\n",
    "- If no exception occurs, < except > is skipped and normal flow continues(for last value). \n",
    "- But if any exception occurs, it is caught by the < except > (first and second values).\n",
    "- we print the name of the exception using the exc_info() function inside sys module. \n",
    "- We can see that a causes ValueError and 0 causes ZeroDivisionError.\n",
    "\n",
    "### AssertionError Exception\n",
    "- Instead of waiting for a program to crash midway, we can also start by making an assertion in Python. \n",
    "- We assert that a certain condition is met. \n",
    "- If this condition turns out to be True, the program can continue. \n",
    "- If the condition turns out to be False, we can have the program throw an AssertionError exception."
   ]
  },
  {
   "cell_type": "code",
   "execution_count": 4,
   "id": "8e8fc9a8",
   "metadata": {},
   "outputs": [
    {
     "ename": "AssertionError",
     "evalue": "This code runs on Linux only.",
     "output_type": "error",
     "traceback": [
      "\u001b[1;31m---------------------------------------------------------------------------\u001b[0m",
      "\u001b[1;31mAssertionError\u001b[0m                            Traceback (most recent call last)",
      "Input \u001b[1;32mIn [4]\u001b[0m, in \u001b[0;36m<cell line: 2>\u001b[1;34m()\u001b[0m\n\u001b[0;32m      1\u001b[0m \u001b[38;5;28;01mimport\u001b[39;00m \u001b[38;5;21;01msys\u001b[39;00m\n\u001b[1;32m----> 2\u001b[0m \u001b[38;5;28;01massert\u001b[39;00m (\u001b[38;5;124m'\u001b[39m\u001b[38;5;124mlinux\u001b[39m\u001b[38;5;124m'\u001b[39m \u001b[38;5;129;01min\u001b[39;00m sys\u001b[38;5;241m.\u001b[39mplatform), \u001b[38;5;124m\"\u001b[39m\u001b[38;5;124mThis code runs on Linux only.\u001b[39m\u001b[38;5;124m\"\u001b[39m\n",
      "\u001b[1;31mAssertionError\u001b[0m: This code runs on Linux only."
     ]
    }
   ],
   "source": [
    "import sys\n",
    "assert ('linux' in sys.platform), \"This code runs on Linux only.\""
   ]
  },
  {
   "cell_type": "markdown",
   "id": "a30d264e",
   "metadata": {},
   "source": [
    "- If we run above code on a Linux machine, the assertion passes. \n",
    "- If we run this code on a Windows machine, the outcome of the assertion would be False and the result would be above"
   ]
  },
  {
   "cell_type": "code",
   "execution_count": 2,
   "id": "3982e299",
   "metadata": {},
   "outputs": [
    {
     "name": "stdout",
     "output_type": "stream",
     "text": [
      "Enter a number: 4\n",
      "0.25\n"
     ]
    }
   ],
   "source": [
    "# program to print the reciprocal of even numbers\n",
    "\n",
    "try:\n",
    "    number = int(input(\"Enter a number: \"))\n",
    "    assert number % 2 == 0\n",
    "except:\n",
    "    print(\"Not an even number!\")\n",
    "else:\n",
    "    reciprocal = 1/number\n",
    "    print(reciprocal)"
   ]
  },
  {
   "cell_type": "markdown",
   "id": "2be74757",
   "metadata": {},
   "source": [
    "- Python allows us to not specify the exception with the except statement.\n",
    "- We can declare multiple exceptions in the < except > statement since the < try > may contain the statements which throw  different type of exceptions.\n",
    "- We can also specify < else > along with < try > < except > statement, which will be executed if no exception is raised in the try block.\n",
    "- The statements that don't throw the exception should be placed inside < else > block."
   ]
  },
  {
   "cell_type": "code",
   "execution_count": 5,
   "id": "1fcd9393",
   "metadata": {},
   "outputs": [
    {
     "name": "stdout",
     "output_type": "stream",
     "text": [
      "File not found\n"
     ]
    }
   ],
   "source": [
    "try:    \n",
    "    #this will throw an exception if the file doesn't exist.     \n",
    "    file = open(\"file.txt\",\"r\")    \n",
    "except IOError:    \n",
    "    print(\"File not found\")    \n",
    "else:    \n",
    "    print(\"The file opened successfully\")    \n",
    "    file.close()   "
   ]
  },
  {
   "cell_type": "markdown",
   "id": "7371cdb5",
   "metadata": {},
   "source": [
    "### Handling Multiple Exceptions\n",
    "- Python allows us to declare the multiple exceptions with the except clause. \n",
    "- Declaring multiple exceptions is useful in the cases where < try > throws multiple exceptions. "
   ]
  },
  {
   "cell_type": "code",
   "execution_count": 14,
   "id": "a98b9388",
   "metadata": {},
   "outputs": [
    {
     "name": "stdout",
     "output_type": "stream",
     "text": [
      "Arithmetic Exception\n"
     ]
    }
   ],
   "source": [
    "try:      \n",
    "    a=10/0;      \n",
    "except(ArithmeticError, IOError):      \n",
    "    print(\"Arithmetic Exception\")      \n",
    "else:      \n",
    "    print(\"Successfully Done\")      "
   ]
  },
  {
   "cell_type": "markdown",
   "id": "6f33b453",
   "metadata": {},
   "source": [
    "### < finally > statement\n",
    "- < finally > is used with the < try > statement. \n",
    "- It is executed no matter what exception occurs and used to release the external resource. \n",
    "- < finally > provides a guarantee of the execution.\n",
    "- We can use < finally > with < try > in which we can place the necessary code, which must be executed before < try > statement throws an exception."
   ]
  },
  {
   "cell_type": "code",
   "execution_count": 15,
   "id": "484da203",
   "metadata": {},
   "outputs": [
    {
     "name": "stdout",
     "output_type": "stream",
     "text": [
      "Error\n"
     ]
    }
   ],
   "source": [
    "try:    \n",
    "    file = open(\"file.txt\",\"r\")      \n",
    "    try:    \n",
    "        file.write(\"Family is everything\")    \n",
    "    finally:    \n",
    "        file.close()    \n",
    "        print(\"file closed\")    \n",
    "except:    \n",
    "    print(\"Error\")    "
   ]
  },
  {
   "cell_type": "markdown",
   "id": "c62cb326",
   "metadata": {},
   "source": [
    "#### Raising exceptions\n",
    "as shown in the begining of this notebook-\n",
    "- exception can be raised forcefully by using the < raise > clause in Python. \n",
    "- It is useful in a scenario where we need to raise an exception to stop the execution of the program.\n",
    "\n",
    "For example, age group < 18 are not allowed to buy alcohol."
   ]
  },
  {
   "cell_type": "code",
   "execution_count": 16,
   "id": "abc89c96",
   "metadata": {},
   "outputs": [
    {
     "name": "stdout",
     "output_type": "stream",
     "text": [
      "Enter the age:17\n",
      "The age is not valid\n"
     ]
    }
   ],
   "source": [
    "try:    \n",
    "    age = int(input(\"Enter the age:\"))    \n",
    "    if(age<18):    \n",
    "        raise ValueError   \n",
    "    else:    \n",
    "        print(\"the age is valid\")    \n",
    "except ValueError:    \n",
    "    print(\"The age is not valid\") "
   ]
  },
  {
   "cell_type": "code",
   "execution_count": 18,
   "id": "23b5053d",
   "metadata": {},
   "outputs": [
    {
     "name": "stdout",
     "output_type": "stream",
     "text": [
      "Enter a +ve integer: 6\n"
     ]
    }
   ],
   "source": [
    "try:  \n",
    "    num = int(input(\"Enter a +ve integer: \"))  \n",
    "    if(num <= 0):  \n",
    "\n",
    "        # we can pass the message in the raise statement  \n",
    "        raise ValueError(\"That is  a -ve number!\")  \n",
    "except ValueError as er:  \n",
    "     print(er)"
   ]
  },
  {
   "cell_type": "code",
   "execution_count": 22,
   "id": "0f160957",
   "metadata": {},
   "outputs": [
    {
     "name": "stdout",
     "output_type": "stream",
     "text": [
      "Enter a:10\n",
      "Enter b:0\n",
      "The value of b can't be 0\n"
     ]
    }
   ],
   "source": [
    "try:    \n",
    "    a = int(input(\"Enter a:\"))    \n",
    "    b = int(input(\"Enter b:\"))    \n",
    "    if b == 0:    \n",
    "        raise ArithmeticError  \n",
    "    else:    \n",
    "        print(\"a/b = \",a/b)    \n",
    "except ArithmeticError:    \n",
    "    print(\"The value of b can't be 0\")  "
   ]
  },
  {
   "cell_type": "markdown",
   "id": "1605876f",
   "metadata": {},
   "source": [
    "### Takeaways:\n",
    "- < raise > throw an exception at any time.\n",
    "- < assert > verify if a certain condition is met and throw an exception if it isn’t.\n",
    "- < try > all statements are executed until an exception is encountered.\n",
    "- < except > is used to catch and handle the exception(s) that are encountered in the try clause.\n",
    "- < else > run only when no exceptions are encountered in the try clause.\n",
    "- < finally > execute sections of code that should always run, with or without any previously encountered exceptions.\n",
    "    \n",
    "    "
   ]
  },
  {
   "cell_type": "code",
   "execution_count": null,
   "id": "4a1d45eb",
   "metadata": {},
   "outputs": [],
   "source": []
  }
 ],
 "metadata": {
  "kernelspec": {
   "display_name": "Python 3 (ipykernel)",
   "language": "python",
   "name": "python3"
  },
  "language_info": {
   "codemirror_mode": {
    "name": "ipython",
    "version": 3
   },
   "file_extension": ".py",
   "mimetype": "text/x-python",
   "name": "python",
   "nbconvert_exporter": "python",
   "pygments_lexer": "ipython3",
   "version": "3.9.7"
  }
 },
 "nbformat": 4,
 "nbformat_minor": 5
}
