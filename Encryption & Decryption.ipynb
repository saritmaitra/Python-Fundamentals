{
 "cells": [
  {
   "cell_type": "markdown",
   "id": "e7287a5e",
   "metadata": {},
   "source": [
    "## Encryption\n",
    "- conversion of plan text into cipher text\n",
    "- Cipher is an algorithm which is applied to plain text to get ciphertext. \n",
    "- It is the unreadable output of an encryption algorithm. \n",
    "- The term \"cipher\" is sometimes used as an alternative term for ciphertext. \n",
    "- Ciphertext is not understandable until it has been converted into plain text using a key.\n",
    "- This helps to protect the confidentiality of digital data either stored on computer systems or transmitted via network like the internet.\n",
    "\n",
    "## Decryption\n",
    "- reverse of encryption\n",
    "\n",
    "### Caesar Cipher\n",
    "- Caesar Cipher technique is one of the earliest and simplest method of encryption technique. \n",
    "- It’s simply a type of substitution cipher, i.e., each letter of a given text is replaced by a letter some fixed number of positions down the alphabet. \n",
    "- For example with a shift of 1, A would be replaced by B, B would become C, and so on. \n",
    "- The method is apparently named after Julius Caesar, who apparently used it to communicate with his officials. \n",
    "\n",
    "we will have a set of alphabets and according to alphabets we will search for our message. When message character is found, we will add some key value against each character and we will generate a new varable and store the key values in the new variable. \n",
    "\n",
    "### Encrypt example:"
   ]
  },
  {
   "cell_type": "code",
   "execution_count": 1,
   "id": "1f4a59ba",
   "metadata": {},
   "outputs": [
    {
     "name": "stdout",
     "output_type": "stream",
     "text": [
      "Enter the message:hello\n",
      "mjqqt\n"
     ]
    }
   ],
   "source": [
    "message = input(\"Enter the message:\") # enter the message\n",
    "alphabet = \"abcdefghijklmnopqrstuvwxyz\"\n",
    "key = 5 # key value to generate new text (new text will be generated accoring to this key value)\n",
    "encrypt = \"\"\n",
    "\n",
    "for i in message: # i goes inside the message, map each index and covert the character to value \n",
    "    \"\"\"Each character in our message will be checked inside the \n",
    "    variable alphabet for its position inside alphabet and then it will add\n",
    "    the key value to that position; this value will be stored in new variable\n",
    "    as message\"\"\"\n",
    "    position = alphabet.find(i) # find will search for i(string inside i) and return index value\n",
    "    new_position = position + 5 # new variable\n",
    "    encrypt += alphabet[new_position] # slicing of alphabet\n",
    "    \n",
    "print(encrypt)"
   ]
  },
  {
   "cell_type": "markdown",
   "id": "eaf91399",
   "metadata": {},
   "source": [
    "##### If we run the program and enter 'z' in placeholder, we encounter an error as shown below:"
   ]
  },
  {
   "cell_type": "code",
   "execution_count": 2,
   "id": "92692978",
   "metadata": {},
   "outputs": [
    {
     "name": "stdout",
     "output_type": "stream",
     "text": [
      "Enter the message:z\n"
     ]
    },
    {
     "ename": "IndexError",
     "evalue": "string index out of range",
     "output_type": "error",
     "traceback": [
      "\u001b[1;31m---------------------------------------------------------------------------\u001b[0m",
      "\u001b[1;31mIndexError\u001b[0m                                Traceback (most recent call last)",
      "Input \u001b[1;32mIn [2]\u001b[0m, in \u001b[0;36m<cell line: 6>\u001b[1;34m()\u001b[0m\n\u001b[0;32m     11\u001b[0m     position \u001b[38;5;241m=\u001b[39m alphabet\u001b[38;5;241m.\u001b[39mfind(i) \u001b[38;5;66;03m# find will search for i(string inside i) and return index value\u001b[39;00m\n\u001b[0;32m     12\u001b[0m     new_position \u001b[38;5;241m=\u001b[39m position \u001b[38;5;241m+\u001b[39m \u001b[38;5;241m5\u001b[39m \u001b[38;5;66;03m# new variable\u001b[39;00m\n\u001b[1;32m---> 13\u001b[0m     encrypt \u001b[38;5;241m+\u001b[39m\u001b[38;5;241m=\u001b[39m \u001b[43malphabet\u001b[49m\u001b[43m[\u001b[49m\u001b[43mnew_position\u001b[49m\u001b[43m]\u001b[49m \u001b[38;5;66;03m# slicing of alphabet\u001b[39;00m\n\u001b[0;32m     15\u001b[0m \u001b[38;5;28mprint\u001b[39m(encrypt)\n",
      "\u001b[1;31mIndexError\u001b[0m: string index out of range"
     ]
    }
   ],
   "source": [
    "message = input(\"Enter the message:\") # enter the message\n",
    "alphabet = \"abcdefghijklmnopqrstuvwxyz\"\n",
    "key = 5 # key value to generate new text (new text will be generated accoring to this key value)\n",
    "encrypt = \"\"\n",
    "\n",
    "for i in message: # i goes inside the message, map each index and covert the character to value \n",
    "    \"\"\"Each character in our message will be checked inside the \n",
    "    variable alphabet for its position inside alphabet and then it will add\n",
    "    the key value to that position; this value will be stored in new variable\n",
    "    as message\"\"\"\n",
    "    position = alphabet.find(i) # find will search for i(string inside i) and return index value\n",
    "    new_position = position + 5 # new variable\n",
    "    encrypt += alphabet[new_position] # slicing of alphabet\n",
    "    \n",
    "print(encrypt)"
   ]
  },
  {
   "cell_type": "markdown",
   "id": "1a345d32",
   "metadata": {},
   "source": [
    "This is becuase new_position has reached to the end and find no value after z"
   ]
  },
  {
   "cell_type": "code",
   "execution_count": 3,
   "id": "fff8f510",
   "metadata": {},
   "outputs": [
    {
     "name": "stdout",
     "output_type": "stream",
     "text": [
      "Enter the message:zx\n",
      "ec\n"
     ]
    }
   ],
   "source": [
    "message = input(\"Enter the message:\") \n",
    "alphabet = \"abcdefghijklmnopqrstuvwxyz\"\n",
    "key = 5 \n",
    "encrypt = \"\"\n",
    "\n",
    "for i in message: \n",
    "    position = alphabet.find(i) \n",
    "    new_position = (position + 5) % 26 # 26 % 26 = 0 \n",
    "    encrypt += alphabet[new_position] \n",
    "    \n",
    "print(encrypt)"
   ]
  },
  {
   "cell_type": "markdown",
   "id": "1d7cd21e",
   "metadata": {},
   "source": [
    "### Decrypt example:"
   ]
  },
  {
   "cell_type": "code",
   "execution_count": 5,
   "id": "4d159e23",
   "metadata": {},
   "outputs": [
    {
     "name": "stdout",
     "output_type": "stream",
     "text": [
      "Enter the message:ec\n",
      "zx\n"
     ]
    }
   ],
   "source": [
    "message = input(\"Enter the message:\") \n",
    "alphabet = \"abcdefghijklmnopqrstuvwxyz\"\n",
    "key = 5 \n",
    "decrypt = \"\"\n",
    "\n",
    "for i in encrypt: # decripting encrypted message\n",
    "    pos = alphabet.find(i) \n",
    "    new_pos = (pos - 5) % 26 # 26 % 26 = 0 \n",
    "    decrypt += alphabet[new_pos] \n",
    "    \n",
    "print(decrypt)"
   ]
  },
  {
   "cell_type": "code",
   "execution_count": null,
   "id": "8dc723ed",
   "metadata": {},
   "outputs": [],
   "source": []
  }
 ],
 "metadata": {
  "kernelspec": {
   "display_name": "Python 3 (ipykernel)",
   "language": "python",
   "name": "python3"
  },
  "language_info": {
   "codemirror_mode": {
    "name": "ipython",
    "version": 3
   },
   "file_extension": ".py",
   "mimetype": "text/x-python",
   "name": "python",
   "nbconvert_exporter": "python",
   "pygments_lexer": "ipython3",
   "version": "3.9.7"
  }
 },
 "nbformat": 4,
 "nbformat_minor": 5
}
